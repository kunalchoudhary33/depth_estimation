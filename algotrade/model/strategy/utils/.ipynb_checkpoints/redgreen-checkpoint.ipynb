{
 "cells": [
  {
   "cell_type": "code",
   "execution_count": 7,
   "id": "905ba43d",
   "metadata": {},
   "outputs": [],
   "source": [
    "import pandas as pd\n",
    "import glob\n",
    "import numpy as np\n",
    "import plotly.graph_objects as go\n",
    "from scipy.signal import argrelextrema\n",
    "import shutil"
   ]
  },
  {
   "cell_type": "code",
   "execution_count": 8,
   "id": "97d58b57",
   "metadata": {},
   "outputs": [],
   "source": [
    "def candle_color(open, close):\n",
    "    color = \"\"\n",
    "    if(open>close):\n",
    "        color = \"red\"\n",
    "    else:\n",
    "        color = \"green\"\n",
    "    return color\n",
    "\n",
    "def get_sup_res(data, resistance_ls, support_ls):\n",
    "    max_idx = argrelextrema(data_new['High'].values, np.greater, order=5)[0]\n",
    "    min_idx = argrelextrema(data_new['Low'].values, np.less, order=5)[0]\n",
    "    \n",
    "    if(len(resistance_ls)==0):\n",
    "        resistance_ls.append(data.iloc[0]['High'])\n",
    "    if(len(support_ls)==0):\n",
    "        support_ls.append(data.iloc[0]['Low'])\n",
    "        \n",
    "    if(len(max_idx)>=1):\n",
    "        for ls in max_idx:\n",
    "            resistance_ls.append(data.iloc[ls]['High'])\n",
    "    if(len(min_idx)>=1):\n",
    "        for ls in min_idx:\n",
    "            support_ls.append(data.iloc[ls]['Low'])\n",
    "    \n",
    "    # Remove duplicate\n",
    "    resistance_ls = list(set(resistance_ls))\n",
    "    support_ls = list(set(support_ls))\n",
    "    \n",
    "    # Sort\n",
    "    resistance_ls = sorted(resistance_ls, key=int, reverse=True)\n",
    "    support_ls = sorted(support_ls, key=int, reverse=False)\n",
    "    \n",
    "    return resistance_ls, support_ls\n",
    "        \n",
    "    \n",
    "def get_high_low(data):\n",
    "    high_ls = data['High'].to_list()\n",
    "    low_ls = data['Low'].to_list()\n",
    "    \n",
    "    \n",
    "    max_high = max([high_ls[-1], high_ls[-2]])\n",
    "    min_low = min([low_ls[-1], low_ls[-2]])\n",
    "    \n",
    "    return max_high, min_low\n"
   ]
  },
  {
   "cell_type": "code",
   "execution_count": 10,
   "id": "215feca4",
   "metadata": {
    "scrolled": false
   },
   "outputs": [
    {
     "name": "stdout",
     "output_type": "stream",
     "text": [
      "D:/tradeBot/data/download/2022/08\\2022-08-01.csv\n",
      "################################################################################\n",
      "2022-08-01 09:25:00+05:30\n",
      "37552.3 37630.65\n",
      "rr : 2.713754646840736\n"
     ]
    },
    {
     "data": {
      "application/vnd.plotly.v1+json": {
       "config": {
        "plotlyServerURL": "https://plot.ly"
       },
       "data": [
        {
         "close": [
          37628.3,
          37616.85,
          37543.1,
          37530.45,
          37480.1,
          37421.9,
          37453.85,
          37487.4,
          37491.4,
          37552.55
         ],
         "high": [
          37655.45,
          37638.2,
          37619.4,
          37547.05,
          37528,
          37482.75,
          37457.5,
          37487.95,
          37496.05,
          37555.4
         ],
         "low": [
          37594.15,
          37610.3,
          37543.1,
          37502.05,
          37476.7,
          37417.25,
          37407.5,
          37444.45,
          37467.2,
          37490.4
         ],
         "open": [
          37594.15,
          37630.2,
          37619.4,
          37545.55,
          37528,
          37482.75,
          37417.55,
          37453.9,
          37490.55,
          37490.4
         ],
         "type": "candlestick",
         "x": [
          "2022-08-01 09:15:00+05:30",
          "2022-08-01 09:16:00+05:30",
          "2022-08-01 09:17:00+05:30",
          "2022-08-01 09:18:00+05:30",
          "2022-08-01 09:19:00+05:30",
          "2022-08-01 09:20:00+05:30",
          "2022-08-01 09:21:00+05:30",
          "2022-08-01 09:22:00+05:30",
          "2022-08-01 09:23:00+05:30",
          "2022-08-01 09:24:00+05:30"
         ]
        }
       ],
       "layout": {
        "shapes": [
         {
          "line": {
           "color": "green",
           "width": 1
          },
          "type": "line",
          "x0": 0,
          "x1": 1,
          "xref": "x domain",
          "y0": 0,
          "y1": 0,
          "yref": "y"
         },
         {
          "line": {
           "color": "red",
           "width": 1
          },
          "type": "line",
          "x0": 0,
          "x1": 1,
          "xref": "x domain",
          "y0": 0,
          "y1": 0,
          "yref": "y"
         },
         {
          "line": {
           "color": "black",
           "width": 3
          },
          "type": "line",
          "x0": 0,
          "x1": 1,
          "xref": "x domain",
          "y0": 0,
          "y1": 0,
          "yref": "y"
         }
        ],
        "template": {
         "data": {
          "bar": [
           {
            "error_x": {
             "color": "#2a3f5f"
            },
            "error_y": {
             "color": "#2a3f5f"
            },
            "marker": {
             "line": {
              "color": "#E5ECF6",
              "width": 0.5
             },
             "pattern": {
              "fillmode": "overlay",
              "size": 10,
              "solidity": 0.2
             }
            },
            "type": "bar"
           }
          ],
          "barpolar": [
           {
            "marker": {
             "line": {
              "color": "#E5ECF6",
              "width": 0.5
             },
             "pattern": {
              "fillmode": "overlay",
              "size": 10,
              "solidity": 0.2
             }
            },
            "type": "barpolar"
           }
          ],
          "carpet": [
           {
            "aaxis": {
             "endlinecolor": "#2a3f5f",
             "gridcolor": "white",
             "linecolor": "white",
             "minorgridcolor": "white",
             "startlinecolor": "#2a3f5f"
            },
            "baxis": {
             "endlinecolor": "#2a3f5f",
             "gridcolor": "white",
             "linecolor": "white",
             "minorgridcolor": "white",
             "startlinecolor": "#2a3f5f"
            },
            "type": "carpet"
           }
          ],
          "choropleth": [
           {
            "colorbar": {
             "outlinewidth": 0,
             "ticks": ""
            },
            "type": "choropleth"
           }
          ],
          "contour": [
           {
            "colorbar": {
             "outlinewidth": 0,
             "ticks": ""
            },
            "colorscale": [
             [
              0,
              "#0d0887"
             ],
             [
              0.1111111111111111,
              "#46039f"
             ],
             [
              0.2222222222222222,
              "#7201a8"
             ],
             [
              0.3333333333333333,
              "#9c179e"
             ],
             [
              0.4444444444444444,
              "#bd3786"
             ],
             [
              0.5555555555555556,
              "#d8576b"
             ],
             [
              0.6666666666666666,
              "#ed7953"
             ],
             [
              0.7777777777777778,
              "#fb9f3a"
             ],
             [
              0.8888888888888888,
              "#fdca26"
             ],
             [
              1,
              "#f0f921"
             ]
            ],
            "type": "contour"
           }
          ],
          "contourcarpet": [
           {
            "colorbar": {
             "outlinewidth": 0,
             "ticks": ""
            },
            "type": "contourcarpet"
           }
          ],
          "heatmap": [
           {
            "colorbar": {
             "outlinewidth": 0,
             "ticks": ""
            },
            "colorscale": [
             [
              0,
              "#0d0887"
             ],
             [
              0.1111111111111111,
              "#46039f"
             ],
             [
              0.2222222222222222,
              "#7201a8"
             ],
             [
              0.3333333333333333,
              "#9c179e"
             ],
             [
              0.4444444444444444,
              "#bd3786"
             ],
             [
              0.5555555555555556,
              "#d8576b"
             ],
             [
              0.6666666666666666,
              "#ed7953"
             ],
             [
              0.7777777777777778,
              "#fb9f3a"
             ],
             [
              0.8888888888888888,
              "#fdca26"
             ],
             [
              1,
              "#f0f921"
             ]
            ],
            "type": "heatmap"
           }
          ],
          "heatmapgl": [
           {
            "colorbar": {
             "outlinewidth": 0,
             "ticks": ""
            },
            "colorscale": [
             [
              0,
              "#0d0887"
             ],
             [
              0.1111111111111111,
              "#46039f"
             ],
             [
              0.2222222222222222,
              "#7201a8"
             ],
             [
              0.3333333333333333,
              "#9c179e"
             ],
             [
              0.4444444444444444,
              "#bd3786"
             ],
             [
              0.5555555555555556,
              "#d8576b"
             ],
             [
              0.6666666666666666,
              "#ed7953"
             ],
             [
              0.7777777777777778,
              "#fb9f3a"
             ],
             [
              0.8888888888888888,
              "#fdca26"
             ],
             [
              1,
              "#f0f921"
             ]
            ],
            "type": "heatmapgl"
           }
          ],
          "histogram": [
           {
            "marker": {
             "pattern": {
              "fillmode": "overlay",
              "size": 10,
              "solidity": 0.2
             }
            },
            "type": "histogram"
           }
          ],
          "histogram2d": [
           {
            "colorbar": {
             "outlinewidth": 0,
             "ticks": ""
            },
            "colorscale": [
             [
              0,
              "#0d0887"
             ],
             [
              0.1111111111111111,
              "#46039f"
             ],
             [
              0.2222222222222222,
              "#7201a8"
             ],
             [
              0.3333333333333333,
              "#9c179e"
             ],
             [
              0.4444444444444444,
              "#bd3786"
             ],
             [
              0.5555555555555556,
              "#d8576b"
             ],
             [
              0.6666666666666666,
              "#ed7953"
             ],
             [
              0.7777777777777778,
              "#fb9f3a"
             ],
             [
              0.8888888888888888,
              "#fdca26"
             ],
             [
              1,
              "#f0f921"
             ]
            ],
            "type": "histogram2d"
           }
          ],
          "histogram2dcontour": [
           {
            "colorbar": {
             "outlinewidth": 0,
             "ticks": ""
            },
            "colorscale": [
             [
              0,
              "#0d0887"
             ],
             [
              0.1111111111111111,
              "#46039f"
             ],
             [
              0.2222222222222222,
              "#7201a8"
             ],
             [
              0.3333333333333333,
              "#9c179e"
             ],
             [
              0.4444444444444444,
              "#bd3786"
             ],
             [
              0.5555555555555556,
              "#d8576b"
             ],
             [
              0.6666666666666666,
              "#ed7953"
             ],
             [
              0.7777777777777778,
              "#fb9f3a"
             ],
             [
              0.8888888888888888,
              "#fdca26"
             ],
             [
              1,
              "#f0f921"
             ]
            ],
            "type": "histogram2dcontour"
           }
          ],
          "mesh3d": [
           {
            "colorbar": {
             "outlinewidth": 0,
             "ticks": ""
            },
            "type": "mesh3d"
           }
          ],
          "parcoords": [
           {
            "line": {
             "colorbar": {
              "outlinewidth": 0,
              "ticks": ""
             }
            },
            "type": "parcoords"
           }
          ],
          "pie": [
           {
            "automargin": true,
            "type": "pie"
           }
          ],
          "scatter": [
           {
            "fillpattern": {
             "fillmode": "overlay",
             "size": 10,
             "solidity": 0.2
            },
            "type": "scatter"
           }
          ],
          "scatter3d": [
           {
            "line": {
             "colorbar": {
              "outlinewidth": 0,
              "ticks": ""
             }
            },
            "marker": {
             "colorbar": {
              "outlinewidth": 0,
              "ticks": ""
             }
            },
            "type": "scatter3d"
           }
          ],
          "scattercarpet": [
           {
            "marker": {
             "colorbar": {
              "outlinewidth": 0,
              "ticks": ""
             }
            },
            "type": "scattercarpet"
           }
          ],
          "scattergeo": [
           {
            "marker": {
             "colorbar": {
              "outlinewidth": 0,
              "ticks": ""
             }
            },
            "type": "scattergeo"
           }
          ],
          "scattergl": [
           {
            "marker": {
             "colorbar": {
              "outlinewidth": 0,
              "ticks": ""
             }
            },
            "type": "scattergl"
           }
          ],
          "scattermapbox": [
           {
            "marker": {
             "colorbar": {
              "outlinewidth": 0,
              "ticks": ""
             }
            },
            "type": "scattermapbox"
           }
          ],
          "scatterpolar": [
           {
            "marker": {
             "colorbar": {
              "outlinewidth": 0,
              "ticks": ""
             }
            },
            "type": "scatterpolar"
           }
          ],
          "scatterpolargl": [
           {
            "marker": {
             "colorbar": {
              "outlinewidth": 0,
              "ticks": ""
             }
            },
            "type": "scatterpolargl"
           }
          ],
          "scatterternary": [
           {
            "marker": {
             "colorbar": {
              "outlinewidth": 0,
              "ticks": ""
             }
            },
            "type": "scatterternary"
           }
          ],
          "surface": [
           {
            "colorbar": {
             "outlinewidth": 0,
             "ticks": ""
            },
            "colorscale": [
             [
              0,
              "#0d0887"
             ],
             [
              0.1111111111111111,
              "#46039f"
             ],
             [
              0.2222222222222222,
              "#7201a8"
             ],
             [
              0.3333333333333333,
              "#9c179e"
             ],
             [
              0.4444444444444444,
              "#bd3786"
             ],
             [
              0.5555555555555556,
              "#d8576b"
             ],
             [
              0.6666666666666666,
              "#ed7953"
             ],
             [
              0.7777777777777778,
              "#fb9f3a"
             ],
             [
              0.8888888888888888,
              "#fdca26"
             ],
             [
              1,
              "#f0f921"
             ]
            ],
            "type": "surface"
           }
          ],
          "table": [
           {
            "cells": {
             "fill": {
              "color": "#EBF0F8"
             },
             "line": {
              "color": "white"
             }
            },
            "header": {
             "fill": {
              "color": "#C8D4E3"
             },
             "line": {
              "color": "white"
             }
            },
            "type": "table"
           }
          ]
         },
         "layout": {
          "annotationdefaults": {
           "arrowcolor": "#2a3f5f",
           "arrowhead": 0,
           "arrowwidth": 1
          },
          "autotypenumbers": "strict",
          "coloraxis": {
           "colorbar": {
            "outlinewidth": 0,
            "ticks": ""
           }
          },
          "colorscale": {
           "diverging": [
            [
             0,
             "#8e0152"
            ],
            [
             0.1,
             "#c51b7d"
            ],
            [
             0.2,
             "#de77ae"
            ],
            [
             0.3,
             "#f1b6da"
            ],
            [
             0.4,
             "#fde0ef"
            ],
            [
             0.5,
             "#f7f7f7"
            ],
            [
             0.6,
             "#e6f5d0"
            ],
            [
             0.7,
             "#b8e186"
            ],
            [
             0.8,
             "#7fbc41"
            ],
            [
             0.9,
             "#4d9221"
            ],
            [
             1,
             "#276419"
            ]
           ],
           "sequential": [
            [
             0,
             "#0d0887"
            ],
            [
             0.1111111111111111,
             "#46039f"
            ],
            [
             0.2222222222222222,
             "#7201a8"
            ],
            [
             0.3333333333333333,
             "#9c179e"
            ],
            [
             0.4444444444444444,
             "#bd3786"
            ],
            [
             0.5555555555555556,
             "#d8576b"
            ],
            [
             0.6666666666666666,
             "#ed7953"
            ],
            [
             0.7777777777777778,
             "#fb9f3a"
            ],
            [
             0.8888888888888888,
             "#fdca26"
            ],
            [
             1,
             "#f0f921"
            ]
           ],
           "sequentialminus": [
            [
             0,
             "#0d0887"
            ],
            [
             0.1111111111111111,
             "#46039f"
            ],
            [
             0.2222222222222222,
             "#7201a8"
            ],
            [
             0.3333333333333333,
             "#9c179e"
            ],
            [
             0.4444444444444444,
             "#bd3786"
            ],
            [
             0.5555555555555556,
             "#d8576b"
            ],
            [
             0.6666666666666666,
             "#ed7953"
            ],
            [
             0.7777777777777778,
             "#fb9f3a"
            ],
            [
             0.8888888888888888,
             "#fdca26"
            ],
            [
             1,
             "#f0f921"
            ]
           ]
          },
          "colorway": [
           "#636efa",
           "#EF553B",
           "#00cc96",
           "#ab63fa",
           "#FFA15A",
           "#19d3f3",
           "#FF6692",
           "#B6E880",
           "#FF97FF",
           "#FECB52"
          ],
          "font": {
           "color": "#2a3f5f"
          },
          "geo": {
           "bgcolor": "white",
           "lakecolor": "white",
           "landcolor": "#E5ECF6",
           "showlakes": true,
           "showland": true,
           "subunitcolor": "white"
          },
          "hoverlabel": {
           "align": "left"
          },
          "hovermode": "closest",
          "mapbox": {
           "style": "light"
          },
          "paper_bgcolor": "white",
          "plot_bgcolor": "#E5ECF6",
          "polar": {
           "angularaxis": {
            "gridcolor": "white",
            "linecolor": "white",
            "ticks": ""
           },
           "bgcolor": "#E5ECF6",
           "radialaxis": {
            "gridcolor": "white",
            "linecolor": "white",
            "ticks": ""
           }
          },
          "scene": {
           "xaxis": {
            "backgroundcolor": "#E5ECF6",
            "gridcolor": "white",
            "gridwidth": 2,
            "linecolor": "white",
            "showbackground": true,
            "ticks": "",
            "zerolinecolor": "white"
           },
           "yaxis": {
            "backgroundcolor": "#E5ECF6",
            "gridcolor": "white",
            "gridwidth": 2,
            "linecolor": "white",
            "showbackground": true,
            "ticks": "",
            "zerolinecolor": "white"
           },
           "zaxis": {
            "backgroundcolor": "#E5ECF6",
            "gridcolor": "white",
            "gridwidth": 2,
            "linecolor": "white",
            "showbackground": true,
            "ticks": "",
            "zerolinecolor": "white"
           }
          },
          "shapedefaults": {
           "line": {
            "color": "#2a3f5f"
           }
          },
          "ternary": {
           "aaxis": {
            "gridcolor": "white",
            "linecolor": "white",
            "ticks": ""
           },
           "baxis": {
            "gridcolor": "white",
            "linecolor": "white",
            "ticks": ""
           },
           "bgcolor": "#E5ECF6",
           "caxis": {
            "gridcolor": "white",
            "linecolor": "white",
            "ticks": ""
           }
          },
          "title": {
           "x": 0.05
          },
          "xaxis": {
           "automargin": true,
           "gridcolor": "white",
           "linecolor": "white",
           "ticks": "",
           "title": {
            "standoff": 15
           },
           "zerolinecolor": "white",
           "zerolinewidth": 2
          },
          "yaxis": {
           "automargin": true,
           "gridcolor": "white",
           "linecolor": "white",
           "ticks": "",
           "title": {
            "standoff": 15
           },
           "zerolinecolor": "white",
           "zerolinewidth": 2
          }
         }
        }
       }
      },
      "text/html": [
       "<div>                            <div id=\"751e26e9-b6de-46bd-bb2f-d5e3c6a69b3b\" class=\"plotly-graph-div\" style=\"height:525px; width:100%;\"></div>            <script type=\"text/javascript\">                require([\"plotly\"], function(Plotly) {                    window.PLOTLYENV=window.PLOTLYENV || {};                                    if (document.getElementById(\"751e26e9-b6de-46bd-bb2f-d5e3c6a69b3b\")) {                    Plotly.newPlot(                        \"751e26e9-b6de-46bd-bb2f-d5e3c6a69b3b\",                        [{\"close\":[37628.3,37616.85,37543.1,37530.45,37480.1,37421.9,37453.85,37487.4,37491.4,37552.55],\"high\":[37655.45,37638.2,37619.4,37547.05,37528.0,37482.75,37457.5,37487.95,37496.05,37555.4],\"low\":[37594.15,37610.3,37543.1,37502.05,37476.7,37417.25,37407.5,37444.45,37467.2,37490.4],\"open\":[37594.15,37630.2,37619.4,37545.55,37528.0,37482.75,37417.55,37453.9,37490.55,37490.4],\"x\":[\"2022-08-01 09:15:00+05:30\",\"2022-08-01 09:16:00+05:30\",\"2022-08-01 09:17:00+05:30\",\"2022-08-01 09:18:00+05:30\",\"2022-08-01 09:19:00+05:30\",\"2022-08-01 09:20:00+05:30\",\"2022-08-01 09:21:00+05:30\",\"2022-08-01 09:22:00+05:30\",\"2022-08-01 09:23:00+05:30\",\"2022-08-01 09:24:00+05:30\"],\"type\":\"candlestick\"}],                        {\"template\":{\"data\":{\"histogram2dcontour\":[{\"type\":\"histogram2dcontour\",\"colorbar\":{\"outlinewidth\":0,\"ticks\":\"\"},\"colorscale\":[[0.0,\"#0d0887\"],[0.1111111111111111,\"#46039f\"],[0.2222222222222222,\"#7201a8\"],[0.3333333333333333,\"#9c179e\"],[0.4444444444444444,\"#bd3786\"],[0.5555555555555556,\"#d8576b\"],[0.6666666666666666,\"#ed7953\"],[0.7777777777777778,\"#fb9f3a\"],[0.8888888888888888,\"#fdca26\"],[1.0,\"#f0f921\"]]}],\"choropleth\":[{\"type\":\"choropleth\",\"colorbar\":{\"outlinewidth\":0,\"ticks\":\"\"}}],\"histogram2d\":[{\"type\":\"histogram2d\",\"colorbar\":{\"outlinewidth\":0,\"ticks\":\"\"},\"colorscale\":[[0.0,\"#0d0887\"],[0.1111111111111111,\"#46039f\"],[0.2222222222222222,\"#7201a8\"],[0.3333333333333333,\"#9c179e\"],[0.4444444444444444,\"#bd3786\"],[0.5555555555555556,\"#d8576b\"],[0.6666666666666666,\"#ed7953\"],[0.7777777777777778,\"#fb9f3a\"],[0.8888888888888888,\"#fdca26\"],[1.0,\"#f0f921\"]]}],\"heatmap\":[{\"type\":\"heatmap\",\"colorbar\":{\"outlinewidth\":0,\"ticks\":\"\"},\"colorscale\":[[0.0,\"#0d0887\"],[0.1111111111111111,\"#46039f\"],[0.2222222222222222,\"#7201a8\"],[0.3333333333333333,\"#9c179e\"],[0.4444444444444444,\"#bd3786\"],[0.5555555555555556,\"#d8576b\"],[0.6666666666666666,\"#ed7953\"],[0.7777777777777778,\"#fb9f3a\"],[0.8888888888888888,\"#fdca26\"],[1.0,\"#f0f921\"]]}],\"heatmapgl\":[{\"type\":\"heatmapgl\",\"colorbar\":{\"outlinewidth\":0,\"ticks\":\"\"},\"colorscale\":[[0.0,\"#0d0887\"],[0.1111111111111111,\"#46039f\"],[0.2222222222222222,\"#7201a8\"],[0.3333333333333333,\"#9c179e\"],[0.4444444444444444,\"#bd3786\"],[0.5555555555555556,\"#d8576b\"],[0.6666666666666666,\"#ed7953\"],[0.7777777777777778,\"#fb9f3a\"],[0.8888888888888888,\"#fdca26\"],[1.0,\"#f0f921\"]]}],\"contourcarpet\":[{\"type\":\"contourcarpet\",\"colorbar\":{\"outlinewidth\":0,\"ticks\":\"\"}}],\"contour\":[{\"type\":\"contour\",\"colorbar\":{\"outlinewidth\":0,\"ticks\":\"\"},\"colorscale\":[[0.0,\"#0d0887\"],[0.1111111111111111,\"#46039f\"],[0.2222222222222222,\"#7201a8\"],[0.3333333333333333,\"#9c179e\"],[0.4444444444444444,\"#bd3786\"],[0.5555555555555556,\"#d8576b\"],[0.6666666666666666,\"#ed7953\"],[0.7777777777777778,\"#fb9f3a\"],[0.8888888888888888,\"#fdca26\"],[1.0,\"#f0f921\"]]}],\"surface\":[{\"type\":\"surface\",\"colorbar\":{\"outlinewidth\":0,\"ticks\":\"\"},\"colorscale\":[[0.0,\"#0d0887\"],[0.1111111111111111,\"#46039f\"],[0.2222222222222222,\"#7201a8\"],[0.3333333333333333,\"#9c179e\"],[0.4444444444444444,\"#bd3786\"],[0.5555555555555556,\"#d8576b\"],[0.6666666666666666,\"#ed7953\"],[0.7777777777777778,\"#fb9f3a\"],[0.8888888888888888,\"#fdca26\"],[1.0,\"#f0f921\"]]}],\"mesh3d\":[{\"type\":\"mesh3d\",\"colorbar\":{\"outlinewidth\":0,\"ticks\":\"\"}}],\"scatter\":[{\"fillpattern\":{\"fillmode\":\"overlay\",\"size\":10,\"solidity\":0.2},\"type\":\"scatter\"}],\"parcoords\":[{\"type\":\"parcoords\",\"line\":{\"colorbar\":{\"outlinewidth\":0,\"ticks\":\"\"}}}],\"scatterpolargl\":[{\"type\":\"scatterpolargl\",\"marker\":{\"colorbar\":{\"outlinewidth\":0,\"ticks\":\"\"}}}],\"bar\":[{\"error_x\":{\"color\":\"#2a3f5f\"},\"error_y\":{\"color\":\"#2a3f5f\"},\"marker\":{\"line\":{\"color\":\"#E5ECF6\",\"width\":0.5},\"pattern\":{\"fillmode\":\"overlay\",\"size\":10,\"solidity\":0.2}},\"type\":\"bar\"}],\"scattergeo\":[{\"type\":\"scattergeo\",\"marker\":{\"colorbar\":{\"outlinewidth\":0,\"ticks\":\"\"}}}],\"scatterpolar\":[{\"type\":\"scatterpolar\",\"marker\":{\"colorbar\":{\"outlinewidth\":0,\"ticks\":\"\"}}}],\"histogram\":[{\"marker\":{\"pattern\":{\"fillmode\":\"overlay\",\"size\":10,\"solidity\":0.2}},\"type\":\"histogram\"}],\"scattergl\":[{\"type\":\"scattergl\",\"marker\":{\"colorbar\":{\"outlinewidth\":0,\"ticks\":\"\"}}}],\"scatter3d\":[{\"type\":\"scatter3d\",\"line\":{\"colorbar\":{\"outlinewidth\":0,\"ticks\":\"\"}},\"marker\":{\"colorbar\":{\"outlinewidth\":0,\"ticks\":\"\"}}}],\"scattermapbox\":[{\"type\":\"scattermapbox\",\"marker\":{\"colorbar\":{\"outlinewidth\":0,\"ticks\":\"\"}}}],\"scatterternary\":[{\"type\":\"scatterternary\",\"marker\":{\"colorbar\":{\"outlinewidth\":0,\"ticks\":\"\"}}}],\"scattercarpet\":[{\"type\":\"scattercarpet\",\"marker\":{\"colorbar\":{\"outlinewidth\":0,\"ticks\":\"\"}}}],\"carpet\":[{\"aaxis\":{\"endlinecolor\":\"#2a3f5f\",\"gridcolor\":\"white\",\"linecolor\":\"white\",\"minorgridcolor\":\"white\",\"startlinecolor\":\"#2a3f5f\"},\"baxis\":{\"endlinecolor\":\"#2a3f5f\",\"gridcolor\":\"white\",\"linecolor\":\"white\",\"minorgridcolor\":\"white\",\"startlinecolor\":\"#2a3f5f\"},\"type\":\"carpet\"}],\"table\":[{\"cells\":{\"fill\":{\"color\":\"#EBF0F8\"},\"line\":{\"color\":\"white\"}},\"header\":{\"fill\":{\"color\":\"#C8D4E3\"},\"line\":{\"color\":\"white\"}},\"type\":\"table\"}],\"barpolar\":[{\"marker\":{\"line\":{\"color\":\"#E5ECF6\",\"width\":0.5},\"pattern\":{\"fillmode\":\"overlay\",\"size\":10,\"solidity\":0.2}},\"type\":\"barpolar\"}],\"pie\":[{\"automargin\":true,\"type\":\"pie\"}]},\"layout\":{\"autotypenumbers\":\"strict\",\"colorway\":[\"#636efa\",\"#EF553B\",\"#00cc96\",\"#ab63fa\",\"#FFA15A\",\"#19d3f3\",\"#FF6692\",\"#B6E880\",\"#FF97FF\",\"#FECB52\"],\"font\":{\"color\":\"#2a3f5f\"},\"hovermode\":\"closest\",\"hoverlabel\":{\"align\":\"left\"},\"paper_bgcolor\":\"white\",\"plot_bgcolor\":\"#E5ECF6\",\"polar\":{\"bgcolor\":\"#E5ECF6\",\"angularaxis\":{\"gridcolor\":\"white\",\"linecolor\":\"white\",\"ticks\":\"\"},\"radialaxis\":{\"gridcolor\":\"white\",\"linecolor\":\"white\",\"ticks\":\"\"}},\"ternary\":{\"bgcolor\":\"#E5ECF6\",\"aaxis\":{\"gridcolor\":\"white\",\"linecolor\":\"white\",\"ticks\":\"\"},\"baxis\":{\"gridcolor\":\"white\",\"linecolor\":\"white\",\"ticks\":\"\"},\"caxis\":{\"gridcolor\":\"white\",\"linecolor\":\"white\",\"ticks\":\"\"}},\"coloraxis\":{\"colorbar\":{\"outlinewidth\":0,\"ticks\":\"\"}},\"colorscale\":{\"sequential\":[[0.0,\"#0d0887\"],[0.1111111111111111,\"#46039f\"],[0.2222222222222222,\"#7201a8\"],[0.3333333333333333,\"#9c179e\"],[0.4444444444444444,\"#bd3786\"],[0.5555555555555556,\"#d8576b\"],[0.6666666666666666,\"#ed7953\"],[0.7777777777777778,\"#fb9f3a\"],[0.8888888888888888,\"#fdca26\"],[1.0,\"#f0f921\"]],\"sequentialminus\":[[0.0,\"#0d0887\"],[0.1111111111111111,\"#46039f\"],[0.2222222222222222,\"#7201a8\"],[0.3333333333333333,\"#9c179e\"],[0.4444444444444444,\"#bd3786\"],[0.5555555555555556,\"#d8576b\"],[0.6666666666666666,\"#ed7953\"],[0.7777777777777778,\"#fb9f3a\"],[0.8888888888888888,\"#fdca26\"],[1.0,\"#f0f921\"]],\"diverging\":[[0,\"#8e0152\"],[0.1,\"#c51b7d\"],[0.2,\"#de77ae\"],[0.3,\"#f1b6da\"],[0.4,\"#fde0ef\"],[0.5,\"#f7f7f7\"],[0.6,\"#e6f5d0\"],[0.7,\"#b8e186\"],[0.8,\"#7fbc41\"],[0.9,\"#4d9221\"],[1,\"#276419\"]]},\"xaxis\":{\"gridcolor\":\"white\",\"linecolor\":\"white\",\"ticks\":\"\",\"title\":{\"standoff\":15},\"zerolinecolor\":\"white\",\"automargin\":true,\"zerolinewidth\":2},\"yaxis\":{\"gridcolor\":\"white\",\"linecolor\":\"white\",\"ticks\":\"\",\"title\":{\"standoff\":15},\"zerolinecolor\":\"white\",\"automargin\":true,\"zerolinewidth\":2},\"scene\":{\"xaxis\":{\"backgroundcolor\":\"#E5ECF6\",\"gridcolor\":\"white\",\"linecolor\":\"white\",\"showbackground\":true,\"ticks\":\"\",\"zerolinecolor\":\"white\",\"gridwidth\":2},\"yaxis\":{\"backgroundcolor\":\"#E5ECF6\",\"gridcolor\":\"white\",\"linecolor\":\"white\",\"showbackground\":true,\"ticks\":\"\",\"zerolinecolor\":\"white\",\"gridwidth\":2},\"zaxis\":{\"backgroundcolor\":\"#E5ECF6\",\"gridcolor\":\"white\",\"linecolor\":\"white\",\"showbackground\":true,\"ticks\":\"\",\"zerolinecolor\":\"white\",\"gridwidth\":2}},\"shapedefaults\":{\"line\":{\"color\":\"#2a3f5f\"}},\"annotationdefaults\":{\"arrowcolor\":\"#2a3f5f\",\"arrowhead\":0,\"arrowwidth\":1},\"geo\":{\"bgcolor\":\"white\",\"landcolor\":\"#E5ECF6\",\"subunitcolor\":\"white\",\"showland\":true,\"showlakes\":true,\"lakecolor\":\"white\"},\"title\":{\"x\":0.05},\"mapbox\":{\"style\":\"light\"}}},\"shapes\":[{\"line\":{\"color\":\"green\",\"width\":1},\"type\":\"line\",\"x0\":0,\"x1\":1,\"xref\":\"x domain\",\"y0\":0,\"y1\":0,\"yref\":\"y\"},{\"line\":{\"color\":\"red\",\"width\":1},\"type\":\"line\",\"x0\":0,\"x1\":1,\"xref\":\"x domain\",\"y0\":0,\"y1\":0,\"yref\":\"y\"},{\"line\":{\"color\":\"black\",\"width\":3},\"type\":\"line\",\"x0\":0,\"x1\":1,\"xref\":\"x domain\",\"y0\":0,\"y1\":0,\"yref\":\"y\"}]},                        {\"responsive\": true}                    ).then(function(){\n",
       "                            \n",
       "var gd = document.getElementById('751e26e9-b6de-46bd-bb2f-d5e3c6a69b3b');\n",
       "var x = new MutationObserver(function (mutations, observer) {{\n",
       "        var display = window.getComputedStyle(gd).display;\n",
       "        if (!display || display === 'none') {{\n",
       "            console.log([gd, 'removed!']);\n",
       "            Plotly.purge(gd);\n",
       "            observer.disconnect();\n",
       "        }}\n",
       "}});\n",
       "\n",
       "// Listen for the removal of the full notebook cells\n",
       "var notebookContainer = gd.closest('#notebook-container');\n",
       "if (notebookContainer) {{\n",
       "    x.observe(notebookContainer, {childList: true});\n",
       "}}\n",
       "\n",
       "// Listen for the clearing of the current output cell\n",
       "var outputEl = gd.closest('.output');\n",
       "if (outputEl) {{\n",
       "    x.observe(outputEl, {childList: true});\n",
       "}}\n",
       "\n",
       "                        })                };                });            </script>        </div>"
      ]
     },
     "metadata": {},
     "output_type": "display_data"
    },
    {
     "name": "stdout",
     "output_type": "stream",
     "text": [
      "res : [37655.45]\n",
      "sup : [37594.15]\n",
      "################################################################################\n",
      "################################################################################\n",
      "2022-08-01 10:16:00+05:30\n",
      "37639.85 37467.2\n",
      "rr : 1.134353741496493\n"
     ]
    },
    {
     "data": {
      "application/vnd.plotly.v1+json": {
       "config": {
        "plotlyServerURL": "https://plot.ly"
       },
       "data": [
        {
         "close": [
          37628.3,
          37616.85,
          37543.1,
          37530.45,
          37480.1,
          37421.9,
          37453.85,
          37487.4,
          37491.4,
          37552.55,
          37562.5,
          37523.5,
          37504.3,
          37510.15,
          37470.8,
          37446.55,
          37469.7,
          37454.85,
          37490.4,
          37500.5,
          37524.75,
          37513.45,
          37535.25,
          37525.8,
          37516.35,
          37489.45,
          37487.15,
          37469.5,
          37504.8,
          37523.45,
          37524.5,
          37498.95,
          37532.65,
          37560.55,
          37580.15,
          37581.8,
          37580.75,
          37580.7,
          37587.8,
          37594,
          37599.6,
          37580.7,
          37579.7,
          37577.95,
          37572.35,
          37561.55,
          37565.8,
          37557.8,
          37566.1,
          37565.55,
          37535.8,
          37535.4,
          37546.25,
          37588.95,
          37593.4,
          37622.9,
          37628.15,
          37642.5,
          37630.5,
          37626.9
         ],
         "high": [
          37655.45,
          37638.2,
          37619.4,
          37547.05,
          37528,
          37482.75,
          37457.5,
          37487.95,
          37496.05,
          37555.4,
          37600.55,
          37564.85,
          37538.45,
          37518.45,
          37513.45,
          37472.7,
          37471.5,
          37467,
          37491.65,
          37511.65,
          37524.75,
          37530.15,
          37538.35,
          37540.45,
          37527.35,
          37518.15,
          37500.7,
          37491.8,
          37505.35,
          37523.45,
          37529.75,
          37527.45,
          37540.9,
          37565.8,
          37581.4,
          37607.1,
          37587.8,
          37583,
          37588.05,
          37598.35,
          37608.5,
          37604,
          37588.95,
          37581.1,
          37589.2,
          37583.9,
          37572.15,
          37570.75,
          37570,
          37571.65,
          37565.75,
          37540,
          37549.55,
          37588.95,
          37603.1,
          37625.6,
          37643.3,
          37642.5,
          37648.8,
          37635.35
         ],
         "low": [
          37594.15,
          37610.3,
          37543.1,
          37502.05,
          37476.7,
          37417.25,
          37407.5,
          37444.45,
          37467.2,
          37490.4,
          37552.3,
          37522.6,
          37497.3,
          37502.55,
          37463.1,
          37444.15,
          37439.05,
          37447.6,
          37450.4,
          37487.4,
          37493.9,
          37503.7,
          37512.35,
          37523.35,
          37505.55,
          37487.7,
          37485.85,
          37455.4,
          37468.85,
          37497.85,
          37512.5,
          37498.95,
          37496.75,
          37539.85,
          37559,
          37581.6,
          37570.25,
          37574.85,
          37565,
          37586.45,
          37590.75,
          37577.55,
          37570.2,
          37565.65,
          37564.25,
          37561.35,
          37556.05,
          37554,
          37557.65,
          37557,
          37534.55,
          37519.1,
          37530.55,
          37548.3,
          37584.9,
          37593.75,
          37626.2,
          37621.05,
          37620.05,
          37624.2
         ],
         "open": [
          37594.15,
          37630.2,
          37619.4,
          37545.55,
          37528,
          37482.75,
          37417.55,
          37453.9,
          37490.55,
          37490.4,
          37552.3,
          37560.55,
          37523.1,
          37504.75,
          37509.6,
          37470.45,
          37441.6,
          37460.85,
          37458.8,
          37488.75,
          37505.85,
          37525.9,
          37512.35,
          37533.55,
          37527.35,
          37518.1,
          37488.15,
          37486.45,
          37475.9,
          37501.45,
          37524.75,
          37524.5,
          37496.75,
          37540.3,
          37561.2,
          37582.05,
          37583.9,
          37581.95,
          37580.15,
          37589.7,
          37591.25,
          37602,
          37580.95,
          37580.05,
          37579,
          37573.85,
          37560.45,
          37570.75,
          37562.7,
          37567.5,
          37565.75,
          37535.45,
          37537.35,
          37550.4,
          37588.55,
          37594.6,
          37627,
          37628.4,
          37639,
          37628.6
         ],
         "type": "candlestick",
         "x": [
          "2022-08-01 09:15:00+05:30",
          "2022-08-01 09:16:00+05:30",
          "2022-08-01 09:17:00+05:30",
          "2022-08-01 09:18:00+05:30",
          "2022-08-01 09:19:00+05:30",
          "2022-08-01 09:20:00+05:30",
          "2022-08-01 09:21:00+05:30",
          "2022-08-01 09:22:00+05:30",
          "2022-08-01 09:23:00+05:30",
          "2022-08-01 09:24:00+05:30",
          "2022-08-01 09:25:00+05:30",
          "2022-08-01 09:26:00+05:30",
          "2022-08-01 09:27:00+05:30",
          "2022-08-01 09:28:00+05:30",
          "2022-08-01 09:29:00+05:30",
          "2022-08-01 09:30:00+05:30",
          "2022-08-01 09:31:00+05:30",
          "2022-08-01 09:32:00+05:30",
          "2022-08-01 09:33:00+05:30",
          "2022-08-01 09:34:00+05:30",
          "2022-08-01 09:35:00+05:30",
          "2022-08-01 09:36:00+05:30",
          "2022-08-01 09:37:00+05:30",
          "2022-08-01 09:38:00+05:30",
          "2022-08-01 09:39:00+05:30",
          "2022-08-01 09:40:00+05:30",
          "2022-08-01 09:41:00+05:30",
          "2022-08-01 09:42:00+05:30",
          "2022-08-01 09:43:00+05:30",
          "2022-08-01 09:44:00+05:30",
          "2022-08-01 09:45:00+05:30",
          "2022-08-01 09:46:00+05:30",
          "2022-08-01 09:47:00+05:30",
          "2022-08-01 09:48:00+05:30",
          "2022-08-01 09:49:00+05:30",
          "2022-08-01 09:50:00+05:30",
          "2022-08-01 09:51:00+05:30",
          "2022-08-01 09:52:00+05:30",
          "2022-08-01 09:53:00+05:30",
          "2022-08-01 09:54:00+05:30",
          "2022-08-01 09:55:00+05:30",
          "2022-08-01 09:56:00+05:30",
          "2022-08-01 09:57:00+05:30",
          "2022-08-01 09:58:00+05:30",
          "2022-08-01 09:59:00+05:30",
          "2022-08-01 10:00:00+05:30",
          "2022-08-01 10:01:00+05:30",
          "2022-08-01 10:02:00+05:30",
          "2022-08-01 10:03:00+05:30",
          "2022-08-01 10:04:00+05:30",
          "2022-08-01 10:05:00+05:30",
          "2022-08-01 10:06:00+05:30",
          "2022-08-01 10:07:00+05:30",
          "2022-08-01 10:08:00+05:30",
          "2022-08-01 10:09:00+05:30",
          "2022-08-01 10:10:00+05:30",
          "2022-08-01 10:11:00+05:30",
          "2022-08-01 10:12:00+05:30",
          "2022-08-01 10:13:00+05:30",
          "2022-08-01 10:14:00+05:30"
         ]
        }
       ],
       "layout": {
        "shapes": [
         {
          "line": {
           "color": "green",
           "width": 1
          },
          "type": "line",
          "x0": 0,
          "x1": 1,
          "xref": "x domain",
          "y0": 0,
          "y1": 0,
          "yref": "y"
         },
         {
          "line": {
           "color": "red",
           "width": 1
          },
          "type": "line",
          "x0": 0,
          "x1": 1,
          "xref": "x domain",
          "y0": 0,
          "y1": 0,
          "yref": "y"
         },
         {
          "line": {
           "color": "black",
           "width": 3
          },
          "type": "line",
          "x0": 0,
          "x1": 1,
          "xref": "x domain",
          "y0": 0,
          "y1": 0,
          "yref": "y"
         }
        ],
        "template": {
         "data": {
          "bar": [
           {
            "error_x": {
             "color": "#2a3f5f"
            },
            "error_y": {
             "color": "#2a3f5f"
            },
            "marker": {
             "line": {
              "color": "#E5ECF6",
              "width": 0.5
             },
             "pattern": {
              "fillmode": "overlay",
              "size": 10,
              "solidity": 0.2
             }
            },
            "type": "bar"
           }
          ],
          "barpolar": [
           {
            "marker": {
             "line": {
              "color": "#E5ECF6",
              "width": 0.5
             },
             "pattern": {
              "fillmode": "overlay",
              "size": 10,
              "solidity": 0.2
             }
            },
            "type": "barpolar"
           }
          ],
          "carpet": [
           {
            "aaxis": {
             "endlinecolor": "#2a3f5f",
             "gridcolor": "white",
             "linecolor": "white",
             "minorgridcolor": "white",
             "startlinecolor": "#2a3f5f"
            },
            "baxis": {
             "endlinecolor": "#2a3f5f",
             "gridcolor": "white",
             "linecolor": "white",
             "minorgridcolor": "white",
             "startlinecolor": "#2a3f5f"
            },
            "type": "carpet"
           }
          ],
          "choropleth": [
           {
            "colorbar": {
             "outlinewidth": 0,
             "ticks": ""
            },
            "type": "choropleth"
           }
          ],
          "contour": [
           {
            "colorbar": {
             "outlinewidth": 0,
             "ticks": ""
            },
            "colorscale": [
             [
              0,
              "#0d0887"
             ],
             [
              0.1111111111111111,
              "#46039f"
             ],
             [
              0.2222222222222222,
              "#7201a8"
             ],
             [
              0.3333333333333333,
              "#9c179e"
             ],
             [
              0.4444444444444444,
              "#bd3786"
             ],
             [
              0.5555555555555556,
              "#d8576b"
             ],
             [
              0.6666666666666666,
              "#ed7953"
             ],
             [
              0.7777777777777778,
              "#fb9f3a"
             ],
             [
              0.8888888888888888,
              "#fdca26"
             ],
             [
              1,
              "#f0f921"
             ]
            ],
            "type": "contour"
           }
          ],
          "contourcarpet": [
           {
            "colorbar": {
             "outlinewidth": 0,
             "ticks": ""
            },
            "type": "contourcarpet"
           }
          ],
          "heatmap": [
           {
            "colorbar": {
             "outlinewidth": 0,
             "ticks": ""
            },
            "colorscale": [
             [
              0,
              "#0d0887"
             ],
             [
              0.1111111111111111,
              "#46039f"
             ],
             [
              0.2222222222222222,
              "#7201a8"
             ],
             [
              0.3333333333333333,
              "#9c179e"
             ],
             [
              0.4444444444444444,
              "#bd3786"
             ],
             [
              0.5555555555555556,
              "#d8576b"
             ],
             [
              0.6666666666666666,
              "#ed7953"
             ],
             [
              0.7777777777777778,
              "#fb9f3a"
             ],
             [
              0.8888888888888888,
              "#fdca26"
             ],
             [
              1,
              "#f0f921"
             ]
            ],
            "type": "heatmap"
           }
          ],
          "heatmapgl": [
           {
            "colorbar": {
             "outlinewidth": 0,
             "ticks": ""
            },
            "colorscale": [
             [
              0,
              "#0d0887"
             ],
             [
              0.1111111111111111,
              "#46039f"
             ],
             [
              0.2222222222222222,
              "#7201a8"
             ],
             [
              0.3333333333333333,
              "#9c179e"
             ],
             [
              0.4444444444444444,
              "#bd3786"
             ],
             [
              0.5555555555555556,
              "#d8576b"
             ],
             [
              0.6666666666666666,
              "#ed7953"
             ],
             [
              0.7777777777777778,
              "#fb9f3a"
             ],
             [
              0.8888888888888888,
              "#fdca26"
             ],
             [
              1,
              "#f0f921"
             ]
            ],
            "type": "heatmapgl"
           }
          ],
          "histogram": [
           {
            "marker": {
             "pattern": {
              "fillmode": "overlay",
              "size": 10,
              "solidity": 0.2
             }
            },
            "type": "histogram"
           }
          ],
          "histogram2d": [
           {
            "colorbar": {
             "outlinewidth": 0,
             "ticks": ""
            },
            "colorscale": [
             [
              0,
              "#0d0887"
             ],
             [
              0.1111111111111111,
              "#46039f"
             ],
             [
              0.2222222222222222,
              "#7201a8"
             ],
             [
              0.3333333333333333,
              "#9c179e"
             ],
             [
              0.4444444444444444,
              "#bd3786"
             ],
             [
              0.5555555555555556,
              "#d8576b"
             ],
             [
              0.6666666666666666,
              "#ed7953"
             ],
             [
              0.7777777777777778,
              "#fb9f3a"
             ],
             [
              0.8888888888888888,
              "#fdca26"
             ],
             [
              1,
              "#f0f921"
             ]
            ],
            "type": "histogram2d"
           }
          ],
          "histogram2dcontour": [
           {
            "colorbar": {
             "outlinewidth": 0,
             "ticks": ""
            },
            "colorscale": [
             [
              0,
              "#0d0887"
             ],
             [
              0.1111111111111111,
              "#46039f"
             ],
             [
              0.2222222222222222,
              "#7201a8"
             ],
             [
              0.3333333333333333,
              "#9c179e"
             ],
             [
              0.4444444444444444,
              "#bd3786"
             ],
             [
              0.5555555555555556,
              "#d8576b"
             ],
             [
              0.6666666666666666,
              "#ed7953"
             ],
             [
              0.7777777777777778,
              "#fb9f3a"
             ],
             [
              0.8888888888888888,
              "#fdca26"
             ],
             [
              1,
              "#f0f921"
             ]
            ],
            "type": "histogram2dcontour"
           }
          ],
          "mesh3d": [
           {
            "colorbar": {
             "outlinewidth": 0,
             "ticks": ""
            },
            "type": "mesh3d"
           }
          ],
          "parcoords": [
           {
            "line": {
             "colorbar": {
              "outlinewidth": 0,
              "ticks": ""
             }
            },
            "type": "parcoords"
           }
          ],
          "pie": [
           {
            "automargin": true,
            "type": "pie"
           }
          ],
          "scatter": [
           {
            "fillpattern": {
             "fillmode": "overlay",
             "size": 10,
             "solidity": 0.2
            },
            "type": "scatter"
           }
          ],
          "scatter3d": [
           {
            "line": {
             "colorbar": {
              "outlinewidth": 0,
              "ticks": ""
             }
            },
            "marker": {
             "colorbar": {
              "outlinewidth": 0,
              "ticks": ""
             }
            },
            "type": "scatter3d"
           }
          ],
          "scattercarpet": [
           {
            "marker": {
             "colorbar": {
              "outlinewidth": 0,
              "ticks": ""
             }
            },
            "type": "scattercarpet"
           }
          ],
          "scattergeo": [
           {
            "marker": {
             "colorbar": {
              "outlinewidth": 0,
              "ticks": ""
             }
            },
            "type": "scattergeo"
           }
          ],
          "scattergl": [
           {
            "marker": {
             "colorbar": {
              "outlinewidth": 0,
              "ticks": ""
             }
            },
            "type": "scattergl"
           }
          ],
          "scattermapbox": [
           {
            "marker": {
             "colorbar": {
              "outlinewidth": 0,
              "ticks": ""
             }
            },
            "type": "scattermapbox"
           }
          ],
          "scatterpolar": [
           {
            "marker": {
             "colorbar": {
              "outlinewidth": 0,
              "ticks": ""
             }
            },
            "type": "scatterpolar"
           }
          ],
          "scatterpolargl": [
           {
            "marker": {
             "colorbar": {
              "outlinewidth": 0,
              "ticks": ""
             }
            },
            "type": "scatterpolargl"
           }
          ],
          "scatterternary": [
           {
            "marker": {
             "colorbar": {
              "outlinewidth": 0,
              "ticks": ""
             }
            },
            "type": "scatterternary"
           }
          ],
          "surface": [
           {
            "colorbar": {
             "outlinewidth": 0,
             "ticks": ""
            },
            "colorscale": [
             [
              0,
              "#0d0887"
             ],
             [
              0.1111111111111111,
              "#46039f"
             ],
             [
              0.2222222222222222,
              "#7201a8"
             ],
             [
              0.3333333333333333,
              "#9c179e"
             ],
             [
              0.4444444444444444,
              "#bd3786"
             ],
             [
              0.5555555555555556,
              "#d8576b"
             ],
             [
              0.6666666666666666,
              "#ed7953"
             ],
             [
              0.7777777777777778,
              "#fb9f3a"
             ],
             [
              0.8888888888888888,
              "#fdca26"
             ],
             [
              1,
              "#f0f921"
             ]
            ],
            "type": "surface"
           }
          ],
          "table": [
           {
            "cells": {
             "fill": {
              "color": "#EBF0F8"
             },
             "line": {
              "color": "white"
             }
            },
            "header": {
             "fill": {
              "color": "#C8D4E3"
             },
             "line": {
              "color": "white"
             }
            },
            "type": "table"
           }
          ]
         },
         "layout": {
          "annotationdefaults": {
           "arrowcolor": "#2a3f5f",
           "arrowhead": 0,
           "arrowwidth": 1
          },
          "autotypenumbers": "strict",
          "coloraxis": {
           "colorbar": {
            "outlinewidth": 0,
            "ticks": ""
           }
          },
          "colorscale": {
           "diverging": [
            [
             0,
             "#8e0152"
            ],
            [
             0.1,
             "#c51b7d"
            ],
            [
             0.2,
             "#de77ae"
            ],
            [
             0.3,
             "#f1b6da"
            ],
            [
             0.4,
             "#fde0ef"
            ],
            [
             0.5,
             "#f7f7f7"
            ],
            [
             0.6,
             "#e6f5d0"
            ],
            [
             0.7,
             "#b8e186"
            ],
            [
             0.8,
             "#7fbc41"
            ],
            [
             0.9,
             "#4d9221"
            ],
            [
             1,
             "#276419"
            ]
           ],
           "sequential": [
            [
             0,
             "#0d0887"
            ],
            [
             0.1111111111111111,
             "#46039f"
            ],
            [
             0.2222222222222222,
             "#7201a8"
            ],
            [
             0.3333333333333333,
             "#9c179e"
            ],
            [
             0.4444444444444444,
             "#bd3786"
            ],
            [
             0.5555555555555556,
             "#d8576b"
            ],
            [
             0.6666666666666666,
             "#ed7953"
            ],
            [
             0.7777777777777778,
             "#fb9f3a"
            ],
            [
             0.8888888888888888,
             "#fdca26"
            ],
            [
             1,
             "#f0f921"
            ]
           ],
           "sequentialminus": [
            [
             0,
             "#0d0887"
            ],
            [
             0.1111111111111111,
             "#46039f"
            ],
            [
             0.2222222222222222,
             "#7201a8"
            ],
            [
             0.3333333333333333,
             "#9c179e"
            ],
            [
             0.4444444444444444,
             "#bd3786"
            ],
            [
             0.5555555555555556,
             "#d8576b"
            ],
            [
             0.6666666666666666,
             "#ed7953"
            ],
            [
             0.7777777777777778,
             "#fb9f3a"
            ],
            [
             0.8888888888888888,
             "#fdca26"
            ],
            [
             1,
             "#f0f921"
            ]
           ]
          },
          "colorway": [
           "#636efa",
           "#EF553B",
           "#00cc96",
           "#ab63fa",
           "#FFA15A",
           "#19d3f3",
           "#FF6692",
           "#B6E880",
           "#FF97FF",
           "#FECB52"
          ],
          "font": {
           "color": "#2a3f5f"
          },
          "geo": {
           "bgcolor": "white",
           "lakecolor": "white",
           "landcolor": "#E5ECF6",
           "showlakes": true,
           "showland": true,
           "subunitcolor": "white"
          },
          "hoverlabel": {
           "align": "left"
          },
          "hovermode": "closest",
          "mapbox": {
           "style": "light"
          },
          "paper_bgcolor": "white",
          "plot_bgcolor": "#E5ECF6",
          "polar": {
           "angularaxis": {
            "gridcolor": "white",
            "linecolor": "white",
            "ticks": ""
           },
           "bgcolor": "#E5ECF6",
           "radialaxis": {
            "gridcolor": "white",
            "linecolor": "white",
            "ticks": ""
           }
          },
          "scene": {
           "xaxis": {
            "backgroundcolor": "#E5ECF6",
            "gridcolor": "white",
            "gridwidth": 2,
            "linecolor": "white",
            "showbackground": true,
            "ticks": "",
            "zerolinecolor": "white"
           },
           "yaxis": {
            "backgroundcolor": "#E5ECF6",
            "gridcolor": "white",
            "gridwidth": 2,
            "linecolor": "white",
            "showbackground": true,
            "ticks": "",
            "zerolinecolor": "white"
           },
           "zaxis": {
            "backgroundcolor": "#E5ECF6",
            "gridcolor": "white",
            "gridwidth": 2,
            "linecolor": "white",
            "showbackground": true,
            "ticks": "",
            "zerolinecolor": "white"
           }
          },
          "shapedefaults": {
           "line": {
            "color": "#2a3f5f"
           }
          },
          "ternary": {
           "aaxis": {
            "gridcolor": "white",
            "linecolor": "white",
            "ticks": ""
           },
           "baxis": {
            "gridcolor": "white",
            "linecolor": "white",
            "ticks": ""
           },
           "bgcolor": "#E5ECF6",
           "caxis": {
            "gridcolor": "white",
            "linecolor": "white",
            "ticks": ""
           }
          },
          "title": {
           "x": 0.05
          },
          "xaxis": {
           "automargin": true,
           "gridcolor": "white",
           "linecolor": "white",
           "ticks": "",
           "title": {
            "standoff": 15
           },
           "zerolinecolor": "white",
           "zerolinewidth": 2
          },
          "yaxis": {
           "automargin": true,
           "gridcolor": "white",
           "linecolor": "white",
           "ticks": "",
           "title": {
            "standoff": 15
           },
           "zerolinecolor": "white",
           "zerolinewidth": 2
          }
         }
        }
       }
      },
      "text/html": [
       "<div>                            <div id=\"013c2483-6826-4a2d-a5fa-fbde472bca7a\" class=\"plotly-graph-div\" style=\"height:525px; width:100%;\"></div>            <script type=\"text/javascript\">                require([\"plotly\"], function(Plotly) {                    window.PLOTLYENV=window.PLOTLYENV || {};                                    if (document.getElementById(\"013c2483-6826-4a2d-a5fa-fbde472bca7a\")) {                    Plotly.newPlot(                        \"013c2483-6826-4a2d-a5fa-fbde472bca7a\",                        [{\"close\":[37628.3,37616.85,37543.1,37530.45,37480.1,37421.9,37453.85,37487.4,37491.4,37552.55,37562.5,37523.5,37504.3,37510.15,37470.8,37446.55,37469.7,37454.85,37490.4,37500.5,37524.75,37513.45,37535.25,37525.8,37516.35,37489.45,37487.15,37469.5,37504.8,37523.45,37524.5,37498.95,37532.65,37560.55,37580.15,37581.8,37580.75,37580.7,37587.8,37594.0,37599.6,37580.7,37579.7,37577.95,37572.35,37561.55,37565.8,37557.8,37566.1,37565.55,37535.8,37535.4,37546.25,37588.95,37593.4,37622.9,37628.15,37642.5,37630.5,37626.9],\"high\":[37655.45,37638.2,37619.4,37547.05,37528.0,37482.75,37457.5,37487.95,37496.05,37555.4,37600.55,37564.85,37538.45,37518.45,37513.45,37472.7,37471.5,37467.0,37491.65,37511.65,37524.75,37530.15,37538.35,37540.45,37527.35,37518.15,37500.7,37491.8,37505.35,37523.45,37529.75,37527.45,37540.9,37565.8,37581.4,37607.1,37587.8,37583.0,37588.05,37598.35,37608.5,37604.0,37588.95,37581.1,37589.2,37583.9,37572.15,37570.75,37570.0,37571.65,37565.75,37540.0,37549.55,37588.95,37603.1,37625.6,37643.3,37642.5,37648.8,37635.35],\"low\":[37594.15,37610.3,37543.1,37502.05,37476.7,37417.25,37407.5,37444.45,37467.2,37490.4,37552.3,37522.6,37497.3,37502.55,37463.1,37444.15,37439.05,37447.6,37450.4,37487.4,37493.9,37503.7,37512.35,37523.35,37505.55,37487.7,37485.85,37455.4,37468.85,37497.85,37512.5,37498.95,37496.75,37539.85,37559.0,37581.6,37570.25,37574.85,37565.0,37586.45,37590.75,37577.55,37570.2,37565.65,37564.25,37561.35,37556.05,37554.0,37557.65,37557.0,37534.55,37519.1,37530.55,37548.3,37584.9,37593.75,37626.2,37621.05,37620.05,37624.2],\"open\":[37594.15,37630.2,37619.4,37545.55,37528.0,37482.75,37417.55,37453.9,37490.55,37490.4,37552.3,37560.55,37523.1,37504.75,37509.6,37470.45,37441.6,37460.85,37458.8,37488.75,37505.85,37525.9,37512.35,37533.55,37527.35,37518.1,37488.15,37486.45,37475.9,37501.45,37524.75,37524.5,37496.75,37540.3,37561.2,37582.05,37583.9,37581.95,37580.15,37589.7,37591.25,37602.0,37580.95,37580.05,37579.0,37573.85,37560.45,37570.75,37562.7,37567.5,37565.75,37535.45,37537.35,37550.4,37588.55,37594.6,37627.0,37628.4,37639.0,37628.6],\"x\":[\"2022-08-01 09:15:00+05:30\",\"2022-08-01 09:16:00+05:30\",\"2022-08-01 09:17:00+05:30\",\"2022-08-01 09:18:00+05:30\",\"2022-08-01 09:19:00+05:30\",\"2022-08-01 09:20:00+05:30\",\"2022-08-01 09:21:00+05:30\",\"2022-08-01 09:22:00+05:30\",\"2022-08-01 09:23:00+05:30\",\"2022-08-01 09:24:00+05:30\",\"2022-08-01 09:25:00+05:30\",\"2022-08-01 09:26:00+05:30\",\"2022-08-01 09:27:00+05:30\",\"2022-08-01 09:28:00+05:30\",\"2022-08-01 09:29:00+05:30\",\"2022-08-01 09:30:00+05:30\",\"2022-08-01 09:31:00+05:30\",\"2022-08-01 09:32:00+05:30\",\"2022-08-01 09:33:00+05:30\",\"2022-08-01 09:34:00+05:30\",\"2022-08-01 09:35:00+05:30\",\"2022-08-01 09:36:00+05:30\",\"2022-08-01 09:37:00+05:30\",\"2022-08-01 09:38:00+05:30\",\"2022-08-01 09:39:00+05:30\",\"2022-08-01 09:40:00+05:30\",\"2022-08-01 09:41:00+05:30\",\"2022-08-01 09:42:00+05:30\",\"2022-08-01 09:43:00+05:30\",\"2022-08-01 09:44:00+05:30\",\"2022-08-01 09:45:00+05:30\",\"2022-08-01 09:46:00+05:30\",\"2022-08-01 09:47:00+05:30\",\"2022-08-01 09:48:00+05:30\",\"2022-08-01 09:49:00+05:30\",\"2022-08-01 09:50:00+05:30\",\"2022-08-01 09:51:00+05:30\",\"2022-08-01 09:52:00+05:30\",\"2022-08-01 09:53:00+05:30\",\"2022-08-01 09:54:00+05:30\",\"2022-08-01 09:55:00+05:30\",\"2022-08-01 09:56:00+05:30\",\"2022-08-01 09:57:00+05:30\",\"2022-08-01 09:58:00+05:30\",\"2022-08-01 09:59:00+05:30\",\"2022-08-01 10:00:00+05:30\",\"2022-08-01 10:01:00+05:30\",\"2022-08-01 10:02:00+05:30\",\"2022-08-01 10:03:00+05:30\",\"2022-08-01 10:04:00+05:30\",\"2022-08-01 10:05:00+05:30\",\"2022-08-01 10:06:00+05:30\",\"2022-08-01 10:07:00+05:30\",\"2022-08-01 10:08:00+05:30\",\"2022-08-01 10:09:00+05:30\",\"2022-08-01 10:10:00+05:30\",\"2022-08-01 10:11:00+05:30\",\"2022-08-01 10:12:00+05:30\",\"2022-08-01 10:13:00+05:30\",\"2022-08-01 10:14:00+05:30\"],\"type\":\"candlestick\"}],                        {\"template\":{\"data\":{\"histogram2dcontour\":[{\"type\":\"histogram2dcontour\",\"colorbar\":{\"outlinewidth\":0,\"ticks\":\"\"},\"colorscale\":[[0.0,\"#0d0887\"],[0.1111111111111111,\"#46039f\"],[0.2222222222222222,\"#7201a8\"],[0.3333333333333333,\"#9c179e\"],[0.4444444444444444,\"#bd3786\"],[0.5555555555555556,\"#d8576b\"],[0.6666666666666666,\"#ed7953\"],[0.7777777777777778,\"#fb9f3a\"],[0.8888888888888888,\"#fdca26\"],[1.0,\"#f0f921\"]]}],\"choropleth\":[{\"type\":\"choropleth\",\"colorbar\":{\"outlinewidth\":0,\"ticks\":\"\"}}],\"histogram2d\":[{\"type\":\"histogram2d\",\"colorbar\":{\"outlinewidth\":0,\"ticks\":\"\"},\"colorscale\":[[0.0,\"#0d0887\"],[0.1111111111111111,\"#46039f\"],[0.2222222222222222,\"#7201a8\"],[0.3333333333333333,\"#9c179e\"],[0.4444444444444444,\"#bd3786\"],[0.5555555555555556,\"#d8576b\"],[0.6666666666666666,\"#ed7953\"],[0.7777777777777778,\"#fb9f3a\"],[0.8888888888888888,\"#fdca26\"],[1.0,\"#f0f921\"]]}],\"heatmap\":[{\"type\":\"heatmap\",\"colorbar\":{\"outlinewidth\":0,\"ticks\":\"\"},\"colorscale\":[[0.0,\"#0d0887\"],[0.1111111111111111,\"#46039f\"],[0.2222222222222222,\"#7201a8\"],[0.3333333333333333,\"#9c179e\"],[0.4444444444444444,\"#bd3786\"],[0.5555555555555556,\"#d8576b\"],[0.6666666666666666,\"#ed7953\"],[0.7777777777777778,\"#fb9f3a\"],[0.8888888888888888,\"#fdca26\"],[1.0,\"#f0f921\"]]}],\"heatmapgl\":[{\"type\":\"heatmapgl\",\"colorbar\":{\"outlinewidth\":0,\"ticks\":\"\"},\"colorscale\":[[0.0,\"#0d0887\"],[0.1111111111111111,\"#46039f\"],[0.2222222222222222,\"#7201a8\"],[0.3333333333333333,\"#9c179e\"],[0.4444444444444444,\"#bd3786\"],[0.5555555555555556,\"#d8576b\"],[0.6666666666666666,\"#ed7953\"],[0.7777777777777778,\"#fb9f3a\"],[0.8888888888888888,\"#fdca26\"],[1.0,\"#f0f921\"]]}],\"contourcarpet\":[{\"type\":\"contourcarpet\",\"colorbar\":{\"outlinewidth\":0,\"ticks\":\"\"}}],\"contour\":[{\"type\":\"contour\",\"colorbar\":{\"outlinewidth\":0,\"ticks\":\"\"},\"colorscale\":[[0.0,\"#0d0887\"],[0.1111111111111111,\"#46039f\"],[0.2222222222222222,\"#7201a8\"],[0.3333333333333333,\"#9c179e\"],[0.4444444444444444,\"#bd3786\"],[0.5555555555555556,\"#d8576b\"],[0.6666666666666666,\"#ed7953\"],[0.7777777777777778,\"#fb9f3a\"],[0.8888888888888888,\"#fdca26\"],[1.0,\"#f0f921\"]]}],\"surface\":[{\"type\":\"surface\",\"colorbar\":{\"outlinewidth\":0,\"ticks\":\"\"},\"colorscale\":[[0.0,\"#0d0887\"],[0.1111111111111111,\"#46039f\"],[0.2222222222222222,\"#7201a8\"],[0.3333333333333333,\"#9c179e\"],[0.4444444444444444,\"#bd3786\"],[0.5555555555555556,\"#d8576b\"],[0.6666666666666666,\"#ed7953\"],[0.7777777777777778,\"#fb9f3a\"],[0.8888888888888888,\"#fdca26\"],[1.0,\"#f0f921\"]]}],\"mesh3d\":[{\"type\":\"mesh3d\",\"colorbar\":{\"outlinewidth\":0,\"ticks\":\"\"}}],\"scatter\":[{\"fillpattern\":{\"fillmode\":\"overlay\",\"size\":10,\"solidity\":0.2},\"type\":\"scatter\"}],\"parcoords\":[{\"type\":\"parcoords\",\"line\":{\"colorbar\":{\"outlinewidth\":0,\"ticks\":\"\"}}}],\"scatterpolargl\":[{\"type\":\"scatterpolargl\",\"marker\":{\"colorbar\":{\"outlinewidth\":0,\"ticks\":\"\"}}}],\"bar\":[{\"error_x\":{\"color\":\"#2a3f5f\"},\"error_y\":{\"color\":\"#2a3f5f\"},\"marker\":{\"line\":{\"color\":\"#E5ECF6\",\"width\":0.5},\"pattern\":{\"fillmode\":\"overlay\",\"size\":10,\"solidity\":0.2}},\"type\":\"bar\"}],\"scattergeo\":[{\"type\":\"scattergeo\",\"marker\":{\"colorbar\":{\"outlinewidth\":0,\"ticks\":\"\"}}}],\"scatterpolar\":[{\"type\":\"scatterpolar\",\"marker\":{\"colorbar\":{\"outlinewidth\":0,\"ticks\":\"\"}}}],\"histogram\":[{\"marker\":{\"pattern\":{\"fillmode\":\"overlay\",\"size\":10,\"solidity\":0.2}},\"type\":\"histogram\"}],\"scattergl\":[{\"type\":\"scattergl\",\"marker\":{\"colorbar\":{\"outlinewidth\":0,\"ticks\":\"\"}}}],\"scatter3d\":[{\"type\":\"scatter3d\",\"line\":{\"colorbar\":{\"outlinewidth\":0,\"ticks\":\"\"}},\"marker\":{\"colorbar\":{\"outlinewidth\":0,\"ticks\":\"\"}}}],\"scattermapbox\":[{\"type\":\"scattermapbox\",\"marker\":{\"colorbar\":{\"outlinewidth\":0,\"ticks\":\"\"}}}],\"scatterternary\":[{\"type\":\"scatterternary\",\"marker\":{\"colorbar\":{\"outlinewidth\":0,\"ticks\":\"\"}}}],\"scattercarpet\":[{\"type\":\"scattercarpet\",\"marker\":{\"colorbar\":{\"outlinewidth\":0,\"ticks\":\"\"}}}],\"carpet\":[{\"aaxis\":{\"endlinecolor\":\"#2a3f5f\",\"gridcolor\":\"white\",\"linecolor\":\"white\",\"minorgridcolor\":\"white\",\"startlinecolor\":\"#2a3f5f\"},\"baxis\":{\"endlinecolor\":\"#2a3f5f\",\"gridcolor\":\"white\",\"linecolor\":\"white\",\"minorgridcolor\":\"white\",\"startlinecolor\":\"#2a3f5f\"},\"type\":\"carpet\"}],\"table\":[{\"cells\":{\"fill\":{\"color\":\"#EBF0F8\"},\"line\":{\"color\":\"white\"}},\"header\":{\"fill\":{\"color\":\"#C8D4E3\"},\"line\":{\"color\":\"white\"}},\"type\":\"table\"}],\"barpolar\":[{\"marker\":{\"line\":{\"color\":\"#E5ECF6\",\"width\":0.5},\"pattern\":{\"fillmode\":\"overlay\",\"size\":10,\"solidity\":0.2}},\"type\":\"barpolar\"}],\"pie\":[{\"automargin\":true,\"type\":\"pie\"}]},\"layout\":{\"autotypenumbers\":\"strict\",\"colorway\":[\"#636efa\",\"#EF553B\",\"#00cc96\",\"#ab63fa\",\"#FFA15A\",\"#19d3f3\",\"#FF6692\",\"#B6E880\",\"#FF97FF\",\"#FECB52\"],\"font\":{\"color\":\"#2a3f5f\"},\"hovermode\":\"closest\",\"hoverlabel\":{\"align\":\"left\"},\"paper_bgcolor\":\"white\",\"plot_bgcolor\":\"#E5ECF6\",\"polar\":{\"bgcolor\":\"#E5ECF6\",\"angularaxis\":{\"gridcolor\":\"white\",\"linecolor\":\"white\",\"ticks\":\"\"},\"radialaxis\":{\"gridcolor\":\"white\",\"linecolor\":\"white\",\"ticks\":\"\"}},\"ternary\":{\"bgcolor\":\"#E5ECF6\",\"aaxis\":{\"gridcolor\":\"white\",\"linecolor\":\"white\",\"ticks\":\"\"},\"baxis\":{\"gridcolor\":\"white\",\"linecolor\":\"white\",\"ticks\":\"\"},\"caxis\":{\"gridcolor\":\"white\",\"linecolor\":\"white\",\"ticks\":\"\"}},\"coloraxis\":{\"colorbar\":{\"outlinewidth\":0,\"ticks\":\"\"}},\"colorscale\":{\"sequential\":[[0.0,\"#0d0887\"],[0.1111111111111111,\"#46039f\"],[0.2222222222222222,\"#7201a8\"],[0.3333333333333333,\"#9c179e\"],[0.4444444444444444,\"#bd3786\"],[0.5555555555555556,\"#d8576b\"],[0.6666666666666666,\"#ed7953\"],[0.7777777777777778,\"#fb9f3a\"],[0.8888888888888888,\"#fdca26\"],[1.0,\"#f0f921\"]],\"sequentialminus\":[[0.0,\"#0d0887\"],[0.1111111111111111,\"#46039f\"],[0.2222222222222222,\"#7201a8\"],[0.3333333333333333,\"#9c179e\"],[0.4444444444444444,\"#bd3786\"],[0.5555555555555556,\"#d8576b\"],[0.6666666666666666,\"#ed7953\"],[0.7777777777777778,\"#fb9f3a\"],[0.8888888888888888,\"#fdca26\"],[1.0,\"#f0f921\"]],\"diverging\":[[0,\"#8e0152\"],[0.1,\"#c51b7d\"],[0.2,\"#de77ae\"],[0.3,\"#f1b6da\"],[0.4,\"#fde0ef\"],[0.5,\"#f7f7f7\"],[0.6,\"#e6f5d0\"],[0.7,\"#b8e186\"],[0.8,\"#7fbc41\"],[0.9,\"#4d9221\"],[1,\"#276419\"]]},\"xaxis\":{\"gridcolor\":\"white\",\"linecolor\":\"white\",\"ticks\":\"\",\"title\":{\"standoff\":15},\"zerolinecolor\":\"white\",\"automargin\":true,\"zerolinewidth\":2},\"yaxis\":{\"gridcolor\":\"white\",\"linecolor\":\"white\",\"ticks\":\"\",\"title\":{\"standoff\":15},\"zerolinecolor\":\"white\",\"automargin\":true,\"zerolinewidth\":2},\"scene\":{\"xaxis\":{\"backgroundcolor\":\"#E5ECF6\",\"gridcolor\":\"white\",\"linecolor\":\"white\",\"showbackground\":true,\"ticks\":\"\",\"zerolinecolor\":\"white\",\"gridwidth\":2},\"yaxis\":{\"backgroundcolor\":\"#E5ECF6\",\"gridcolor\":\"white\",\"linecolor\":\"white\",\"showbackground\":true,\"ticks\":\"\",\"zerolinecolor\":\"white\",\"gridwidth\":2},\"zaxis\":{\"backgroundcolor\":\"#E5ECF6\",\"gridcolor\":\"white\",\"linecolor\":\"white\",\"showbackground\":true,\"ticks\":\"\",\"zerolinecolor\":\"white\",\"gridwidth\":2}},\"shapedefaults\":{\"line\":{\"color\":\"#2a3f5f\"}},\"annotationdefaults\":{\"arrowcolor\":\"#2a3f5f\",\"arrowhead\":0,\"arrowwidth\":1},\"geo\":{\"bgcolor\":\"white\",\"landcolor\":\"#E5ECF6\",\"subunitcolor\":\"white\",\"showland\":true,\"showlakes\":true,\"lakecolor\":\"white\"},\"title\":{\"x\":0.05},\"mapbox\":{\"style\":\"light\"}}},\"shapes\":[{\"line\":{\"color\":\"green\",\"width\":1},\"type\":\"line\",\"x0\":0,\"x1\":1,\"xref\":\"x domain\",\"y0\":0,\"y1\":0,\"yref\":\"y\"},{\"line\":{\"color\":\"red\",\"width\":1},\"type\":\"line\",\"x0\":0,\"x1\":1,\"xref\":\"x domain\",\"y0\":0,\"y1\":0,\"yref\":\"y\"},{\"line\":{\"color\":\"black\",\"width\":3},\"type\":\"line\",\"x0\":0,\"x1\":1,\"xref\":\"x domain\",\"y0\":0,\"y1\":0,\"yref\":\"y\"}]},                        {\"responsive\": true}                    ).then(function(){\n",
       "                            \n",
       "var gd = document.getElementById('013c2483-6826-4a2d-a5fa-fbde472bca7a');\n",
       "var x = new MutationObserver(function (mutations, observer) {{\n",
       "        var display = window.getComputedStyle(gd).display;\n",
       "        if (!display || display === 'none') {{\n",
       "            console.log([gd, 'removed!']);\n",
       "            Plotly.purge(gd);\n",
       "            observer.disconnect();\n",
       "        }}\n",
       "}});\n",
       "\n",
       "// Listen for the removal of the full notebook cells\n",
       "var notebookContainer = gd.closest('#notebook-container');\n",
       "if (notebookContainer) {{\n",
       "    x.observe(notebookContainer, {childList: true});\n",
       "}}\n",
       "\n",
       "// Listen for the clearing of the current output cell\n",
       "var outputEl = gd.closest('.output');\n",
       "if (outputEl) {{\n",
       "    x.observe(outputEl, {childList: true});\n",
       "}}\n",
       "\n",
       "                        })                };                });            </script>        </div>"
      ]
     },
     "metadata": {},
     "output_type": "display_data"
    },
    {
     "name": "stdout",
     "output_type": "stream",
     "text": [
      "res : [37655.45]\n",
      "sup : [37407.5, 37594.15]\n",
      "################################################################################\n",
      "################################################################################\n",
      "2022-08-01 10:18:00+05:30\n",
      "37607.35 37620.05\n",
      "rr : 7.393043478260971\n"
     ]
    },
    {
     "data": {
      "application/vnd.plotly.v1+json": {
       "config": {
        "plotlyServerURL": "https://plot.ly"
       },
       "data": [
        {
         "close": [
          37628.3,
          37616.85,
          37543.1,
          37530.45,
          37480.1,
          37421.9,
          37453.85,
          37487.4,
          37491.4,
          37552.55,
          37562.5,
          37523.5,
          37504.3,
          37510.15,
          37470.8,
          37446.55,
          37469.7,
          37454.85,
          37490.4,
          37500.5,
          37524.75,
          37513.45,
          37535.25,
          37525.8,
          37516.35,
          37489.45,
          37487.15,
          37469.5,
          37504.8,
          37523.45,
          37524.5,
          37498.95,
          37532.65,
          37560.55,
          37580.15,
          37581.8,
          37580.75,
          37580.7,
          37587.8,
          37594,
          37599.6,
          37580.7,
          37579.7,
          37577.95,
          37572.35,
          37561.55,
          37565.8,
          37557.8,
          37566.1,
          37565.55,
          37535.8,
          37535.4,
          37546.25,
          37588.95,
          37593.4,
          37622.9,
          37628.15,
          37642.5,
          37630.5,
          37626.9,
          37644.45
         ],
         "high": [
          37655.45,
          37638.2,
          37619.4,
          37547.05,
          37528,
          37482.75,
          37457.5,
          37487.95,
          37496.05,
          37555.4,
          37600.55,
          37564.85,
          37538.45,
          37518.45,
          37513.45,
          37472.7,
          37471.5,
          37467,
          37491.65,
          37511.65,
          37524.75,
          37530.15,
          37538.35,
          37540.45,
          37527.35,
          37518.15,
          37500.7,
          37491.8,
          37505.35,
          37523.45,
          37529.75,
          37527.45,
          37540.9,
          37565.8,
          37581.4,
          37607.1,
          37587.8,
          37583,
          37588.05,
          37598.35,
          37608.5,
          37604,
          37588.95,
          37581.1,
          37589.2,
          37583.9,
          37572.15,
          37570.75,
          37570,
          37571.65,
          37565.75,
          37540,
          37549.55,
          37588.95,
          37603.1,
          37625.6,
          37643.3,
          37642.5,
          37648.8,
          37635.35,
          37644.45
         ],
         "low": [
          37594.15,
          37610.3,
          37543.1,
          37502.05,
          37476.7,
          37417.25,
          37407.5,
          37444.45,
          37467.2,
          37490.4,
          37552.3,
          37522.6,
          37497.3,
          37502.55,
          37463.1,
          37444.15,
          37439.05,
          37447.6,
          37450.4,
          37487.4,
          37493.9,
          37503.7,
          37512.35,
          37523.35,
          37505.55,
          37487.7,
          37485.85,
          37455.4,
          37468.85,
          37497.85,
          37512.5,
          37498.95,
          37496.75,
          37539.85,
          37559,
          37581.6,
          37570.25,
          37574.85,
          37565,
          37586.45,
          37590.75,
          37577.55,
          37570.2,
          37565.65,
          37564.25,
          37561.35,
          37556.05,
          37554,
          37557.65,
          37557,
          37534.55,
          37519.1,
          37530.55,
          37548.3,
          37584.9,
          37593.75,
          37626.2,
          37621.05,
          37620.05,
          37624.2,
          37626.2
         ],
         "open": [
          37594.15,
          37630.2,
          37619.4,
          37545.55,
          37528,
          37482.75,
          37417.55,
          37453.9,
          37490.55,
          37490.4,
          37552.3,
          37560.55,
          37523.1,
          37504.75,
          37509.6,
          37470.45,
          37441.6,
          37460.85,
          37458.8,
          37488.75,
          37505.85,
          37525.9,
          37512.35,
          37533.55,
          37527.35,
          37518.1,
          37488.15,
          37486.45,
          37475.9,
          37501.45,
          37524.75,
          37524.5,
          37496.75,
          37540.3,
          37561.2,
          37582.05,
          37583.9,
          37581.95,
          37580.15,
          37589.7,
          37591.25,
          37602,
          37580.95,
          37580.05,
          37579,
          37573.85,
          37560.45,
          37570.75,
          37562.7,
          37567.5,
          37565.75,
          37535.45,
          37537.35,
          37550.4,
          37588.55,
          37594.6,
          37627,
          37628.4,
          37639,
          37628.6,
          37626.2
         ],
         "type": "candlestick",
         "x": [
          "2022-08-01 09:15:00+05:30",
          "2022-08-01 09:16:00+05:30",
          "2022-08-01 09:17:00+05:30",
          "2022-08-01 09:18:00+05:30",
          "2022-08-01 09:19:00+05:30",
          "2022-08-01 09:20:00+05:30",
          "2022-08-01 09:21:00+05:30",
          "2022-08-01 09:22:00+05:30",
          "2022-08-01 09:23:00+05:30",
          "2022-08-01 09:24:00+05:30",
          "2022-08-01 09:25:00+05:30",
          "2022-08-01 09:26:00+05:30",
          "2022-08-01 09:27:00+05:30",
          "2022-08-01 09:28:00+05:30",
          "2022-08-01 09:29:00+05:30",
          "2022-08-01 09:30:00+05:30",
          "2022-08-01 09:31:00+05:30",
          "2022-08-01 09:32:00+05:30",
          "2022-08-01 09:33:00+05:30",
          "2022-08-01 09:34:00+05:30",
          "2022-08-01 09:35:00+05:30",
          "2022-08-01 09:36:00+05:30",
          "2022-08-01 09:37:00+05:30",
          "2022-08-01 09:38:00+05:30",
          "2022-08-01 09:39:00+05:30",
          "2022-08-01 09:40:00+05:30",
          "2022-08-01 09:41:00+05:30",
          "2022-08-01 09:42:00+05:30",
          "2022-08-01 09:43:00+05:30",
          "2022-08-01 09:44:00+05:30",
          "2022-08-01 09:45:00+05:30",
          "2022-08-01 09:46:00+05:30",
          "2022-08-01 09:47:00+05:30",
          "2022-08-01 09:48:00+05:30",
          "2022-08-01 09:49:00+05:30",
          "2022-08-01 09:50:00+05:30",
          "2022-08-01 09:51:00+05:30",
          "2022-08-01 09:52:00+05:30",
          "2022-08-01 09:53:00+05:30",
          "2022-08-01 09:54:00+05:30",
          "2022-08-01 09:55:00+05:30",
          "2022-08-01 09:56:00+05:30",
          "2022-08-01 09:57:00+05:30",
          "2022-08-01 09:58:00+05:30",
          "2022-08-01 09:59:00+05:30",
          "2022-08-01 10:00:00+05:30",
          "2022-08-01 10:01:00+05:30",
          "2022-08-01 10:02:00+05:30",
          "2022-08-01 10:03:00+05:30",
          "2022-08-01 10:04:00+05:30",
          "2022-08-01 10:05:00+05:30",
          "2022-08-01 10:06:00+05:30",
          "2022-08-01 10:07:00+05:30",
          "2022-08-01 10:08:00+05:30",
          "2022-08-01 10:09:00+05:30",
          "2022-08-01 10:10:00+05:30",
          "2022-08-01 10:11:00+05:30",
          "2022-08-01 10:12:00+05:30",
          "2022-08-01 10:13:00+05:30",
          "2022-08-01 10:14:00+05:30",
          "2022-08-01 10:15:00+05:30"
         ]
        }
       ],
       "layout": {
        "shapes": [
         {
          "line": {
           "color": "green",
           "width": 1
          },
          "type": "line",
          "x0": 0,
          "x1": 1,
          "xref": "x domain",
          "y0": 0,
          "y1": 0,
          "yref": "y"
         },
         {
          "line": {
           "color": "red",
           "width": 1
          },
          "type": "line",
          "x0": 0,
          "x1": 1,
          "xref": "x domain",
          "y0": 0,
          "y1": 0,
          "yref": "y"
         },
         {
          "line": {
           "color": "black",
           "width": 3
          },
          "type": "line",
          "x0": 0,
          "x1": 1,
          "xref": "x domain",
          "y0": 0,
          "y1": 0,
          "yref": "y"
         }
        ],
        "template": {
         "data": {
          "bar": [
           {
            "error_x": {
             "color": "#2a3f5f"
            },
            "error_y": {
             "color": "#2a3f5f"
            },
            "marker": {
             "line": {
              "color": "#E5ECF6",
              "width": 0.5
             },
             "pattern": {
              "fillmode": "overlay",
              "size": 10,
              "solidity": 0.2
             }
            },
            "type": "bar"
           }
          ],
          "barpolar": [
           {
            "marker": {
             "line": {
              "color": "#E5ECF6",
              "width": 0.5
             },
             "pattern": {
              "fillmode": "overlay",
              "size": 10,
              "solidity": 0.2
             }
            },
            "type": "barpolar"
           }
          ],
          "carpet": [
           {
            "aaxis": {
             "endlinecolor": "#2a3f5f",
             "gridcolor": "white",
             "linecolor": "white",
             "minorgridcolor": "white",
             "startlinecolor": "#2a3f5f"
            },
            "baxis": {
             "endlinecolor": "#2a3f5f",
             "gridcolor": "white",
             "linecolor": "white",
             "minorgridcolor": "white",
             "startlinecolor": "#2a3f5f"
            },
            "type": "carpet"
           }
          ],
          "choropleth": [
           {
            "colorbar": {
             "outlinewidth": 0,
             "ticks": ""
            },
            "type": "choropleth"
           }
          ],
          "contour": [
           {
            "colorbar": {
             "outlinewidth": 0,
             "ticks": ""
            },
            "colorscale": [
             [
              0,
              "#0d0887"
             ],
             [
              0.1111111111111111,
              "#46039f"
             ],
             [
              0.2222222222222222,
              "#7201a8"
             ],
             [
              0.3333333333333333,
              "#9c179e"
             ],
             [
              0.4444444444444444,
              "#bd3786"
             ],
             [
              0.5555555555555556,
              "#d8576b"
             ],
             [
              0.6666666666666666,
              "#ed7953"
             ],
             [
              0.7777777777777778,
              "#fb9f3a"
             ],
             [
              0.8888888888888888,
              "#fdca26"
             ],
             [
              1,
              "#f0f921"
             ]
            ],
            "type": "contour"
           }
          ],
          "contourcarpet": [
           {
            "colorbar": {
             "outlinewidth": 0,
             "ticks": ""
            },
            "type": "contourcarpet"
           }
          ],
          "heatmap": [
           {
            "colorbar": {
             "outlinewidth": 0,
             "ticks": ""
            },
            "colorscale": [
             [
              0,
              "#0d0887"
             ],
             [
              0.1111111111111111,
              "#46039f"
             ],
             [
              0.2222222222222222,
              "#7201a8"
             ],
             [
              0.3333333333333333,
              "#9c179e"
             ],
             [
              0.4444444444444444,
              "#bd3786"
             ],
             [
              0.5555555555555556,
              "#d8576b"
             ],
             [
              0.6666666666666666,
              "#ed7953"
             ],
             [
              0.7777777777777778,
              "#fb9f3a"
             ],
             [
              0.8888888888888888,
              "#fdca26"
             ],
             [
              1,
              "#f0f921"
             ]
            ],
            "type": "heatmap"
           }
          ],
          "heatmapgl": [
           {
            "colorbar": {
             "outlinewidth": 0,
             "ticks": ""
            },
            "colorscale": [
             [
              0,
              "#0d0887"
             ],
             [
              0.1111111111111111,
              "#46039f"
             ],
             [
              0.2222222222222222,
              "#7201a8"
             ],
             [
              0.3333333333333333,
              "#9c179e"
             ],
             [
              0.4444444444444444,
              "#bd3786"
             ],
             [
              0.5555555555555556,
              "#d8576b"
             ],
             [
              0.6666666666666666,
              "#ed7953"
             ],
             [
              0.7777777777777778,
              "#fb9f3a"
             ],
             [
              0.8888888888888888,
              "#fdca26"
             ],
             [
              1,
              "#f0f921"
             ]
            ],
            "type": "heatmapgl"
           }
          ],
          "histogram": [
           {
            "marker": {
             "pattern": {
              "fillmode": "overlay",
              "size": 10,
              "solidity": 0.2
             }
            },
            "type": "histogram"
           }
          ],
          "histogram2d": [
           {
            "colorbar": {
             "outlinewidth": 0,
             "ticks": ""
            },
            "colorscale": [
             [
              0,
              "#0d0887"
             ],
             [
              0.1111111111111111,
              "#46039f"
             ],
             [
              0.2222222222222222,
              "#7201a8"
             ],
             [
              0.3333333333333333,
              "#9c179e"
             ],
             [
              0.4444444444444444,
              "#bd3786"
             ],
             [
              0.5555555555555556,
              "#d8576b"
             ],
             [
              0.6666666666666666,
              "#ed7953"
             ],
             [
              0.7777777777777778,
              "#fb9f3a"
             ],
             [
              0.8888888888888888,
              "#fdca26"
             ],
             [
              1,
              "#f0f921"
             ]
            ],
            "type": "histogram2d"
           }
          ],
          "histogram2dcontour": [
           {
            "colorbar": {
             "outlinewidth": 0,
             "ticks": ""
            },
            "colorscale": [
             [
              0,
              "#0d0887"
             ],
             [
              0.1111111111111111,
              "#46039f"
             ],
             [
              0.2222222222222222,
              "#7201a8"
             ],
             [
              0.3333333333333333,
              "#9c179e"
             ],
             [
              0.4444444444444444,
              "#bd3786"
             ],
             [
              0.5555555555555556,
              "#d8576b"
             ],
             [
              0.6666666666666666,
              "#ed7953"
             ],
             [
              0.7777777777777778,
              "#fb9f3a"
             ],
             [
              0.8888888888888888,
              "#fdca26"
             ],
             [
              1,
              "#f0f921"
             ]
            ],
            "type": "histogram2dcontour"
           }
          ],
          "mesh3d": [
           {
            "colorbar": {
             "outlinewidth": 0,
             "ticks": ""
            },
            "type": "mesh3d"
           }
          ],
          "parcoords": [
           {
            "line": {
             "colorbar": {
              "outlinewidth": 0,
              "ticks": ""
             }
            },
            "type": "parcoords"
           }
          ],
          "pie": [
           {
            "automargin": true,
            "type": "pie"
           }
          ],
          "scatter": [
           {
            "fillpattern": {
             "fillmode": "overlay",
             "size": 10,
             "solidity": 0.2
            },
            "type": "scatter"
           }
          ],
          "scatter3d": [
           {
            "line": {
             "colorbar": {
              "outlinewidth": 0,
              "ticks": ""
             }
            },
            "marker": {
             "colorbar": {
              "outlinewidth": 0,
              "ticks": ""
             }
            },
            "type": "scatter3d"
           }
          ],
          "scattercarpet": [
           {
            "marker": {
             "colorbar": {
              "outlinewidth": 0,
              "ticks": ""
             }
            },
            "type": "scattercarpet"
           }
          ],
          "scattergeo": [
           {
            "marker": {
             "colorbar": {
              "outlinewidth": 0,
              "ticks": ""
             }
            },
            "type": "scattergeo"
           }
          ],
          "scattergl": [
           {
            "marker": {
             "colorbar": {
              "outlinewidth": 0,
              "ticks": ""
             }
            },
            "type": "scattergl"
           }
          ],
          "scattermapbox": [
           {
            "marker": {
             "colorbar": {
              "outlinewidth": 0,
              "ticks": ""
             }
            },
            "type": "scattermapbox"
           }
          ],
          "scatterpolar": [
           {
            "marker": {
             "colorbar": {
              "outlinewidth": 0,
              "ticks": ""
             }
            },
            "type": "scatterpolar"
           }
          ],
          "scatterpolargl": [
           {
            "marker": {
             "colorbar": {
              "outlinewidth": 0,
              "ticks": ""
             }
            },
            "type": "scatterpolargl"
           }
          ],
          "scatterternary": [
           {
            "marker": {
             "colorbar": {
              "outlinewidth": 0,
              "ticks": ""
             }
            },
            "type": "scatterternary"
           }
          ],
          "surface": [
           {
            "colorbar": {
             "outlinewidth": 0,
             "ticks": ""
            },
            "colorscale": [
             [
              0,
              "#0d0887"
             ],
             [
              0.1111111111111111,
              "#46039f"
             ],
             [
              0.2222222222222222,
              "#7201a8"
             ],
             [
              0.3333333333333333,
              "#9c179e"
             ],
             [
              0.4444444444444444,
              "#bd3786"
             ],
             [
              0.5555555555555556,
              "#d8576b"
             ],
             [
              0.6666666666666666,
              "#ed7953"
             ],
             [
              0.7777777777777778,
              "#fb9f3a"
             ],
             [
              0.8888888888888888,
              "#fdca26"
             ],
             [
              1,
              "#f0f921"
             ]
            ],
            "type": "surface"
           }
          ],
          "table": [
           {
            "cells": {
             "fill": {
              "color": "#EBF0F8"
             },
             "line": {
              "color": "white"
             }
            },
            "header": {
             "fill": {
              "color": "#C8D4E3"
             },
             "line": {
              "color": "white"
             }
            },
            "type": "table"
           }
          ]
         },
         "layout": {
          "annotationdefaults": {
           "arrowcolor": "#2a3f5f",
           "arrowhead": 0,
           "arrowwidth": 1
          },
          "autotypenumbers": "strict",
          "coloraxis": {
           "colorbar": {
            "outlinewidth": 0,
            "ticks": ""
           }
          },
          "colorscale": {
           "diverging": [
            [
             0,
             "#8e0152"
            ],
            [
             0.1,
             "#c51b7d"
            ],
            [
             0.2,
             "#de77ae"
            ],
            [
             0.3,
             "#f1b6da"
            ],
            [
             0.4,
             "#fde0ef"
            ],
            [
             0.5,
             "#f7f7f7"
            ],
            [
             0.6,
             "#e6f5d0"
            ],
            [
             0.7,
             "#b8e186"
            ],
            [
             0.8,
             "#7fbc41"
            ],
            [
             0.9,
             "#4d9221"
            ],
            [
             1,
             "#276419"
            ]
           ],
           "sequential": [
            [
             0,
             "#0d0887"
            ],
            [
             0.1111111111111111,
             "#46039f"
            ],
            [
             0.2222222222222222,
             "#7201a8"
            ],
            [
             0.3333333333333333,
             "#9c179e"
            ],
            [
             0.4444444444444444,
             "#bd3786"
            ],
            [
             0.5555555555555556,
             "#d8576b"
            ],
            [
             0.6666666666666666,
             "#ed7953"
            ],
            [
             0.7777777777777778,
             "#fb9f3a"
            ],
            [
             0.8888888888888888,
             "#fdca26"
            ],
            [
             1,
             "#f0f921"
            ]
           ],
           "sequentialminus": [
            [
             0,
             "#0d0887"
            ],
            [
             0.1111111111111111,
             "#46039f"
            ],
            [
             0.2222222222222222,
             "#7201a8"
            ],
            [
             0.3333333333333333,
             "#9c179e"
            ],
            [
             0.4444444444444444,
             "#bd3786"
            ],
            [
             0.5555555555555556,
             "#d8576b"
            ],
            [
             0.6666666666666666,
             "#ed7953"
            ],
            [
             0.7777777777777778,
             "#fb9f3a"
            ],
            [
             0.8888888888888888,
             "#fdca26"
            ],
            [
             1,
             "#f0f921"
            ]
           ]
          },
          "colorway": [
           "#636efa",
           "#EF553B",
           "#00cc96",
           "#ab63fa",
           "#FFA15A",
           "#19d3f3",
           "#FF6692",
           "#B6E880",
           "#FF97FF",
           "#FECB52"
          ],
          "font": {
           "color": "#2a3f5f"
          },
          "geo": {
           "bgcolor": "white",
           "lakecolor": "white",
           "landcolor": "#E5ECF6",
           "showlakes": true,
           "showland": true,
           "subunitcolor": "white"
          },
          "hoverlabel": {
           "align": "left"
          },
          "hovermode": "closest",
          "mapbox": {
           "style": "light"
          },
          "paper_bgcolor": "white",
          "plot_bgcolor": "#E5ECF6",
          "polar": {
           "angularaxis": {
            "gridcolor": "white",
            "linecolor": "white",
            "ticks": ""
           },
           "bgcolor": "#E5ECF6",
           "radialaxis": {
            "gridcolor": "white",
            "linecolor": "white",
            "ticks": ""
           }
          },
          "scene": {
           "xaxis": {
            "backgroundcolor": "#E5ECF6",
            "gridcolor": "white",
            "gridwidth": 2,
            "linecolor": "white",
            "showbackground": true,
            "ticks": "",
            "zerolinecolor": "white"
           },
           "yaxis": {
            "backgroundcolor": "#E5ECF6",
            "gridcolor": "white",
            "gridwidth": 2,
            "linecolor": "white",
            "showbackground": true,
            "ticks": "",
            "zerolinecolor": "white"
           },
           "zaxis": {
            "backgroundcolor": "#E5ECF6",
            "gridcolor": "white",
            "gridwidth": 2,
            "linecolor": "white",
            "showbackground": true,
            "ticks": "",
            "zerolinecolor": "white"
           }
          },
          "shapedefaults": {
           "line": {
            "color": "#2a3f5f"
           }
          },
          "ternary": {
           "aaxis": {
            "gridcolor": "white",
            "linecolor": "white",
            "ticks": ""
           },
           "baxis": {
            "gridcolor": "white",
            "linecolor": "white",
            "ticks": ""
           },
           "bgcolor": "#E5ECF6",
           "caxis": {
            "gridcolor": "white",
            "linecolor": "white",
            "ticks": ""
           }
          },
          "title": {
           "x": 0.05
          },
          "xaxis": {
           "automargin": true,
           "gridcolor": "white",
           "linecolor": "white",
           "ticks": "",
           "title": {
            "standoff": 15
           },
           "zerolinecolor": "white",
           "zerolinewidth": 2
          },
          "yaxis": {
           "automargin": true,
           "gridcolor": "white",
           "linecolor": "white",
           "ticks": "",
           "title": {
            "standoff": 15
           },
           "zerolinecolor": "white",
           "zerolinewidth": 2
          }
         }
        }
       }
      },
      "text/html": [
       "<div>                            <div id=\"97abce52-5391-4449-ae69-10d616f5c2ed\" class=\"plotly-graph-div\" style=\"height:525px; width:100%;\"></div>            <script type=\"text/javascript\">                require([\"plotly\"], function(Plotly) {                    window.PLOTLYENV=window.PLOTLYENV || {};                                    if (document.getElementById(\"97abce52-5391-4449-ae69-10d616f5c2ed\")) {                    Plotly.newPlot(                        \"97abce52-5391-4449-ae69-10d616f5c2ed\",                        [{\"close\":[37628.3,37616.85,37543.1,37530.45,37480.1,37421.9,37453.85,37487.4,37491.4,37552.55,37562.5,37523.5,37504.3,37510.15,37470.8,37446.55,37469.7,37454.85,37490.4,37500.5,37524.75,37513.45,37535.25,37525.8,37516.35,37489.45,37487.15,37469.5,37504.8,37523.45,37524.5,37498.95,37532.65,37560.55,37580.15,37581.8,37580.75,37580.7,37587.8,37594.0,37599.6,37580.7,37579.7,37577.95,37572.35,37561.55,37565.8,37557.8,37566.1,37565.55,37535.8,37535.4,37546.25,37588.95,37593.4,37622.9,37628.15,37642.5,37630.5,37626.9,37644.45],\"high\":[37655.45,37638.2,37619.4,37547.05,37528.0,37482.75,37457.5,37487.95,37496.05,37555.4,37600.55,37564.85,37538.45,37518.45,37513.45,37472.7,37471.5,37467.0,37491.65,37511.65,37524.75,37530.15,37538.35,37540.45,37527.35,37518.15,37500.7,37491.8,37505.35,37523.45,37529.75,37527.45,37540.9,37565.8,37581.4,37607.1,37587.8,37583.0,37588.05,37598.35,37608.5,37604.0,37588.95,37581.1,37589.2,37583.9,37572.15,37570.75,37570.0,37571.65,37565.75,37540.0,37549.55,37588.95,37603.1,37625.6,37643.3,37642.5,37648.8,37635.35,37644.45],\"low\":[37594.15,37610.3,37543.1,37502.05,37476.7,37417.25,37407.5,37444.45,37467.2,37490.4,37552.3,37522.6,37497.3,37502.55,37463.1,37444.15,37439.05,37447.6,37450.4,37487.4,37493.9,37503.7,37512.35,37523.35,37505.55,37487.7,37485.85,37455.4,37468.85,37497.85,37512.5,37498.95,37496.75,37539.85,37559.0,37581.6,37570.25,37574.85,37565.0,37586.45,37590.75,37577.55,37570.2,37565.65,37564.25,37561.35,37556.05,37554.0,37557.65,37557.0,37534.55,37519.1,37530.55,37548.3,37584.9,37593.75,37626.2,37621.05,37620.05,37624.2,37626.2],\"open\":[37594.15,37630.2,37619.4,37545.55,37528.0,37482.75,37417.55,37453.9,37490.55,37490.4,37552.3,37560.55,37523.1,37504.75,37509.6,37470.45,37441.6,37460.85,37458.8,37488.75,37505.85,37525.9,37512.35,37533.55,37527.35,37518.1,37488.15,37486.45,37475.9,37501.45,37524.75,37524.5,37496.75,37540.3,37561.2,37582.05,37583.9,37581.95,37580.15,37589.7,37591.25,37602.0,37580.95,37580.05,37579.0,37573.85,37560.45,37570.75,37562.7,37567.5,37565.75,37535.45,37537.35,37550.4,37588.55,37594.6,37627.0,37628.4,37639.0,37628.6,37626.2],\"x\":[\"2022-08-01 09:15:00+05:30\",\"2022-08-01 09:16:00+05:30\",\"2022-08-01 09:17:00+05:30\",\"2022-08-01 09:18:00+05:30\",\"2022-08-01 09:19:00+05:30\",\"2022-08-01 09:20:00+05:30\",\"2022-08-01 09:21:00+05:30\",\"2022-08-01 09:22:00+05:30\",\"2022-08-01 09:23:00+05:30\",\"2022-08-01 09:24:00+05:30\",\"2022-08-01 09:25:00+05:30\",\"2022-08-01 09:26:00+05:30\",\"2022-08-01 09:27:00+05:30\",\"2022-08-01 09:28:00+05:30\",\"2022-08-01 09:29:00+05:30\",\"2022-08-01 09:30:00+05:30\",\"2022-08-01 09:31:00+05:30\",\"2022-08-01 09:32:00+05:30\",\"2022-08-01 09:33:00+05:30\",\"2022-08-01 09:34:00+05:30\",\"2022-08-01 09:35:00+05:30\",\"2022-08-01 09:36:00+05:30\",\"2022-08-01 09:37:00+05:30\",\"2022-08-01 09:38:00+05:30\",\"2022-08-01 09:39:00+05:30\",\"2022-08-01 09:40:00+05:30\",\"2022-08-01 09:41:00+05:30\",\"2022-08-01 09:42:00+05:30\",\"2022-08-01 09:43:00+05:30\",\"2022-08-01 09:44:00+05:30\",\"2022-08-01 09:45:00+05:30\",\"2022-08-01 09:46:00+05:30\",\"2022-08-01 09:47:00+05:30\",\"2022-08-01 09:48:00+05:30\",\"2022-08-01 09:49:00+05:30\",\"2022-08-01 09:50:00+05:30\",\"2022-08-01 09:51:00+05:30\",\"2022-08-01 09:52:00+05:30\",\"2022-08-01 09:53:00+05:30\",\"2022-08-01 09:54:00+05:30\",\"2022-08-01 09:55:00+05:30\",\"2022-08-01 09:56:00+05:30\",\"2022-08-01 09:57:00+05:30\",\"2022-08-01 09:58:00+05:30\",\"2022-08-01 09:59:00+05:30\",\"2022-08-01 10:00:00+05:30\",\"2022-08-01 10:01:00+05:30\",\"2022-08-01 10:02:00+05:30\",\"2022-08-01 10:03:00+05:30\",\"2022-08-01 10:04:00+05:30\",\"2022-08-01 10:05:00+05:30\",\"2022-08-01 10:06:00+05:30\",\"2022-08-01 10:07:00+05:30\",\"2022-08-01 10:08:00+05:30\",\"2022-08-01 10:09:00+05:30\",\"2022-08-01 10:10:00+05:30\",\"2022-08-01 10:11:00+05:30\",\"2022-08-01 10:12:00+05:30\",\"2022-08-01 10:13:00+05:30\",\"2022-08-01 10:14:00+05:30\",\"2022-08-01 10:15:00+05:30\"],\"type\":\"candlestick\"}],                        {\"template\":{\"data\":{\"histogram2dcontour\":[{\"type\":\"histogram2dcontour\",\"colorbar\":{\"outlinewidth\":0,\"ticks\":\"\"},\"colorscale\":[[0.0,\"#0d0887\"],[0.1111111111111111,\"#46039f\"],[0.2222222222222222,\"#7201a8\"],[0.3333333333333333,\"#9c179e\"],[0.4444444444444444,\"#bd3786\"],[0.5555555555555556,\"#d8576b\"],[0.6666666666666666,\"#ed7953\"],[0.7777777777777778,\"#fb9f3a\"],[0.8888888888888888,\"#fdca26\"],[1.0,\"#f0f921\"]]}],\"choropleth\":[{\"type\":\"choropleth\",\"colorbar\":{\"outlinewidth\":0,\"ticks\":\"\"}}],\"histogram2d\":[{\"type\":\"histogram2d\",\"colorbar\":{\"outlinewidth\":0,\"ticks\":\"\"},\"colorscale\":[[0.0,\"#0d0887\"],[0.1111111111111111,\"#46039f\"],[0.2222222222222222,\"#7201a8\"],[0.3333333333333333,\"#9c179e\"],[0.4444444444444444,\"#bd3786\"],[0.5555555555555556,\"#d8576b\"],[0.6666666666666666,\"#ed7953\"],[0.7777777777777778,\"#fb9f3a\"],[0.8888888888888888,\"#fdca26\"],[1.0,\"#f0f921\"]]}],\"heatmap\":[{\"type\":\"heatmap\",\"colorbar\":{\"outlinewidth\":0,\"ticks\":\"\"},\"colorscale\":[[0.0,\"#0d0887\"],[0.1111111111111111,\"#46039f\"],[0.2222222222222222,\"#7201a8\"],[0.3333333333333333,\"#9c179e\"],[0.4444444444444444,\"#bd3786\"],[0.5555555555555556,\"#d8576b\"],[0.6666666666666666,\"#ed7953\"],[0.7777777777777778,\"#fb9f3a\"],[0.8888888888888888,\"#fdca26\"],[1.0,\"#f0f921\"]]}],\"heatmapgl\":[{\"type\":\"heatmapgl\",\"colorbar\":{\"outlinewidth\":0,\"ticks\":\"\"},\"colorscale\":[[0.0,\"#0d0887\"],[0.1111111111111111,\"#46039f\"],[0.2222222222222222,\"#7201a8\"],[0.3333333333333333,\"#9c179e\"],[0.4444444444444444,\"#bd3786\"],[0.5555555555555556,\"#d8576b\"],[0.6666666666666666,\"#ed7953\"],[0.7777777777777778,\"#fb9f3a\"],[0.8888888888888888,\"#fdca26\"],[1.0,\"#f0f921\"]]}],\"contourcarpet\":[{\"type\":\"contourcarpet\",\"colorbar\":{\"outlinewidth\":0,\"ticks\":\"\"}}],\"contour\":[{\"type\":\"contour\",\"colorbar\":{\"outlinewidth\":0,\"ticks\":\"\"},\"colorscale\":[[0.0,\"#0d0887\"],[0.1111111111111111,\"#46039f\"],[0.2222222222222222,\"#7201a8\"],[0.3333333333333333,\"#9c179e\"],[0.4444444444444444,\"#bd3786\"],[0.5555555555555556,\"#d8576b\"],[0.6666666666666666,\"#ed7953\"],[0.7777777777777778,\"#fb9f3a\"],[0.8888888888888888,\"#fdca26\"],[1.0,\"#f0f921\"]]}],\"surface\":[{\"type\":\"surface\",\"colorbar\":{\"outlinewidth\":0,\"ticks\":\"\"},\"colorscale\":[[0.0,\"#0d0887\"],[0.1111111111111111,\"#46039f\"],[0.2222222222222222,\"#7201a8\"],[0.3333333333333333,\"#9c179e\"],[0.4444444444444444,\"#bd3786\"],[0.5555555555555556,\"#d8576b\"],[0.6666666666666666,\"#ed7953\"],[0.7777777777777778,\"#fb9f3a\"],[0.8888888888888888,\"#fdca26\"],[1.0,\"#f0f921\"]]}],\"mesh3d\":[{\"type\":\"mesh3d\",\"colorbar\":{\"outlinewidth\":0,\"ticks\":\"\"}}],\"scatter\":[{\"fillpattern\":{\"fillmode\":\"overlay\",\"size\":10,\"solidity\":0.2},\"type\":\"scatter\"}],\"parcoords\":[{\"type\":\"parcoords\",\"line\":{\"colorbar\":{\"outlinewidth\":0,\"ticks\":\"\"}}}],\"scatterpolargl\":[{\"type\":\"scatterpolargl\",\"marker\":{\"colorbar\":{\"outlinewidth\":0,\"ticks\":\"\"}}}],\"bar\":[{\"error_x\":{\"color\":\"#2a3f5f\"},\"error_y\":{\"color\":\"#2a3f5f\"},\"marker\":{\"line\":{\"color\":\"#E5ECF6\",\"width\":0.5},\"pattern\":{\"fillmode\":\"overlay\",\"size\":10,\"solidity\":0.2}},\"type\":\"bar\"}],\"scattergeo\":[{\"type\":\"scattergeo\",\"marker\":{\"colorbar\":{\"outlinewidth\":0,\"ticks\":\"\"}}}],\"scatterpolar\":[{\"type\":\"scatterpolar\",\"marker\":{\"colorbar\":{\"outlinewidth\":0,\"ticks\":\"\"}}}],\"histogram\":[{\"marker\":{\"pattern\":{\"fillmode\":\"overlay\",\"size\":10,\"solidity\":0.2}},\"type\":\"histogram\"}],\"scattergl\":[{\"type\":\"scattergl\",\"marker\":{\"colorbar\":{\"outlinewidth\":0,\"ticks\":\"\"}}}],\"scatter3d\":[{\"type\":\"scatter3d\",\"line\":{\"colorbar\":{\"outlinewidth\":0,\"ticks\":\"\"}},\"marker\":{\"colorbar\":{\"outlinewidth\":0,\"ticks\":\"\"}}}],\"scattermapbox\":[{\"type\":\"scattermapbox\",\"marker\":{\"colorbar\":{\"outlinewidth\":0,\"ticks\":\"\"}}}],\"scatterternary\":[{\"type\":\"scatterternary\",\"marker\":{\"colorbar\":{\"outlinewidth\":0,\"ticks\":\"\"}}}],\"scattercarpet\":[{\"type\":\"scattercarpet\",\"marker\":{\"colorbar\":{\"outlinewidth\":0,\"ticks\":\"\"}}}],\"carpet\":[{\"aaxis\":{\"endlinecolor\":\"#2a3f5f\",\"gridcolor\":\"white\",\"linecolor\":\"white\",\"minorgridcolor\":\"white\",\"startlinecolor\":\"#2a3f5f\"},\"baxis\":{\"endlinecolor\":\"#2a3f5f\",\"gridcolor\":\"white\",\"linecolor\":\"white\",\"minorgridcolor\":\"white\",\"startlinecolor\":\"#2a3f5f\"},\"type\":\"carpet\"}],\"table\":[{\"cells\":{\"fill\":{\"color\":\"#EBF0F8\"},\"line\":{\"color\":\"white\"}},\"header\":{\"fill\":{\"color\":\"#C8D4E3\"},\"line\":{\"color\":\"white\"}},\"type\":\"table\"}],\"barpolar\":[{\"marker\":{\"line\":{\"color\":\"#E5ECF6\",\"width\":0.5},\"pattern\":{\"fillmode\":\"overlay\",\"size\":10,\"solidity\":0.2}},\"type\":\"barpolar\"}],\"pie\":[{\"automargin\":true,\"type\":\"pie\"}]},\"layout\":{\"autotypenumbers\":\"strict\",\"colorway\":[\"#636efa\",\"#EF553B\",\"#00cc96\",\"#ab63fa\",\"#FFA15A\",\"#19d3f3\",\"#FF6692\",\"#B6E880\",\"#FF97FF\",\"#FECB52\"],\"font\":{\"color\":\"#2a3f5f\"},\"hovermode\":\"closest\",\"hoverlabel\":{\"align\":\"left\"},\"paper_bgcolor\":\"white\",\"plot_bgcolor\":\"#E5ECF6\",\"polar\":{\"bgcolor\":\"#E5ECF6\",\"angularaxis\":{\"gridcolor\":\"white\",\"linecolor\":\"white\",\"ticks\":\"\"},\"radialaxis\":{\"gridcolor\":\"white\",\"linecolor\":\"white\",\"ticks\":\"\"}},\"ternary\":{\"bgcolor\":\"#E5ECF6\",\"aaxis\":{\"gridcolor\":\"white\",\"linecolor\":\"white\",\"ticks\":\"\"},\"baxis\":{\"gridcolor\":\"white\",\"linecolor\":\"white\",\"ticks\":\"\"},\"caxis\":{\"gridcolor\":\"white\",\"linecolor\":\"white\",\"ticks\":\"\"}},\"coloraxis\":{\"colorbar\":{\"outlinewidth\":0,\"ticks\":\"\"}},\"colorscale\":{\"sequential\":[[0.0,\"#0d0887\"],[0.1111111111111111,\"#46039f\"],[0.2222222222222222,\"#7201a8\"],[0.3333333333333333,\"#9c179e\"],[0.4444444444444444,\"#bd3786\"],[0.5555555555555556,\"#d8576b\"],[0.6666666666666666,\"#ed7953\"],[0.7777777777777778,\"#fb9f3a\"],[0.8888888888888888,\"#fdca26\"],[1.0,\"#f0f921\"]],\"sequentialminus\":[[0.0,\"#0d0887\"],[0.1111111111111111,\"#46039f\"],[0.2222222222222222,\"#7201a8\"],[0.3333333333333333,\"#9c179e\"],[0.4444444444444444,\"#bd3786\"],[0.5555555555555556,\"#d8576b\"],[0.6666666666666666,\"#ed7953\"],[0.7777777777777778,\"#fb9f3a\"],[0.8888888888888888,\"#fdca26\"],[1.0,\"#f0f921\"]],\"diverging\":[[0,\"#8e0152\"],[0.1,\"#c51b7d\"],[0.2,\"#de77ae\"],[0.3,\"#f1b6da\"],[0.4,\"#fde0ef\"],[0.5,\"#f7f7f7\"],[0.6,\"#e6f5d0\"],[0.7,\"#b8e186\"],[0.8,\"#7fbc41\"],[0.9,\"#4d9221\"],[1,\"#276419\"]]},\"xaxis\":{\"gridcolor\":\"white\",\"linecolor\":\"white\",\"ticks\":\"\",\"title\":{\"standoff\":15},\"zerolinecolor\":\"white\",\"automargin\":true,\"zerolinewidth\":2},\"yaxis\":{\"gridcolor\":\"white\",\"linecolor\":\"white\",\"ticks\":\"\",\"title\":{\"standoff\":15},\"zerolinecolor\":\"white\",\"automargin\":true,\"zerolinewidth\":2},\"scene\":{\"xaxis\":{\"backgroundcolor\":\"#E5ECF6\",\"gridcolor\":\"white\",\"linecolor\":\"white\",\"showbackground\":true,\"ticks\":\"\",\"zerolinecolor\":\"white\",\"gridwidth\":2},\"yaxis\":{\"backgroundcolor\":\"#E5ECF6\",\"gridcolor\":\"white\",\"linecolor\":\"white\",\"showbackground\":true,\"ticks\":\"\",\"zerolinecolor\":\"white\",\"gridwidth\":2},\"zaxis\":{\"backgroundcolor\":\"#E5ECF6\",\"gridcolor\":\"white\",\"linecolor\":\"white\",\"showbackground\":true,\"ticks\":\"\",\"zerolinecolor\":\"white\",\"gridwidth\":2}},\"shapedefaults\":{\"line\":{\"color\":\"#2a3f5f\"}},\"annotationdefaults\":{\"arrowcolor\":\"#2a3f5f\",\"arrowhead\":0,\"arrowwidth\":1},\"geo\":{\"bgcolor\":\"white\",\"landcolor\":\"#E5ECF6\",\"subunitcolor\":\"white\",\"showland\":true,\"showlakes\":true,\"lakecolor\":\"white\"},\"title\":{\"x\":0.05},\"mapbox\":{\"style\":\"light\"}}},\"shapes\":[{\"line\":{\"color\":\"green\",\"width\":1},\"type\":\"line\",\"x0\":0,\"x1\":1,\"xref\":\"x domain\",\"y0\":0,\"y1\":0,\"yref\":\"y\"},{\"line\":{\"color\":\"red\",\"width\":1},\"type\":\"line\",\"x0\":0,\"x1\":1,\"xref\":\"x domain\",\"y0\":0,\"y1\":0,\"yref\":\"y\"},{\"line\":{\"color\":\"black\",\"width\":3},\"type\":\"line\",\"x0\":0,\"x1\":1,\"xref\":\"x domain\",\"y0\":0,\"y1\":0,\"yref\":\"y\"}]},                        {\"responsive\": true}                    ).then(function(){\n",
       "                            \n",
       "var gd = document.getElementById('97abce52-5391-4449-ae69-10d616f5c2ed');\n",
       "var x = new MutationObserver(function (mutations, observer) {{\n",
       "        var display = window.getComputedStyle(gd).display;\n",
       "        if (!display || display === 'none') {{\n",
       "            console.log([gd, 'removed!']);\n",
       "            Plotly.purge(gd);\n",
       "            observer.disconnect();\n",
       "        }}\n",
       "}});\n",
       "\n",
       "// Listen for the removal of the full notebook cells\n",
       "var notebookContainer = gd.closest('#notebook-container');\n",
       "if (notebookContainer) {{\n",
       "    x.observe(notebookContainer, {childList: true});\n",
       "}}\n",
       "\n",
       "// Listen for the clearing of the current output cell\n",
       "var outputEl = gd.closest('.output');\n",
       "if (outputEl) {{\n",
       "    x.observe(outputEl, {childList: true});\n",
       "}}\n",
       "\n",
       "                        })                };                });            </script>        </div>"
      ]
     },
     "metadata": {},
     "output_type": "display_data"
    },
    {
     "name": "stdout",
     "output_type": "stream",
     "text": [
      "res : [37655.45, 37648.8, 37608.5, 37600.55, 37540.45]\n",
      "sup : [37407.5, 37439.05, 37455.4, 37519.1, 37594.15]\n",
      "################################################################################\n",
      "################################################################################\n",
      "2022-08-01 10:21:00+05:30\n",
      "37612.55 37624.2\n",
      "rr : 10.701234567901091\n"
     ]
    },
    {
     "data": {
      "application/vnd.plotly.v1+json": {
       "config": {
        "plotlyServerURL": "https://plot.ly"
       },
       "data": [
        {
         "close": [
          37628.3,
          37616.85,
          37543.1,
          37530.45,
          37480.1,
          37421.9,
          37453.85,
          37487.4,
          37491.4,
          37552.55,
          37562.5,
          37523.5,
          37504.3,
          37510.15,
          37470.8,
          37446.55,
          37469.7,
          37454.85,
          37490.4,
          37500.5,
          37524.75,
          37513.45,
          37535.25,
          37525.8,
          37516.35,
          37489.45,
          37487.15,
          37469.5,
          37504.8,
          37523.45,
          37524.5,
          37498.95,
          37532.65,
          37560.55,
          37580.15,
          37581.8,
          37580.75,
          37580.7,
          37587.8,
          37594,
          37599.6,
          37580.7,
          37579.7,
          37577.95,
          37572.35,
          37561.55,
          37565.8,
          37557.8,
          37566.1,
          37565.55,
          37535.8,
          37535.4,
          37546.25,
          37588.95,
          37593.4,
          37622.9,
          37628.15,
          37642.5,
          37630.5,
          37626.9,
          37644.45,
          37643,
          37618
         ],
         "high": [
          37655.45,
          37638.2,
          37619.4,
          37547.05,
          37528,
          37482.75,
          37457.5,
          37487.95,
          37496.05,
          37555.4,
          37600.55,
          37564.85,
          37538.45,
          37518.45,
          37513.45,
          37472.7,
          37471.5,
          37467,
          37491.65,
          37511.65,
          37524.75,
          37530.15,
          37538.35,
          37540.45,
          37527.35,
          37518.15,
          37500.7,
          37491.8,
          37505.35,
          37523.45,
          37529.75,
          37527.45,
          37540.9,
          37565.8,
          37581.4,
          37607.1,
          37587.8,
          37583,
          37588.05,
          37598.35,
          37608.5,
          37604,
          37588.95,
          37581.1,
          37589.2,
          37583.9,
          37572.15,
          37570.75,
          37570,
          37571.65,
          37565.75,
          37540,
          37549.55,
          37588.95,
          37603.1,
          37625.6,
          37643.3,
          37642.5,
          37648.8,
          37635.35,
          37644.45,
          37661.55,
          37646.05
         ],
         "low": [
          37594.15,
          37610.3,
          37543.1,
          37502.05,
          37476.7,
          37417.25,
          37407.5,
          37444.45,
          37467.2,
          37490.4,
          37552.3,
          37522.6,
          37497.3,
          37502.55,
          37463.1,
          37444.15,
          37439.05,
          37447.6,
          37450.4,
          37487.4,
          37493.9,
          37503.7,
          37512.35,
          37523.35,
          37505.55,
          37487.7,
          37485.85,
          37455.4,
          37468.85,
          37497.85,
          37512.5,
          37498.95,
          37496.75,
          37539.85,
          37559,
          37581.6,
          37570.25,
          37574.85,
          37565,
          37586.45,
          37590.75,
          37577.55,
          37570.2,
          37565.65,
          37564.25,
          37561.35,
          37556.05,
          37554,
          37557.65,
          37557,
          37534.55,
          37519.1,
          37530.55,
          37548.3,
          37584.9,
          37593.75,
          37626.2,
          37621.05,
          37620.05,
          37624.2,
          37626.2,
          37639.85,
          37614.8
         ],
         "open": [
          37594.15,
          37630.2,
          37619.4,
          37545.55,
          37528,
          37482.75,
          37417.55,
          37453.9,
          37490.55,
          37490.4,
          37552.3,
          37560.55,
          37523.1,
          37504.75,
          37509.6,
          37470.45,
          37441.6,
          37460.85,
          37458.8,
          37488.75,
          37505.85,
          37525.9,
          37512.35,
          37533.55,
          37527.35,
          37518.1,
          37488.15,
          37486.45,
          37475.9,
          37501.45,
          37524.75,
          37524.5,
          37496.75,
          37540.3,
          37561.2,
          37582.05,
          37583.9,
          37581.95,
          37580.15,
          37589.7,
          37591.25,
          37602,
          37580.95,
          37580.05,
          37579,
          37573.85,
          37560.45,
          37570.75,
          37562.7,
          37567.5,
          37565.75,
          37535.45,
          37537.35,
          37550.4,
          37588.55,
          37594.6,
          37627,
          37628.4,
          37639,
          37628.6,
          37626.2,
          37645.25,
          37643.05
         ],
         "type": "candlestick",
         "x": [
          "2022-08-01 09:15:00+05:30",
          "2022-08-01 09:16:00+05:30",
          "2022-08-01 09:17:00+05:30",
          "2022-08-01 09:18:00+05:30",
          "2022-08-01 09:19:00+05:30",
          "2022-08-01 09:20:00+05:30",
          "2022-08-01 09:21:00+05:30",
          "2022-08-01 09:22:00+05:30",
          "2022-08-01 09:23:00+05:30",
          "2022-08-01 09:24:00+05:30",
          "2022-08-01 09:25:00+05:30",
          "2022-08-01 09:26:00+05:30",
          "2022-08-01 09:27:00+05:30",
          "2022-08-01 09:28:00+05:30",
          "2022-08-01 09:29:00+05:30",
          "2022-08-01 09:30:00+05:30",
          "2022-08-01 09:31:00+05:30",
          "2022-08-01 09:32:00+05:30",
          "2022-08-01 09:33:00+05:30",
          "2022-08-01 09:34:00+05:30",
          "2022-08-01 09:35:00+05:30",
          "2022-08-01 09:36:00+05:30",
          "2022-08-01 09:37:00+05:30",
          "2022-08-01 09:38:00+05:30",
          "2022-08-01 09:39:00+05:30",
          "2022-08-01 09:40:00+05:30",
          "2022-08-01 09:41:00+05:30",
          "2022-08-01 09:42:00+05:30",
          "2022-08-01 09:43:00+05:30",
          "2022-08-01 09:44:00+05:30",
          "2022-08-01 09:45:00+05:30",
          "2022-08-01 09:46:00+05:30",
          "2022-08-01 09:47:00+05:30",
          "2022-08-01 09:48:00+05:30",
          "2022-08-01 09:49:00+05:30",
          "2022-08-01 09:50:00+05:30",
          "2022-08-01 09:51:00+05:30",
          "2022-08-01 09:52:00+05:30",
          "2022-08-01 09:53:00+05:30",
          "2022-08-01 09:54:00+05:30",
          "2022-08-01 09:55:00+05:30",
          "2022-08-01 09:56:00+05:30",
          "2022-08-01 09:57:00+05:30",
          "2022-08-01 09:58:00+05:30",
          "2022-08-01 09:59:00+05:30",
          "2022-08-01 10:00:00+05:30",
          "2022-08-01 10:01:00+05:30",
          "2022-08-01 10:02:00+05:30",
          "2022-08-01 10:03:00+05:30",
          "2022-08-01 10:04:00+05:30",
          "2022-08-01 10:05:00+05:30",
          "2022-08-01 10:06:00+05:30",
          "2022-08-01 10:07:00+05:30",
          "2022-08-01 10:08:00+05:30",
          "2022-08-01 10:09:00+05:30",
          "2022-08-01 10:10:00+05:30",
          "2022-08-01 10:11:00+05:30",
          "2022-08-01 10:12:00+05:30",
          "2022-08-01 10:13:00+05:30",
          "2022-08-01 10:14:00+05:30",
          "2022-08-01 10:15:00+05:30",
          "2022-08-01 10:16:00+05:30",
          "2022-08-01 10:17:00+05:30"
         ]
        }
       ],
       "layout": {
        "shapes": [
         {
          "line": {
           "color": "green",
           "width": 1
          },
          "type": "line",
          "x0": 0,
          "x1": 1,
          "xref": "x domain",
          "y0": 0,
          "y1": 0,
          "yref": "y"
         },
         {
          "line": {
           "color": "red",
           "width": 1
          },
          "type": "line",
          "x0": 0,
          "x1": 1,
          "xref": "x domain",
          "y0": 0,
          "y1": 0,
          "yref": "y"
         },
         {
          "line": {
           "color": "black",
           "width": 3
          },
          "type": "line",
          "x0": 0,
          "x1": 1,
          "xref": "x domain",
          "y0": 0,
          "y1": 0,
          "yref": "y"
         }
        ],
        "template": {
         "data": {
          "bar": [
           {
            "error_x": {
             "color": "#2a3f5f"
            },
            "error_y": {
             "color": "#2a3f5f"
            },
            "marker": {
             "line": {
              "color": "#E5ECF6",
              "width": 0.5
             },
             "pattern": {
              "fillmode": "overlay",
              "size": 10,
              "solidity": 0.2
             }
            },
            "type": "bar"
           }
          ],
          "barpolar": [
           {
            "marker": {
             "line": {
              "color": "#E5ECF6",
              "width": 0.5
             },
             "pattern": {
              "fillmode": "overlay",
              "size": 10,
              "solidity": 0.2
             }
            },
            "type": "barpolar"
           }
          ],
          "carpet": [
           {
            "aaxis": {
             "endlinecolor": "#2a3f5f",
             "gridcolor": "white",
             "linecolor": "white",
             "minorgridcolor": "white",
             "startlinecolor": "#2a3f5f"
            },
            "baxis": {
             "endlinecolor": "#2a3f5f",
             "gridcolor": "white",
             "linecolor": "white",
             "minorgridcolor": "white",
             "startlinecolor": "#2a3f5f"
            },
            "type": "carpet"
           }
          ],
          "choropleth": [
           {
            "colorbar": {
             "outlinewidth": 0,
             "ticks": ""
            },
            "type": "choropleth"
           }
          ],
          "contour": [
           {
            "colorbar": {
             "outlinewidth": 0,
             "ticks": ""
            },
            "colorscale": [
             [
              0,
              "#0d0887"
             ],
             [
              0.1111111111111111,
              "#46039f"
             ],
             [
              0.2222222222222222,
              "#7201a8"
             ],
             [
              0.3333333333333333,
              "#9c179e"
             ],
             [
              0.4444444444444444,
              "#bd3786"
             ],
             [
              0.5555555555555556,
              "#d8576b"
             ],
             [
              0.6666666666666666,
              "#ed7953"
             ],
             [
              0.7777777777777778,
              "#fb9f3a"
             ],
             [
              0.8888888888888888,
              "#fdca26"
             ],
             [
              1,
              "#f0f921"
             ]
            ],
            "type": "contour"
           }
          ],
          "contourcarpet": [
           {
            "colorbar": {
             "outlinewidth": 0,
             "ticks": ""
            },
            "type": "contourcarpet"
           }
          ],
          "heatmap": [
           {
            "colorbar": {
             "outlinewidth": 0,
             "ticks": ""
            },
            "colorscale": [
             [
              0,
              "#0d0887"
             ],
             [
              0.1111111111111111,
              "#46039f"
             ],
             [
              0.2222222222222222,
              "#7201a8"
             ],
             [
              0.3333333333333333,
              "#9c179e"
             ],
             [
              0.4444444444444444,
              "#bd3786"
             ],
             [
              0.5555555555555556,
              "#d8576b"
             ],
             [
              0.6666666666666666,
              "#ed7953"
             ],
             [
              0.7777777777777778,
              "#fb9f3a"
             ],
             [
              0.8888888888888888,
              "#fdca26"
             ],
             [
              1,
              "#f0f921"
             ]
            ],
            "type": "heatmap"
           }
          ],
          "heatmapgl": [
           {
            "colorbar": {
             "outlinewidth": 0,
             "ticks": ""
            },
            "colorscale": [
             [
              0,
              "#0d0887"
             ],
             [
              0.1111111111111111,
              "#46039f"
             ],
             [
              0.2222222222222222,
              "#7201a8"
             ],
             [
              0.3333333333333333,
              "#9c179e"
             ],
             [
              0.4444444444444444,
              "#bd3786"
             ],
             [
              0.5555555555555556,
              "#d8576b"
             ],
             [
              0.6666666666666666,
              "#ed7953"
             ],
             [
              0.7777777777777778,
              "#fb9f3a"
             ],
             [
              0.8888888888888888,
              "#fdca26"
             ],
             [
              1,
              "#f0f921"
             ]
            ],
            "type": "heatmapgl"
           }
          ],
          "histogram": [
           {
            "marker": {
             "pattern": {
              "fillmode": "overlay",
              "size": 10,
              "solidity": 0.2
             }
            },
            "type": "histogram"
           }
          ],
          "histogram2d": [
           {
            "colorbar": {
             "outlinewidth": 0,
             "ticks": ""
            },
            "colorscale": [
             [
              0,
              "#0d0887"
             ],
             [
              0.1111111111111111,
              "#46039f"
             ],
             [
              0.2222222222222222,
              "#7201a8"
             ],
             [
              0.3333333333333333,
              "#9c179e"
             ],
             [
              0.4444444444444444,
              "#bd3786"
             ],
             [
              0.5555555555555556,
              "#d8576b"
             ],
             [
              0.6666666666666666,
              "#ed7953"
             ],
             [
              0.7777777777777778,
              "#fb9f3a"
             ],
             [
              0.8888888888888888,
              "#fdca26"
             ],
             [
              1,
              "#f0f921"
             ]
            ],
            "type": "histogram2d"
           }
          ],
          "histogram2dcontour": [
           {
            "colorbar": {
             "outlinewidth": 0,
             "ticks": ""
            },
            "colorscale": [
             [
              0,
              "#0d0887"
             ],
             [
              0.1111111111111111,
              "#46039f"
             ],
             [
              0.2222222222222222,
              "#7201a8"
             ],
             [
              0.3333333333333333,
              "#9c179e"
             ],
             [
              0.4444444444444444,
              "#bd3786"
             ],
             [
              0.5555555555555556,
              "#d8576b"
             ],
             [
              0.6666666666666666,
              "#ed7953"
             ],
             [
              0.7777777777777778,
              "#fb9f3a"
             ],
             [
              0.8888888888888888,
              "#fdca26"
             ],
             [
              1,
              "#f0f921"
             ]
            ],
            "type": "histogram2dcontour"
           }
          ],
          "mesh3d": [
           {
            "colorbar": {
             "outlinewidth": 0,
             "ticks": ""
            },
            "type": "mesh3d"
           }
          ],
          "parcoords": [
           {
            "line": {
             "colorbar": {
              "outlinewidth": 0,
              "ticks": ""
             }
            },
            "type": "parcoords"
           }
          ],
          "pie": [
           {
            "automargin": true,
            "type": "pie"
           }
          ],
          "scatter": [
           {
            "fillpattern": {
             "fillmode": "overlay",
             "size": 10,
             "solidity": 0.2
            },
            "type": "scatter"
           }
          ],
          "scatter3d": [
           {
            "line": {
             "colorbar": {
              "outlinewidth": 0,
              "ticks": ""
             }
            },
            "marker": {
             "colorbar": {
              "outlinewidth": 0,
              "ticks": ""
             }
            },
            "type": "scatter3d"
           }
          ],
          "scattercarpet": [
           {
            "marker": {
             "colorbar": {
              "outlinewidth": 0,
              "ticks": ""
             }
            },
            "type": "scattercarpet"
           }
          ],
          "scattergeo": [
           {
            "marker": {
             "colorbar": {
              "outlinewidth": 0,
              "ticks": ""
             }
            },
            "type": "scattergeo"
           }
          ],
          "scattergl": [
           {
            "marker": {
             "colorbar": {
              "outlinewidth": 0,
              "ticks": ""
             }
            },
            "type": "scattergl"
           }
          ],
          "scattermapbox": [
           {
            "marker": {
             "colorbar": {
              "outlinewidth": 0,
              "ticks": ""
             }
            },
            "type": "scattermapbox"
           }
          ],
          "scatterpolar": [
           {
            "marker": {
             "colorbar": {
              "outlinewidth": 0,
              "ticks": ""
             }
            },
            "type": "scatterpolar"
           }
          ],
          "scatterpolargl": [
           {
            "marker": {
             "colorbar": {
              "outlinewidth": 0,
              "ticks": ""
             }
            },
            "type": "scatterpolargl"
           }
          ],
          "scatterternary": [
           {
            "marker": {
             "colorbar": {
              "outlinewidth": 0,
              "ticks": ""
             }
            },
            "type": "scatterternary"
           }
          ],
          "surface": [
           {
            "colorbar": {
             "outlinewidth": 0,
             "ticks": ""
            },
            "colorscale": [
             [
              0,
              "#0d0887"
             ],
             [
              0.1111111111111111,
              "#46039f"
             ],
             [
              0.2222222222222222,
              "#7201a8"
             ],
             [
              0.3333333333333333,
              "#9c179e"
             ],
             [
              0.4444444444444444,
              "#bd3786"
             ],
             [
              0.5555555555555556,
              "#d8576b"
             ],
             [
              0.6666666666666666,
              "#ed7953"
             ],
             [
              0.7777777777777778,
              "#fb9f3a"
             ],
             [
              0.8888888888888888,
              "#fdca26"
             ],
             [
              1,
              "#f0f921"
             ]
            ],
            "type": "surface"
           }
          ],
          "table": [
           {
            "cells": {
             "fill": {
              "color": "#EBF0F8"
             },
             "line": {
              "color": "white"
             }
            },
            "header": {
             "fill": {
              "color": "#C8D4E3"
             },
             "line": {
              "color": "white"
             }
            },
            "type": "table"
           }
          ]
         },
         "layout": {
          "annotationdefaults": {
           "arrowcolor": "#2a3f5f",
           "arrowhead": 0,
           "arrowwidth": 1
          },
          "autotypenumbers": "strict",
          "coloraxis": {
           "colorbar": {
            "outlinewidth": 0,
            "ticks": ""
           }
          },
          "colorscale": {
           "diverging": [
            [
             0,
             "#8e0152"
            ],
            [
             0.1,
             "#c51b7d"
            ],
            [
             0.2,
             "#de77ae"
            ],
            [
             0.3,
             "#f1b6da"
            ],
            [
             0.4,
             "#fde0ef"
            ],
            [
             0.5,
             "#f7f7f7"
            ],
            [
             0.6,
             "#e6f5d0"
            ],
            [
             0.7,
             "#b8e186"
            ],
            [
             0.8,
             "#7fbc41"
            ],
            [
             0.9,
             "#4d9221"
            ],
            [
             1,
             "#276419"
            ]
           ],
           "sequential": [
            [
             0,
             "#0d0887"
            ],
            [
             0.1111111111111111,
             "#46039f"
            ],
            [
             0.2222222222222222,
             "#7201a8"
            ],
            [
             0.3333333333333333,
             "#9c179e"
            ],
            [
             0.4444444444444444,
             "#bd3786"
            ],
            [
             0.5555555555555556,
             "#d8576b"
            ],
            [
             0.6666666666666666,
             "#ed7953"
            ],
            [
             0.7777777777777778,
             "#fb9f3a"
            ],
            [
             0.8888888888888888,
             "#fdca26"
            ],
            [
             1,
             "#f0f921"
            ]
           ],
           "sequentialminus": [
            [
             0,
             "#0d0887"
            ],
            [
             0.1111111111111111,
             "#46039f"
            ],
            [
             0.2222222222222222,
             "#7201a8"
            ],
            [
             0.3333333333333333,
             "#9c179e"
            ],
            [
             0.4444444444444444,
             "#bd3786"
            ],
            [
             0.5555555555555556,
             "#d8576b"
            ],
            [
             0.6666666666666666,
             "#ed7953"
            ],
            [
             0.7777777777777778,
             "#fb9f3a"
            ],
            [
             0.8888888888888888,
             "#fdca26"
            ],
            [
             1,
             "#f0f921"
            ]
           ]
          },
          "colorway": [
           "#636efa",
           "#EF553B",
           "#00cc96",
           "#ab63fa",
           "#FFA15A",
           "#19d3f3",
           "#FF6692",
           "#B6E880",
           "#FF97FF",
           "#FECB52"
          ],
          "font": {
           "color": "#2a3f5f"
          },
          "geo": {
           "bgcolor": "white",
           "lakecolor": "white",
           "landcolor": "#E5ECF6",
           "showlakes": true,
           "showland": true,
           "subunitcolor": "white"
          },
          "hoverlabel": {
           "align": "left"
          },
          "hovermode": "closest",
          "mapbox": {
           "style": "light"
          },
          "paper_bgcolor": "white",
          "plot_bgcolor": "#E5ECF6",
          "polar": {
           "angularaxis": {
            "gridcolor": "white",
            "linecolor": "white",
            "ticks": ""
           },
           "bgcolor": "#E5ECF6",
           "radialaxis": {
            "gridcolor": "white",
            "linecolor": "white",
            "ticks": ""
           }
          },
          "scene": {
           "xaxis": {
            "backgroundcolor": "#E5ECF6",
            "gridcolor": "white",
            "gridwidth": 2,
            "linecolor": "white",
            "showbackground": true,
            "ticks": "",
            "zerolinecolor": "white"
           },
           "yaxis": {
            "backgroundcolor": "#E5ECF6",
            "gridcolor": "white",
            "gridwidth": 2,
            "linecolor": "white",
            "showbackground": true,
            "ticks": "",
            "zerolinecolor": "white"
           },
           "zaxis": {
            "backgroundcolor": "#E5ECF6",
            "gridcolor": "white",
            "gridwidth": 2,
            "linecolor": "white",
            "showbackground": true,
            "ticks": "",
            "zerolinecolor": "white"
           }
          },
          "shapedefaults": {
           "line": {
            "color": "#2a3f5f"
           }
          },
          "ternary": {
           "aaxis": {
            "gridcolor": "white",
            "linecolor": "white",
            "ticks": ""
           },
           "baxis": {
            "gridcolor": "white",
            "linecolor": "white",
            "ticks": ""
           },
           "bgcolor": "#E5ECF6",
           "caxis": {
            "gridcolor": "white",
            "linecolor": "white",
            "ticks": ""
           }
          },
          "title": {
           "x": 0.05
          },
          "xaxis": {
           "automargin": true,
           "gridcolor": "white",
           "linecolor": "white",
           "ticks": "",
           "title": {
            "standoff": 15
           },
           "zerolinecolor": "white",
           "zerolinewidth": 2
          },
          "yaxis": {
           "automargin": true,
           "gridcolor": "white",
           "linecolor": "white",
           "ticks": "",
           "title": {
            "standoff": 15
           },
           "zerolinecolor": "white",
           "zerolinewidth": 2
          }
         }
        }
       }
      },
      "text/html": [
       "<div>                            <div id=\"288b0599-91fb-4445-8180-3cd8543cc6a5\" class=\"plotly-graph-div\" style=\"height:525px; width:100%;\"></div>            <script type=\"text/javascript\">                require([\"plotly\"], function(Plotly) {                    window.PLOTLYENV=window.PLOTLYENV || {};                                    if (document.getElementById(\"288b0599-91fb-4445-8180-3cd8543cc6a5\")) {                    Plotly.newPlot(                        \"288b0599-91fb-4445-8180-3cd8543cc6a5\",                        [{\"close\":[37628.3,37616.85,37543.1,37530.45,37480.1,37421.9,37453.85,37487.4,37491.4,37552.55,37562.5,37523.5,37504.3,37510.15,37470.8,37446.55,37469.7,37454.85,37490.4,37500.5,37524.75,37513.45,37535.25,37525.8,37516.35,37489.45,37487.15,37469.5,37504.8,37523.45,37524.5,37498.95,37532.65,37560.55,37580.15,37581.8,37580.75,37580.7,37587.8,37594.0,37599.6,37580.7,37579.7,37577.95,37572.35,37561.55,37565.8,37557.8,37566.1,37565.55,37535.8,37535.4,37546.25,37588.95,37593.4,37622.9,37628.15,37642.5,37630.5,37626.9,37644.45,37643.0,37618.0],\"high\":[37655.45,37638.2,37619.4,37547.05,37528.0,37482.75,37457.5,37487.95,37496.05,37555.4,37600.55,37564.85,37538.45,37518.45,37513.45,37472.7,37471.5,37467.0,37491.65,37511.65,37524.75,37530.15,37538.35,37540.45,37527.35,37518.15,37500.7,37491.8,37505.35,37523.45,37529.75,37527.45,37540.9,37565.8,37581.4,37607.1,37587.8,37583.0,37588.05,37598.35,37608.5,37604.0,37588.95,37581.1,37589.2,37583.9,37572.15,37570.75,37570.0,37571.65,37565.75,37540.0,37549.55,37588.95,37603.1,37625.6,37643.3,37642.5,37648.8,37635.35,37644.45,37661.55,37646.05],\"low\":[37594.15,37610.3,37543.1,37502.05,37476.7,37417.25,37407.5,37444.45,37467.2,37490.4,37552.3,37522.6,37497.3,37502.55,37463.1,37444.15,37439.05,37447.6,37450.4,37487.4,37493.9,37503.7,37512.35,37523.35,37505.55,37487.7,37485.85,37455.4,37468.85,37497.85,37512.5,37498.95,37496.75,37539.85,37559.0,37581.6,37570.25,37574.85,37565.0,37586.45,37590.75,37577.55,37570.2,37565.65,37564.25,37561.35,37556.05,37554.0,37557.65,37557.0,37534.55,37519.1,37530.55,37548.3,37584.9,37593.75,37626.2,37621.05,37620.05,37624.2,37626.2,37639.85,37614.8],\"open\":[37594.15,37630.2,37619.4,37545.55,37528.0,37482.75,37417.55,37453.9,37490.55,37490.4,37552.3,37560.55,37523.1,37504.75,37509.6,37470.45,37441.6,37460.85,37458.8,37488.75,37505.85,37525.9,37512.35,37533.55,37527.35,37518.1,37488.15,37486.45,37475.9,37501.45,37524.75,37524.5,37496.75,37540.3,37561.2,37582.05,37583.9,37581.95,37580.15,37589.7,37591.25,37602.0,37580.95,37580.05,37579.0,37573.85,37560.45,37570.75,37562.7,37567.5,37565.75,37535.45,37537.35,37550.4,37588.55,37594.6,37627.0,37628.4,37639.0,37628.6,37626.2,37645.25,37643.05],\"x\":[\"2022-08-01 09:15:00+05:30\",\"2022-08-01 09:16:00+05:30\",\"2022-08-01 09:17:00+05:30\",\"2022-08-01 09:18:00+05:30\",\"2022-08-01 09:19:00+05:30\",\"2022-08-01 09:20:00+05:30\",\"2022-08-01 09:21:00+05:30\",\"2022-08-01 09:22:00+05:30\",\"2022-08-01 09:23:00+05:30\",\"2022-08-01 09:24:00+05:30\",\"2022-08-01 09:25:00+05:30\",\"2022-08-01 09:26:00+05:30\",\"2022-08-01 09:27:00+05:30\",\"2022-08-01 09:28:00+05:30\",\"2022-08-01 09:29:00+05:30\",\"2022-08-01 09:30:00+05:30\",\"2022-08-01 09:31:00+05:30\",\"2022-08-01 09:32:00+05:30\",\"2022-08-01 09:33:00+05:30\",\"2022-08-01 09:34:00+05:30\",\"2022-08-01 09:35:00+05:30\",\"2022-08-01 09:36:00+05:30\",\"2022-08-01 09:37:00+05:30\",\"2022-08-01 09:38:00+05:30\",\"2022-08-01 09:39:00+05:30\",\"2022-08-01 09:40:00+05:30\",\"2022-08-01 09:41:00+05:30\",\"2022-08-01 09:42:00+05:30\",\"2022-08-01 09:43:00+05:30\",\"2022-08-01 09:44:00+05:30\",\"2022-08-01 09:45:00+05:30\",\"2022-08-01 09:46:00+05:30\",\"2022-08-01 09:47:00+05:30\",\"2022-08-01 09:48:00+05:30\",\"2022-08-01 09:49:00+05:30\",\"2022-08-01 09:50:00+05:30\",\"2022-08-01 09:51:00+05:30\",\"2022-08-01 09:52:00+05:30\",\"2022-08-01 09:53:00+05:30\",\"2022-08-01 09:54:00+05:30\",\"2022-08-01 09:55:00+05:30\",\"2022-08-01 09:56:00+05:30\",\"2022-08-01 09:57:00+05:30\",\"2022-08-01 09:58:00+05:30\",\"2022-08-01 09:59:00+05:30\",\"2022-08-01 10:00:00+05:30\",\"2022-08-01 10:01:00+05:30\",\"2022-08-01 10:02:00+05:30\",\"2022-08-01 10:03:00+05:30\",\"2022-08-01 10:04:00+05:30\",\"2022-08-01 10:05:00+05:30\",\"2022-08-01 10:06:00+05:30\",\"2022-08-01 10:07:00+05:30\",\"2022-08-01 10:08:00+05:30\",\"2022-08-01 10:09:00+05:30\",\"2022-08-01 10:10:00+05:30\",\"2022-08-01 10:11:00+05:30\",\"2022-08-01 10:12:00+05:30\",\"2022-08-01 10:13:00+05:30\",\"2022-08-01 10:14:00+05:30\",\"2022-08-01 10:15:00+05:30\",\"2022-08-01 10:16:00+05:30\",\"2022-08-01 10:17:00+05:30\"],\"type\":\"candlestick\"}],                        {\"template\":{\"data\":{\"histogram2dcontour\":[{\"type\":\"histogram2dcontour\",\"colorbar\":{\"outlinewidth\":0,\"ticks\":\"\"},\"colorscale\":[[0.0,\"#0d0887\"],[0.1111111111111111,\"#46039f\"],[0.2222222222222222,\"#7201a8\"],[0.3333333333333333,\"#9c179e\"],[0.4444444444444444,\"#bd3786\"],[0.5555555555555556,\"#d8576b\"],[0.6666666666666666,\"#ed7953\"],[0.7777777777777778,\"#fb9f3a\"],[0.8888888888888888,\"#fdca26\"],[1.0,\"#f0f921\"]]}],\"choropleth\":[{\"type\":\"choropleth\",\"colorbar\":{\"outlinewidth\":0,\"ticks\":\"\"}}],\"histogram2d\":[{\"type\":\"histogram2d\",\"colorbar\":{\"outlinewidth\":0,\"ticks\":\"\"},\"colorscale\":[[0.0,\"#0d0887\"],[0.1111111111111111,\"#46039f\"],[0.2222222222222222,\"#7201a8\"],[0.3333333333333333,\"#9c179e\"],[0.4444444444444444,\"#bd3786\"],[0.5555555555555556,\"#d8576b\"],[0.6666666666666666,\"#ed7953\"],[0.7777777777777778,\"#fb9f3a\"],[0.8888888888888888,\"#fdca26\"],[1.0,\"#f0f921\"]]}],\"heatmap\":[{\"type\":\"heatmap\",\"colorbar\":{\"outlinewidth\":0,\"ticks\":\"\"},\"colorscale\":[[0.0,\"#0d0887\"],[0.1111111111111111,\"#46039f\"],[0.2222222222222222,\"#7201a8\"],[0.3333333333333333,\"#9c179e\"],[0.4444444444444444,\"#bd3786\"],[0.5555555555555556,\"#d8576b\"],[0.6666666666666666,\"#ed7953\"],[0.7777777777777778,\"#fb9f3a\"],[0.8888888888888888,\"#fdca26\"],[1.0,\"#f0f921\"]]}],\"heatmapgl\":[{\"type\":\"heatmapgl\",\"colorbar\":{\"outlinewidth\":0,\"ticks\":\"\"},\"colorscale\":[[0.0,\"#0d0887\"],[0.1111111111111111,\"#46039f\"],[0.2222222222222222,\"#7201a8\"],[0.3333333333333333,\"#9c179e\"],[0.4444444444444444,\"#bd3786\"],[0.5555555555555556,\"#d8576b\"],[0.6666666666666666,\"#ed7953\"],[0.7777777777777778,\"#fb9f3a\"],[0.8888888888888888,\"#fdca26\"],[1.0,\"#f0f921\"]]}],\"contourcarpet\":[{\"type\":\"contourcarpet\",\"colorbar\":{\"outlinewidth\":0,\"ticks\":\"\"}}],\"contour\":[{\"type\":\"contour\",\"colorbar\":{\"outlinewidth\":0,\"ticks\":\"\"},\"colorscale\":[[0.0,\"#0d0887\"],[0.1111111111111111,\"#46039f\"],[0.2222222222222222,\"#7201a8\"],[0.3333333333333333,\"#9c179e\"],[0.4444444444444444,\"#bd3786\"],[0.5555555555555556,\"#d8576b\"],[0.6666666666666666,\"#ed7953\"],[0.7777777777777778,\"#fb9f3a\"],[0.8888888888888888,\"#fdca26\"],[1.0,\"#f0f921\"]]}],\"surface\":[{\"type\":\"surface\",\"colorbar\":{\"outlinewidth\":0,\"ticks\":\"\"},\"colorscale\":[[0.0,\"#0d0887\"],[0.1111111111111111,\"#46039f\"],[0.2222222222222222,\"#7201a8\"],[0.3333333333333333,\"#9c179e\"],[0.4444444444444444,\"#bd3786\"],[0.5555555555555556,\"#d8576b\"],[0.6666666666666666,\"#ed7953\"],[0.7777777777777778,\"#fb9f3a\"],[0.8888888888888888,\"#fdca26\"],[1.0,\"#f0f921\"]]}],\"mesh3d\":[{\"type\":\"mesh3d\",\"colorbar\":{\"outlinewidth\":0,\"ticks\":\"\"}}],\"scatter\":[{\"fillpattern\":{\"fillmode\":\"overlay\",\"size\":10,\"solidity\":0.2},\"type\":\"scatter\"}],\"parcoords\":[{\"type\":\"parcoords\",\"line\":{\"colorbar\":{\"outlinewidth\":0,\"ticks\":\"\"}}}],\"scatterpolargl\":[{\"type\":\"scatterpolargl\",\"marker\":{\"colorbar\":{\"outlinewidth\":0,\"ticks\":\"\"}}}],\"bar\":[{\"error_x\":{\"color\":\"#2a3f5f\"},\"error_y\":{\"color\":\"#2a3f5f\"},\"marker\":{\"line\":{\"color\":\"#E5ECF6\",\"width\":0.5},\"pattern\":{\"fillmode\":\"overlay\",\"size\":10,\"solidity\":0.2}},\"type\":\"bar\"}],\"scattergeo\":[{\"type\":\"scattergeo\",\"marker\":{\"colorbar\":{\"outlinewidth\":0,\"ticks\":\"\"}}}],\"scatterpolar\":[{\"type\":\"scatterpolar\",\"marker\":{\"colorbar\":{\"outlinewidth\":0,\"ticks\":\"\"}}}],\"histogram\":[{\"marker\":{\"pattern\":{\"fillmode\":\"overlay\",\"size\":10,\"solidity\":0.2}},\"type\":\"histogram\"}],\"scattergl\":[{\"type\":\"scattergl\",\"marker\":{\"colorbar\":{\"outlinewidth\":0,\"ticks\":\"\"}}}],\"scatter3d\":[{\"type\":\"scatter3d\",\"line\":{\"colorbar\":{\"outlinewidth\":0,\"ticks\":\"\"}},\"marker\":{\"colorbar\":{\"outlinewidth\":0,\"ticks\":\"\"}}}],\"scattermapbox\":[{\"type\":\"scattermapbox\",\"marker\":{\"colorbar\":{\"outlinewidth\":0,\"ticks\":\"\"}}}],\"scatterternary\":[{\"type\":\"scatterternary\",\"marker\":{\"colorbar\":{\"outlinewidth\":0,\"ticks\":\"\"}}}],\"scattercarpet\":[{\"type\":\"scattercarpet\",\"marker\":{\"colorbar\":{\"outlinewidth\":0,\"ticks\":\"\"}}}],\"carpet\":[{\"aaxis\":{\"endlinecolor\":\"#2a3f5f\",\"gridcolor\":\"white\",\"linecolor\":\"white\",\"minorgridcolor\":\"white\",\"startlinecolor\":\"#2a3f5f\"},\"baxis\":{\"endlinecolor\":\"#2a3f5f\",\"gridcolor\":\"white\",\"linecolor\":\"white\",\"minorgridcolor\":\"white\",\"startlinecolor\":\"#2a3f5f\"},\"type\":\"carpet\"}],\"table\":[{\"cells\":{\"fill\":{\"color\":\"#EBF0F8\"},\"line\":{\"color\":\"white\"}},\"header\":{\"fill\":{\"color\":\"#C8D4E3\"},\"line\":{\"color\":\"white\"}},\"type\":\"table\"}],\"barpolar\":[{\"marker\":{\"line\":{\"color\":\"#E5ECF6\",\"width\":0.5},\"pattern\":{\"fillmode\":\"overlay\",\"size\":10,\"solidity\":0.2}},\"type\":\"barpolar\"}],\"pie\":[{\"automargin\":true,\"type\":\"pie\"}]},\"layout\":{\"autotypenumbers\":\"strict\",\"colorway\":[\"#636efa\",\"#EF553B\",\"#00cc96\",\"#ab63fa\",\"#FFA15A\",\"#19d3f3\",\"#FF6692\",\"#B6E880\",\"#FF97FF\",\"#FECB52\"],\"font\":{\"color\":\"#2a3f5f\"},\"hovermode\":\"closest\",\"hoverlabel\":{\"align\":\"left\"},\"paper_bgcolor\":\"white\",\"plot_bgcolor\":\"#E5ECF6\",\"polar\":{\"bgcolor\":\"#E5ECF6\",\"angularaxis\":{\"gridcolor\":\"white\",\"linecolor\":\"white\",\"ticks\":\"\"},\"radialaxis\":{\"gridcolor\":\"white\",\"linecolor\":\"white\",\"ticks\":\"\"}},\"ternary\":{\"bgcolor\":\"#E5ECF6\",\"aaxis\":{\"gridcolor\":\"white\",\"linecolor\":\"white\",\"ticks\":\"\"},\"baxis\":{\"gridcolor\":\"white\",\"linecolor\":\"white\",\"ticks\":\"\"},\"caxis\":{\"gridcolor\":\"white\",\"linecolor\":\"white\",\"ticks\":\"\"}},\"coloraxis\":{\"colorbar\":{\"outlinewidth\":0,\"ticks\":\"\"}},\"colorscale\":{\"sequential\":[[0.0,\"#0d0887\"],[0.1111111111111111,\"#46039f\"],[0.2222222222222222,\"#7201a8\"],[0.3333333333333333,\"#9c179e\"],[0.4444444444444444,\"#bd3786\"],[0.5555555555555556,\"#d8576b\"],[0.6666666666666666,\"#ed7953\"],[0.7777777777777778,\"#fb9f3a\"],[0.8888888888888888,\"#fdca26\"],[1.0,\"#f0f921\"]],\"sequentialminus\":[[0.0,\"#0d0887\"],[0.1111111111111111,\"#46039f\"],[0.2222222222222222,\"#7201a8\"],[0.3333333333333333,\"#9c179e\"],[0.4444444444444444,\"#bd3786\"],[0.5555555555555556,\"#d8576b\"],[0.6666666666666666,\"#ed7953\"],[0.7777777777777778,\"#fb9f3a\"],[0.8888888888888888,\"#fdca26\"],[1.0,\"#f0f921\"]],\"diverging\":[[0,\"#8e0152\"],[0.1,\"#c51b7d\"],[0.2,\"#de77ae\"],[0.3,\"#f1b6da\"],[0.4,\"#fde0ef\"],[0.5,\"#f7f7f7\"],[0.6,\"#e6f5d0\"],[0.7,\"#b8e186\"],[0.8,\"#7fbc41\"],[0.9,\"#4d9221\"],[1,\"#276419\"]]},\"xaxis\":{\"gridcolor\":\"white\",\"linecolor\":\"white\",\"ticks\":\"\",\"title\":{\"standoff\":15},\"zerolinecolor\":\"white\",\"automargin\":true,\"zerolinewidth\":2},\"yaxis\":{\"gridcolor\":\"white\",\"linecolor\":\"white\",\"ticks\":\"\",\"title\":{\"standoff\":15},\"zerolinecolor\":\"white\",\"automargin\":true,\"zerolinewidth\":2},\"scene\":{\"xaxis\":{\"backgroundcolor\":\"#E5ECF6\",\"gridcolor\":\"white\",\"linecolor\":\"white\",\"showbackground\":true,\"ticks\":\"\",\"zerolinecolor\":\"white\",\"gridwidth\":2},\"yaxis\":{\"backgroundcolor\":\"#E5ECF6\",\"gridcolor\":\"white\",\"linecolor\":\"white\",\"showbackground\":true,\"ticks\":\"\",\"zerolinecolor\":\"white\",\"gridwidth\":2},\"zaxis\":{\"backgroundcolor\":\"#E5ECF6\",\"gridcolor\":\"white\",\"linecolor\":\"white\",\"showbackground\":true,\"ticks\":\"\",\"zerolinecolor\":\"white\",\"gridwidth\":2}},\"shapedefaults\":{\"line\":{\"color\":\"#2a3f5f\"}},\"annotationdefaults\":{\"arrowcolor\":\"#2a3f5f\",\"arrowhead\":0,\"arrowwidth\":1},\"geo\":{\"bgcolor\":\"white\",\"landcolor\":\"#E5ECF6\",\"subunitcolor\":\"white\",\"showland\":true,\"showlakes\":true,\"lakecolor\":\"white\"},\"title\":{\"x\":0.05},\"mapbox\":{\"style\":\"light\"}}},\"shapes\":[{\"line\":{\"color\":\"green\",\"width\":1},\"type\":\"line\",\"x0\":0,\"x1\":1,\"xref\":\"x domain\",\"y0\":0,\"y1\":0,\"yref\":\"y\"},{\"line\":{\"color\":\"red\",\"width\":1},\"type\":\"line\",\"x0\":0,\"x1\":1,\"xref\":\"x domain\",\"y0\":0,\"y1\":0,\"yref\":\"y\"},{\"line\":{\"color\":\"black\",\"width\":3},\"type\":\"line\",\"x0\":0,\"x1\":1,\"xref\":\"x domain\",\"y0\":0,\"y1\":0,\"yref\":\"y\"}]},                        {\"responsive\": true}                    ).then(function(){\n",
       "                            \n",
       "var gd = document.getElementById('288b0599-91fb-4445-8180-3cd8543cc6a5');\n",
       "var x = new MutationObserver(function (mutations, observer) {{\n",
       "        var display = window.getComputedStyle(gd).display;\n",
       "        if (!display || display === 'none') {{\n",
       "            console.log([gd, 'removed!']);\n",
       "            Plotly.purge(gd);\n",
       "            observer.disconnect();\n",
       "        }}\n",
       "}});\n",
       "\n",
       "// Listen for the removal of the full notebook cells\n",
       "var notebookContainer = gd.closest('#notebook-container');\n",
       "if (notebookContainer) {{\n",
       "    x.observe(notebookContainer, {childList: true});\n",
       "}}\n",
       "\n",
       "// Listen for the clearing of the current output cell\n",
       "var outputEl = gd.closest('.output');\n",
       "if (outputEl) {{\n",
       "    x.observe(outputEl, {childList: true});\n",
       "}}\n",
       "\n",
       "                        })                };                });            </script>        </div>"
      ]
     },
     "metadata": {},
     "output_type": "display_data"
    },
    {
     "name": "stdout",
     "output_type": "stream",
     "text": [
      "res : [37655.45, 37648.8, 37608.5, 37600.55, 37540.45]\n",
      "sup : [37407.5, 37439.05, 37455.4, 37519.1, 37594.15]\n",
      "################################################################################\n",
      "################################################################################\n",
      "2022-08-01 10:28:00+05:30\n",
      "37603.8 37614.8\n",
      "rr : 4.434224598930544\n"
     ]
    },
    {
     "data": {
      "application/vnd.plotly.v1+json": {
       "config": {
        "plotlyServerURL": "https://plot.ly"
       },
       "data": [
        {
         "close": [
          37628.3,
          37616.85,
          37543.1,
          37530.45,
          37480.1,
          37421.9,
          37453.85,
          37487.4,
          37491.4,
          37552.55,
          37562.5,
          37523.5,
          37504.3,
          37510.15,
          37470.8,
          37446.55,
          37469.7,
          37454.85,
          37490.4,
          37500.5,
          37524.75,
          37513.45,
          37535.25,
          37525.8,
          37516.35,
          37489.45,
          37487.15,
          37469.5,
          37504.8,
          37523.45,
          37524.5,
          37498.95,
          37532.65,
          37560.55,
          37580.15,
          37581.8,
          37580.75,
          37580.7,
          37587.8,
          37594,
          37599.6,
          37580.7,
          37579.7,
          37577.95,
          37572.35,
          37561.55,
          37565.8,
          37557.8,
          37566.1,
          37565.55,
          37535.8,
          37535.4,
          37546.25,
          37588.95,
          37593.4,
          37622.9,
          37628.15,
          37642.5,
          37630.5,
          37626.9,
          37644.45,
          37643,
          37618,
          37628.55,
          37628.95,
          37618.8,
          37623.15,
          37640.45,
          37648.25
         ],
         "high": [
          37655.45,
          37638.2,
          37619.4,
          37547.05,
          37528,
          37482.75,
          37457.5,
          37487.95,
          37496.05,
          37555.4,
          37600.55,
          37564.85,
          37538.45,
          37518.45,
          37513.45,
          37472.7,
          37471.5,
          37467,
          37491.65,
          37511.65,
          37524.75,
          37530.15,
          37538.35,
          37540.45,
          37527.35,
          37518.15,
          37500.7,
          37491.8,
          37505.35,
          37523.45,
          37529.75,
          37527.45,
          37540.9,
          37565.8,
          37581.4,
          37607.1,
          37587.8,
          37583,
          37588.05,
          37598.35,
          37608.5,
          37604,
          37588.95,
          37581.1,
          37589.2,
          37583.9,
          37572.15,
          37570.75,
          37570,
          37571.65,
          37565.75,
          37540,
          37549.55,
          37588.95,
          37603.1,
          37625.6,
          37643.3,
          37642.5,
          37648.8,
          37635.35,
          37644.45,
          37661.55,
          37646.05,
          37635.15,
          37643.6,
          37637.85,
          37629.2,
          37640.45,
          37648.25
         ],
         "low": [
          37594.15,
          37610.3,
          37543.1,
          37502.05,
          37476.7,
          37417.25,
          37407.5,
          37444.45,
          37467.2,
          37490.4,
          37552.3,
          37522.6,
          37497.3,
          37502.55,
          37463.1,
          37444.15,
          37439.05,
          37447.6,
          37450.4,
          37487.4,
          37493.9,
          37503.7,
          37512.35,
          37523.35,
          37505.55,
          37487.7,
          37485.85,
          37455.4,
          37468.85,
          37497.85,
          37512.5,
          37498.95,
          37496.75,
          37539.85,
          37559,
          37581.6,
          37570.25,
          37574.85,
          37565,
          37586.45,
          37590.75,
          37577.55,
          37570.2,
          37565.65,
          37564.25,
          37561.35,
          37556.05,
          37554,
          37557.65,
          37557,
          37534.55,
          37519.1,
          37530.55,
          37548.3,
          37584.9,
          37593.75,
          37626.2,
          37621.05,
          37620.05,
          37624.2,
          37626.2,
          37639.85,
          37614.8,
          37607.35,
          37625.25,
          37616.7,
          37612.55,
          37622.6,
          37635.45
         ],
         "open": [
          37594.15,
          37630.2,
          37619.4,
          37545.55,
          37528,
          37482.75,
          37417.55,
          37453.9,
          37490.55,
          37490.4,
          37552.3,
          37560.55,
          37523.1,
          37504.75,
          37509.6,
          37470.45,
          37441.6,
          37460.85,
          37458.8,
          37488.75,
          37505.85,
          37525.9,
          37512.35,
          37533.55,
          37527.35,
          37518.1,
          37488.15,
          37486.45,
          37475.9,
          37501.45,
          37524.75,
          37524.5,
          37496.75,
          37540.3,
          37561.2,
          37582.05,
          37583.9,
          37581.95,
          37580.15,
          37589.7,
          37591.25,
          37602,
          37580.95,
          37580.05,
          37579,
          37573.85,
          37560.45,
          37570.75,
          37562.7,
          37567.5,
          37565.75,
          37535.45,
          37537.35,
          37550.4,
          37588.55,
          37594.6,
          37627,
          37628.4,
          37639,
          37628.6,
          37626.2,
          37645.25,
          37643.05,
          37615.75,
          37630.05,
          37629.65,
          37618.05,
          37623.15,
          37643.3
         ],
         "type": "candlestick",
         "x": [
          "2022-08-01 09:15:00+05:30",
          "2022-08-01 09:16:00+05:30",
          "2022-08-01 09:17:00+05:30",
          "2022-08-01 09:18:00+05:30",
          "2022-08-01 09:19:00+05:30",
          "2022-08-01 09:20:00+05:30",
          "2022-08-01 09:21:00+05:30",
          "2022-08-01 09:22:00+05:30",
          "2022-08-01 09:23:00+05:30",
          "2022-08-01 09:24:00+05:30",
          "2022-08-01 09:25:00+05:30",
          "2022-08-01 09:26:00+05:30",
          "2022-08-01 09:27:00+05:30",
          "2022-08-01 09:28:00+05:30",
          "2022-08-01 09:29:00+05:30",
          "2022-08-01 09:30:00+05:30",
          "2022-08-01 09:31:00+05:30",
          "2022-08-01 09:32:00+05:30",
          "2022-08-01 09:33:00+05:30",
          "2022-08-01 09:34:00+05:30",
          "2022-08-01 09:35:00+05:30",
          "2022-08-01 09:36:00+05:30",
          "2022-08-01 09:37:00+05:30",
          "2022-08-01 09:38:00+05:30",
          "2022-08-01 09:39:00+05:30",
          "2022-08-01 09:40:00+05:30",
          "2022-08-01 09:41:00+05:30",
          "2022-08-01 09:42:00+05:30",
          "2022-08-01 09:43:00+05:30",
          "2022-08-01 09:44:00+05:30",
          "2022-08-01 09:45:00+05:30",
          "2022-08-01 09:46:00+05:30",
          "2022-08-01 09:47:00+05:30",
          "2022-08-01 09:48:00+05:30",
          "2022-08-01 09:49:00+05:30",
          "2022-08-01 09:50:00+05:30",
          "2022-08-01 09:51:00+05:30",
          "2022-08-01 09:52:00+05:30",
          "2022-08-01 09:53:00+05:30",
          "2022-08-01 09:54:00+05:30",
          "2022-08-01 09:55:00+05:30",
          "2022-08-01 09:56:00+05:30",
          "2022-08-01 09:57:00+05:30",
          "2022-08-01 09:58:00+05:30",
          "2022-08-01 09:59:00+05:30",
          "2022-08-01 10:00:00+05:30",
          "2022-08-01 10:01:00+05:30",
          "2022-08-01 10:02:00+05:30",
          "2022-08-01 10:03:00+05:30",
          "2022-08-01 10:04:00+05:30",
          "2022-08-01 10:05:00+05:30",
          "2022-08-01 10:06:00+05:30",
          "2022-08-01 10:07:00+05:30",
          "2022-08-01 10:08:00+05:30",
          "2022-08-01 10:09:00+05:30",
          "2022-08-01 10:10:00+05:30",
          "2022-08-01 10:11:00+05:30",
          "2022-08-01 10:12:00+05:30",
          "2022-08-01 10:13:00+05:30",
          "2022-08-01 10:14:00+05:30",
          "2022-08-01 10:15:00+05:30",
          "2022-08-01 10:16:00+05:30",
          "2022-08-01 10:17:00+05:30",
          "2022-08-01 10:18:00+05:30",
          "2022-08-01 10:19:00+05:30",
          "2022-08-01 10:20:00+05:30",
          "2022-08-01 10:21:00+05:30",
          "2022-08-01 10:22:00+05:30",
          "2022-08-01 10:23:00+05:30"
         ]
        }
       ],
       "layout": {
        "shapes": [
         {
          "line": {
           "color": "green",
           "width": 1
          },
          "type": "line",
          "x0": 0,
          "x1": 1,
          "xref": "x domain",
          "y0": 0,
          "y1": 0,
          "yref": "y"
         },
         {
          "line": {
           "color": "red",
           "width": 1
          },
          "type": "line",
          "x0": 0,
          "x1": 1,
          "xref": "x domain",
          "y0": 0,
          "y1": 0,
          "yref": "y"
         },
         {
          "line": {
           "color": "black",
           "width": 3
          },
          "type": "line",
          "x0": 0,
          "x1": 1,
          "xref": "x domain",
          "y0": 0,
          "y1": 0,
          "yref": "y"
         }
        ],
        "template": {
         "data": {
          "bar": [
           {
            "error_x": {
             "color": "#2a3f5f"
            },
            "error_y": {
             "color": "#2a3f5f"
            },
            "marker": {
             "line": {
              "color": "#E5ECF6",
              "width": 0.5
             },
             "pattern": {
              "fillmode": "overlay",
              "size": 10,
              "solidity": 0.2
             }
            },
            "type": "bar"
           }
          ],
          "barpolar": [
           {
            "marker": {
             "line": {
              "color": "#E5ECF6",
              "width": 0.5
             },
             "pattern": {
              "fillmode": "overlay",
              "size": 10,
              "solidity": 0.2
             }
            },
            "type": "barpolar"
           }
          ],
          "carpet": [
           {
            "aaxis": {
             "endlinecolor": "#2a3f5f",
             "gridcolor": "white",
             "linecolor": "white",
             "minorgridcolor": "white",
             "startlinecolor": "#2a3f5f"
            },
            "baxis": {
             "endlinecolor": "#2a3f5f",
             "gridcolor": "white",
             "linecolor": "white",
             "minorgridcolor": "white",
             "startlinecolor": "#2a3f5f"
            },
            "type": "carpet"
           }
          ],
          "choropleth": [
           {
            "colorbar": {
             "outlinewidth": 0,
             "ticks": ""
            },
            "type": "choropleth"
           }
          ],
          "contour": [
           {
            "colorbar": {
             "outlinewidth": 0,
             "ticks": ""
            },
            "colorscale": [
             [
              0,
              "#0d0887"
             ],
             [
              0.1111111111111111,
              "#46039f"
             ],
             [
              0.2222222222222222,
              "#7201a8"
             ],
             [
              0.3333333333333333,
              "#9c179e"
             ],
             [
              0.4444444444444444,
              "#bd3786"
             ],
             [
              0.5555555555555556,
              "#d8576b"
             ],
             [
              0.6666666666666666,
              "#ed7953"
             ],
             [
              0.7777777777777778,
              "#fb9f3a"
             ],
             [
              0.8888888888888888,
              "#fdca26"
             ],
             [
              1,
              "#f0f921"
             ]
            ],
            "type": "contour"
           }
          ],
          "contourcarpet": [
           {
            "colorbar": {
             "outlinewidth": 0,
             "ticks": ""
            },
            "type": "contourcarpet"
           }
          ],
          "heatmap": [
           {
            "colorbar": {
             "outlinewidth": 0,
             "ticks": ""
            },
            "colorscale": [
             [
              0,
              "#0d0887"
             ],
             [
              0.1111111111111111,
              "#46039f"
             ],
             [
              0.2222222222222222,
              "#7201a8"
             ],
             [
              0.3333333333333333,
              "#9c179e"
             ],
             [
              0.4444444444444444,
              "#bd3786"
             ],
             [
              0.5555555555555556,
              "#d8576b"
             ],
             [
              0.6666666666666666,
              "#ed7953"
             ],
             [
              0.7777777777777778,
              "#fb9f3a"
             ],
             [
              0.8888888888888888,
              "#fdca26"
             ],
             [
              1,
              "#f0f921"
             ]
            ],
            "type": "heatmap"
           }
          ],
          "heatmapgl": [
           {
            "colorbar": {
             "outlinewidth": 0,
             "ticks": ""
            },
            "colorscale": [
             [
              0,
              "#0d0887"
             ],
             [
              0.1111111111111111,
              "#46039f"
             ],
             [
              0.2222222222222222,
              "#7201a8"
             ],
             [
              0.3333333333333333,
              "#9c179e"
             ],
             [
              0.4444444444444444,
              "#bd3786"
             ],
             [
              0.5555555555555556,
              "#d8576b"
             ],
             [
              0.6666666666666666,
              "#ed7953"
             ],
             [
              0.7777777777777778,
              "#fb9f3a"
             ],
             [
              0.8888888888888888,
              "#fdca26"
             ],
             [
              1,
              "#f0f921"
             ]
            ],
            "type": "heatmapgl"
           }
          ],
          "histogram": [
           {
            "marker": {
             "pattern": {
              "fillmode": "overlay",
              "size": 10,
              "solidity": 0.2
             }
            },
            "type": "histogram"
           }
          ],
          "histogram2d": [
           {
            "colorbar": {
             "outlinewidth": 0,
             "ticks": ""
            },
            "colorscale": [
             [
              0,
              "#0d0887"
             ],
             [
              0.1111111111111111,
              "#46039f"
             ],
             [
              0.2222222222222222,
              "#7201a8"
             ],
             [
              0.3333333333333333,
              "#9c179e"
             ],
             [
              0.4444444444444444,
              "#bd3786"
             ],
             [
              0.5555555555555556,
              "#d8576b"
             ],
             [
              0.6666666666666666,
              "#ed7953"
             ],
             [
              0.7777777777777778,
              "#fb9f3a"
             ],
             [
              0.8888888888888888,
              "#fdca26"
             ],
             [
              1,
              "#f0f921"
             ]
            ],
            "type": "histogram2d"
           }
          ],
          "histogram2dcontour": [
           {
            "colorbar": {
             "outlinewidth": 0,
             "ticks": ""
            },
            "colorscale": [
             [
              0,
              "#0d0887"
             ],
             [
              0.1111111111111111,
              "#46039f"
             ],
             [
              0.2222222222222222,
              "#7201a8"
             ],
             [
              0.3333333333333333,
              "#9c179e"
             ],
             [
              0.4444444444444444,
              "#bd3786"
             ],
             [
              0.5555555555555556,
              "#d8576b"
             ],
             [
              0.6666666666666666,
              "#ed7953"
             ],
             [
              0.7777777777777778,
              "#fb9f3a"
             ],
             [
              0.8888888888888888,
              "#fdca26"
             ],
             [
              1,
              "#f0f921"
             ]
            ],
            "type": "histogram2dcontour"
           }
          ],
          "mesh3d": [
           {
            "colorbar": {
             "outlinewidth": 0,
             "ticks": ""
            },
            "type": "mesh3d"
           }
          ],
          "parcoords": [
           {
            "line": {
             "colorbar": {
              "outlinewidth": 0,
              "ticks": ""
             }
            },
            "type": "parcoords"
           }
          ],
          "pie": [
           {
            "automargin": true,
            "type": "pie"
           }
          ],
          "scatter": [
           {
            "fillpattern": {
             "fillmode": "overlay",
             "size": 10,
             "solidity": 0.2
            },
            "type": "scatter"
           }
          ],
          "scatter3d": [
           {
            "line": {
             "colorbar": {
              "outlinewidth": 0,
              "ticks": ""
             }
            },
            "marker": {
             "colorbar": {
              "outlinewidth": 0,
              "ticks": ""
             }
            },
            "type": "scatter3d"
           }
          ],
          "scattercarpet": [
           {
            "marker": {
             "colorbar": {
              "outlinewidth": 0,
              "ticks": ""
             }
            },
            "type": "scattercarpet"
           }
          ],
          "scattergeo": [
           {
            "marker": {
             "colorbar": {
              "outlinewidth": 0,
              "ticks": ""
             }
            },
            "type": "scattergeo"
           }
          ],
          "scattergl": [
           {
            "marker": {
             "colorbar": {
              "outlinewidth": 0,
              "ticks": ""
             }
            },
            "type": "scattergl"
           }
          ],
          "scattermapbox": [
           {
            "marker": {
             "colorbar": {
              "outlinewidth": 0,
              "ticks": ""
             }
            },
            "type": "scattermapbox"
           }
          ],
          "scatterpolar": [
           {
            "marker": {
             "colorbar": {
              "outlinewidth": 0,
              "ticks": ""
             }
            },
            "type": "scatterpolar"
           }
          ],
          "scatterpolargl": [
           {
            "marker": {
             "colorbar": {
              "outlinewidth": 0,
              "ticks": ""
             }
            },
            "type": "scatterpolargl"
           }
          ],
          "scatterternary": [
           {
            "marker": {
             "colorbar": {
              "outlinewidth": 0,
              "ticks": ""
             }
            },
            "type": "scatterternary"
           }
          ],
          "surface": [
           {
            "colorbar": {
             "outlinewidth": 0,
             "ticks": ""
            },
            "colorscale": [
             [
              0,
              "#0d0887"
             ],
             [
              0.1111111111111111,
              "#46039f"
             ],
             [
              0.2222222222222222,
              "#7201a8"
             ],
             [
              0.3333333333333333,
              "#9c179e"
             ],
             [
              0.4444444444444444,
              "#bd3786"
             ],
             [
              0.5555555555555556,
              "#d8576b"
             ],
             [
              0.6666666666666666,
              "#ed7953"
             ],
             [
              0.7777777777777778,
              "#fb9f3a"
             ],
             [
              0.8888888888888888,
              "#fdca26"
             ],
             [
              1,
              "#f0f921"
             ]
            ],
            "type": "surface"
           }
          ],
          "table": [
           {
            "cells": {
             "fill": {
              "color": "#EBF0F8"
             },
             "line": {
              "color": "white"
             }
            },
            "header": {
             "fill": {
              "color": "#C8D4E3"
             },
             "line": {
              "color": "white"
             }
            },
            "type": "table"
           }
          ]
         },
         "layout": {
          "annotationdefaults": {
           "arrowcolor": "#2a3f5f",
           "arrowhead": 0,
           "arrowwidth": 1
          },
          "autotypenumbers": "strict",
          "coloraxis": {
           "colorbar": {
            "outlinewidth": 0,
            "ticks": ""
           }
          },
          "colorscale": {
           "diverging": [
            [
             0,
             "#8e0152"
            ],
            [
             0.1,
             "#c51b7d"
            ],
            [
             0.2,
             "#de77ae"
            ],
            [
             0.3,
             "#f1b6da"
            ],
            [
             0.4,
             "#fde0ef"
            ],
            [
             0.5,
             "#f7f7f7"
            ],
            [
             0.6,
             "#e6f5d0"
            ],
            [
             0.7,
             "#b8e186"
            ],
            [
             0.8,
             "#7fbc41"
            ],
            [
             0.9,
             "#4d9221"
            ],
            [
             1,
             "#276419"
            ]
           ],
           "sequential": [
            [
             0,
             "#0d0887"
            ],
            [
             0.1111111111111111,
             "#46039f"
            ],
            [
             0.2222222222222222,
             "#7201a8"
            ],
            [
             0.3333333333333333,
             "#9c179e"
            ],
            [
             0.4444444444444444,
             "#bd3786"
            ],
            [
             0.5555555555555556,
             "#d8576b"
            ],
            [
             0.6666666666666666,
             "#ed7953"
            ],
            [
             0.7777777777777778,
             "#fb9f3a"
            ],
            [
             0.8888888888888888,
             "#fdca26"
            ],
            [
             1,
             "#f0f921"
            ]
           ],
           "sequentialminus": [
            [
             0,
             "#0d0887"
            ],
            [
             0.1111111111111111,
             "#46039f"
            ],
            [
             0.2222222222222222,
             "#7201a8"
            ],
            [
             0.3333333333333333,
             "#9c179e"
            ],
            [
             0.4444444444444444,
             "#bd3786"
            ],
            [
             0.5555555555555556,
             "#d8576b"
            ],
            [
             0.6666666666666666,
             "#ed7953"
            ],
            [
             0.7777777777777778,
             "#fb9f3a"
            ],
            [
             0.8888888888888888,
             "#fdca26"
            ],
            [
             1,
             "#f0f921"
            ]
           ]
          },
          "colorway": [
           "#636efa",
           "#EF553B",
           "#00cc96",
           "#ab63fa",
           "#FFA15A",
           "#19d3f3",
           "#FF6692",
           "#B6E880",
           "#FF97FF",
           "#FECB52"
          ],
          "font": {
           "color": "#2a3f5f"
          },
          "geo": {
           "bgcolor": "white",
           "lakecolor": "white",
           "landcolor": "#E5ECF6",
           "showlakes": true,
           "showland": true,
           "subunitcolor": "white"
          },
          "hoverlabel": {
           "align": "left"
          },
          "hovermode": "closest",
          "mapbox": {
           "style": "light"
          },
          "paper_bgcolor": "white",
          "plot_bgcolor": "#E5ECF6",
          "polar": {
           "angularaxis": {
            "gridcolor": "white",
            "linecolor": "white",
            "ticks": ""
           },
           "bgcolor": "#E5ECF6",
           "radialaxis": {
            "gridcolor": "white",
            "linecolor": "white",
            "ticks": ""
           }
          },
          "scene": {
           "xaxis": {
            "backgroundcolor": "#E5ECF6",
            "gridcolor": "white",
            "gridwidth": 2,
            "linecolor": "white",
            "showbackground": true,
            "ticks": "",
            "zerolinecolor": "white"
           },
           "yaxis": {
            "backgroundcolor": "#E5ECF6",
            "gridcolor": "white",
            "gridwidth": 2,
            "linecolor": "white",
            "showbackground": true,
            "ticks": "",
            "zerolinecolor": "white"
           },
           "zaxis": {
            "backgroundcolor": "#E5ECF6",
            "gridcolor": "white",
            "gridwidth": 2,
            "linecolor": "white",
            "showbackground": true,
            "ticks": "",
            "zerolinecolor": "white"
           }
          },
          "shapedefaults": {
           "line": {
            "color": "#2a3f5f"
           }
          },
          "ternary": {
           "aaxis": {
            "gridcolor": "white",
            "linecolor": "white",
            "ticks": ""
           },
           "baxis": {
            "gridcolor": "white",
            "linecolor": "white",
            "ticks": ""
           },
           "bgcolor": "#E5ECF6",
           "caxis": {
            "gridcolor": "white",
            "linecolor": "white",
            "ticks": ""
           }
          },
          "title": {
           "x": 0.05
          },
          "xaxis": {
           "automargin": true,
           "gridcolor": "white",
           "linecolor": "white",
           "ticks": "",
           "title": {
            "standoff": 15
           },
           "zerolinecolor": "white",
           "zerolinewidth": 2
          },
          "yaxis": {
           "automargin": true,
           "gridcolor": "white",
           "linecolor": "white",
           "ticks": "",
           "title": {
            "standoff": 15
           },
           "zerolinecolor": "white",
           "zerolinewidth": 2
          }
         }
        }
       }
      },
      "text/html": [
       "<div>                            <div id=\"2b145c52-817c-400c-a365-d06b5941d3d6\" class=\"plotly-graph-div\" style=\"height:525px; width:100%;\"></div>            <script type=\"text/javascript\">                require([\"plotly\"], function(Plotly) {                    window.PLOTLYENV=window.PLOTLYENV || {};                                    if (document.getElementById(\"2b145c52-817c-400c-a365-d06b5941d3d6\")) {                    Plotly.newPlot(                        \"2b145c52-817c-400c-a365-d06b5941d3d6\",                        [{\"close\":[37628.3,37616.85,37543.1,37530.45,37480.1,37421.9,37453.85,37487.4,37491.4,37552.55,37562.5,37523.5,37504.3,37510.15,37470.8,37446.55,37469.7,37454.85,37490.4,37500.5,37524.75,37513.45,37535.25,37525.8,37516.35,37489.45,37487.15,37469.5,37504.8,37523.45,37524.5,37498.95,37532.65,37560.55,37580.15,37581.8,37580.75,37580.7,37587.8,37594.0,37599.6,37580.7,37579.7,37577.95,37572.35,37561.55,37565.8,37557.8,37566.1,37565.55,37535.8,37535.4,37546.25,37588.95,37593.4,37622.9,37628.15,37642.5,37630.5,37626.9,37644.45,37643.0,37618.0,37628.55,37628.95,37618.8,37623.15,37640.45,37648.25],\"high\":[37655.45,37638.2,37619.4,37547.05,37528.0,37482.75,37457.5,37487.95,37496.05,37555.4,37600.55,37564.85,37538.45,37518.45,37513.45,37472.7,37471.5,37467.0,37491.65,37511.65,37524.75,37530.15,37538.35,37540.45,37527.35,37518.15,37500.7,37491.8,37505.35,37523.45,37529.75,37527.45,37540.9,37565.8,37581.4,37607.1,37587.8,37583.0,37588.05,37598.35,37608.5,37604.0,37588.95,37581.1,37589.2,37583.9,37572.15,37570.75,37570.0,37571.65,37565.75,37540.0,37549.55,37588.95,37603.1,37625.6,37643.3,37642.5,37648.8,37635.35,37644.45,37661.55,37646.05,37635.15,37643.6,37637.85,37629.2,37640.45,37648.25],\"low\":[37594.15,37610.3,37543.1,37502.05,37476.7,37417.25,37407.5,37444.45,37467.2,37490.4,37552.3,37522.6,37497.3,37502.55,37463.1,37444.15,37439.05,37447.6,37450.4,37487.4,37493.9,37503.7,37512.35,37523.35,37505.55,37487.7,37485.85,37455.4,37468.85,37497.85,37512.5,37498.95,37496.75,37539.85,37559.0,37581.6,37570.25,37574.85,37565.0,37586.45,37590.75,37577.55,37570.2,37565.65,37564.25,37561.35,37556.05,37554.0,37557.65,37557.0,37534.55,37519.1,37530.55,37548.3,37584.9,37593.75,37626.2,37621.05,37620.05,37624.2,37626.2,37639.85,37614.8,37607.35,37625.25,37616.7,37612.55,37622.6,37635.45],\"open\":[37594.15,37630.2,37619.4,37545.55,37528.0,37482.75,37417.55,37453.9,37490.55,37490.4,37552.3,37560.55,37523.1,37504.75,37509.6,37470.45,37441.6,37460.85,37458.8,37488.75,37505.85,37525.9,37512.35,37533.55,37527.35,37518.1,37488.15,37486.45,37475.9,37501.45,37524.75,37524.5,37496.75,37540.3,37561.2,37582.05,37583.9,37581.95,37580.15,37589.7,37591.25,37602.0,37580.95,37580.05,37579.0,37573.85,37560.45,37570.75,37562.7,37567.5,37565.75,37535.45,37537.35,37550.4,37588.55,37594.6,37627.0,37628.4,37639.0,37628.6,37626.2,37645.25,37643.05,37615.75,37630.05,37629.65,37618.05,37623.15,37643.3],\"x\":[\"2022-08-01 09:15:00+05:30\",\"2022-08-01 09:16:00+05:30\",\"2022-08-01 09:17:00+05:30\",\"2022-08-01 09:18:00+05:30\",\"2022-08-01 09:19:00+05:30\",\"2022-08-01 09:20:00+05:30\",\"2022-08-01 09:21:00+05:30\",\"2022-08-01 09:22:00+05:30\",\"2022-08-01 09:23:00+05:30\",\"2022-08-01 09:24:00+05:30\",\"2022-08-01 09:25:00+05:30\",\"2022-08-01 09:26:00+05:30\",\"2022-08-01 09:27:00+05:30\",\"2022-08-01 09:28:00+05:30\",\"2022-08-01 09:29:00+05:30\",\"2022-08-01 09:30:00+05:30\",\"2022-08-01 09:31:00+05:30\",\"2022-08-01 09:32:00+05:30\",\"2022-08-01 09:33:00+05:30\",\"2022-08-01 09:34:00+05:30\",\"2022-08-01 09:35:00+05:30\",\"2022-08-01 09:36:00+05:30\",\"2022-08-01 09:37:00+05:30\",\"2022-08-01 09:38:00+05:30\",\"2022-08-01 09:39:00+05:30\",\"2022-08-01 09:40:00+05:30\",\"2022-08-01 09:41:00+05:30\",\"2022-08-01 09:42:00+05:30\",\"2022-08-01 09:43:00+05:30\",\"2022-08-01 09:44:00+05:30\",\"2022-08-01 09:45:00+05:30\",\"2022-08-01 09:46:00+05:30\",\"2022-08-01 09:47:00+05:30\",\"2022-08-01 09:48:00+05:30\",\"2022-08-01 09:49:00+05:30\",\"2022-08-01 09:50:00+05:30\",\"2022-08-01 09:51:00+05:30\",\"2022-08-01 09:52:00+05:30\",\"2022-08-01 09:53:00+05:30\",\"2022-08-01 09:54:00+05:30\",\"2022-08-01 09:55:00+05:30\",\"2022-08-01 09:56:00+05:30\",\"2022-08-01 09:57:00+05:30\",\"2022-08-01 09:58:00+05:30\",\"2022-08-01 09:59:00+05:30\",\"2022-08-01 10:00:00+05:30\",\"2022-08-01 10:01:00+05:30\",\"2022-08-01 10:02:00+05:30\",\"2022-08-01 10:03:00+05:30\",\"2022-08-01 10:04:00+05:30\",\"2022-08-01 10:05:00+05:30\",\"2022-08-01 10:06:00+05:30\",\"2022-08-01 10:07:00+05:30\",\"2022-08-01 10:08:00+05:30\",\"2022-08-01 10:09:00+05:30\",\"2022-08-01 10:10:00+05:30\",\"2022-08-01 10:11:00+05:30\",\"2022-08-01 10:12:00+05:30\",\"2022-08-01 10:13:00+05:30\",\"2022-08-01 10:14:00+05:30\",\"2022-08-01 10:15:00+05:30\",\"2022-08-01 10:16:00+05:30\",\"2022-08-01 10:17:00+05:30\",\"2022-08-01 10:18:00+05:30\",\"2022-08-01 10:19:00+05:30\",\"2022-08-01 10:20:00+05:30\",\"2022-08-01 10:21:00+05:30\",\"2022-08-01 10:22:00+05:30\",\"2022-08-01 10:23:00+05:30\"],\"type\":\"candlestick\"}],                        {\"template\":{\"data\":{\"histogram2dcontour\":[{\"type\":\"histogram2dcontour\",\"colorbar\":{\"outlinewidth\":0,\"ticks\":\"\"},\"colorscale\":[[0.0,\"#0d0887\"],[0.1111111111111111,\"#46039f\"],[0.2222222222222222,\"#7201a8\"],[0.3333333333333333,\"#9c179e\"],[0.4444444444444444,\"#bd3786\"],[0.5555555555555556,\"#d8576b\"],[0.6666666666666666,\"#ed7953\"],[0.7777777777777778,\"#fb9f3a\"],[0.8888888888888888,\"#fdca26\"],[1.0,\"#f0f921\"]]}],\"choropleth\":[{\"type\":\"choropleth\",\"colorbar\":{\"outlinewidth\":0,\"ticks\":\"\"}}],\"histogram2d\":[{\"type\":\"histogram2d\",\"colorbar\":{\"outlinewidth\":0,\"ticks\":\"\"},\"colorscale\":[[0.0,\"#0d0887\"],[0.1111111111111111,\"#46039f\"],[0.2222222222222222,\"#7201a8\"],[0.3333333333333333,\"#9c179e\"],[0.4444444444444444,\"#bd3786\"],[0.5555555555555556,\"#d8576b\"],[0.6666666666666666,\"#ed7953\"],[0.7777777777777778,\"#fb9f3a\"],[0.8888888888888888,\"#fdca26\"],[1.0,\"#f0f921\"]]}],\"heatmap\":[{\"type\":\"heatmap\",\"colorbar\":{\"outlinewidth\":0,\"ticks\":\"\"},\"colorscale\":[[0.0,\"#0d0887\"],[0.1111111111111111,\"#46039f\"],[0.2222222222222222,\"#7201a8\"],[0.3333333333333333,\"#9c179e\"],[0.4444444444444444,\"#bd3786\"],[0.5555555555555556,\"#d8576b\"],[0.6666666666666666,\"#ed7953\"],[0.7777777777777778,\"#fb9f3a\"],[0.8888888888888888,\"#fdca26\"],[1.0,\"#f0f921\"]]}],\"heatmapgl\":[{\"type\":\"heatmapgl\",\"colorbar\":{\"outlinewidth\":0,\"ticks\":\"\"},\"colorscale\":[[0.0,\"#0d0887\"],[0.1111111111111111,\"#46039f\"],[0.2222222222222222,\"#7201a8\"],[0.3333333333333333,\"#9c179e\"],[0.4444444444444444,\"#bd3786\"],[0.5555555555555556,\"#d8576b\"],[0.6666666666666666,\"#ed7953\"],[0.7777777777777778,\"#fb9f3a\"],[0.8888888888888888,\"#fdca26\"],[1.0,\"#f0f921\"]]}],\"contourcarpet\":[{\"type\":\"contourcarpet\",\"colorbar\":{\"outlinewidth\":0,\"ticks\":\"\"}}],\"contour\":[{\"type\":\"contour\",\"colorbar\":{\"outlinewidth\":0,\"ticks\":\"\"},\"colorscale\":[[0.0,\"#0d0887\"],[0.1111111111111111,\"#46039f\"],[0.2222222222222222,\"#7201a8\"],[0.3333333333333333,\"#9c179e\"],[0.4444444444444444,\"#bd3786\"],[0.5555555555555556,\"#d8576b\"],[0.6666666666666666,\"#ed7953\"],[0.7777777777777778,\"#fb9f3a\"],[0.8888888888888888,\"#fdca26\"],[1.0,\"#f0f921\"]]}],\"surface\":[{\"type\":\"surface\",\"colorbar\":{\"outlinewidth\":0,\"ticks\":\"\"},\"colorscale\":[[0.0,\"#0d0887\"],[0.1111111111111111,\"#46039f\"],[0.2222222222222222,\"#7201a8\"],[0.3333333333333333,\"#9c179e\"],[0.4444444444444444,\"#bd3786\"],[0.5555555555555556,\"#d8576b\"],[0.6666666666666666,\"#ed7953\"],[0.7777777777777778,\"#fb9f3a\"],[0.8888888888888888,\"#fdca26\"],[1.0,\"#f0f921\"]]}],\"mesh3d\":[{\"type\":\"mesh3d\",\"colorbar\":{\"outlinewidth\":0,\"ticks\":\"\"}}],\"scatter\":[{\"fillpattern\":{\"fillmode\":\"overlay\",\"size\":10,\"solidity\":0.2},\"type\":\"scatter\"}],\"parcoords\":[{\"type\":\"parcoords\",\"line\":{\"colorbar\":{\"outlinewidth\":0,\"ticks\":\"\"}}}],\"scatterpolargl\":[{\"type\":\"scatterpolargl\",\"marker\":{\"colorbar\":{\"outlinewidth\":0,\"ticks\":\"\"}}}],\"bar\":[{\"error_x\":{\"color\":\"#2a3f5f\"},\"error_y\":{\"color\":\"#2a3f5f\"},\"marker\":{\"line\":{\"color\":\"#E5ECF6\",\"width\":0.5},\"pattern\":{\"fillmode\":\"overlay\",\"size\":10,\"solidity\":0.2}},\"type\":\"bar\"}],\"scattergeo\":[{\"type\":\"scattergeo\",\"marker\":{\"colorbar\":{\"outlinewidth\":0,\"ticks\":\"\"}}}],\"scatterpolar\":[{\"type\":\"scatterpolar\",\"marker\":{\"colorbar\":{\"outlinewidth\":0,\"ticks\":\"\"}}}],\"histogram\":[{\"marker\":{\"pattern\":{\"fillmode\":\"overlay\",\"size\":10,\"solidity\":0.2}},\"type\":\"histogram\"}],\"scattergl\":[{\"type\":\"scattergl\",\"marker\":{\"colorbar\":{\"outlinewidth\":0,\"ticks\":\"\"}}}],\"scatter3d\":[{\"type\":\"scatter3d\",\"line\":{\"colorbar\":{\"outlinewidth\":0,\"ticks\":\"\"}},\"marker\":{\"colorbar\":{\"outlinewidth\":0,\"ticks\":\"\"}}}],\"scattermapbox\":[{\"type\":\"scattermapbox\",\"marker\":{\"colorbar\":{\"outlinewidth\":0,\"ticks\":\"\"}}}],\"scatterternary\":[{\"type\":\"scatterternary\",\"marker\":{\"colorbar\":{\"outlinewidth\":0,\"ticks\":\"\"}}}],\"scattercarpet\":[{\"type\":\"scattercarpet\",\"marker\":{\"colorbar\":{\"outlinewidth\":0,\"ticks\":\"\"}}}],\"carpet\":[{\"aaxis\":{\"endlinecolor\":\"#2a3f5f\",\"gridcolor\":\"white\",\"linecolor\":\"white\",\"minorgridcolor\":\"white\",\"startlinecolor\":\"#2a3f5f\"},\"baxis\":{\"endlinecolor\":\"#2a3f5f\",\"gridcolor\":\"white\",\"linecolor\":\"white\",\"minorgridcolor\":\"white\",\"startlinecolor\":\"#2a3f5f\"},\"type\":\"carpet\"}],\"table\":[{\"cells\":{\"fill\":{\"color\":\"#EBF0F8\"},\"line\":{\"color\":\"white\"}},\"header\":{\"fill\":{\"color\":\"#C8D4E3\"},\"line\":{\"color\":\"white\"}},\"type\":\"table\"}],\"barpolar\":[{\"marker\":{\"line\":{\"color\":\"#E5ECF6\",\"width\":0.5},\"pattern\":{\"fillmode\":\"overlay\",\"size\":10,\"solidity\":0.2}},\"type\":\"barpolar\"}],\"pie\":[{\"automargin\":true,\"type\":\"pie\"}]},\"layout\":{\"autotypenumbers\":\"strict\",\"colorway\":[\"#636efa\",\"#EF553B\",\"#00cc96\",\"#ab63fa\",\"#FFA15A\",\"#19d3f3\",\"#FF6692\",\"#B6E880\",\"#FF97FF\",\"#FECB52\"],\"font\":{\"color\":\"#2a3f5f\"},\"hovermode\":\"closest\",\"hoverlabel\":{\"align\":\"left\"},\"paper_bgcolor\":\"white\",\"plot_bgcolor\":\"#E5ECF6\",\"polar\":{\"bgcolor\":\"#E5ECF6\",\"angularaxis\":{\"gridcolor\":\"white\",\"linecolor\":\"white\",\"ticks\":\"\"},\"radialaxis\":{\"gridcolor\":\"white\",\"linecolor\":\"white\",\"ticks\":\"\"}},\"ternary\":{\"bgcolor\":\"#E5ECF6\",\"aaxis\":{\"gridcolor\":\"white\",\"linecolor\":\"white\",\"ticks\":\"\"},\"baxis\":{\"gridcolor\":\"white\",\"linecolor\":\"white\",\"ticks\":\"\"},\"caxis\":{\"gridcolor\":\"white\",\"linecolor\":\"white\",\"ticks\":\"\"}},\"coloraxis\":{\"colorbar\":{\"outlinewidth\":0,\"ticks\":\"\"}},\"colorscale\":{\"sequential\":[[0.0,\"#0d0887\"],[0.1111111111111111,\"#46039f\"],[0.2222222222222222,\"#7201a8\"],[0.3333333333333333,\"#9c179e\"],[0.4444444444444444,\"#bd3786\"],[0.5555555555555556,\"#d8576b\"],[0.6666666666666666,\"#ed7953\"],[0.7777777777777778,\"#fb9f3a\"],[0.8888888888888888,\"#fdca26\"],[1.0,\"#f0f921\"]],\"sequentialminus\":[[0.0,\"#0d0887\"],[0.1111111111111111,\"#46039f\"],[0.2222222222222222,\"#7201a8\"],[0.3333333333333333,\"#9c179e\"],[0.4444444444444444,\"#bd3786\"],[0.5555555555555556,\"#d8576b\"],[0.6666666666666666,\"#ed7953\"],[0.7777777777777778,\"#fb9f3a\"],[0.8888888888888888,\"#fdca26\"],[1.0,\"#f0f921\"]],\"diverging\":[[0,\"#8e0152\"],[0.1,\"#c51b7d\"],[0.2,\"#de77ae\"],[0.3,\"#f1b6da\"],[0.4,\"#fde0ef\"],[0.5,\"#f7f7f7\"],[0.6,\"#e6f5d0\"],[0.7,\"#b8e186\"],[0.8,\"#7fbc41\"],[0.9,\"#4d9221\"],[1,\"#276419\"]]},\"xaxis\":{\"gridcolor\":\"white\",\"linecolor\":\"white\",\"ticks\":\"\",\"title\":{\"standoff\":15},\"zerolinecolor\":\"white\",\"automargin\":true,\"zerolinewidth\":2},\"yaxis\":{\"gridcolor\":\"white\",\"linecolor\":\"white\",\"ticks\":\"\",\"title\":{\"standoff\":15},\"zerolinecolor\":\"white\",\"automargin\":true,\"zerolinewidth\":2},\"scene\":{\"xaxis\":{\"backgroundcolor\":\"#E5ECF6\",\"gridcolor\":\"white\",\"linecolor\":\"white\",\"showbackground\":true,\"ticks\":\"\",\"zerolinecolor\":\"white\",\"gridwidth\":2},\"yaxis\":{\"backgroundcolor\":\"#E5ECF6\",\"gridcolor\":\"white\",\"linecolor\":\"white\",\"showbackground\":true,\"ticks\":\"\",\"zerolinecolor\":\"white\",\"gridwidth\":2},\"zaxis\":{\"backgroundcolor\":\"#E5ECF6\",\"gridcolor\":\"white\",\"linecolor\":\"white\",\"showbackground\":true,\"ticks\":\"\",\"zerolinecolor\":\"white\",\"gridwidth\":2}},\"shapedefaults\":{\"line\":{\"color\":\"#2a3f5f\"}},\"annotationdefaults\":{\"arrowcolor\":\"#2a3f5f\",\"arrowhead\":0,\"arrowwidth\":1},\"geo\":{\"bgcolor\":\"white\",\"landcolor\":\"#E5ECF6\",\"subunitcolor\":\"white\",\"showland\":true,\"showlakes\":true,\"lakecolor\":\"white\"},\"title\":{\"x\":0.05},\"mapbox\":{\"style\":\"light\"}}},\"shapes\":[{\"line\":{\"color\":\"green\",\"width\":1},\"type\":\"line\",\"x0\":0,\"x1\":1,\"xref\":\"x domain\",\"y0\":0,\"y1\":0,\"yref\":\"y\"},{\"line\":{\"color\":\"red\",\"width\":1},\"type\":\"line\",\"x0\":0,\"x1\":1,\"xref\":\"x domain\",\"y0\":0,\"y1\":0,\"yref\":\"y\"},{\"line\":{\"color\":\"black\",\"width\":3},\"type\":\"line\",\"x0\":0,\"x1\":1,\"xref\":\"x domain\",\"y0\":0,\"y1\":0,\"yref\":\"y\"}]},                        {\"responsive\": true}                    ).then(function(){\n",
       "                            \n",
       "var gd = document.getElementById('2b145c52-817c-400c-a365-d06b5941d3d6');\n",
       "var x = new MutationObserver(function (mutations, observer) {{\n",
       "        var display = window.getComputedStyle(gd).display;\n",
       "        if (!display || display === 'none') {{\n",
       "            console.log([gd, 'removed!']);\n",
       "            Plotly.purge(gd);\n",
       "            observer.disconnect();\n",
       "        }}\n",
       "}});\n",
       "\n",
       "// Listen for the removal of the full notebook cells\n",
       "var notebookContainer = gd.closest('#notebook-container');\n",
       "if (notebookContainer) {{\n",
       "    x.observe(notebookContainer, {childList: true});\n",
       "}}\n",
       "\n",
       "// Listen for the clearing of the current output cell\n",
       "var outputEl = gd.closest('.output');\n",
       "if (outputEl) {{\n",
       "    x.observe(outputEl, {childList: true});\n",
       "}}\n",
       "\n",
       "                        })                };                });            </script>        </div>"
      ]
     },
     "metadata": {},
     "output_type": "display_data"
    },
    {
     "name": "stdout",
     "output_type": "stream",
     "text": [
      "res : [37661.55, 37655.45, 37648.8, 37608.5, 37600.55, 37540.45]\n",
      "sup : [37407.5, 37439.05, 37455.4, 37519.1, 37594.15, 37607.35]\n",
      "################################################################################\n",
      "################################################################################\n",
      "2022-08-01 10:30:00+05:30\n",
      "37613.35 37622.6\n",
      "rr : 8.38596491228017\n"
     ]
    },
    {
     "data": {
      "application/vnd.plotly.v1+json": {
       "config": {
        "plotlyServerURL": "https://plot.ly"
       },
       "data": [
        {
         "close": [
          37628.3,
          37616.85,
          37543.1,
          37530.45,
          37480.1,
          37421.9,
          37453.85,
          37487.4,
          37491.4,
          37552.55,
          37562.5,
          37523.5,
          37504.3,
          37510.15,
          37470.8,
          37446.55,
          37469.7,
          37454.85,
          37490.4,
          37500.5,
          37524.75,
          37513.45,
          37535.25,
          37525.8,
          37516.35,
          37489.45,
          37487.15,
          37469.5,
          37504.8,
          37523.45,
          37524.5,
          37498.95,
          37532.65,
          37560.55,
          37580.15,
          37581.8,
          37580.75,
          37580.7,
          37587.8,
          37594,
          37599.6,
          37580.7,
          37579.7,
          37577.95,
          37572.35,
          37561.55,
          37565.8,
          37557.8,
          37566.1,
          37565.55,
          37535.8,
          37535.4,
          37546.25,
          37588.95,
          37593.4,
          37622.9,
          37628.15,
          37642.5,
          37630.5,
          37626.9,
          37644.45,
          37643,
          37618,
          37628.55,
          37628.95,
          37618.8,
          37623.15,
          37640.45,
          37648.25,
          37638.25
         ],
         "high": [
          37655.45,
          37638.2,
          37619.4,
          37547.05,
          37528,
          37482.75,
          37457.5,
          37487.95,
          37496.05,
          37555.4,
          37600.55,
          37564.85,
          37538.45,
          37518.45,
          37513.45,
          37472.7,
          37471.5,
          37467,
          37491.65,
          37511.65,
          37524.75,
          37530.15,
          37538.35,
          37540.45,
          37527.35,
          37518.15,
          37500.7,
          37491.8,
          37505.35,
          37523.45,
          37529.75,
          37527.45,
          37540.9,
          37565.8,
          37581.4,
          37607.1,
          37587.8,
          37583,
          37588.05,
          37598.35,
          37608.5,
          37604,
          37588.95,
          37581.1,
          37589.2,
          37583.9,
          37572.15,
          37570.75,
          37570,
          37571.65,
          37565.75,
          37540,
          37549.55,
          37588.95,
          37603.1,
          37625.6,
          37643.3,
          37642.5,
          37648.8,
          37635.35,
          37644.45,
          37661.55,
          37646.05,
          37635.15,
          37643.6,
          37637.85,
          37629.2,
          37640.45,
          37648.25,
          37651.75
         ],
         "low": [
          37594.15,
          37610.3,
          37543.1,
          37502.05,
          37476.7,
          37417.25,
          37407.5,
          37444.45,
          37467.2,
          37490.4,
          37552.3,
          37522.6,
          37497.3,
          37502.55,
          37463.1,
          37444.15,
          37439.05,
          37447.6,
          37450.4,
          37487.4,
          37493.9,
          37503.7,
          37512.35,
          37523.35,
          37505.55,
          37487.7,
          37485.85,
          37455.4,
          37468.85,
          37497.85,
          37512.5,
          37498.95,
          37496.75,
          37539.85,
          37559,
          37581.6,
          37570.25,
          37574.85,
          37565,
          37586.45,
          37590.75,
          37577.55,
          37570.2,
          37565.65,
          37564.25,
          37561.35,
          37556.05,
          37554,
          37557.65,
          37557,
          37534.55,
          37519.1,
          37530.55,
          37548.3,
          37584.9,
          37593.75,
          37626.2,
          37621.05,
          37620.05,
          37624.2,
          37626.2,
          37639.85,
          37614.8,
          37607.35,
          37625.25,
          37616.7,
          37612.55,
          37622.6,
          37635.45,
          37633.35
         ],
         "open": [
          37594.15,
          37630.2,
          37619.4,
          37545.55,
          37528,
          37482.75,
          37417.55,
          37453.9,
          37490.55,
          37490.4,
          37552.3,
          37560.55,
          37523.1,
          37504.75,
          37509.6,
          37470.45,
          37441.6,
          37460.85,
          37458.8,
          37488.75,
          37505.85,
          37525.9,
          37512.35,
          37533.55,
          37527.35,
          37518.1,
          37488.15,
          37486.45,
          37475.9,
          37501.45,
          37524.75,
          37524.5,
          37496.75,
          37540.3,
          37561.2,
          37582.05,
          37583.9,
          37581.95,
          37580.15,
          37589.7,
          37591.25,
          37602,
          37580.95,
          37580.05,
          37579,
          37573.85,
          37560.45,
          37570.75,
          37562.7,
          37567.5,
          37565.75,
          37535.45,
          37537.35,
          37550.4,
          37588.55,
          37594.6,
          37627,
          37628.4,
          37639,
          37628.6,
          37626.2,
          37645.25,
          37643.05,
          37615.75,
          37630.05,
          37629.65,
          37618.05,
          37623.15,
          37643.3,
          37648.25
         ],
         "type": "candlestick",
         "x": [
          "2022-08-01 09:15:00+05:30",
          "2022-08-01 09:16:00+05:30",
          "2022-08-01 09:17:00+05:30",
          "2022-08-01 09:18:00+05:30",
          "2022-08-01 09:19:00+05:30",
          "2022-08-01 09:20:00+05:30",
          "2022-08-01 09:21:00+05:30",
          "2022-08-01 09:22:00+05:30",
          "2022-08-01 09:23:00+05:30",
          "2022-08-01 09:24:00+05:30",
          "2022-08-01 09:25:00+05:30",
          "2022-08-01 09:26:00+05:30",
          "2022-08-01 09:27:00+05:30",
          "2022-08-01 09:28:00+05:30",
          "2022-08-01 09:29:00+05:30",
          "2022-08-01 09:30:00+05:30",
          "2022-08-01 09:31:00+05:30",
          "2022-08-01 09:32:00+05:30",
          "2022-08-01 09:33:00+05:30",
          "2022-08-01 09:34:00+05:30",
          "2022-08-01 09:35:00+05:30",
          "2022-08-01 09:36:00+05:30",
          "2022-08-01 09:37:00+05:30",
          "2022-08-01 09:38:00+05:30",
          "2022-08-01 09:39:00+05:30",
          "2022-08-01 09:40:00+05:30",
          "2022-08-01 09:41:00+05:30",
          "2022-08-01 09:42:00+05:30",
          "2022-08-01 09:43:00+05:30",
          "2022-08-01 09:44:00+05:30",
          "2022-08-01 09:45:00+05:30",
          "2022-08-01 09:46:00+05:30",
          "2022-08-01 09:47:00+05:30",
          "2022-08-01 09:48:00+05:30",
          "2022-08-01 09:49:00+05:30",
          "2022-08-01 09:50:00+05:30",
          "2022-08-01 09:51:00+05:30",
          "2022-08-01 09:52:00+05:30",
          "2022-08-01 09:53:00+05:30",
          "2022-08-01 09:54:00+05:30",
          "2022-08-01 09:55:00+05:30",
          "2022-08-01 09:56:00+05:30",
          "2022-08-01 09:57:00+05:30",
          "2022-08-01 09:58:00+05:30",
          "2022-08-01 09:59:00+05:30",
          "2022-08-01 10:00:00+05:30",
          "2022-08-01 10:01:00+05:30",
          "2022-08-01 10:02:00+05:30",
          "2022-08-01 10:03:00+05:30",
          "2022-08-01 10:04:00+05:30",
          "2022-08-01 10:05:00+05:30",
          "2022-08-01 10:06:00+05:30",
          "2022-08-01 10:07:00+05:30",
          "2022-08-01 10:08:00+05:30",
          "2022-08-01 10:09:00+05:30",
          "2022-08-01 10:10:00+05:30",
          "2022-08-01 10:11:00+05:30",
          "2022-08-01 10:12:00+05:30",
          "2022-08-01 10:13:00+05:30",
          "2022-08-01 10:14:00+05:30",
          "2022-08-01 10:15:00+05:30",
          "2022-08-01 10:16:00+05:30",
          "2022-08-01 10:17:00+05:30",
          "2022-08-01 10:18:00+05:30",
          "2022-08-01 10:19:00+05:30",
          "2022-08-01 10:20:00+05:30",
          "2022-08-01 10:21:00+05:30",
          "2022-08-01 10:22:00+05:30",
          "2022-08-01 10:23:00+05:30",
          "2022-08-01 10:24:00+05:30"
         ]
        }
       ],
       "layout": {
        "shapes": [
         {
          "line": {
           "color": "green",
           "width": 1
          },
          "type": "line",
          "x0": 0,
          "x1": 1,
          "xref": "x domain",
          "y0": 0,
          "y1": 0,
          "yref": "y"
         },
         {
          "line": {
           "color": "red",
           "width": 1
          },
          "type": "line",
          "x0": 0,
          "x1": 1,
          "xref": "x domain",
          "y0": 0,
          "y1": 0,
          "yref": "y"
         },
         {
          "line": {
           "color": "black",
           "width": 3
          },
          "type": "line",
          "x0": 0,
          "x1": 1,
          "xref": "x domain",
          "y0": 0,
          "y1": 0,
          "yref": "y"
         }
        ],
        "template": {
         "data": {
          "bar": [
           {
            "error_x": {
             "color": "#2a3f5f"
            },
            "error_y": {
             "color": "#2a3f5f"
            },
            "marker": {
             "line": {
              "color": "#E5ECF6",
              "width": 0.5
             },
             "pattern": {
              "fillmode": "overlay",
              "size": 10,
              "solidity": 0.2
             }
            },
            "type": "bar"
           }
          ],
          "barpolar": [
           {
            "marker": {
             "line": {
              "color": "#E5ECF6",
              "width": 0.5
             },
             "pattern": {
              "fillmode": "overlay",
              "size": 10,
              "solidity": 0.2
             }
            },
            "type": "barpolar"
           }
          ],
          "carpet": [
           {
            "aaxis": {
             "endlinecolor": "#2a3f5f",
             "gridcolor": "white",
             "linecolor": "white",
             "minorgridcolor": "white",
             "startlinecolor": "#2a3f5f"
            },
            "baxis": {
             "endlinecolor": "#2a3f5f",
             "gridcolor": "white",
             "linecolor": "white",
             "minorgridcolor": "white",
             "startlinecolor": "#2a3f5f"
            },
            "type": "carpet"
           }
          ],
          "choropleth": [
           {
            "colorbar": {
             "outlinewidth": 0,
             "ticks": ""
            },
            "type": "choropleth"
           }
          ],
          "contour": [
           {
            "colorbar": {
             "outlinewidth": 0,
             "ticks": ""
            },
            "colorscale": [
             [
              0,
              "#0d0887"
             ],
             [
              0.1111111111111111,
              "#46039f"
             ],
             [
              0.2222222222222222,
              "#7201a8"
             ],
             [
              0.3333333333333333,
              "#9c179e"
             ],
             [
              0.4444444444444444,
              "#bd3786"
             ],
             [
              0.5555555555555556,
              "#d8576b"
             ],
             [
              0.6666666666666666,
              "#ed7953"
             ],
             [
              0.7777777777777778,
              "#fb9f3a"
             ],
             [
              0.8888888888888888,
              "#fdca26"
             ],
             [
              1,
              "#f0f921"
             ]
            ],
            "type": "contour"
           }
          ],
          "contourcarpet": [
           {
            "colorbar": {
             "outlinewidth": 0,
             "ticks": ""
            },
            "type": "contourcarpet"
           }
          ],
          "heatmap": [
           {
            "colorbar": {
             "outlinewidth": 0,
             "ticks": ""
            },
            "colorscale": [
             [
              0,
              "#0d0887"
             ],
             [
              0.1111111111111111,
              "#46039f"
             ],
             [
              0.2222222222222222,
              "#7201a8"
             ],
             [
              0.3333333333333333,
              "#9c179e"
             ],
             [
              0.4444444444444444,
              "#bd3786"
             ],
             [
              0.5555555555555556,
              "#d8576b"
             ],
             [
              0.6666666666666666,
              "#ed7953"
             ],
             [
              0.7777777777777778,
              "#fb9f3a"
             ],
             [
              0.8888888888888888,
              "#fdca26"
             ],
             [
              1,
              "#f0f921"
             ]
            ],
            "type": "heatmap"
           }
          ],
          "heatmapgl": [
           {
            "colorbar": {
             "outlinewidth": 0,
             "ticks": ""
            },
            "colorscale": [
             [
              0,
              "#0d0887"
             ],
             [
              0.1111111111111111,
              "#46039f"
             ],
             [
              0.2222222222222222,
              "#7201a8"
             ],
             [
              0.3333333333333333,
              "#9c179e"
             ],
             [
              0.4444444444444444,
              "#bd3786"
             ],
             [
              0.5555555555555556,
              "#d8576b"
             ],
             [
              0.6666666666666666,
              "#ed7953"
             ],
             [
              0.7777777777777778,
              "#fb9f3a"
             ],
             [
              0.8888888888888888,
              "#fdca26"
             ],
             [
              1,
              "#f0f921"
             ]
            ],
            "type": "heatmapgl"
           }
          ],
          "histogram": [
           {
            "marker": {
             "pattern": {
              "fillmode": "overlay",
              "size": 10,
              "solidity": 0.2
             }
            },
            "type": "histogram"
           }
          ],
          "histogram2d": [
           {
            "colorbar": {
             "outlinewidth": 0,
             "ticks": ""
            },
            "colorscale": [
             [
              0,
              "#0d0887"
             ],
             [
              0.1111111111111111,
              "#46039f"
             ],
             [
              0.2222222222222222,
              "#7201a8"
             ],
             [
              0.3333333333333333,
              "#9c179e"
             ],
             [
              0.4444444444444444,
              "#bd3786"
             ],
             [
              0.5555555555555556,
              "#d8576b"
             ],
             [
              0.6666666666666666,
              "#ed7953"
             ],
             [
              0.7777777777777778,
              "#fb9f3a"
             ],
             [
              0.8888888888888888,
              "#fdca26"
             ],
             [
              1,
              "#f0f921"
             ]
            ],
            "type": "histogram2d"
           }
          ],
          "histogram2dcontour": [
           {
            "colorbar": {
             "outlinewidth": 0,
             "ticks": ""
            },
            "colorscale": [
             [
              0,
              "#0d0887"
             ],
             [
              0.1111111111111111,
              "#46039f"
             ],
             [
              0.2222222222222222,
              "#7201a8"
             ],
             [
              0.3333333333333333,
              "#9c179e"
             ],
             [
              0.4444444444444444,
              "#bd3786"
             ],
             [
              0.5555555555555556,
              "#d8576b"
             ],
             [
              0.6666666666666666,
              "#ed7953"
             ],
             [
              0.7777777777777778,
              "#fb9f3a"
             ],
             [
              0.8888888888888888,
              "#fdca26"
             ],
             [
              1,
              "#f0f921"
             ]
            ],
            "type": "histogram2dcontour"
           }
          ],
          "mesh3d": [
           {
            "colorbar": {
             "outlinewidth": 0,
             "ticks": ""
            },
            "type": "mesh3d"
           }
          ],
          "parcoords": [
           {
            "line": {
             "colorbar": {
              "outlinewidth": 0,
              "ticks": ""
             }
            },
            "type": "parcoords"
           }
          ],
          "pie": [
           {
            "automargin": true,
            "type": "pie"
           }
          ],
          "scatter": [
           {
            "fillpattern": {
             "fillmode": "overlay",
             "size": 10,
             "solidity": 0.2
            },
            "type": "scatter"
           }
          ],
          "scatter3d": [
           {
            "line": {
             "colorbar": {
              "outlinewidth": 0,
              "ticks": ""
             }
            },
            "marker": {
             "colorbar": {
              "outlinewidth": 0,
              "ticks": ""
             }
            },
            "type": "scatter3d"
           }
          ],
          "scattercarpet": [
           {
            "marker": {
             "colorbar": {
              "outlinewidth": 0,
              "ticks": ""
             }
            },
            "type": "scattercarpet"
           }
          ],
          "scattergeo": [
           {
            "marker": {
             "colorbar": {
              "outlinewidth": 0,
              "ticks": ""
             }
            },
            "type": "scattergeo"
           }
          ],
          "scattergl": [
           {
            "marker": {
             "colorbar": {
              "outlinewidth": 0,
              "ticks": ""
             }
            },
            "type": "scattergl"
           }
          ],
          "scattermapbox": [
           {
            "marker": {
             "colorbar": {
              "outlinewidth": 0,
              "ticks": ""
             }
            },
            "type": "scattermapbox"
           }
          ],
          "scatterpolar": [
           {
            "marker": {
             "colorbar": {
              "outlinewidth": 0,
              "ticks": ""
             }
            },
            "type": "scatterpolar"
           }
          ],
          "scatterpolargl": [
           {
            "marker": {
             "colorbar": {
              "outlinewidth": 0,
              "ticks": ""
             }
            },
            "type": "scatterpolargl"
           }
          ],
          "scatterternary": [
           {
            "marker": {
             "colorbar": {
              "outlinewidth": 0,
              "ticks": ""
             }
            },
            "type": "scatterternary"
           }
          ],
          "surface": [
           {
            "colorbar": {
             "outlinewidth": 0,
             "ticks": ""
            },
            "colorscale": [
             [
              0,
              "#0d0887"
             ],
             [
              0.1111111111111111,
              "#46039f"
             ],
             [
              0.2222222222222222,
              "#7201a8"
             ],
             [
              0.3333333333333333,
              "#9c179e"
             ],
             [
              0.4444444444444444,
              "#bd3786"
             ],
             [
              0.5555555555555556,
              "#d8576b"
             ],
             [
              0.6666666666666666,
              "#ed7953"
             ],
             [
              0.7777777777777778,
              "#fb9f3a"
             ],
             [
              0.8888888888888888,
              "#fdca26"
             ],
             [
              1,
              "#f0f921"
             ]
            ],
            "type": "surface"
           }
          ],
          "table": [
           {
            "cells": {
             "fill": {
              "color": "#EBF0F8"
             },
             "line": {
              "color": "white"
             }
            },
            "header": {
             "fill": {
              "color": "#C8D4E3"
             },
             "line": {
              "color": "white"
             }
            },
            "type": "table"
           }
          ]
         },
         "layout": {
          "annotationdefaults": {
           "arrowcolor": "#2a3f5f",
           "arrowhead": 0,
           "arrowwidth": 1
          },
          "autotypenumbers": "strict",
          "coloraxis": {
           "colorbar": {
            "outlinewidth": 0,
            "ticks": ""
           }
          },
          "colorscale": {
           "diverging": [
            [
             0,
             "#8e0152"
            ],
            [
             0.1,
             "#c51b7d"
            ],
            [
             0.2,
             "#de77ae"
            ],
            [
             0.3,
             "#f1b6da"
            ],
            [
             0.4,
             "#fde0ef"
            ],
            [
             0.5,
             "#f7f7f7"
            ],
            [
             0.6,
             "#e6f5d0"
            ],
            [
             0.7,
             "#b8e186"
            ],
            [
             0.8,
             "#7fbc41"
            ],
            [
             0.9,
             "#4d9221"
            ],
            [
             1,
             "#276419"
            ]
           ],
           "sequential": [
            [
             0,
             "#0d0887"
            ],
            [
             0.1111111111111111,
             "#46039f"
            ],
            [
             0.2222222222222222,
             "#7201a8"
            ],
            [
             0.3333333333333333,
             "#9c179e"
            ],
            [
             0.4444444444444444,
             "#bd3786"
            ],
            [
             0.5555555555555556,
             "#d8576b"
            ],
            [
             0.6666666666666666,
             "#ed7953"
            ],
            [
             0.7777777777777778,
             "#fb9f3a"
            ],
            [
             0.8888888888888888,
             "#fdca26"
            ],
            [
             1,
             "#f0f921"
            ]
           ],
           "sequentialminus": [
            [
             0,
             "#0d0887"
            ],
            [
             0.1111111111111111,
             "#46039f"
            ],
            [
             0.2222222222222222,
             "#7201a8"
            ],
            [
             0.3333333333333333,
             "#9c179e"
            ],
            [
             0.4444444444444444,
             "#bd3786"
            ],
            [
             0.5555555555555556,
             "#d8576b"
            ],
            [
             0.6666666666666666,
             "#ed7953"
            ],
            [
             0.7777777777777778,
             "#fb9f3a"
            ],
            [
             0.8888888888888888,
             "#fdca26"
            ],
            [
             1,
             "#f0f921"
            ]
           ]
          },
          "colorway": [
           "#636efa",
           "#EF553B",
           "#00cc96",
           "#ab63fa",
           "#FFA15A",
           "#19d3f3",
           "#FF6692",
           "#B6E880",
           "#FF97FF",
           "#FECB52"
          ],
          "font": {
           "color": "#2a3f5f"
          },
          "geo": {
           "bgcolor": "white",
           "lakecolor": "white",
           "landcolor": "#E5ECF6",
           "showlakes": true,
           "showland": true,
           "subunitcolor": "white"
          },
          "hoverlabel": {
           "align": "left"
          },
          "hovermode": "closest",
          "mapbox": {
           "style": "light"
          },
          "paper_bgcolor": "white",
          "plot_bgcolor": "#E5ECF6",
          "polar": {
           "angularaxis": {
            "gridcolor": "white",
            "linecolor": "white",
            "ticks": ""
           },
           "bgcolor": "#E5ECF6",
           "radialaxis": {
            "gridcolor": "white",
            "linecolor": "white",
            "ticks": ""
           }
          },
          "scene": {
           "xaxis": {
            "backgroundcolor": "#E5ECF6",
            "gridcolor": "white",
            "gridwidth": 2,
            "linecolor": "white",
            "showbackground": true,
            "ticks": "",
            "zerolinecolor": "white"
           },
           "yaxis": {
            "backgroundcolor": "#E5ECF6",
            "gridcolor": "white",
            "gridwidth": 2,
            "linecolor": "white",
            "showbackground": true,
            "ticks": "",
            "zerolinecolor": "white"
           },
           "zaxis": {
            "backgroundcolor": "#E5ECF6",
            "gridcolor": "white",
            "gridwidth": 2,
            "linecolor": "white",
            "showbackground": true,
            "ticks": "",
            "zerolinecolor": "white"
           }
          },
          "shapedefaults": {
           "line": {
            "color": "#2a3f5f"
           }
          },
          "ternary": {
           "aaxis": {
            "gridcolor": "white",
            "linecolor": "white",
            "ticks": ""
           },
           "baxis": {
            "gridcolor": "white",
            "linecolor": "white",
            "ticks": ""
           },
           "bgcolor": "#E5ECF6",
           "caxis": {
            "gridcolor": "white",
            "linecolor": "white",
            "ticks": ""
           }
          },
          "title": {
           "x": 0.05
          },
          "xaxis": {
           "automargin": true,
           "gridcolor": "white",
           "linecolor": "white",
           "ticks": "",
           "title": {
            "standoff": 15
           },
           "zerolinecolor": "white",
           "zerolinewidth": 2
          },
          "yaxis": {
           "automargin": true,
           "gridcolor": "white",
           "linecolor": "white",
           "ticks": "",
           "title": {
            "standoff": 15
           },
           "zerolinecolor": "white",
           "zerolinewidth": 2
          }
         }
        }
       }
      },
      "text/html": [
       "<div>                            <div id=\"9dbfac5c-4c29-452a-a5d3-b03d3182611a\" class=\"plotly-graph-div\" style=\"height:525px; width:100%;\"></div>            <script type=\"text/javascript\">                require([\"plotly\"], function(Plotly) {                    window.PLOTLYENV=window.PLOTLYENV || {};                                    if (document.getElementById(\"9dbfac5c-4c29-452a-a5d3-b03d3182611a\")) {                    Plotly.newPlot(                        \"9dbfac5c-4c29-452a-a5d3-b03d3182611a\",                        [{\"close\":[37628.3,37616.85,37543.1,37530.45,37480.1,37421.9,37453.85,37487.4,37491.4,37552.55,37562.5,37523.5,37504.3,37510.15,37470.8,37446.55,37469.7,37454.85,37490.4,37500.5,37524.75,37513.45,37535.25,37525.8,37516.35,37489.45,37487.15,37469.5,37504.8,37523.45,37524.5,37498.95,37532.65,37560.55,37580.15,37581.8,37580.75,37580.7,37587.8,37594.0,37599.6,37580.7,37579.7,37577.95,37572.35,37561.55,37565.8,37557.8,37566.1,37565.55,37535.8,37535.4,37546.25,37588.95,37593.4,37622.9,37628.15,37642.5,37630.5,37626.9,37644.45,37643.0,37618.0,37628.55,37628.95,37618.8,37623.15,37640.45,37648.25,37638.25],\"high\":[37655.45,37638.2,37619.4,37547.05,37528.0,37482.75,37457.5,37487.95,37496.05,37555.4,37600.55,37564.85,37538.45,37518.45,37513.45,37472.7,37471.5,37467.0,37491.65,37511.65,37524.75,37530.15,37538.35,37540.45,37527.35,37518.15,37500.7,37491.8,37505.35,37523.45,37529.75,37527.45,37540.9,37565.8,37581.4,37607.1,37587.8,37583.0,37588.05,37598.35,37608.5,37604.0,37588.95,37581.1,37589.2,37583.9,37572.15,37570.75,37570.0,37571.65,37565.75,37540.0,37549.55,37588.95,37603.1,37625.6,37643.3,37642.5,37648.8,37635.35,37644.45,37661.55,37646.05,37635.15,37643.6,37637.85,37629.2,37640.45,37648.25,37651.75],\"low\":[37594.15,37610.3,37543.1,37502.05,37476.7,37417.25,37407.5,37444.45,37467.2,37490.4,37552.3,37522.6,37497.3,37502.55,37463.1,37444.15,37439.05,37447.6,37450.4,37487.4,37493.9,37503.7,37512.35,37523.35,37505.55,37487.7,37485.85,37455.4,37468.85,37497.85,37512.5,37498.95,37496.75,37539.85,37559.0,37581.6,37570.25,37574.85,37565.0,37586.45,37590.75,37577.55,37570.2,37565.65,37564.25,37561.35,37556.05,37554.0,37557.65,37557.0,37534.55,37519.1,37530.55,37548.3,37584.9,37593.75,37626.2,37621.05,37620.05,37624.2,37626.2,37639.85,37614.8,37607.35,37625.25,37616.7,37612.55,37622.6,37635.45,37633.35],\"open\":[37594.15,37630.2,37619.4,37545.55,37528.0,37482.75,37417.55,37453.9,37490.55,37490.4,37552.3,37560.55,37523.1,37504.75,37509.6,37470.45,37441.6,37460.85,37458.8,37488.75,37505.85,37525.9,37512.35,37533.55,37527.35,37518.1,37488.15,37486.45,37475.9,37501.45,37524.75,37524.5,37496.75,37540.3,37561.2,37582.05,37583.9,37581.95,37580.15,37589.7,37591.25,37602.0,37580.95,37580.05,37579.0,37573.85,37560.45,37570.75,37562.7,37567.5,37565.75,37535.45,37537.35,37550.4,37588.55,37594.6,37627.0,37628.4,37639.0,37628.6,37626.2,37645.25,37643.05,37615.75,37630.05,37629.65,37618.05,37623.15,37643.3,37648.25],\"x\":[\"2022-08-01 09:15:00+05:30\",\"2022-08-01 09:16:00+05:30\",\"2022-08-01 09:17:00+05:30\",\"2022-08-01 09:18:00+05:30\",\"2022-08-01 09:19:00+05:30\",\"2022-08-01 09:20:00+05:30\",\"2022-08-01 09:21:00+05:30\",\"2022-08-01 09:22:00+05:30\",\"2022-08-01 09:23:00+05:30\",\"2022-08-01 09:24:00+05:30\",\"2022-08-01 09:25:00+05:30\",\"2022-08-01 09:26:00+05:30\",\"2022-08-01 09:27:00+05:30\",\"2022-08-01 09:28:00+05:30\",\"2022-08-01 09:29:00+05:30\",\"2022-08-01 09:30:00+05:30\",\"2022-08-01 09:31:00+05:30\",\"2022-08-01 09:32:00+05:30\",\"2022-08-01 09:33:00+05:30\",\"2022-08-01 09:34:00+05:30\",\"2022-08-01 09:35:00+05:30\",\"2022-08-01 09:36:00+05:30\",\"2022-08-01 09:37:00+05:30\",\"2022-08-01 09:38:00+05:30\",\"2022-08-01 09:39:00+05:30\",\"2022-08-01 09:40:00+05:30\",\"2022-08-01 09:41:00+05:30\",\"2022-08-01 09:42:00+05:30\",\"2022-08-01 09:43:00+05:30\",\"2022-08-01 09:44:00+05:30\",\"2022-08-01 09:45:00+05:30\",\"2022-08-01 09:46:00+05:30\",\"2022-08-01 09:47:00+05:30\",\"2022-08-01 09:48:00+05:30\",\"2022-08-01 09:49:00+05:30\",\"2022-08-01 09:50:00+05:30\",\"2022-08-01 09:51:00+05:30\",\"2022-08-01 09:52:00+05:30\",\"2022-08-01 09:53:00+05:30\",\"2022-08-01 09:54:00+05:30\",\"2022-08-01 09:55:00+05:30\",\"2022-08-01 09:56:00+05:30\",\"2022-08-01 09:57:00+05:30\",\"2022-08-01 09:58:00+05:30\",\"2022-08-01 09:59:00+05:30\",\"2022-08-01 10:00:00+05:30\",\"2022-08-01 10:01:00+05:30\",\"2022-08-01 10:02:00+05:30\",\"2022-08-01 10:03:00+05:30\",\"2022-08-01 10:04:00+05:30\",\"2022-08-01 10:05:00+05:30\",\"2022-08-01 10:06:00+05:30\",\"2022-08-01 10:07:00+05:30\",\"2022-08-01 10:08:00+05:30\",\"2022-08-01 10:09:00+05:30\",\"2022-08-01 10:10:00+05:30\",\"2022-08-01 10:11:00+05:30\",\"2022-08-01 10:12:00+05:30\",\"2022-08-01 10:13:00+05:30\",\"2022-08-01 10:14:00+05:30\",\"2022-08-01 10:15:00+05:30\",\"2022-08-01 10:16:00+05:30\",\"2022-08-01 10:17:00+05:30\",\"2022-08-01 10:18:00+05:30\",\"2022-08-01 10:19:00+05:30\",\"2022-08-01 10:20:00+05:30\",\"2022-08-01 10:21:00+05:30\",\"2022-08-01 10:22:00+05:30\",\"2022-08-01 10:23:00+05:30\",\"2022-08-01 10:24:00+05:30\"],\"type\":\"candlestick\"}],                        {\"template\":{\"data\":{\"histogram2dcontour\":[{\"type\":\"histogram2dcontour\",\"colorbar\":{\"outlinewidth\":0,\"ticks\":\"\"},\"colorscale\":[[0.0,\"#0d0887\"],[0.1111111111111111,\"#46039f\"],[0.2222222222222222,\"#7201a8\"],[0.3333333333333333,\"#9c179e\"],[0.4444444444444444,\"#bd3786\"],[0.5555555555555556,\"#d8576b\"],[0.6666666666666666,\"#ed7953\"],[0.7777777777777778,\"#fb9f3a\"],[0.8888888888888888,\"#fdca26\"],[1.0,\"#f0f921\"]]}],\"choropleth\":[{\"type\":\"choropleth\",\"colorbar\":{\"outlinewidth\":0,\"ticks\":\"\"}}],\"histogram2d\":[{\"type\":\"histogram2d\",\"colorbar\":{\"outlinewidth\":0,\"ticks\":\"\"},\"colorscale\":[[0.0,\"#0d0887\"],[0.1111111111111111,\"#46039f\"],[0.2222222222222222,\"#7201a8\"],[0.3333333333333333,\"#9c179e\"],[0.4444444444444444,\"#bd3786\"],[0.5555555555555556,\"#d8576b\"],[0.6666666666666666,\"#ed7953\"],[0.7777777777777778,\"#fb9f3a\"],[0.8888888888888888,\"#fdca26\"],[1.0,\"#f0f921\"]]}],\"heatmap\":[{\"type\":\"heatmap\",\"colorbar\":{\"outlinewidth\":0,\"ticks\":\"\"},\"colorscale\":[[0.0,\"#0d0887\"],[0.1111111111111111,\"#46039f\"],[0.2222222222222222,\"#7201a8\"],[0.3333333333333333,\"#9c179e\"],[0.4444444444444444,\"#bd3786\"],[0.5555555555555556,\"#d8576b\"],[0.6666666666666666,\"#ed7953\"],[0.7777777777777778,\"#fb9f3a\"],[0.8888888888888888,\"#fdca26\"],[1.0,\"#f0f921\"]]}],\"heatmapgl\":[{\"type\":\"heatmapgl\",\"colorbar\":{\"outlinewidth\":0,\"ticks\":\"\"},\"colorscale\":[[0.0,\"#0d0887\"],[0.1111111111111111,\"#46039f\"],[0.2222222222222222,\"#7201a8\"],[0.3333333333333333,\"#9c179e\"],[0.4444444444444444,\"#bd3786\"],[0.5555555555555556,\"#d8576b\"],[0.6666666666666666,\"#ed7953\"],[0.7777777777777778,\"#fb9f3a\"],[0.8888888888888888,\"#fdca26\"],[1.0,\"#f0f921\"]]}],\"contourcarpet\":[{\"type\":\"contourcarpet\",\"colorbar\":{\"outlinewidth\":0,\"ticks\":\"\"}}],\"contour\":[{\"type\":\"contour\",\"colorbar\":{\"outlinewidth\":0,\"ticks\":\"\"},\"colorscale\":[[0.0,\"#0d0887\"],[0.1111111111111111,\"#46039f\"],[0.2222222222222222,\"#7201a8\"],[0.3333333333333333,\"#9c179e\"],[0.4444444444444444,\"#bd3786\"],[0.5555555555555556,\"#d8576b\"],[0.6666666666666666,\"#ed7953\"],[0.7777777777777778,\"#fb9f3a\"],[0.8888888888888888,\"#fdca26\"],[1.0,\"#f0f921\"]]}],\"surface\":[{\"type\":\"surface\",\"colorbar\":{\"outlinewidth\":0,\"ticks\":\"\"},\"colorscale\":[[0.0,\"#0d0887\"],[0.1111111111111111,\"#46039f\"],[0.2222222222222222,\"#7201a8\"],[0.3333333333333333,\"#9c179e\"],[0.4444444444444444,\"#bd3786\"],[0.5555555555555556,\"#d8576b\"],[0.6666666666666666,\"#ed7953\"],[0.7777777777777778,\"#fb9f3a\"],[0.8888888888888888,\"#fdca26\"],[1.0,\"#f0f921\"]]}],\"mesh3d\":[{\"type\":\"mesh3d\",\"colorbar\":{\"outlinewidth\":0,\"ticks\":\"\"}}],\"scatter\":[{\"fillpattern\":{\"fillmode\":\"overlay\",\"size\":10,\"solidity\":0.2},\"type\":\"scatter\"}],\"parcoords\":[{\"type\":\"parcoords\",\"line\":{\"colorbar\":{\"outlinewidth\":0,\"ticks\":\"\"}}}],\"scatterpolargl\":[{\"type\":\"scatterpolargl\",\"marker\":{\"colorbar\":{\"outlinewidth\":0,\"ticks\":\"\"}}}],\"bar\":[{\"error_x\":{\"color\":\"#2a3f5f\"},\"error_y\":{\"color\":\"#2a3f5f\"},\"marker\":{\"line\":{\"color\":\"#E5ECF6\",\"width\":0.5},\"pattern\":{\"fillmode\":\"overlay\",\"size\":10,\"solidity\":0.2}},\"type\":\"bar\"}],\"scattergeo\":[{\"type\":\"scattergeo\",\"marker\":{\"colorbar\":{\"outlinewidth\":0,\"ticks\":\"\"}}}],\"scatterpolar\":[{\"type\":\"scatterpolar\",\"marker\":{\"colorbar\":{\"outlinewidth\":0,\"ticks\":\"\"}}}],\"histogram\":[{\"marker\":{\"pattern\":{\"fillmode\":\"overlay\",\"size\":10,\"solidity\":0.2}},\"type\":\"histogram\"}],\"scattergl\":[{\"type\":\"scattergl\",\"marker\":{\"colorbar\":{\"outlinewidth\":0,\"ticks\":\"\"}}}],\"scatter3d\":[{\"type\":\"scatter3d\",\"line\":{\"colorbar\":{\"outlinewidth\":0,\"ticks\":\"\"}},\"marker\":{\"colorbar\":{\"outlinewidth\":0,\"ticks\":\"\"}}}],\"scattermapbox\":[{\"type\":\"scattermapbox\",\"marker\":{\"colorbar\":{\"outlinewidth\":0,\"ticks\":\"\"}}}],\"scatterternary\":[{\"type\":\"scatterternary\",\"marker\":{\"colorbar\":{\"outlinewidth\":0,\"ticks\":\"\"}}}],\"scattercarpet\":[{\"type\":\"scattercarpet\",\"marker\":{\"colorbar\":{\"outlinewidth\":0,\"ticks\":\"\"}}}],\"carpet\":[{\"aaxis\":{\"endlinecolor\":\"#2a3f5f\",\"gridcolor\":\"white\",\"linecolor\":\"white\",\"minorgridcolor\":\"white\",\"startlinecolor\":\"#2a3f5f\"},\"baxis\":{\"endlinecolor\":\"#2a3f5f\",\"gridcolor\":\"white\",\"linecolor\":\"white\",\"minorgridcolor\":\"white\",\"startlinecolor\":\"#2a3f5f\"},\"type\":\"carpet\"}],\"table\":[{\"cells\":{\"fill\":{\"color\":\"#EBF0F8\"},\"line\":{\"color\":\"white\"}},\"header\":{\"fill\":{\"color\":\"#C8D4E3\"},\"line\":{\"color\":\"white\"}},\"type\":\"table\"}],\"barpolar\":[{\"marker\":{\"line\":{\"color\":\"#E5ECF6\",\"width\":0.5},\"pattern\":{\"fillmode\":\"overlay\",\"size\":10,\"solidity\":0.2}},\"type\":\"barpolar\"}],\"pie\":[{\"automargin\":true,\"type\":\"pie\"}]},\"layout\":{\"autotypenumbers\":\"strict\",\"colorway\":[\"#636efa\",\"#EF553B\",\"#00cc96\",\"#ab63fa\",\"#FFA15A\",\"#19d3f3\",\"#FF6692\",\"#B6E880\",\"#FF97FF\",\"#FECB52\"],\"font\":{\"color\":\"#2a3f5f\"},\"hovermode\":\"closest\",\"hoverlabel\":{\"align\":\"left\"},\"paper_bgcolor\":\"white\",\"plot_bgcolor\":\"#E5ECF6\",\"polar\":{\"bgcolor\":\"#E5ECF6\",\"angularaxis\":{\"gridcolor\":\"white\",\"linecolor\":\"white\",\"ticks\":\"\"},\"radialaxis\":{\"gridcolor\":\"white\",\"linecolor\":\"white\",\"ticks\":\"\"}},\"ternary\":{\"bgcolor\":\"#E5ECF6\",\"aaxis\":{\"gridcolor\":\"white\",\"linecolor\":\"white\",\"ticks\":\"\"},\"baxis\":{\"gridcolor\":\"white\",\"linecolor\":\"white\",\"ticks\":\"\"},\"caxis\":{\"gridcolor\":\"white\",\"linecolor\":\"white\",\"ticks\":\"\"}},\"coloraxis\":{\"colorbar\":{\"outlinewidth\":0,\"ticks\":\"\"}},\"colorscale\":{\"sequential\":[[0.0,\"#0d0887\"],[0.1111111111111111,\"#46039f\"],[0.2222222222222222,\"#7201a8\"],[0.3333333333333333,\"#9c179e\"],[0.4444444444444444,\"#bd3786\"],[0.5555555555555556,\"#d8576b\"],[0.6666666666666666,\"#ed7953\"],[0.7777777777777778,\"#fb9f3a\"],[0.8888888888888888,\"#fdca26\"],[1.0,\"#f0f921\"]],\"sequentialminus\":[[0.0,\"#0d0887\"],[0.1111111111111111,\"#46039f\"],[0.2222222222222222,\"#7201a8\"],[0.3333333333333333,\"#9c179e\"],[0.4444444444444444,\"#bd3786\"],[0.5555555555555556,\"#d8576b\"],[0.6666666666666666,\"#ed7953\"],[0.7777777777777778,\"#fb9f3a\"],[0.8888888888888888,\"#fdca26\"],[1.0,\"#f0f921\"]],\"diverging\":[[0,\"#8e0152\"],[0.1,\"#c51b7d\"],[0.2,\"#de77ae\"],[0.3,\"#f1b6da\"],[0.4,\"#fde0ef\"],[0.5,\"#f7f7f7\"],[0.6,\"#e6f5d0\"],[0.7,\"#b8e186\"],[0.8,\"#7fbc41\"],[0.9,\"#4d9221\"],[1,\"#276419\"]]},\"xaxis\":{\"gridcolor\":\"white\",\"linecolor\":\"white\",\"ticks\":\"\",\"title\":{\"standoff\":15},\"zerolinecolor\":\"white\",\"automargin\":true,\"zerolinewidth\":2},\"yaxis\":{\"gridcolor\":\"white\",\"linecolor\":\"white\",\"ticks\":\"\",\"title\":{\"standoff\":15},\"zerolinecolor\":\"white\",\"automargin\":true,\"zerolinewidth\":2},\"scene\":{\"xaxis\":{\"backgroundcolor\":\"#E5ECF6\",\"gridcolor\":\"white\",\"linecolor\":\"white\",\"showbackground\":true,\"ticks\":\"\",\"zerolinecolor\":\"white\",\"gridwidth\":2},\"yaxis\":{\"backgroundcolor\":\"#E5ECF6\",\"gridcolor\":\"white\",\"linecolor\":\"white\",\"showbackground\":true,\"ticks\":\"\",\"zerolinecolor\":\"white\",\"gridwidth\":2},\"zaxis\":{\"backgroundcolor\":\"#E5ECF6\",\"gridcolor\":\"white\",\"linecolor\":\"white\",\"showbackground\":true,\"ticks\":\"\",\"zerolinecolor\":\"white\",\"gridwidth\":2}},\"shapedefaults\":{\"line\":{\"color\":\"#2a3f5f\"}},\"annotationdefaults\":{\"arrowcolor\":\"#2a3f5f\",\"arrowhead\":0,\"arrowwidth\":1},\"geo\":{\"bgcolor\":\"white\",\"landcolor\":\"#E5ECF6\",\"subunitcolor\":\"white\",\"showland\":true,\"showlakes\":true,\"lakecolor\":\"white\"},\"title\":{\"x\":0.05},\"mapbox\":{\"style\":\"light\"}}},\"shapes\":[{\"line\":{\"color\":\"green\",\"width\":1},\"type\":\"line\",\"x0\":0,\"x1\":1,\"xref\":\"x domain\",\"y0\":0,\"y1\":0,\"yref\":\"y\"},{\"line\":{\"color\":\"red\",\"width\":1},\"type\":\"line\",\"x0\":0,\"x1\":1,\"xref\":\"x domain\",\"y0\":0,\"y1\":0,\"yref\":\"y\"},{\"line\":{\"color\":\"black\",\"width\":3},\"type\":\"line\",\"x0\":0,\"x1\":1,\"xref\":\"x domain\",\"y0\":0,\"y1\":0,\"yref\":\"y\"}]},                        {\"responsive\": true}                    ).then(function(){\n",
       "                            \n",
       "var gd = document.getElementById('9dbfac5c-4c29-452a-a5d3-b03d3182611a');\n",
       "var x = new MutationObserver(function (mutations, observer) {{\n",
       "        var display = window.getComputedStyle(gd).display;\n",
       "        if (!display || display === 'none') {{\n",
       "            console.log([gd, 'removed!']);\n",
       "            Plotly.purge(gd);\n",
       "            observer.disconnect();\n",
       "        }}\n",
       "}});\n",
       "\n",
       "// Listen for the removal of the full notebook cells\n",
       "var notebookContainer = gd.closest('#notebook-container');\n",
       "if (notebookContainer) {{\n",
       "    x.observe(notebookContainer, {childList: true});\n",
       "}}\n",
       "\n",
       "// Listen for the clearing of the current output cell\n",
       "var outputEl = gd.closest('.output');\n",
       "if (outputEl) {{\n",
       "    x.observe(outputEl, {childList: true});\n",
       "}}\n",
       "\n",
       "                        })                };                });            </script>        </div>"
      ]
     },
     "metadata": {},
     "output_type": "display_data"
    },
    {
     "name": "stdout",
     "output_type": "stream",
     "text": [
      "res : [37661.55, 37655.45, 37648.8, 37608.5, 37600.55, 37540.45]\n",
      "sup : [37407.5, 37439.05, 37455.4, 37519.1, 37594.15, 37607.35]\n",
      "################################################################################\n",
      "################################################################################\n",
      "2022-08-01 10:32:00+05:30\n",
      "37613.35 37633.35\n",
      "rr : 12.274456521738081\n"
     ]
    },
    {
     "data": {
      "application/vnd.plotly.v1+json": {
       "config": {
        "plotlyServerURL": "https://plot.ly"
       },
       "data": [
        {
         "close": [
          37628.3,
          37616.85,
          37543.1,
          37530.45,
          37480.1,
          37421.9,
          37453.85,
          37487.4,
          37491.4,
          37552.55,
          37562.5,
          37523.5,
          37504.3,
          37510.15,
          37470.8,
          37446.55,
          37469.7,
          37454.85,
          37490.4,
          37500.5,
          37524.75,
          37513.45,
          37535.25,
          37525.8,
          37516.35,
          37489.45,
          37487.15,
          37469.5,
          37504.8,
          37523.45,
          37524.5,
          37498.95,
          37532.65,
          37560.55,
          37580.15,
          37581.8,
          37580.75,
          37580.7,
          37587.8,
          37594,
          37599.6,
          37580.7,
          37579.7,
          37577.95,
          37572.35,
          37561.55,
          37565.8,
          37557.8,
          37566.1,
          37565.55,
          37535.8,
          37535.4,
          37546.25,
          37588.95,
          37593.4,
          37622.9,
          37628.15,
          37642.5,
          37630.5,
          37626.9,
          37644.45,
          37643,
          37618,
          37628.55,
          37628.95,
          37618.8,
          37623.15,
          37640.45,
          37648.25,
          37638.25,
          37633.9
         ],
         "high": [
          37655.45,
          37638.2,
          37619.4,
          37547.05,
          37528,
          37482.75,
          37457.5,
          37487.95,
          37496.05,
          37555.4,
          37600.55,
          37564.85,
          37538.45,
          37518.45,
          37513.45,
          37472.7,
          37471.5,
          37467,
          37491.65,
          37511.65,
          37524.75,
          37530.15,
          37538.35,
          37540.45,
          37527.35,
          37518.15,
          37500.7,
          37491.8,
          37505.35,
          37523.45,
          37529.75,
          37527.45,
          37540.9,
          37565.8,
          37581.4,
          37607.1,
          37587.8,
          37583,
          37588.05,
          37598.35,
          37608.5,
          37604,
          37588.95,
          37581.1,
          37589.2,
          37583.9,
          37572.15,
          37570.75,
          37570,
          37571.65,
          37565.75,
          37540,
          37549.55,
          37588.95,
          37603.1,
          37625.6,
          37643.3,
          37642.5,
          37648.8,
          37635.35,
          37644.45,
          37661.55,
          37646.05,
          37635.15,
          37643.6,
          37637.85,
          37629.2,
          37640.45,
          37648.25,
          37651.75,
          37646.05
         ],
         "low": [
          37594.15,
          37610.3,
          37543.1,
          37502.05,
          37476.7,
          37417.25,
          37407.5,
          37444.45,
          37467.2,
          37490.4,
          37552.3,
          37522.6,
          37497.3,
          37502.55,
          37463.1,
          37444.15,
          37439.05,
          37447.6,
          37450.4,
          37487.4,
          37493.9,
          37503.7,
          37512.35,
          37523.35,
          37505.55,
          37487.7,
          37485.85,
          37455.4,
          37468.85,
          37497.85,
          37512.5,
          37498.95,
          37496.75,
          37539.85,
          37559,
          37581.6,
          37570.25,
          37574.85,
          37565,
          37586.45,
          37590.75,
          37577.55,
          37570.2,
          37565.65,
          37564.25,
          37561.35,
          37556.05,
          37554,
          37557.65,
          37557,
          37534.55,
          37519.1,
          37530.55,
          37548.3,
          37584.9,
          37593.75,
          37626.2,
          37621.05,
          37620.05,
          37624.2,
          37626.2,
          37639.85,
          37614.8,
          37607.35,
          37625.25,
          37616.7,
          37612.55,
          37622.6,
          37635.45,
          37633.35,
          37633.9
         ],
         "open": [
          37594.15,
          37630.2,
          37619.4,
          37545.55,
          37528,
          37482.75,
          37417.55,
          37453.9,
          37490.55,
          37490.4,
          37552.3,
          37560.55,
          37523.1,
          37504.75,
          37509.6,
          37470.45,
          37441.6,
          37460.85,
          37458.8,
          37488.75,
          37505.85,
          37525.9,
          37512.35,
          37533.55,
          37527.35,
          37518.1,
          37488.15,
          37486.45,
          37475.9,
          37501.45,
          37524.75,
          37524.5,
          37496.75,
          37540.3,
          37561.2,
          37582.05,
          37583.9,
          37581.95,
          37580.15,
          37589.7,
          37591.25,
          37602,
          37580.95,
          37580.05,
          37579,
          37573.85,
          37560.45,
          37570.75,
          37562.7,
          37567.5,
          37565.75,
          37535.45,
          37537.35,
          37550.4,
          37588.55,
          37594.6,
          37627,
          37628.4,
          37639,
          37628.6,
          37626.2,
          37645.25,
          37643.05,
          37615.75,
          37630.05,
          37629.65,
          37618.05,
          37623.15,
          37643.3,
          37648.25,
          37641.75
         ],
         "type": "candlestick",
         "x": [
          "2022-08-01 09:15:00+05:30",
          "2022-08-01 09:16:00+05:30",
          "2022-08-01 09:17:00+05:30",
          "2022-08-01 09:18:00+05:30",
          "2022-08-01 09:19:00+05:30",
          "2022-08-01 09:20:00+05:30",
          "2022-08-01 09:21:00+05:30",
          "2022-08-01 09:22:00+05:30",
          "2022-08-01 09:23:00+05:30",
          "2022-08-01 09:24:00+05:30",
          "2022-08-01 09:25:00+05:30",
          "2022-08-01 09:26:00+05:30",
          "2022-08-01 09:27:00+05:30",
          "2022-08-01 09:28:00+05:30",
          "2022-08-01 09:29:00+05:30",
          "2022-08-01 09:30:00+05:30",
          "2022-08-01 09:31:00+05:30",
          "2022-08-01 09:32:00+05:30",
          "2022-08-01 09:33:00+05:30",
          "2022-08-01 09:34:00+05:30",
          "2022-08-01 09:35:00+05:30",
          "2022-08-01 09:36:00+05:30",
          "2022-08-01 09:37:00+05:30",
          "2022-08-01 09:38:00+05:30",
          "2022-08-01 09:39:00+05:30",
          "2022-08-01 09:40:00+05:30",
          "2022-08-01 09:41:00+05:30",
          "2022-08-01 09:42:00+05:30",
          "2022-08-01 09:43:00+05:30",
          "2022-08-01 09:44:00+05:30",
          "2022-08-01 09:45:00+05:30",
          "2022-08-01 09:46:00+05:30",
          "2022-08-01 09:47:00+05:30",
          "2022-08-01 09:48:00+05:30",
          "2022-08-01 09:49:00+05:30",
          "2022-08-01 09:50:00+05:30",
          "2022-08-01 09:51:00+05:30",
          "2022-08-01 09:52:00+05:30",
          "2022-08-01 09:53:00+05:30",
          "2022-08-01 09:54:00+05:30",
          "2022-08-01 09:55:00+05:30",
          "2022-08-01 09:56:00+05:30",
          "2022-08-01 09:57:00+05:30",
          "2022-08-01 09:58:00+05:30",
          "2022-08-01 09:59:00+05:30",
          "2022-08-01 10:00:00+05:30",
          "2022-08-01 10:01:00+05:30",
          "2022-08-01 10:02:00+05:30",
          "2022-08-01 10:03:00+05:30",
          "2022-08-01 10:04:00+05:30",
          "2022-08-01 10:05:00+05:30",
          "2022-08-01 10:06:00+05:30",
          "2022-08-01 10:07:00+05:30",
          "2022-08-01 10:08:00+05:30",
          "2022-08-01 10:09:00+05:30",
          "2022-08-01 10:10:00+05:30",
          "2022-08-01 10:11:00+05:30",
          "2022-08-01 10:12:00+05:30",
          "2022-08-01 10:13:00+05:30",
          "2022-08-01 10:14:00+05:30",
          "2022-08-01 10:15:00+05:30",
          "2022-08-01 10:16:00+05:30",
          "2022-08-01 10:17:00+05:30",
          "2022-08-01 10:18:00+05:30",
          "2022-08-01 10:19:00+05:30",
          "2022-08-01 10:20:00+05:30",
          "2022-08-01 10:21:00+05:30",
          "2022-08-01 10:22:00+05:30",
          "2022-08-01 10:23:00+05:30",
          "2022-08-01 10:24:00+05:30",
          "2022-08-01 10:25:00+05:30"
         ]
        }
       ],
       "layout": {
        "shapes": [
         {
          "line": {
           "color": "green",
           "width": 1
          },
          "type": "line",
          "x0": 0,
          "x1": 1,
          "xref": "x domain",
          "y0": 0,
          "y1": 0,
          "yref": "y"
         },
         {
          "line": {
           "color": "red",
           "width": 1
          },
          "type": "line",
          "x0": 0,
          "x1": 1,
          "xref": "x domain",
          "y0": 0,
          "y1": 0,
          "yref": "y"
         },
         {
          "line": {
           "color": "black",
           "width": 3
          },
          "type": "line",
          "x0": 0,
          "x1": 1,
          "xref": "x domain",
          "y0": 0,
          "y1": 0,
          "yref": "y"
         }
        ],
        "template": {
         "data": {
          "bar": [
           {
            "error_x": {
             "color": "#2a3f5f"
            },
            "error_y": {
             "color": "#2a3f5f"
            },
            "marker": {
             "line": {
              "color": "#E5ECF6",
              "width": 0.5
             },
             "pattern": {
              "fillmode": "overlay",
              "size": 10,
              "solidity": 0.2
             }
            },
            "type": "bar"
           }
          ],
          "barpolar": [
           {
            "marker": {
             "line": {
              "color": "#E5ECF6",
              "width": 0.5
             },
             "pattern": {
              "fillmode": "overlay",
              "size": 10,
              "solidity": 0.2
             }
            },
            "type": "barpolar"
           }
          ],
          "carpet": [
           {
            "aaxis": {
             "endlinecolor": "#2a3f5f",
             "gridcolor": "white",
             "linecolor": "white",
             "minorgridcolor": "white",
             "startlinecolor": "#2a3f5f"
            },
            "baxis": {
             "endlinecolor": "#2a3f5f",
             "gridcolor": "white",
             "linecolor": "white",
             "minorgridcolor": "white",
             "startlinecolor": "#2a3f5f"
            },
            "type": "carpet"
           }
          ],
          "choropleth": [
           {
            "colorbar": {
             "outlinewidth": 0,
             "ticks": ""
            },
            "type": "choropleth"
           }
          ],
          "contour": [
           {
            "colorbar": {
             "outlinewidth": 0,
             "ticks": ""
            },
            "colorscale": [
             [
              0,
              "#0d0887"
             ],
             [
              0.1111111111111111,
              "#46039f"
             ],
             [
              0.2222222222222222,
              "#7201a8"
             ],
             [
              0.3333333333333333,
              "#9c179e"
             ],
             [
              0.4444444444444444,
              "#bd3786"
             ],
             [
              0.5555555555555556,
              "#d8576b"
             ],
             [
              0.6666666666666666,
              "#ed7953"
             ],
             [
              0.7777777777777778,
              "#fb9f3a"
             ],
             [
              0.8888888888888888,
              "#fdca26"
             ],
             [
              1,
              "#f0f921"
             ]
            ],
            "type": "contour"
           }
          ],
          "contourcarpet": [
           {
            "colorbar": {
             "outlinewidth": 0,
             "ticks": ""
            },
            "type": "contourcarpet"
           }
          ],
          "heatmap": [
           {
            "colorbar": {
             "outlinewidth": 0,
             "ticks": ""
            },
            "colorscale": [
             [
              0,
              "#0d0887"
             ],
             [
              0.1111111111111111,
              "#46039f"
             ],
             [
              0.2222222222222222,
              "#7201a8"
             ],
             [
              0.3333333333333333,
              "#9c179e"
             ],
             [
              0.4444444444444444,
              "#bd3786"
             ],
             [
              0.5555555555555556,
              "#d8576b"
             ],
             [
              0.6666666666666666,
              "#ed7953"
             ],
             [
              0.7777777777777778,
              "#fb9f3a"
             ],
             [
              0.8888888888888888,
              "#fdca26"
             ],
             [
              1,
              "#f0f921"
             ]
            ],
            "type": "heatmap"
           }
          ],
          "heatmapgl": [
           {
            "colorbar": {
             "outlinewidth": 0,
             "ticks": ""
            },
            "colorscale": [
             [
              0,
              "#0d0887"
             ],
             [
              0.1111111111111111,
              "#46039f"
             ],
             [
              0.2222222222222222,
              "#7201a8"
             ],
             [
              0.3333333333333333,
              "#9c179e"
             ],
             [
              0.4444444444444444,
              "#bd3786"
             ],
             [
              0.5555555555555556,
              "#d8576b"
             ],
             [
              0.6666666666666666,
              "#ed7953"
             ],
             [
              0.7777777777777778,
              "#fb9f3a"
             ],
             [
              0.8888888888888888,
              "#fdca26"
             ],
             [
              1,
              "#f0f921"
             ]
            ],
            "type": "heatmapgl"
           }
          ],
          "histogram": [
           {
            "marker": {
             "pattern": {
              "fillmode": "overlay",
              "size": 10,
              "solidity": 0.2
             }
            },
            "type": "histogram"
           }
          ],
          "histogram2d": [
           {
            "colorbar": {
             "outlinewidth": 0,
             "ticks": ""
            },
            "colorscale": [
             [
              0,
              "#0d0887"
             ],
             [
              0.1111111111111111,
              "#46039f"
             ],
             [
              0.2222222222222222,
              "#7201a8"
             ],
             [
              0.3333333333333333,
              "#9c179e"
             ],
             [
              0.4444444444444444,
              "#bd3786"
             ],
             [
              0.5555555555555556,
              "#d8576b"
             ],
             [
              0.6666666666666666,
              "#ed7953"
             ],
             [
              0.7777777777777778,
              "#fb9f3a"
             ],
             [
              0.8888888888888888,
              "#fdca26"
             ],
             [
              1,
              "#f0f921"
             ]
            ],
            "type": "histogram2d"
           }
          ],
          "histogram2dcontour": [
           {
            "colorbar": {
             "outlinewidth": 0,
             "ticks": ""
            },
            "colorscale": [
             [
              0,
              "#0d0887"
             ],
             [
              0.1111111111111111,
              "#46039f"
             ],
             [
              0.2222222222222222,
              "#7201a8"
             ],
             [
              0.3333333333333333,
              "#9c179e"
             ],
             [
              0.4444444444444444,
              "#bd3786"
             ],
             [
              0.5555555555555556,
              "#d8576b"
             ],
             [
              0.6666666666666666,
              "#ed7953"
             ],
             [
              0.7777777777777778,
              "#fb9f3a"
             ],
             [
              0.8888888888888888,
              "#fdca26"
             ],
             [
              1,
              "#f0f921"
             ]
            ],
            "type": "histogram2dcontour"
           }
          ],
          "mesh3d": [
           {
            "colorbar": {
             "outlinewidth": 0,
             "ticks": ""
            },
            "type": "mesh3d"
           }
          ],
          "parcoords": [
           {
            "line": {
             "colorbar": {
              "outlinewidth": 0,
              "ticks": ""
             }
            },
            "type": "parcoords"
           }
          ],
          "pie": [
           {
            "automargin": true,
            "type": "pie"
           }
          ],
          "scatter": [
           {
            "fillpattern": {
             "fillmode": "overlay",
             "size": 10,
             "solidity": 0.2
            },
            "type": "scatter"
           }
          ],
          "scatter3d": [
           {
            "line": {
             "colorbar": {
              "outlinewidth": 0,
              "ticks": ""
             }
            },
            "marker": {
             "colorbar": {
              "outlinewidth": 0,
              "ticks": ""
             }
            },
            "type": "scatter3d"
           }
          ],
          "scattercarpet": [
           {
            "marker": {
             "colorbar": {
              "outlinewidth": 0,
              "ticks": ""
             }
            },
            "type": "scattercarpet"
           }
          ],
          "scattergeo": [
           {
            "marker": {
             "colorbar": {
              "outlinewidth": 0,
              "ticks": ""
             }
            },
            "type": "scattergeo"
           }
          ],
          "scattergl": [
           {
            "marker": {
             "colorbar": {
              "outlinewidth": 0,
              "ticks": ""
             }
            },
            "type": "scattergl"
           }
          ],
          "scattermapbox": [
           {
            "marker": {
             "colorbar": {
              "outlinewidth": 0,
              "ticks": ""
             }
            },
            "type": "scattermapbox"
           }
          ],
          "scatterpolar": [
           {
            "marker": {
             "colorbar": {
              "outlinewidth": 0,
              "ticks": ""
             }
            },
            "type": "scatterpolar"
           }
          ],
          "scatterpolargl": [
           {
            "marker": {
             "colorbar": {
              "outlinewidth": 0,
              "ticks": ""
             }
            },
            "type": "scatterpolargl"
           }
          ],
          "scatterternary": [
           {
            "marker": {
             "colorbar": {
              "outlinewidth": 0,
              "ticks": ""
             }
            },
            "type": "scatterternary"
           }
          ],
          "surface": [
           {
            "colorbar": {
             "outlinewidth": 0,
             "ticks": ""
            },
            "colorscale": [
             [
              0,
              "#0d0887"
             ],
             [
              0.1111111111111111,
              "#46039f"
             ],
             [
              0.2222222222222222,
              "#7201a8"
             ],
             [
              0.3333333333333333,
              "#9c179e"
             ],
             [
              0.4444444444444444,
              "#bd3786"
             ],
             [
              0.5555555555555556,
              "#d8576b"
             ],
             [
              0.6666666666666666,
              "#ed7953"
             ],
             [
              0.7777777777777778,
              "#fb9f3a"
             ],
             [
              0.8888888888888888,
              "#fdca26"
             ],
             [
              1,
              "#f0f921"
             ]
            ],
            "type": "surface"
           }
          ],
          "table": [
           {
            "cells": {
             "fill": {
              "color": "#EBF0F8"
             },
             "line": {
              "color": "white"
             }
            },
            "header": {
             "fill": {
              "color": "#C8D4E3"
             },
             "line": {
              "color": "white"
             }
            },
            "type": "table"
           }
          ]
         },
         "layout": {
          "annotationdefaults": {
           "arrowcolor": "#2a3f5f",
           "arrowhead": 0,
           "arrowwidth": 1
          },
          "autotypenumbers": "strict",
          "coloraxis": {
           "colorbar": {
            "outlinewidth": 0,
            "ticks": ""
           }
          },
          "colorscale": {
           "diverging": [
            [
             0,
             "#8e0152"
            ],
            [
             0.1,
             "#c51b7d"
            ],
            [
             0.2,
             "#de77ae"
            ],
            [
             0.3,
             "#f1b6da"
            ],
            [
             0.4,
             "#fde0ef"
            ],
            [
             0.5,
             "#f7f7f7"
            ],
            [
             0.6,
             "#e6f5d0"
            ],
            [
             0.7,
             "#b8e186"
            ],
            [
             0.8,
             "#7fbc41"
            ],
            [
             0.9,
             "#4d9221"
            ],
            [
             1,
             "#276419"
            ]
           ],
           "sequential": [
            [
             0,
             "#0d0887"
            ],
            [
             0.1111111111111111,
             "#46039f"
            ],
            [
             0.2222222222222222,
             "#7201a8"
            ],
            [
             0.3333333333333333,
             "#9c179e"
            ],
            [
             0.4444444444444444,
             "#bd3786"
            ],
            [
             0.5555555555555556,
             "#d8576b"
            ],
            [
             0.6666666666666666,
             "#ed7953"
            ],
            [
             0.7777777777777778,
             "#fb9f3a"
            ],
            [
             0.8888888888888888,
             "#fdca26"
            ],
            [
             1,
             "#f0f921"
            ]
           ],
           "sequentialminus": [
            [
             0,
             "#0d0887"
            ],
            [
             0.1111111111111111,
             "#46039f"
            ],
            [
             0.2222222222222222,
             "#7201a8"
            ],
            [
             0.3333333333333333,
             "#9c179e"
            ],
            [
             0.4444444444444444,
             "#bd3786"
            ],
            [
             0.5555555555555556,
             "#d8576b"
            ],
            [
             0.6666666666666666,
             "#ed7953"
            ],
            [
             0.7777777777777778,
             "#fb9f3a"
            ],
            [
             0.8888888888888888,
             "#fdca26"
            ],
            [
             1,
             "#f0f921"
            ]
           ]
          },
          "colorway": [
           "#636efa",
           "#EF553B",
           "#00cc96",
           "#ab63fa",
           "#FFA15A",
           "#19d3f3",
           "#FF6692",
           "#B6E880",
           "#FF97FF",
           "#FECB52"
          ],
          "font": {
           "color": "#2a3f5f"
          },
          "geo": {
           "bgcolor": "white",
           "lakecolor": "white",
           "landcolor": "#E5ECF6",
           "showlakes": true,
           "showland": true,
           "subunitcolor": "white"
          },
          "hoverlabel": {
           "align": "left"
          },
          "hovermode": "closest",
          "mapbox": {
           "style": "light"
          },
          "paper_bgcolor": "white",
          "plot_bgcolor": "#E5ECF6",
          "polar": {
           "angularaxis": {
            "gridcolor": "white",
            "linecolor": "white",
            "ticks": ""
           },
           "bgcolor": "#E5ECF6",
           "radialaxis": {
            "gridcolor": "white",
            "linecolor": "white",
            "ticks": ""
           }
          },
          "scene": {
           "xaxis": {
            "backgroundcolor": "#E5ECF6",
            "gridcolor": "white",
            "gridwidth": 2,
            "linecolor": "white",
            "showbackground": true,
            "ticks": "",
            "zerolinecolor": "white"
           },
           "yaxis": {
            "backgroundcolor": "#E5ECF6",
            "gridcolor": "white",
            "gridwidth": 2,
            "linecolor": "white",
            "showbackground": true,
            "ticks": "",
            "zerolinecolor": "white"
           },
           "zaxis": {
            "backgroundcolor": "#E5ECF6",
            "gridcolor": "white",
            "gridwidth": 2,
            "linecolor": "white",
            "showbackground": true,
            "ticks": "",
            "zerolinecolor": "white"
           }
          },
          "shapedefaults": {
           "line": {
            "color": "#2a3f5f"
           }
          },
          "ternary": {
           "aaxis": {
            "gridcolor": "white",
            "linecolor": "white",
            "ticks": ""
           },
           "baxis": {
            "gridcolor": "white",
            "linecolor": "white",
            "ticks": ""
           },
           "bgcolor": "#E5ECF6",
           "caxis": {
            "gridcolor": "white",
            "linecolor": "white",
            "ticks": ""
           }
          },
          "title": {
           "x": 0.05
          },
          "xaxis": {
           "automargin": true,
           "gridcolor": "white",
           "linecolor": "white",
           "ticks": "",
           "title": {
            "standoff": 15
           },
           "zerolinecolor": "white",
           "zerolinewidth": 2
          },
          "yaxis": {
           "automargin": true,
           "gridcolor": "white",
           "linecolor": "white",
           "ticks": "",
           "title": {
            "standoff": 15
           },
           "zerolinecolor": "white",
           "zerolinewidth": 2
          }
         }
        }
       }
      },
      "text/html": [
       "<div>                            <div id=\"1f078975-3fdd-4a69-914a-dd4cabeb8f46\" class=\"plotly-graph-div\" style=\"height:525px; width:100%;\"></div>            <script type=\"text/javascript\">                require([\"plotly\"], function(Plotly) {                    window.PLOTLYENV=window.PLOTLYENV || {};                                    if (document.getElementById(\"1f078975-3fdd-4a69-914a-dd4cabeb8f46\")) {                    Plotly.newPlot(                        \"1f078975-3fdd-4a69-914a-dd4cabeb8f46\",                        [{\"close\":[37628.3,37616.85,37543.1,37530.45,37480.1,37421.9,37453.85,37487.4,37491.4,37552.55,37562.5,37523.5,37504.3,37510.15,37470.8,37446.55,37469.7,37454.85,37490.4,37500.5,37524.75,37513.45,37535.25,37525.8,37516.35,37489.45,37487.15,37469.5,37504.8,37523.45,37524.5,37498.95,37532.65,37560.55,37580.15,37581.8,37580.75,37580.7,37587.8,37594.0,37599.6,37580.7,37579.7,37577.95,37572.35,37561.55,37565.8,37557.8,37566.1,37565.55,37535.8,37535.4,37546.25,37588.95,37593.4,37622.9,37628.15,37642.5,37630.5,37626.9,37644.45,37643.0,37618.0,37628.55,37628.95,37618.8,37623.15,37640.45,37648.25,37638.25,37633.9],\"high\":[37655.45,37638.2,37619.4,37547.05,37528.0,37482.75,37457.5,37487.95,37496.05,37555.4,37600.55,37564.85,37538.45,37518.45,37513.45,37472.7,37471.5,37467.0,37491.65,37511.65,37524.75,37530.15,37538.35,37540.45,37527.35,37518.15,37500.7,37491.8,37505.35,37523.45,37529.75,37527.45,37540.9,37565.8,37581.4,37607.1,37587.8,37583.0,37588.05,37598.35,37608.5,37604.0,37588.95,37581.1,37589.2,37583.9,37572.15,37570.75,37570.0,37571.65,37565.75,37540.0,37549.55,37588.95,37603.1,37625.6,37643.3,37642.5,37648.8,37635.35,37644.45,37661.55,37646.05,37635.15,37643.6,37637.85,37629.2,37640.45,37648.25,37651.75,37646.05],\"low\":[37594.15,37610.3,37543.1,37502.05,37476.7,37417.25,37407.5,37444.45,37467.2,37490.4,37552.3,37522.6,37497.3,37502.55,37463.1,37444.15,37439.05,37447.6,37450.4,37487.4,37493.9,37503.7,37512.35,37523.35,37505.55,37487.7,37485.85,37455.4,37468.85,37497.85,37512.5,37498.95,37496.75,37539.85,37559.0,37581.6,37570.25,37574.85,37565.0,37586.45,37590.75,37577.55,37570.2,37565.65,37564.25,37561.35,37556.05,37554.0,37557.65,37557.0,37534.55,37519.1,37530.55,37548.3,37584.9,37593.75,37626.2,37621.05,37620.05,37624.2,37626.2,37639.85,37614.8,37607.35,37625.25,37616.7,37612.55,37622.6,37635.45,37633.35,37633.9],\"open\":[37594.15,37630.2,37619.4,37545.55,37528.0,37482.75,37417.55,37453.9,37490.55,37490.4,37552.3,37560.55,37523.1,37504.75,37509.6,37470.45,37441.6,37460.85,37458.8,37488.75,37505.85,37525.9,37512.35,37533.55,37527.35,37518.1,37488.15,37486.45,37475.9,37501.45,37524.75,37524.5,37496.75,37540.3,37561.2,37582.05,37583.9,37581.95,37580.15,37589.7,37591.25,37602.0,37580.95,37580.05,37579.0,37573.85,37560.45,37570.75,37562.7,37567.5,37565.75,37535.45,37537.35,37550.4,37588.55,37594.6,37627.0,37628.4,37639.0,37628.6,37626.2,37645.25,37643.05,37615.75,37630.05,37629.65,37618.05,37623.15,37643.3,37648.25,37641.75],\"x\":[\"2022-08-01 09:15:00+05:30\",\"2022-08-01 09:16:00+05:30\",\"2022-08-01 09:17:00+05:30\",\"2022-08-01 09:18:00+05:30\",\"2022-08-01 09:19:00+05:30\",\"2022-08-01 09:20:00+05:30\",\"2022-08-01 09:21:00+05:30\",\"2022-08-01 09:22:00+05:30\",\"2022-08-01 09:23:00+05:30\",\"2022-08-01 09:24:00+05:30\",\"2022-08-01 09:25:00+05:30\",\"2022-08-01 09:26:00+05:30\",\"2022-08-01 09:27:00+05:30\",\"2022-08-01 09:28:00+05:30\",\"2022-08-01 09:29:00+05:30\",\"2022-08-01 09:30:00+05:30\",\"2022-08-01 09:31:00+05:30\",\"2022-08-01 09:32:00+05:30\",\"2022-08-01 09:33:00+05:30\",\"2022-08-01 09:34:00+05:30\",\"2022-08-01 09:35:00+05:30\",\"2022-08-01 09:36:00+05:30\",\"2022-08-01 09:37:00+05:30\",\"2022-08-01 09:38:00+05:30\",\"2022-08-01 09:39:00+05:30\",\"2022-08-01 09:40:00+05:30\",\"2022-08-01 09:41:00+05:30\",\"2022-08-01 09:42:00+05:30\",\"2022-08-01 09:43:00+05:30\",\"2022-08-01 09:44:00+05:30\",\"2022-08-01 09:45:00+05:30\",\"2022-08-01 09:46:00+05:30\",\"2022-08-01 09:47:00+05:30\",\"2022-08-01 09:48:00+05:30\",\"2022-08-01 09:49:00+05:30\",\"2022-08-01 09:50:00+05:30\",\"2022-08-01 09:51:00+05:30\",\"2022-08-01 09:52:00+05:30\",\"2022-08-01 09:53:00+05:30\",\"2022-08-01 09:54:00+05:30\",\"2022-08-01 09:55:00+05:30\",\"2022-08-01 09:56:00+05:30\",\"2022-08-01 09:57:00+05:30\",\"2022-08-01 09:58:00+05:30\",\"2022-08-01 09:59:00+05:30\",\"2022-08-01 10:00:00+05:30\",\"2022-08-01 10:01:00+05:30\",\"2022-08-01 10:02:00+05:30\",\"2022-08-01 10:03:00+05:30\",\"2022-08-01 10:04:00+05:30\",\"2022-08-01 10:05:00+05:30\",\"2022-08-01 10:06:00+05:30\",\"2022-08-01 10:07:00+05:30\",\"2022-08-01 10:08:00+05:30\",\"2022-08-01 10:09:00+05:30\",\"2022-08-01 10:10:00+05:30\",\"2022-08-01 10:11:00+05:30\",\"2022-08-01 10:12:00+05:30\",\"2022-08-01 10:13:00+05:30\",\"2022-08-01 10:14:00+05:30\",\"2022-08-01 10:15:00+05:30\",\"2022-08-01 10:16:00+05:30\",\"2022-08-01 10:17:00+05:30\",\"2022-08-01 10:18:00+05:30\",\"2022-08-01 10:19:00+05:30\",\"2022-08-01 10:20:00+05:30\",\"2022-08-01 10:21:00+05:30\",\"2022-08-01 10:22:00+05:30\",\"2022-08-01 10:23:00+05:30\",\"2022-08-01 10:24:00+05:30\",\"2022-08-01 10:25:00+05:30\"],\"type\":\"candlestick\"}],                        {\"template\":{\"data\":{\"histogram2dcontour\":[{\"type\":\"histogram2dcontour\",\"colorbar\":{\"outlinewidth\":0,\"ticks\":\"\"},\"colorscale\":[[0.0,\"#0d0887\"],[0.1111111111111111,\"#46039f\"],[0.2222222222222222,\"#7201a8\"],[0.3333333333333333,\"#9c179e\"],[0.4444444444444444,\"#bd3786\"],[0.5555555555555556,\"#d8576b\"],[0.6666666666666666,\"#ed7953\"],[0.7777777777777778,\"#fb9f3a\"],[0.8888888888888888,\"#fdca26\"],[1.0,\"#f0f921\"]]}],\"choropleth\":[{\"type\":\"choropleth\",\"colorbar\":{\"outlinewidth\":0,\"ticks\":\"\"}}],\"histogram2d\":[{\"type\":\"histogram2d\",\"colorbar\":{\"outlinewidth\":0,\"ticks\":\"\"},\"colorscale\":[[0.0,\"#0d0887\"],[0.1111111111111111,\"#46039f\"],[0.2222222222222222,\"#7201a8\"],[0.3333333333333333,\"#9c179e\"],[0.4444444444444444,\"#bd3786\"],[0.5555555555555556,\"#d8576b\"],[0.6666666666666666,\"#ed7953\"],[0.7777777777777778,\"#fb9f3a\"],[0.8888888888888888,\"#fdca26\"],[1.0,\"#f0f921\"]]}],\"heatmap\":[{\"type\":\"heatmap\",\"colorbar\":{\"outlinewidth\":0,\"ticks\":\"\"},\"colorscale\":[[0.0,\"#0d0887\"],[0.1111111111111111,\"#46039f\"],[0.2222222222222222,\"#7201a8\"],[0.3333333333333333,\"#9c179e\"],[0.4444444444444444,\"#bd3786\"],[0.5555555555555556,\"#d8576b\"],[0.6666666666666666,\"#ed7953\"],[0.7777777777777778,\"#fb9f3a\"],[0.8888888888888888,\"#fdca26\"],[1.0,\"#f0f921\"]]}],\"heatmapgl\":[{\"type\":\"heatmapgl\",\"colorbar\":{\"outlinewidth\":0,\"ticks\":\"\"},\"colorscale\":[[0.0,\"#0d0887\"],[0.1111111111111111,\"#46039f\"],[0.2222222222222222,\"#7201a8\"],[0.3333333333333333,\"#9c179e\"],[0.4444444444444444,\"#bd3786\"],[0.5555555555555556,\"#d8576b\"],[0.6666666666666666,\"#ed7953\"],[0.7777777777777778,\"#fb9f3a\"],[0.8888888888888888,\"#fdca26\"],[1.0,\"#f0f921\"]]}],\"contourcarpet\":[{\"type\":\"contourcarpet\",\"colorbar\":{\"outlinewidth\":0,\"ticks\":\"\"}}],\"contour\":[{\"type\":\"contour\",\"colorbar\":{\"outlinewidth\":0,\"ticks\":\"\"},\"colorscale\":[[0.0,\"#0d0887\"],[0.1111111111111111,\"#46039f\"],[0.2222222222222222,\"#7201a8\"],[0.3333333333333333,\"#9c179e\"],[0.4444444444444444,\"#bd3786\"],[0.5555555555555556,\"#d8576b\"],[0.6666666666666666,\"#ed7953\"],[0.7777777777777778,\"#fb9f3a\"],[0.8888888888888888,\"#fdca26\"],[1.0,\"#f0f921\"]]}],\"surface\":[{\"type\":\"surface\",\"colorbar\":{\"outlinewidth\":0,\"ticks\":\"\"},\"colorscale\":[[0.0,\"#0d0887\"],[0.1111111111111111,\"#46039f\"],[0.2222222222222222,\"#7201a8\"],[0.3333333333333333,\"#9c179e\"],[0.4444444444444444,\"#bd3786\"],[0.5555555555555556,\"#d8576b\"],[0.6666666666666666,\"#ed7953\"],[0.7777777777777778,\"#fb9f3a\"],[0.8888888888888888,\"#fdca26\"],[1.0,\"#f0f921\"]]}],\"mesh3d\":[{\"type\":\"mesh3d\",\"colorbar\":{\"outlinewidth\":0,\"ticks\":\"\"}}],\"scatter\":[{\"fillpattern\":{\"fillmode\":\"overlay\",\"size\":10,\"solidity\":0.2},\"type\":\"scatter\"}],\"parcoords\":[{\"type\":\"parcoords\",\"line\":{\"colorbar\":{\"outlinewidth\":0,\"ticks\":\"\"}}}],\"scatterpolargl\":[{\"type\":\"scatterpolargl\",\"marker\":{\"colorbar\":{\"outlinewidth\":0,\"ticks\":\"\"}}}],\"bar\":[{\"error_x\":{\"color\":\"#2a3f5f\"},\"error_y\":{\"color\":\"#2a3f5f\"},\"marker\":{\"line\":{\"color\":\"#E5ECF6\",\"width\":0.5},\"pattern\":{\"fillmode\":\"overlay\",\"size\":10,\"solidity\":0.2}},\"type\":\"bar\"}],\"scattergeo\":[{\"type\":\"scattergeo\",\"marker\":{\"colorbar\":{\"outlinewidth\":0,\"ticks\":\"\"}}}],\"scatterpolar\":[{\"type\":\"scatterpolar\",\"marker\":{\"colorbar\":{\"outlinewidth\":0,\"ticks\":\"\"}}}],\"histogram\":[{\"marker\":{\"pattern\":{\"fillmode\":\"overlay\",\"size\":10,\"solidity\":0.2}},\"type\":\"histogram\"}],\"scattergl\":[{\"type\":\"scattergl\",\"marker\":{\"colorbar\":{\"outlinewidth\":0,\"ticks\":\"\"}}}],\"scatter3d\":[{\"type\":\"scatter3d\",\"line\":{\"colorbar\":{\"outlinewidth\":0,\"ticks\":\"\"}},\"marker\":{\"colorbar\":{\"outlinewidth\":0,\"ticks\":\"\"}}}],\"scattermapbox\":[{\"type\":\"scattermapbox\",\"marker\":{\"colorbar\":{\"outlinewidth\":0,\"ticks\":\"\"}}}],\"scatterternary\":[{\"type\":\"scatterternary\",\"marker\":{\"colorbar\":{\"outlinewidth\":0,\"ticks\":\"\"}}}],\"scattercarpet\":[{\"type\":\"scattercarpet\",\"marker\":{\"colorbar\":{\"outlinewidth\":0,\"ticks\":\"\"}}}],\"carpet\":[{\"aaxis\":{\"endlinecolor\":\"#2a3f5f\",\"gridcolor\":\"white\",\"linecolor\":\"white\",\"minorgridcolor\":\"white\",\"startlinecolor\":\"#2a3f5f\"},\"baxis\":{\"endlinecolor\":\"#2a3f5f\",\"gridcolor\":\"white\",\"linecolor\":\"white\",\"minorgridcolor\":\"white\",\"startlinecolor\":\"#2a3f5f\"},\"type\":\"carpet\"}],\"table\":[{\"cells\":{\"fill\":{\"color\":\"#EBF0F8\"},\"line\":{\"color\":\"white\"}},\"header\":{\"fill\":{\"color\":\"#C8D4E3\"},\"line\":{\"color\":\"white\"}},\"type\":\"table\"}],\"barpolar\":[{\"marker\":{\"line\":{\"color\":\"#E5ECF6\",\"width\":0.5},\"pattern\":{\"fillmode\":\"overlay\",\"size\":10,\"solidity\":0.2}},\"type\":\"barpolar\"}],\"pie\":[{\"automargin\":true,\"type\":\"pie\"}]},\"layout\":{\"autotypenumbers\":\"strict\",\"colorway\":[\"#636efa\",\"#EF553B\",\"#00cc96\",\"#ab63fa\",\"#FFA15A\",\"#19d3f3\",\"#FF6692\",\"#B6E880\",\"#FF97FF\",\"#FECB52\"],\"font\":{\"color\":\"#2a3f5f\"},\"hovermode\":\"closest\",\"hoverlabel\":{\"align\":\"left\"},\"paper_bgcolor\":\"white\",\"plot_bgcolor\":\"#E5ECF6\",\"polar\":{\"bgcolor\":\"#E5ECF6\",\"angularaxis\":{\"gridcolor\":\"white\",\"linecolor\":\"white\",\"ticks\":\"\"},\"radialaxis\":{\"gridcolor\":\"white\",\"linecolor\":\"white\",\"ticks\":\"\"}},\"ternary\":{\"bgcolor\":\"#E5ECF6\",\"aaxis\":{\"gridcolor\":\"white\",\"linecolor\":\"white\",\"ticks\":\"\"},\"baxis\":{\"gridcolor\":\"white\",\"linecolor\":\"white\",\"ticks\":\"\"},\"caxis\":{\"gridcolor\":\"white\",\"linecolor\":\"white\",\"ticks\":\"\"}},\"coloraxis\":{\"colorbar\":{\"outlinewidth\":0,\"ticks\":\"\"}},\"colorscale\":{\"sequential\":[[0.0,\"#0d0887\"],[0.1111111111111111,\"#46039f\"],[0.2222222222222222,\"#7201a8\"],[0.3333333333333333,\"#9c179e\"],[0.4444444444444444,\"#bd3786\"],[0.5555555555555556,\"#d8576b\"],[0.6666666666666666,\"#ed7953\"],[0.7777777777777778,\"#fb9f3a\"],[0.8888888888888888,\"#fdca26\"],[1.0,\"#f0f921\"]],\"sequentialminus\":[[0.0,\"#0d0887\"],[0.1111111111111111,\"#46039f\"],[0.2222222222222222,\"#7201a8\"],[0.3333333333333333,\"#9c179e\"],[0.4444444444444444,\"#bd3786\"],[0.5555555555555556,\"#d8576b\"],[0.6666666666666666,\"#ed7953\"],[0.7777777777777778,\"#fb9f3a\"],[0.8888888888888888,\"#fdca26\"],[1.0,\"#f0f921\"]],\"diverging\":[[0,\"#8e0152\"],[0.1,\"#c51b7d\"],[0.2,\"#de77ae\"],[0.3,\"#f1b6da\"],[0.4,\"#fde0ef\"],[0.5,\"#f7f7f7\"],[0.6,\"#e6f5d0\"],[0.7,\"#b8e186\"],[0.8,\"#7fbc41\"],[0.9,\"#4d9221\"],[1,\"#276419\"]]},\"xaxis\":{\"gridcolor\":\"white\",\"linecolor\":\"white\",\"ticks\":\"\",\"title\":{\"standoff\":15},\"zerolinecolor\":\"white\",\"automargin\":true,\"zerolinewidth\":2},\"yaxis\":{\"gridcolor\":\"white\",\"linecolor\":\"white\",\"ticks\":\"\",\"title\":{\"standoff\":15},\"zerolinecolor\":\"white\",\"automargin\":true,\"zerolinewidth\":2},\"scene\":{\"xaxis\":{\"backgroundcolor\":\"#E5ECF6\",\"gridcolor\":\"white\",\"linecolor\":\"white\",\"showbackground\":true,\"ticks\":\"\",\"zerolinecolor\":\"white\",\"gridwidth\":2},\"yaxis\":{\"backgroundcolor\":\"#E5ECF6\",\"gridcolor\":\"white\",\"linecolor\":\"white\",\"showbackground\":true,\"ticks\":\"\",\"zerolinecolor\":\"white\",\"gridwidth\":2},\"zaxis\":{\"backgroundcolor\":\"#E5ECF6\",\"gridcolor\":\"white\",\"linecolor\":\"white\",\"showbackground\":true,\"ticks\":\"\",\"zerolinecolor\":\"white\",\"gridwidth\":2}},\"shapedefaults\":{\"line\":{\"color\":\"#2a3f5f\"}},\"annotationdefaults\":{\"arrowcolor\":\"#2a3f5f\",\"arrowhead\":0,\"arrowwidth\":1},\"geo\":{\"bgcolor\":\"white\",\"landcolor\":\"#E5ECF6\",\"subunitcolor\":\"white\",\"showland\":true,\"showlakes\":true,\"lakecolor\":\"white\"},\"title\":{\"x\":0.05},\"mapbox\":{\"style\":\"light\"}}},\"shapes\":[{\"line\":{\"color\":\"green\",\"width\":1},\"type\":\"line\",\"x0\":0,\"x1\":1,\"xref\":\"x domain\",\"y0\":0,\"y1\":0,\"yref\":\"y\"},{\"line\":{\"color\":\"red\",\"width\":1},\"type\":\"line\",\"x0\":0,\"x1\":1,\"xref\":\"x domain\",\"y0\":0,\"y1\":0,\"yref\":\"y\"},{\"line\":{\"color\":\"black\",\"width\":3},\"type\":\"line\",\"x0\":0,\"x1\":1,\"xref\":\"x domain\",\"y0\":0,\"y1\":0,\"yref\":\"y\"}]},                        {\"responsive\": true}                    ).then(function(){\n",
       "                            \n",
       "var gd = document.getElementById('1f078975-3fdd-4a69-914a-dd4cabeb8f46');\n",
       "var x = new MutationObserver(function (mutations, observer) {{\n",
       "        var display = window.getComputedStyle(gd).display;\n",
       "        if (!display || display === 'none') {{\n",
       "            console.log([gd, 'removed!']);\n",
       "            Plotly.purge(gd);\n",
       "            observer.disconnect();\n",
       "        }}\n",
       "}});\n",
       "\n",
       "// Listen for the removal of the full notebook cells\n",
       "var notebookContainer = gd.closest('#notebook-container');\n",
       "if (notebookContainer) {{\n",
       "    x.observe(notebookContainer, {childList: true});\n",
       "}}\n",
       "\n",
       "// Listen for the clearing of the current output cell\n",
       "var outputEl = gd.closest('.output');\n",
       "if (outputEl) {{\n",
       "    x.observe(outputEl, {childList: true});\n",
       "}}\n",
       "\n",
       "                        })                };                });            </script>        </div>"
      ]
     },
     "metadata": {},
     "output_type": "display_data"
    },
    {
     "name": "stdout",
     "output_type": "stream",
     "text": [
      "res : [37661.55, 37655.45, 37648.8, 37608.5, 37600.55, 37540.45]\n",
      "sup : [37407.5, 37439.05, 37455.4, 37519.1, 37594.15, 37607.35]\n",
      "################################################################################\n",
      "################################################################################\n",
      "2022-08-01 10:34:00+05:30\n",
      "37631.45 37633.35\n",
      "rr : 12.274456521738081\n"
     ]
    },
    {
     "data": {
      "application/vnd.plotly.v1+json": {
       "config": {
        "plotlyServerURL": "https://plot.ly"
       },
       "data": [
        {
         "close": [
          37628.3,
          37616.85,
          37543.1,
          37530.45,
          37480.1,
          37421.9,
          37453.85,
          37487.4,
          37491.4,
          37552.55,
          37562.5,
          37523.5,
          37504.3,
          37510.15,
          37470.8,
          37446.55,
          37469.7,
          37454.85,
          37490.4,
          37500.5,
          37524.75,
          37513.45,
          37535.25,
          37525.8,
          37516.35,
          37489.45,
          37487.15,
          37469.5,
          37504.8,
          37523.45,
          37524.5,
          37498.95,
          37532.65,
          37560.55,
          37580.15,
          37581.8,
          37580.75,
          37580.7,
          37587.8,
          37594,
          37599.6,
          37580.7,
          37579.7,
          37577.95,
          37572.35,
          37561.55,
          37565.8,
          37557.8,
          37566.1,
          37565.55,
          37535.8,
          37535.4,
          37546.25,
          37588.95,
          37593.4,
          37622.9,
          37628.15,
          37642.5,
          37630.5,
          37626.9,
          37644.45,
          37643,
          37618,
          37628.55,
          37628.95,
          37618.8,
          37623.15,
          37640.45,
          37648.25,
          37638.25,
          37633.9,
          37628.6
         ],
         "high": [
          37655.45,
          37638.2,
          37619.4,
          37547.05,
          37528,
          37482.75,
          37457.5,
          37487.95,
          37496.05,
          37555.4,
          37600.55,
          37564.85,
          37538.45,
          37518.45,
          37513.45,
          37472.7,
          37471.5,
          37467,
          37491.65,
          37511.65,
          37524.75,
          37530.15,
          37538.35,
          37540.45,
          37527.35,
          37518.15,
          37500.7,
          37491.8,
          37505.35,
          37523.45,
          37529.75,
          37527.45,
          37540.9,
          37565.8,
          37581.4,
          37607.1,
          37587.8,
          37583,
          37588.05,
          37598.35,
          37608.5,
          37604,
          37588.95,
          37581.1,
          37589.2,
          37583.9,
          37572.15,
          37570.75,
          37570,
          37571.65,
          37565.75,
          37540,
          37549.55,
          37588.95,
          37603.1,
          37625.6,
          37643.3,
          37642.5,
          37648.8,
          37635.35,
          37644.45,
          37661.55,
          37646.05,
          37635.15,
          37643.6,
          37637.85,
          37629.2,
          37640.45,
          37648.25,
          37651.75,
          37646.05,
          37636.75
         ],
         "low": [
          37594.15,
          37610.3,
          37543.1,
          37502.05,
          37476.7,
          37417.25,
          37407.5,
          37444.45,
          37467.2,
          37490.4,
          37552.3,
          37522.6,
          37497.3,
          37502.55,
          37463.1,
          37444.15,
          37439.05,
          37447.6,
          37450.4,
          37487.4,
          37493.9,
          37503.7,
          37512.35,
          37523.35,
          37505.55,
          37487.7,
          37485.85,
          37455.4,
          37468.85,
          37497.85,
          37512.5,
          37498.95,
          37496.75,
          37539.85,
          37559,
          37581.6,
          37570.25,
          37574.85,
          37565,
          37586.45,
          37590.75,
          37577.55,
          37570.2,
          37565.65,
          37564.25,
          37561.35,
          37556.05,
          37554,
          37557.65,
          37557,
          37534.55,
          37519.1,
          37530.55,
          37548.3,
          37584.9,
          37593.75,
          37626.2,
          37621.05,
          37620.05,
          37624.2,
          37626.2,
          37639.85,
          37614.8,
          37607.35,
          37625.25,
          37616.7,
          37612.55,
          37622.6,
          37635.45,
          37633.35,
          37633.9,
          37627.7
         ],
         "open": [
          37594.15,
          37630.2,
          37619.4,
          37545.55,
          37528,
          37482.75,
          37417.55,
          37453.9,
          37490.55,
          37490.4,
          37552.3,
          37560.55,
          37523.1,
          37504.75,
          37509.6,
          37470.45,
          37441.6,
          37460.85,
          37458.8,
          37488.75,
          37505.85,
          37525.9,
          37512.35,
          37533.55,
          37527.35,
          37518.1,
          37488.15,
          37486.45,
          37475.9,
          37501.45,
          37524.75,
          37524.5,
          37496.75,
          37540.3,
          37561.2,
          37582.05,
          37583.9,
          37581.95,
          37580.15,
          37589.7,
          37591.25,
          37602,
          37580.95,
          37580.05,
          37579,
          37573.85,
          37560.45,
          37570.75,
          37562.7,
          37567.5,
          37565.75,
          37535.45,
          37537.35,
          37550.4,
          37588.55,
          37594.6,
          37627,
          37628.4,
          37639,
          37628.6,
          37626.2,
          37645.25,
          37643.05,
          37615.75,
          37630.05,
          37629.65,
          37618.05,
          37623.15,
          37643.3,
          37648.25,
          37641.75,
          37631.95
         ],
         "type": "candlestick",
         "x": [
          "2022-08-01 09:15:00+05:30",
          "2022-08-01 09:16:00+05:30",
          "2022-08-01 09:17:00+05:30",
          "2022-08-01 09:18:00+05:30",
          "2022-08-01 09:19:00+05:30",
          "2022-08-01 09:20:00+05:30",
          "2022-08-01 09:21:00+05:30",
          "2022-08-01 09:22:00+05:30",
          "2022-08-01 09:23:00+05:30",
          "2022-08-01 09:24:00+05:30",
          "2022-08-01 09:25:00+05:30",
          "2022-08-01 09:26:00+05:30",
          "2022-08-01 09:27:00+05:30",
          "2022-08-01 09:28:00+05:30",
          "2022-08-01 09:29:00+05:30",
          "2022-08-01 09:30:00+05:30",
          "2022-08-01 09:31:00+05:30",
          "2022-08-01 09:32:00+05:30",
          "2022-08-01 09:33:00+05:30",
          "2022-08-01 09:34:00+05:30",
          "2022-08-01 09:35:00+05:30",
          "2022-08-01 09:36:00+05:30",
          "2022-08-01 09:37:00+05:30",
          "2022-08-01 09:38:00+05:30",
          "2022-08-01 09:39:00+05:30",
          "2022-08-01 09:40:00+05:30",
          "2022-08-01 09:41:00+05:30",
          "2022-08-01 09:42:00+05:30",
          "2022-08-01 09:43:00+05:30",
          "2022-08-01 09:44:00+05:30",
          "2022-08-01 09:45:00+05:30",
          "2022-08-01 09:46:00+05:30",
          "2022-08-01 09:47:00+05:30",
          "2022-08-01 09:48:00+05:30",
          "2022-08-01 09:49:00+05:30",
          "2022-08-01 09:50:00+05:30",
          "2022-08-01 09:51:00+05:30",
          "2022-08-01 09:52:00+05:30",
          "2022-08-01 09:53:00+05:30",
          "2022-08-01 09:54:00+05:30",
          "2022-08-01 09:55:00+05:30",
          "2022-08-01 09:56:00+05:30",
          "2022-08-01 09:57:00+05:30",
          "2022-08-01 09:58:00+05:30",
          "2022-08-01 09:59:00+05:30",
          "2022-08-01 10:00:00+05:30",
          "2022-08-01 10:01:00+05:30",
          "2022-08-01 10:02:00+05:30",
          "2022-08-01 10:03:00+05:30",
          "2022-08-01 10:04:00+05:30",
          "2022-08-01 10:05:00+05:30",
          "2022-08-01 10:06:00+05:30",
          "2022-08-01 10:07:00+05:30",
          "2022-08-01 10:08:00+05:30",
          "2022-08-01 10:09:00+05:30",
          "2022-08-01 10:10:00+05:30",
          "2022-08-01 10:11:00+05:30",
          "2022-08-01 10:12:00+05:30",
          "2022-08-01 10:13:00+05:30",
          "2022-08-01 10:14:00+05:30",
          "2022-08-01 10:15:00+05:30",
          "2022-08-01 10:16:00+05:30",
          "2022-08-01 10:17:00+05:30",
          "2022-08-01 10:18:00+05:30",
          "2022-08-01 10:19:00+05:30",
          "2022-08-01 10:20:00+05:30",
          "2022-08-01 10:21:00+05:30",
          "2022-08-01 10:22:00+05:30",
          "2022-08-01 10:23:00+05:30",
          "2022-08-01 10:24:00+05:30",
          "2022-08-01 10:25:00+05:30",
          "2022-08-01 10:26:00+05:30"
         ]
        }
       ],
       "layout": {
        "shapes": [
         {
          "line": {
           "color": "green",
           "width": 1
          },
          "type": "line",
          "x0": 0,
          "x1": 1,
          "xref": "x domain",
          "y0": 0,
          "y1": 0,
          "yref": "y"
         },
         {
          "line": {
           "color": "red",
           "width": 1
          },
          "type": "line",
          "x0": 0,
          "x1": 1,
          "xref": "x domain",
          "y0": 0,
          "y1": 0,
          "yref": "y"
         },
         {
          "line": {
           "color": "black",
           "width": 3
          },
          "type": "line",
          "x0": 0,
          "x1": 1,
          "xref": "x domain",
          "y0": 0,
          "y1": 0,
          "yref": "y"
         }
        ],
        "template": {
         "data": {
          "bar": [
           {
            "error_x": {
             "color": "#2a3f5f"
            },
            "error_y": {
             "color": "#2a3f5f"
            },
            "marker": {
             "line": {
              "color": "#E5ECF6",
              "width": 0.5
             },
             "pattern": {
              "fillmode": "overlay",
              "size": 10,
              "solidity": 0.2
             }
            },
            "type": "bar"
           }
          ],
          "barpolar": [
           {
            "marker": {
             "line": {
              "color": "#E5ECF6",
              "width": 0.5
             },
             "pattern": {
              "fillmode": "overlay",
              "size": 10,
              "solidity": 0.2
             }
            },
            "type": "barpolar"
           }
          ],
          "carpet": [
           {
            "aaxis": {
             "endlinecolor": "#2a3f5f",
             "gridcolor": "white",
             "linecolor": "white",
             "minorgridcolor": "white",
             "startlinecolor": "#2a3f5f"
            },
            "baxis": {
             "endlinecolor": "#2a3f5f",
             "gridcolor": "white",
             "linecolor": "white",
             "minorgridcolor": "white",
             "startlinecolor": "#2a3f5f"
            },
            "type": "carpet"
           }
          ],
          "choropleth": [
           {
            "colorbar": {
             "outlinewidth": 0,
             "ticks": ""
            },
            "type": "choropleth"
           }
          ],
          "contour": [
           {
            "colorbar": {
             "outlinewidth": 0,
             "ticks": ""
            },
            "colorscale": [
             [
              0,
              "#0d0887"
             ],
             [
              0.1111111111111111,
              "#46039f"
             ],
             [
              0.2222222222222222,
              "#7201a8"
             ],
             [
              0.3333333333333333,
              "#9c179e"
             ],
             [
              0.4444444444444444,
              "#bd3786"
             ],
             [
              0.5555555555555556,
              "#d8576b"
             ],
             [
              0.6666666666666666,
              "#ed7953"
             ],
             [
              0.7777777777777778,
              "#fb9f3a"
             ],
             [
              0.8888888888888888,
              "#fdca26"
             ],
             [
              1,
              "#f0f921"
             ]
            ],
            "type": "contour"
           }
          ],
          "contourcarpet": [
           {
            "colorbar": {
             "outlinewidth": 0,
             "ticks": ""
            },
            "type": "contourcarpet"
           }
          ],
          "heatmap": [
           {
            "colorbar": {
             "outlinewidth": 0,
             "ticks": ""
            },
            "colorscale": [
             [
              0,
              "#0d0887"
             ],
             [
              0.1111111111111111,
              "#46039f"
             ],
             [
              0.2222222222222222,
              "#7201a8"
             ],
             [
              0.3333333333333333,
              "#9c179e"
             ],
             [
              0.4444444444444444,
              "#bd3786"
             ],
             [
              0.5555555555555556,
              "#d8576b"
             ],
             [
              0.6666666666666666,
              "#ed7953"
             ],
             [
              0.7777777777777778,
              "#fb9f3a"
             ],
             [
              0.8888888888888888,
              "#fdca26"
             ],
             [
              1,
              "#f0f921"
             ]
            ],
            "type": "heatmap"
           }
          ],
          "heatmapgl": [
           {
            "colorbar": {
             "outlinewidth": 0,
             "ticks": ""
            },
            "colorscale": [
             [
              0,
              "#0d0887"
             ],
             [
              0.1111111111111111,
              "#46039f"
             ],
             [
              0.2222222222222222,
              "#7201a8"
             ],
             [
              0.3333333333333333,
              "#9c179e"
             ],
             [
              0.4444444444444444,
              "#bd3786"
             ],
             [
              0.5555555555555556,
              "#d8576b"
             ],
             [
              0.6666666666666666,
              "#ed7953"
             ],
             [
              0.7777777777777778,
              "#fb9f3a"
             ],
             [
              0.8888888888888888,
              "#fdca26"
             ],
             [
              1,
              "#f0f921"
             ]
            ],
            "type": "heatmapgl"
           }
          ],
          "histogram": [
           {
            "marker": {
             "pattern": {
              "fillmode": "overlay",
              "size": 10,
              "solidity": 0.2
             }
            },
            "type": "histogram"
           }
          ],
          "histogram2d": [
           {
            "colorbar": {
             "outlinewidth": 0,
             "ticks": ""
            },
            "colorscale": [
             [
              0,
              "#0d0887"
             ],
             [
              0.1111111111111111,
              "#46039f"
             ],
             [
              0.2222222222222222,
              "#7201a8"
             ],
             [
              0.3333333333333333,
              "#9c179e"
             ],
             [
              0.4444444444444444,
              "#bd3786"
             ],
             [
              0.5555555555555556,
              "#d8576b"
             ],
             [
              0.6666666666666666,
              "#ed7953"
             ],
             [
              0.7777777777777778,
              "#fb9f3a"
             ],
             [
              0.8888888888888888,
              "#fdca26"
             ],
             [
              1,
              "#f0f921"
             ]
            ],
            "type": "histogram2d"
           }
          ],
          "histogram2dcontour": [
           {
            "colorbar": {
             "outlinewidth": 0,
             "ticks": ""
            },
            "colorscale": [
             [
              0,
              "#0d0887"
             ],
             [
              0.1111111111111111,
              "#46039f"
             ],
             [
              0.2222222222222222,
              "#7201a8"
             ],
             [
              0.3333333333333333,
              "#9c179e"
             ],
             [
              0.4444444444444444,
              "#bd3786"
             ],
             [
              0.5555555555555556,
              "#d8576b"
             ],
             [
              0.6666666666666666,
              "#ed7953"
             ],
             [
              0.7777777777777778,
              "#fb9f3a"
             ],
             [
              0.8888888888888888,
              "#fdca26"
             ],
             [
              1,
              "#f0f921"
             ]
            ],
            "type": "histogram2dcontour"
           }
          ],
          "mesh3d": [
           {
            "colorbar": {
             "outlinewidth": 0,
             "ticks": ""
            },
            "type": "mesh3d"
           }
          ],
          "parcoords": [
           {
            "line": {
             "colorbar": {
              "outlinewidth": 0,
              "ticks": ""
             }
            },
            "type": "parcoords"
           }
          ],
          "pie": [
           {
            "automargin": true,
            "type": "pie"
           }
          ],
          "scatter": [
           {
            "fillpattern": {
             "fillmode": "overlay",
             "size": 10,
             "solidity": 0.2
            },
            "type": "scatter"
           }
          ],
          "scatter3d": [
           {
            "line": {
             "colorbar": {
              "outlinewidth": 0,
              "ticks": ""
             }
            },
            "marker": {
             "colorbar": {
              "outlinewidth": 0,
              "ticks": ""
             }
            },
            "type": "scatter3d"
           }
          ],
          "scattercarpet": [
           {
            "marker": {
             "colorbar": {
              "outlinewidth": 0,
              "ticks": ""
             }
            },
            "type": "scattercarpet"
           }
          ],
          "scattergeo": [
           {
            "marker": {
             "colorbar": {
              "outlinewidth": 0,
              "ticks": ""
             }
            },
            "type": "scattergeo"
           }
          ],
          "scattergl": [
           {
            "marker": {
             "colorbar": {
              "outlinewidth": 0,
              "ticks": ""
             }
            },
            "type": "scattergl"
           }
          ],
          "scattermapbox": [
           {
            "marker": {
             "colorbar": {
              "outlinewidth": 0,
              "ticks": ""
             }
            },
            "type": "scattermapbox"
           }
          ],
          "scatterpolar": [
           {
            "marker": {
             "colorbar": {
              "outlinewidth": 0,
              "ticks": ""
             }
            },
            "type": "scatterpolar"
           }
          ],
          "scatterpolargl": [
           {
            "marker": {
             "colorbar": {
              "outlinewidth": 0,
              "ticks": ""
             }
            },
            "type": "scatterpolargl"
           }
          ],
          "scatterternary": [
           {
            "marker": {
             "colorbar": {
              "outlinewidth": 0,
              "ticks": ""
             }
            },
            "type": "scatterternary"
           }
          ],
          "surface": [
           {
            "colorbar": {
             "outlinewidth": 0,
             "ticks": ""
            },
            "colorscale": [
             [
              0,
              "#0d0887"
             ],
             [
              0.1111111111111111,
              "#46039f"
             ],
             [
              0.2222222222222222,
              "#7201a8"
             ],
             [
              0.3333333333333333,
              "#9c179e"
             ],
             [
              0.4444444444444444,
              "#bd3786"
             ],
             [
              0.5555555555555556,
              "#d8576b"
             ],
             [
              0.6666666666666666,
              "#ed7953"
             ],
             [
              0.7777777777777778,
              "#fb9f3a"
             ],
             [
              0.8888888888888888,
              "#fdca26"
             ],
             [
              1,
              "#f0f921"
             ]
            ],
            "type": "surface"
           }
          ],
          "table": [
           {
            "cells": {
             "fill": {
              "color": "#EBF0F8"
             },
             "line": {
              "color": "white"
             }
            },
            "header": {
             "fill": {
              "color": "#C8D4E3"
             },
             "line": {
              "color": "white"
             }
            },
            "type": "table"
           }
          ]
         },
         "layout": {
          "annotationdefaults": {
           "arrowcolor": "#2a3f5f",
           "arrowhead": 0,
           "arrowwidth": 1
          },
          "autotypenumbers": "strict",
          "coloraxis": {
           "colorbar": {
            "outlinewidth": 0,
            "ticks": ""
           }
          },
          "colorscale": {
           "diverging": [
            [
             0,
             "#8e0152"
            ],
            [
             0.1,
             "#c51b7d"
            ],
            [
             0.2,
             "#de77ae"
            ],
            [
             0.3,
             "#f1b6da"
            ],
            [
             0.4,
             "#fde0ef"
            ],
            [
             0.5,
             "#f7f7f7"
            ],
            [
             0.6,
             "#e6f5d0"
            ],
            [
             0.7,
             "#b8e186"
            ],
            [
             0.8,
             "#7fbc41"
            ],
            [
             0.9,
             "#4d9221"
            ],
            [
             1,
             "#276419"
            ]
           ],
           "sequential": [
            [
             0,
             "#0d0887"
            ],
            [
             0.1111111111111111,
             "#46039f"
            ],
            [
             0.2222222222222222,
             "#7201a8"
            ],
            [
             0.3333333333333333,
             "#9c179e"
            ],
            [
             0.4444444444444444,
             "#bd3786"
            ],
            [
             0.5555555555555556,
             "#d8576b"
            ],
            [
             0.6666666666666666,
             "#ed7953"
            ],
            [
             0.7777777777777778,
             "#fb9f3a"
            ],
            [
             0.8888888888888888,
             "#fdca26"
            ],
            [
             1,
             "#f0f921"
            ]
           ],
           "sequentialminus": [
            [
             0,
             "#0d0887"
            ],
            [
             0.1111111111111111,
             "#46039f"
            ],
            [
             0.2222222222222222,
             "#7201a8"
            ],
            [
             0.3333333333333333,
             "#9c179e"
            ],
            [
             0.4444444444444444,
             "#bd3786"
            ],
            [
             0.5555555555555556,
             "#d8576b"
            ],
            [
             0.6666666666666666,
             "#ed7953"
            ],
            [
             0.7777777777777778,
             "#fb9f3a"
            ],
            [
             0.8888888888888888,
             "#fdca26"
            ],
            [
             1,
             "#f0f921"
            ]
           ]
          },
          "colorway": [
           "#636efa",
           "#EF553B",
           "#00cc96",
           "#ab63fa",
           "#FFA15A",
           "#19d3f3",
           "#FF6692",
           "#B6E880",
           "#FF97FF",
           "#FECB52"
          ],
          "font": {
           "color": "#2a3f5f"
          },
          "geo": {
           "bgcolor": "white",
           "lakecolor": "white",
           "landcolor": "#E5ECF6",
           "showlakes": true,
           "showland": true,
           "subunitcolor": "white"
          },
          "hoverlabel": {
           "align": "left"
          },
          "hovermode": "closest",
          "mapbox": {
           "style": "light"
          },
          "paper_bgcolor": "white",
          "plot_bgcolor": "#E5ECF6",
          "polar": {
           "angularaxis": {
            "gridcolor": "white",
            "linecolor": "white",
            "ticks": ""
           },
           "bgcolor": "#E5ECF6",
           "radialaxis": {
            "gridcolor": "white",
            "linecolor": "white",
            "ticks": ""
           }
          },
          "scene": {
           "xaxis": {
            "backgroundcolor": "#E5ECF6",
            "gridcolor": "white",
            "gridwidth": 2,
            "linecolor": "white",
            "showbackground": true,
            "ticks": "",
            "zerolinecolor": "white"
           },
           "yaxis": {
            "backgroundcolor": "#E5ECF6",
            "gridcolor": "white",
            "gridwidth": 2,
            "linecolor": "white",
            "showbackground": true,
            "ticks": "",
            "zerolinecolor": "white"
           },
           "zaxis": {
            "backgroundcolor": "#E5ECF6",
            "gridcolor": "white",
            "gridwidth": 2,
            "linecolor": "white",
            "showbackground": true,
            "ticks": "",
            "zerolinecolor": "white"
           }
          },
          "shapedefaults": {
           "line": {
            "color": "#2a3f5f"
           }
          },
          "ternary": {
           "aaxis": {
            "gridcolor": "white",
            "linecolor": "white",
            "ticks": ""
           },
           "baxis": {
            "gridcolor": "white",
            "linecolor": "white",
            "ticks": ""
           },
           "bgcolor": "#E5ECF6",
           "caxis": {
            "gridcolor": "white",
            "linecolor": "white",
            "ticks": ""
           }
          },
          "title": {
           "x": 0.05
          },
          "xaxis": {
           "automargin": true,
           "gridcolor": "white",
           "linecolor": "white",
           "ticks": "",
           "title": {
            "standoff": 15
           },
           "zerolinecolor": "white",
           "zerolinewidth": 2
          },
          "yaxis": {
           "automargin": true,
           "gridcolor": "white",
           "linecolor": "white",
           "ticks": "",
           "title": {
            "standoff": 15
           },
           "zerolinecolor": "white",
           "zerolinewidth": 2
          }
         }
        }
       }
      },
      "text/html": [
       "<div>                            <div id=\"2b6c2ff8-8f20-4bca-8fd8-369caa8bd0de\" class=\"plotly-graph-div\" style=\"height:525px; width:100%;\"></div>            <script type=\"text/javascript\">                require([\"plotly\"], function(Plotly) {                    window.PLOTLYENV=window.PLOTLYENV || {};                                    if (document.getElementById(\"2b6c2ff8-8f20-4bca-8fd8-369caa8bd0de\")) {                    Plotly.newPlot(                        \"2b6c2ff8-8f20-4bca-8fd8-369caa8bd0de\",                        [{\"close\":[37628.3,37616.85,37543.1,37530.45,37480.1,37421.9,37453.85,37487.4,37491.4,37552.55,37562.5,37523.5,37504.3,37510.15,37470.8,37446.55,37469.7,37454.85,37490.4,37500.5,37524.75,37513.45,37535.25,37525.8,37516.35,37489.45,37487.15,37469.5,37504.8,37523.45,37524.5,37498.95,37532.65,37560.55,37580.15,37581.8,37580.75,37580.7,37587.8,37594.0,37599.6,37580.7,37579.7,37577.95,37572.35,37561.55,37565.8,37557.8,37566.1,37565.55,37535.8,37535.4,37546.25,37588.95,37593.4,37622.9,37628.15,37642.5,37630.5,37626.9,37644.45,37643.0,37618.0,37628.55,37628.95,37618.8,37623.15,37640.45,37648.25,37638.25,37633.9,37628.6],\"high\":[37655.45,37638.2,37619.4,37547.05,37528.0,37482.75,37457.5,37487.95,37496.05,37555.4,37600.55,37564.85,37538.45,37518.45,37513.45,37472.7,37471.5,37467.0,37491.65,37511.65,37524.75,37530.15,37538.35,37540.45,37527.35,37518.15,37500.7,37491.8,37505.35,37523.45,37529.75,37527.45,37540.9,37565.8,37581.4,37607.1,37587.8,37583.0,37588.05,37598.35,37608.5,37604.0,37588.95,37581.1,37589.2,37583.9,37572.15,37570.75,37570.0,37571.65,37565.75,37540.0,37549.55,37588.95,37603.1,37625.6,37643.3,37642.5,37648.8,37635.35,37644.45,37661.55,37646.05,37635.15,37643.6,37637.85,37629.2,37640.45,37648.25,37651.75,37646.05,37636.75],\"low\":[37594.15,37610.3,37543.1,37502.05,37476.7,37417.25,37407.5,37444.45,37467.2,37490.4,37552.3,37522.6,37497.3,37502.55,37463.1,37444.15,37439.05,37447.6,37450.4,37487.4,37493.9,37503.7,37512.35,37523.35,37505.55,37487.7,37485.85,37455.4,37468.85,37497.85,37512.5,37498.95,37496.75,37539.85,37559.0,37581.6,37570.25,37574.85,37565.0,37586.45,37590.75,37577.55,37570.2,37565.65,37564.25,37561.35,37556.05,37554.0,37557.65,37557.0,37534.55,37519.1,37530.55,37548.3,37584.9,37593.75,37626.2,37621.05,37620.05,37624.2,37626.2,37639.85,37614.8,37607.35,37625.25,37616.7,37612.55,37622.6,37635.45,37633.35,37633.9,37627.7],\"open\":[37594.15,37630.2,37619.4,37545.55,37528.0,37482.75,37417.55,37453.9,37490.55,37490.4,37552.3,37560.55,37523.1,37504.75,37509.6,37470.45,37441.6,37460.85,37458.8,37488.75,37505.85,37525.9,37512.35,37533.55,37527.35,37518.1,37488.15,37486.45,37475.9,37501.45,37524.75,37524.5,37496.75,37540.3,37561.2,37582.05,37583.9,37581.95,37580.15,37589.7,37591.25,37602.0,37580.95,37580.05,37579.0,37573.85,37560.45,37570.75,37562.7,37567.5,37565.75,37535.45,37537.35,37550.4,37588.55,37594.6,37627.0,37628.4,37639.0,37628.6,37626.2,37645.25,37643.05,37615.75,37630.05,37629.65,37618.05,37623.15,37643.3,37648.25,37641.75,37631.95],\"x\":[\"2022-08-01 09:15:00+05:30\",\"2022-08-01 09:16:00+05:30\",\"2022-08-01 09:17:00+05:30\",\"2022-08-01 09:18:00+05:30\",\"2022-08-01 09:19:00+05:30\",\"2022-08-01 09:20:00+05:30\",\"2022-08-01 09:21:00+05:30\",\"2022-08-01 09:22:00+05:30\",\"2022-08-01 09:23:00+05:30\",\"2022-08-01 09:24:00+05:30\",\"2022-08-01 09:25:00+05:30\",\"2022-08-01 09:26:00+05:30\",\"2022-08-01 09:27:00+05:30\",\"2022-08-01 09:28:00+05:30\",\"2022-08-01 09:29:00+05:30\",\"2022-08-01 09:30:00+05:30\",\"2022-08-01 09:31:00+05:30\",\"2022-08-01 09:32:00+05:30\",\"2022-08-01 09:33:00+05:30\",\"2022-08-01 09:34:00+05:30\",\"2022-08-01 09:35:00+05:30\",\"2022-08-01 09:36:00+05:30\",\"2022-08-01 09:37:00+05:30\",\"2022-08-01 09:38:00+05:30\",\"2022-08-01 09:39:00+05:30\",\"2022-08-01 09:40:00+05:30\",\"2022-08-01 09:41:00+05:30\",\"2022-08-01 09:42:00+05:30\",\"2022-08-01 09:43:00+05:30\",\"2022-08-01 09:44:00+05:30\",\"2022-08-01 09:45:00+05:30\",\"2022-08-01 09:46:00+05:30\",\"2022-08-01 09:47:00+05:30\",\"2022-08-01 09:48:00+05:30\",\"2022-08-01 09:49:00+05:30\",\"2022-08-01 09:50:00+05:30\",\"2022-08-01 09:51:00+05:30\",\"2022-08-01 09:52:00+05:30\",\"2022-08-01 09:53:00+05:30\",\"2022-08-01 09:54:00+05:30\",\"2022-08-01 09:55:00+05:30\",\"2022-08-01 09:56:00+05:30\",\"2022-08-01 09:57:00+05:30\",\"2022-08-01 09:58:00+05:30\",\"2022-08-01 09:59:00+05:30\",\"2022-08-01 10:00:00+05:30\",\"2022-08-01 10:01:00+05:30\",\"2022-08-01 10:02:00+05:30\",\"2022-08-01 10:03:00+05:30\",\"2022-08-01 10:04:00+05:30\",\"2022-08-01 10:05:00+05:30\",\"2022-08-01 10:06:00+05:30\",\"2022-08-01 10:07:00+05:30\",\"2022-08-01 10:08:00+05:30\",\"2022-08-01 10:09:00+05:30\",\"2022-08-01 10:10:00+05:30\",\"2022-08-01 10:11:00+05:30\",\"2022-08-01 10:12:00+05:30\",\"2022-08-01 10:13:00+05:30\",\"2022-08-01 10:14:00+05:30\",\"2022-08-01 10:15:00+05:30\",\"2022-08-01 10:16:00+05:30\",\"2022-08-01 10:17:00+05:30\",\"2022-08-01 10:18:00+05:30\",\"2022-08-01 10:19:00+05:30\",\"2022-08-01 10:20:00+05:30\",\"2022-08-01 10:21:00+05:30\",\"2022-08-01 10:22:00+05:30\",\"2022-08-01 10:23:00+05:30\",\"2022-08-01 10:24:00+05:30\",\"2022-08-01 10:25:00+05:30\",\"2022-08-01 10:26:00+05:30\"],\"type\":\"candlestick\"}],                        {\"template\":{\"data\":{\"histogram2dcontour\":[{\"type\":\"histogram2dcontour\",\"colorbar\":{\"outlinewidth\":0,\"ticks\":\"\"},\"colorscale\":[[0.0,\"#0d0887\"],[0.1111111111111111,\"#46039f\"],[0.2222222222222222,\"#7201a8\"],[0.3333333333333333,\"#9c179e\"],[0.4444444444444444,\"#bd3786\"],[0.5555555555555556,\"#d8576b\"],[0.6666666666666666,\"#ed7953\"],[0.7777777777777778,\"#fb9f3a\"],[0.8888888888888888,\"#fdca26\"],[1.0,\"#f0f921\"]]}],\"choropleth\":[{\"type\":\"choropleth\",\"colorbar\":{\"outlinewidth\":0,\"ticks\":\"\"}}],\"histogram2d\":[{\"type\":\"histogram2d\",\"colorbar\":{\"outlinewidth\":0,\"ticks\":\"\"},\"colorscale\":[[0.0,\"#0d0887\"],[0.1111111111111111,\"#46039f\"],[0.2222222222222222,\"#7201a8\"],[0.3333333333333333,\"#9c179e\"],[0.4444444444444444,\"#bd3786\"],[0.5555555555555556,\"#d8576b\"],[0.6666666666666666,\"#ed7953\"],[0.7777777777777778,\"#fb9f3a\"],[0.8888888888888888,\"#fdca26\"],[1.0,\"#f0f921\"]]}],\"heatmap\":[{\"type\":\"heatmap\",\"colorbar\":{\"outlinewidth\":0,\"ticks\":\"\"},\"colorscale\":[[0.0,\"#0d0887\"],[0.1111111111111111,\"#46039f\"],[0.2222222222222222,\"#7201a8\"],[0.3333333333333333,\"#9c179e\"],[0.4444444444444444,\"#bd3786\"],[0.5555555555555556,\"#d8576b\"],[0.6666666666666666,\"#ed7953\"],[0.7777777777777778,\"#fb9f3a\"],[0.8888888888888888,\"#fdca26\"],[1.0,\"#f0f921\"]]}],\"heatmapgl\":[{\"type\":\"heatmapgl\",\"colorbar\":{\"outlinewidth\":0,\"ticks\":\"\"},\"colorscale\":[[0.0,\"#0d0887\"],[0.1111111111111111,\"#46039f\"],[0.2222222222222222,\"#7201a8\"],[0.3333333333333333,\"#9c179e\"],[0.4444444444444444,\"#bd3786\"],[0.5555555555555556,\"#d8576b\"],[0.6666666666666666,\"#ed7953\"],[0.7777777777777778,\"#fb9f3a\"],[0.8888888888888888,\"#fdca26\"],[1.0,\"#f0f921\"]]}],\"contourcarpet\":[{\"type\":\"contourcarpet\",\"colorbar\":{\"outlinewidth\":0,\"ticks\":\"\"}}],\"contour\":[{\"type\":\"contour\",\"colorbar\":{\"outlinewidth\":0,\"ticks\":\"\"},\"colorscale\":[[0.0,\"#0d0887\"],[0.1111111111111111,\"#46039f\"],[0.2222222222222222,\"#7201a8\"],[0.3333333333333333,\"#9c179e\"],[0.4444444444444444,\"#bd3786\"],[0.5555555555555556,\"#d8576b\"],[0.6666666666666666,\"#ed7953\"],[0.7777777777777778,\"#fb9f3a\"],[0.8888888888888888,\"#fdca26\"],[1.0,\"#f0f921\"]]}],\"surface\":[{\"type\":\"surface\",\"colorbar\":{\"outlinewidth\":0,\"ticks\":\"\"},\"colorscale\":[[0.0,\"#0d0887\"],[0.1111111111111111,\"#46039f\"],[0.2222222222222222,\"#7201a8\"],[0.3333333333333333,\"#9c179e\"],[0.4444444444444444,\"#bd3786\"],[0.5555555555555556,\"#d8576b\"],[0.6666666666666666,\"#ed7953\"],[0.7777777777777778,\"#fb9f3a\"],[0.8888888888888888,\"#fdca26\"],[1.0,\"#f0f921\"]]}],\"mesh3d\":[{\"type\":\"mesh3d\",\"colorbar\":{\"outlinewidth\":0,\"ticks\":\"\"}}],\"scatter\":[{\"fillpattern\":{\"fillmode\":\"overlay\",\"size\":10,\"solidity\":0.2},\"type\":\"scatter\"}],\"parcoords\":[{\"type\":\"parcoords\",\"line\":{\"colorbar\":{\"outlinewidth\":0,\"ticks\":\"\"}}}],\"scatterpolargl\":[{\"type\":\"scatterpolargl\",\"marker\":{\"colorbar\":{\"outlinewidth\":0,\"ticks\":\"\"}}}],\"bar\":[{\"error_x\":{\"color\":\"#2a3f5f\"},\"error_y\":{\"color\":\"#2a3f5f\"},\"marker\":{\"line\":{\"color\":\"#E5ECF6\",\"width\":0.5},\"pattern\":{\"fillmode\":\"overlay\",\"size\":10,\"solidity\":0.2}},\"type\":\"bar\"}],\"scattergeo\":[{\"type\":\"scattergeo\",\"marker\":{\"colorbar\":{\"outlinewidth\":0,\"ticks\":\"\"}}}],\"scatterpolar\":[{\"type\":\"scatterpolar\",\"marker\":{\"colorbar\":{\"outlinewidth\":0,\"ticks\":\"\"}}}],\"histogram\":[{\"marker\":{\"pattern\":{\"fillmode\":\"overlay\",\"size\":10,\"solidity\":0.2}},\"type\":\"histogram\"}],\"scattergl\":[{\"type\":\"scattergl\",\"marker\":{\"colorbar\":{\"outlinewidth\":0,\"ticks\":\"\"}}}],\"scatter3d\":[{\"type\":\"scatter3d\",\"line\":{\"colorbar\":{\"outlinewidth\":0,\"ticks\":\"\"}},\"marker\":{\"colorbar\":{\"outlinewidth\":0,\"ticks\":\"\"}}}],\"scattermapbox\":[{\"type\":\"scattermapbox\",\"marker\":{\"colorbar\":{\"outlinewidth\":0,\"ticks\":\"\"}}}],\"scatterternary\":[{\"type\":\"scatterternary\",\"marker\":{\"colorbar\":{\"outlinewidth\":0,\"ticks\":\"\"}}}],\"scattercarpet\":[{\"type\":\"scattercarpet\",\"marker\":{\"colorbar\":{\"outlinewidth\":0,\"ticks\":\"\"}}}],\"carpet\":[{\"aaxis\":{\"endlinecolor\":\"#2a3f5f\",\"gridcolor\":\"white\",\"linecolor\":\"white\",\"minorgridcolor\":\"white\",\"startlinecolor\":\"#2a3f5f\"},\"baxis\":{\"endlinecolor\":\"#2a3f5f\",\"gridcolor\":\"white\",\"linecolor\":\"white\",\"minorgridcolor\":\"white\",\"startlinecolor\":\"#2a3f5f\"},\"type\":\"carpet\"}],\"table\":[{\"cells\":{\"fill\":{\"color\":\"#EBF0F8\"},\"line\":{\"color\":\"white\"}},\"header\":{\"fill\":{\"color\":\"#C8D4E3\"},\"line\":{\"color\":\"white\"}},\"type\":\"table\"}],\"barpolar\":[{\"marker\":{\"line\":{\"color\":\"#E5ECF6\",\"width\":0.5},\"pattern\":{\"fillmode\":\"overlay\",\"size\":10,\"solidity\":0.2}},\"type\":\"barpolar\"}],\"pie\":[{\"automargin\":true,\"type\":\"pie\"}]},\"layout\":{\"autotypenumbers\":\"strict\",\"colorway\":[\"#636efa\",\"#EF553B\",\"#00cc96\",\"#ab63fa\",\"#FFA15A\",\"#19d3f3\",\"#FF6692\",\"#B6E880\",\"#FF97FF\",\"#FECB52\"],\"font\":{\"color\":\"#2a3f5f\"},\"hovermode\":\"closest\",\"hoverlabel\":{\"align\":\"left\"},\"paper_bgcolor\":\"white\",\"plot_bgcolor\":\"#E5ECF6\",\"polar\":{\"bgcolor\":\"#E5ECF6\",\"angularaxis\":{\"gridcolor\":\"white\",\"linecolor\":\"white\",\"ticks\":\"\"},\"radialaxis\":{\"gridcolor\":\"white\",\"linecolor\":\"white\",\"ticks\":\"\"}},\"ternary\":{\"bgcolor\":\"#E5ECF6\",\"aaxis\":{\"gridcolor\":\"white\",\"linecolor\":\"white\",\"ticks\":\"\"},\"baxis\":{\"gridcolor\":\"white\",\"linecolor\":\"white\",\"ticks\":\"\"},\"caxis\":{\"gridcolor\":\"white\",\"linecolor\":\"white\",\"ticks\":\"\"}},\"coloraxis\":{\"colorbar\":{\"outlinewidth\":0,\"ticks\":\"\"}},\"colorscale\":{\"sequential\":[[0.0,\"#0d0887\"],[0.1111111111111111,\"#46039f\"],[0.2222222222222222,\"#7201a8\"],[0.3333333333333333,\"#9c179e\"],[0.4444444444444444,\"#bd3786\"],[0.5555555555555556,\"#d8576b\"],[0.6666666666666666,\"#ed7953\"],[0.7777777777777778,\"#fb9f3a\"],[0.8888888888888888,\"#fdca26\"],[1.0,\"#f0f921\"]],\"sequentialminus\":[[0.0,\"#0d0887\"],[0.1111111111111111,\"#46039f\"],[0.2222222222222222,\"#7201a8\"],[0.3333333333333333,\"#9c179e\"],[0.4444444444444444,\"#bd3786\"],[0.5555555555555556,\"#d8576b\"],[0.6666666666666666,\"#ed7953\"],[0.7777777777777778,\"#fb9f3a\"],[0.8888888888888888,\"#fdca26\"],[1.0,\"#f0f921\"]],\"diverging\":[[0,\"#8e0152\"],[0.1,\"#c51b7d\"],[0.2,\"#de77ae\"],[0.3,\"#f1b6da\"],[0.4,\"#fde0ef\"],[0.5,\"#f7f7f7\"],[0.6,\"#e6f5d0\"],[0.7,\"#b8e186\"],[0.8,\"#7fbc41\"],[0.9,\"#4d9221\"],[1,\"#276419\"]]},\"xaxis\":{\"gridcolor\":\"white\",\"linecolor\":\"white\",\"ticks\":\"\",\"title\":{\"standoff\":15},\"zerolinecolor\":\"white\",\"automargin\":true,\"zerolinewidth\":2},\"yaxis\":{\"gridcolor\":\"white\",\"linecolor\":\"white\",\"ticks\":\"\",\"title\":{\"standoff\":15},\"zerolinecolor\":\"white\",\"automargin\":true,\"zerolinewidth\":2},\"scene\":{\"xaxis\":{\"backgroundcolor\":\"#E5ECF6\",\"gridcolor\":\"white\",\"linecolor\":\"white\",\"showbackground\":true,\"ticks\":\"\",\"zerolinecolor\":\"white\",\"gridwidth\":2},\"yaxis\":{\"backgroundcolor\":\"#E5ECF6\",\"gridcolor\":\"white\",\"linecolor\":\"white\",\"showbackground\":true,\"ticks\":\"\",\"zerolinecolor\":\"white\",\"gridwidth\":2},\"zaxis\":{\"backgroundcolor\":\"#E5ECF6\",\"gridcolor\":\"white\",\"linecolor\":\"white\",\"showbackground\":true,\"ticks\":\"\",\"zerolinecolor\":\"white\",\"gridwidth\":2}},\"shapedefaults\":{\"line\":{\"color\":\"#2a3f5f\"}},\"annotationdefaults\":{\"arrowcolor\":\"#2a3f5f\",\"arrowhead\":0,\"arrowwidth\":1},\"geo\":{\"bgcolor\":\"white\",\"landcolor\":\"#E5ECF6\",\"subunitcolor\":\"white\",\"showland\":true,\"showlakes\":true,\"lakecolor\":\"white\"},\"title\":{\"x\":0.05},\"mapbox\":{\"style\":\"light\"}}},\"shapes\":[{\"line\":{\"color\":\"green\",\"width\":1},\"type\":\"line\",\"x0\":0,\"x1\":1,\"xref\":\"x domain\",\"y0\":0,\"y1\":0,\"yref\":\"y\"},{\"line\":{\"color\":\"red\",\"width\":1},\"type\":\"line\",\"x0\":0,\"x1\":1,\"xref\":\"x domain\",\"y0\":0,\"y1\":0,\"yref\":\"y\"},{\"line\":{\"color\":\"black\",\"width\":3},\"type\":\"line\",\"x0\":0,\"x1\":1,\"xref\":\"x domain\",\"y0\":0,\"y1\":0,\"yref\":\"y\"}]},                        {\"responsive\": true}                    ).then(function(){\n",
       "                            \n",
       "var gd = document.getElementById('2b6c2ff8-8f20-4bca-8fd8-369caa8bd0de');\n",
       "var x = new MutationObserver(function (mutations, observer) {{\n",
       "        var display = window.getComputedStyle(gd).display;\n",
       "        if (!display || display === 'none') {{\n",
       "            console.log([gd, 'removed!']);\n",
       "            Plotly.purge(gd);\n",
       "            observer.disconnect();\n",
       "        }}\n",
       "}});\n",
       "\n",
       "// Listen for the removal of the full notebook cells\n",
       "var notebookContainer = gd.closest('#notebook-container');\n",
       "if (notebookContainer) {{\n",
       "    x.observe(notebookContainer, {childList: true});\n",
       "}}\n",
       "\n",
       "// Listen for the clearing of the current output cell\n",
       "var outputEl = gd.closest('.output');\n",
       "if (outputEl) {{\n",
       "    x.observe(outputEl, {childList: true});\n",
       "}}\n",
       "\n",
       "                        })                };                });            </script>        </div>"
      ]
     },
     "metadata": {},
     "output_type": "display_data"
    },
    {
     "name": "stdout",
     "output_type": "stream",
     "text": [
      "res : [37661.55, 37655.45, 37651.75, 37648.8, 37608.5, 37600.55, 37540.45]\n",
      "sup : [37407.5, 37439.05, 37455.4, 37519.1, 37594.15, 37607.35]\n",
      "################################################################################\n",
      "################################################################################\n",
      "2022-08-01 10:42:00+05:30\n",
      "37650.45 37603.8\n",
      "rr : 1.0698924731187114\n"
     ]
    },
    {
     "data": {
      "application/vnd.plotly.v1+json": {
       "config": {
        "plotlyServerURL": "https://plot.ly"
       },
       "data": [
        {
         "close": [
          37628.3,
          37616.85,
          37543.1,
          37530.45,
          37480.1,
          37421.9,
          37453.85,
          37487.4,
          37491.4,
          37552.55,
          37562.5,
          37523.5,
          37504.3,
          37510.15,
          37470.8,
          37446.55,
          37469.7,
          37454.85,
          37490.4,
          37500.5,
          37524.75,
          37513.45,
          37535.25,
          37525.8,
          37516.35,
          37489.45,
          37487.15,
          37469.5,
          37504.8,
          37523.45,
          37524.5,
          37498.95,
          37532.65,
          37560.55,
          37580.15,
          37581.8,
          37580.75,
          37580.7,
          37587.8,
          37594,
          37599.6,
          37580.7,
          37579.7,
          37577.95,
          37572.35,
          37561.55,
          37565.8,
          37557.8,
          37566.1,
          37565.55,
          37535.8,
          37535.4,
          37546.25,
          37588.95,
          37593.4,
          37622.9,
          37628.15,
          37642.5,
          37630.5,
          37626.9,
          37644.45,
          37643,
          37618,
          37628.55,
          37628.95,
          37618.8,
          37623.15,
          37640.45,
          37648.25,
          37638.25,
          37633.9,
          37628.6,
          37611.2,
          37623.5,
          37620.05,
          37618.9,
          37618.3,
          37632,
          37632.05
         ],
         "high": [
          37655.45,
          37638.2,
          37619.4,
          37547.05,
          37528,
          37482.75,
          37457.5,
          37487.95,
          37496.05,
          37555.4,
          37600.55,
          37564.85,
          37538.45,
          37518.45,
          37513.45,
          37472.7,
          37471.5,
          37467,
          37491.65,
          37511.65,
          37524.75,
          37530.15,
          37538.35,
          37540.45,
          37527.35,
          37518.15,
          37500.7,
          37491.8,
          37505.35,
          37523.45,
          37529.75,
          37527.45,
          37540.9,
          37565.8,
          37581.4,
          37607.1,
          37587.8,
          37583,
          37588.05,
          37598.35,
          37608.5,
          37604,
          37588.95,
          37581.1,
          37589.2,
          37583.9,
          37572.15,
          37570.75,
          37570,
          37571.65,
          37565.75,
          37540,
          37549.55,
          37588.95,
          37603.1,
          37625.6,
          37643.3,
          37642.5,
          37648.8,
          37635.35,
          37644.45,
          37661.55,
          37646.05,
          37635.15,
          37643.6,
          37637.85,
          37629.2,
          37640.45,
          37648.25,
          37651.75,
          37646.05,
          37636.75,
          37631.7,
          37626.15,
          37627.2,
          37625.25,
          37620.1,
          37635.3,
          37634.65
         ],
         "low": [
          37594.15,
          37610.3,
          37543.1,
          37502.05,
          37476.7,
          37417.25,
          37407.5,
          37444.45,
          37467.2,
          37490.4,
          37552.3,
          37522.6,
          37497.3,
          37502.55,
          37463.1,
          37444.15,
          37439.05,
          37447.6,
          37450.4,
          37487.4,
          37493.9,
          37503.7,
          37512.35,
          37523.35,
          37505.55,
          37487.7,
          37485.85,
          37455.4,
          37468.85,
          37497.85,
          37512.5,
          37498.95,
          37496.75,
          37539.85,
          37559,
          37581.6,
          37570.25,
          37574.85,
          37565,
          37586.45,
          37590.75,
          37577.55,
          37570.2,
          37565.65,
          37564.25,
          37561.35,
          37556.05,
          37554,
          37557.65,
          37557,
          37534.55,
          37519.1,
          37530.55,
          37548.3,
          37584.9,
          37593.75,
          37626.2,
          37621.05,
          37620.05,
          37624.2,
          37626.2,
          37639.85,
          37614.8,
          37607.35,
          37625.25,
          37616.7,
          37612.55,
          37622.6,
          37635.45,
          37633.35,
          37633.9,
          37627.7,
          37611.2,
          37603.8,
          37617.7,
          37613.35,
          37613.8,
          37613.35,
          37624.05
         ],
         "open": [
          37594.15,
          37630.2,
          37619.4,
          37545.55,
          37528,
          37482.75,
          37417.55,
          37453.9,
          37490.55,
          37490.4,
          37552.3,
          37560.55,
          37523.1,
          37504.75,
          37509.6,
          37470.45,
          37441.6,
          37460.85,
          37458.8,
          37488.75,
          37505.85,
          37525.9,
          37512.35,
          37533.55,
          37527.35,
          37518.1,
          37488.15,
          37486.45,
          37475.9,
          37501.45,
          37524.75,
          37524.5,
          37496.75,
          37540.3,
          37561.2,
          37582.05,
          37583.9,
          37581.95,
          37580.15,
          37589.7,
          37591.25,
          37602,
          37580.95,
          37580.05,
          37579,
          37573.85,
          37560.45,
          37570.75,
          37562.7,
          37567.5,
          37565.75,
          37535.45,
          37537.35,
          37550.4,
          37588.55,
          37594.6,
          37627,
          37628.4,
          37639,
          37628.6,
          37626.2,
          37645.25,
          37643.05,
          37615.75,
          37630.05,
          37629.65,
          37618.05,
          37623.15,
          37643.3,
          37648.25,
          37641.75,
          37631.95,
          37631.25,
          37604.15,
          37624.3,
          37618.9,
          37615.9,
          37615.6,
          37631.15
         ],
         "type": "candlestick",
         "x": [
          "2022-08-01 09:15:00+05:30",
          "2022-08-01 09:16:00+05:30",
          "2022-08-01 09:17:00+05:30",
          "2022-08-01 09:18:00+05:30",
          "2022-08-01 09:19:00+05:30",
          "2022-08-01 09:20:00+05:30",
          "2022-08-01 09:21:00+05:30",
          "2022-08-01 09:22:00+05:30",
          "2022-08-01 09:23:00+05:30",
          "2022-08-01 09:24:00+05:30",
          "2022-08-01 09:25:00+05:30",
          "2022-08-01 09:26:00+05:30",
          "2022-08-01 09:27:00+05:30",
          "2022-08-01 09:28:00+05:30",
          "2022-08-01 09:29:00+05:30",
          "2022-08-01 09:30:00+05:30",
          "2022-08-01 09:31:00+05:30",
          "2022-08-01 09:32:00+05:30",
          "2022-08-01 09:33:00+05:30",
          "2022-08-01 09:34:00+05:30",
          "2022-08-01 09:35:00+05:30",
          "2022-08-01 09:36:00+05:30",
          "2022-08-01 09:37:00+05:30",
          "2022-08-01 09:38:00+05:30",
          "2022-08-01 09:39:00+05:30",
          "2022-08-01 09:40:00+05:30",
          "2022-08-01 09:41:00+05:30",
          "2022-08-01 09:42:00+05:30",
          "2022-08-01 09:43:00+05:30",
          "2022-08-01 09:44:00+05:30",
          "2022-08-01 09:45:00+05:30",
          "2022-08-01 09:46:00+05:30",
          "2022-08-01 09:47:00+05:30",
          "2022-08-01 09:48:00+05:30",
          "2022-08-01 09:49:00+05:30",
          "2022-08-01 09:50:00+05:30",
          "2022-08-01 09:51:00+05:30",
          "2022-08-01 09:52:00+05:30",
          "2022-08-01 09:53:00+05:30",
          "2022-08-01 09:54:00+05:30",
          "2022-08-01 09:55:00+05:30",
          "2022-08-01 09:56:00+05:30",
          "2022-08-01 09:57:00+05:30",
          "2022-08-01 09:58:00+05:30",
          "2022-08-01 09:59:00+05:30",
          "2022-08-01 10:00:00+05:30",
          "2022-08-01 10:01:00+05:30",
          "2022-08-01 10:02:00+05:30",
          "2022-08-01 10:03:00+05:30",
          "2022-08-01 10:04:00+05:30",
          "2022-08-01 10:05:00+05:30",
          "2022-08-01 10:06:00+05:30",
          "2022-08-01 10:07:00+05:30",
          "2022-08-01 10:08:00+05:30",
          "2022-08-01 10:09:00+05:30",
          "2022-08-01 10:10:00+05:30",
          "2022-08-01 10:11:00+05:30",
          "2022-08-01 10:12:00+05:30",
          "2022-08-01 10:13:00+05:30",
          "2022-08-01 10:14:00+05:30",
          "2022-08-01 10:15:00+05:30",
          "2022-08-01 10:16:00+05:30",
          "2022-08-01 10:17:00+05:30",
          "2022-08-01 10:18:00+05:30",
          "2022-08-01 10:19:00+05:30",
          "2022-08-01 10:20:00+05:30",
          "2022-08-01 10:21:00+05:30",
          "2022-08-01 10:22:00+05:30",
          "2022-08-01 10:23:00+05:30",
          "2022-08-01 10:24:00+05:30",
          "2022-08-01 10:25:00+05:30",
          "2022-08-01 10:26:00+05:30",
          "2022-08-01 10:27:00+05:30",
          "2022-08-01 10:28:00+05:30",
          "2022-08-01 10:29:00+05:30",
          "2022-08-01 10:30:00+05:30",
          "2022-08-01 10:31:00+05:30",
          "2022-08-01 10:32:00+05:30",
          "2022-08-01 10:33:00+05:30"
         ]
        }
       ],
       "layout": {
        "shapes": [
         {
          "line": {
           "color": "green",
           "width": 1
          },
          "type": "line",
          "x0": 0,
          "x1": 1,
          "xref": "x domain",
          "y0": 0,
          "y1": 0,
          "yref": "y"
         },
         {
          "line": {
           "color": "red",
           "width": 1
          },
          "type": "line",
          "x0": 0,
          "x1": 1,
          "xref": "x domain",
          "y0": 0,
          "y1": 0,
          "yref": "y"
         },
         {
          "line": {
           "color": "black",
           "width": 3
          },
          "type": "line",
          "x0": 0,
          "x1": 1,
          "xref": "x domain",
          "y0": 0,
          "y1": 0,
          "yref": "y"
         }
        ],
        "template": {
         "data": {
          "bar": [
           {
            "error_x": {
             "color": "#2a3f5f"
            },
            "error_y": {
             "color": "#2a3f5f"
            },
            "marker": {
             "line": {
              "color": "#E5ECF6",
              "width": 0.5
             },
             "pattern": {
              "fillmode": "overlay",
              "size": 10,
              "solidity": 0.2
             }
            },
            "type": "bar"
           }
          ],
          "barpolar": [
           {
            "marker": {
             "line": {
              "color": "#E5ECF6",
              "width": 0.5
             },
             "pattern": {
              "fillmode": "overlay",
              "size": 10,
              "solidity": 0.2
             }
            },
            "type": "barpolar"
           }
          ],
          "carpet": [
           {
            "aaxis": {
             "endlinecolor": "#2a3f5f",
             "gridcolor": "white",
             "linecolor": "white",
             "minorgridcolor": "white",
             "startlinecolor": "#2a3f5f"
            },
            "baxis": {
             "endlinecolor": "#2a3f5f",
             "gridcolor": "white",
             "linecolor": "white",
             "minorgridcolor": "white",
             "startlinecolor": "#2a3f5f"
            },
            "type": "carpet"
           }
          ],
          "choropleth": [
           {
            "colorbar": {
             "outlinewidth": 0,
             "ticks": ""
            },
            "type": "choropleth"
           }
          ],
          "contour": [
           {
            "colorbar": {
             "outlinewidth": 0,
             "ticks": ""
            },
            "colorscale": [
             [
              0,
              "#0d0887"
             ],
             [
              0.1111111111111111,
              "#46039f"
             ],
             [
              0.2222222222222222,
              "#7201a8"
             ],
             [
              0.3333333333333333,
              "#9c179e"
             ],
             [
              0.4444444444444444,
              "#bd3786"
             ],
             [
              0.5555555555555556,
              "#d8576b"
             ],
             [
              0.6666666666666666,
              "#ed7953"
             ],
             [
              0.7777777777777778,
              "#fb9f3a"
             ],
             [
              0.8888888888888888,
              "#fdca26"
             ],
             [
              1,
              "#f0f921"
             ]
            ],
            "type": "contour"
           }
          ],
          "contourcarpet": [
           {
            "colorbar": {
             "outlinewidth": 0,
             "ticks": ""
            },
            "type": "contourcarpet"
           }
          ],
          "heatmap": [
           {
            "colorbar": {
             "outlinewidth": 0,
             "ticks": ""
            },
            "colorscale": [
             [
              0,
              "#0d0887"
             ],
             [
              0.1111111111111111,
              "#46039f"
             ],
             [
              0.2222222222222222,
              "#7201a8"
             ],
             [
              0.3333333333333333,
              "#9c179e"
             ],
             [
              0.4444444444444444,
              "#bd3786"
             ],
             [
              0.5555555555555556,
              "#d8576b"
             ],
             [
              0.6666666666666666,
              "#ed7953"
             ],
             [
              0.7777777777777778,
              "#fb9f3a"
             ],
             [
              0.8888888888888888,
              "#fdca26"
             ],
             [
              1,
              "#f0f921"
             ]
            ],
            "type": "heatmap"
           }
          ],
          "heatmapgl": [
           {
            "colorbar": {
             "outlinewidth": 0,
             "ticks": ""
            },
            "colorscale": [
             [
              0,
              "#0d0887"
             ],
             [
              0.1111111111111111,
              "#46039f"
             ],
             [
              0.2222222222222222,
              "#7201a8"
             ],
             [
              0.3333333333333333,
              "#9c179e"
             ],
             [
              0.4444444444444444,
              "#bd3786"
             ],
             [
              0.5555555555555556,
              "#d8576b"
             ],
             [
              0.6666666666666666,
              "#ed7953"
             ],
             [
              0.7777777777777778,
              "#fb9f3a"
             ],
             [
              0.8888888888888888,
              "#fdca26"
             ],
             [
              1,
              "#f0f921"
             ]
            ],
            "type": "heatmapgl"
           }
          ],
          "histogram": [
           {
            "marker": {
             "pattern": {
              "fillmode": "overlay",
              "size": 10,
              "solidity": 0.2
             }
            },
            "type": "histogram"
           }
          ],
          "histogram2d": [
           {
            "colorbar": {
             "outlinewidth": 0,
             "ticks": ""
            },
            "colorscale": [
             [
              0,
              "#0d0887"
             ],
             [
              0.1111111111111111,
              "#46039f"
             ],
             [
              0.2222222222222222,
              "#7201a8"
             ],
             [
              0.3333333333333333,
              "#9c179e"
             ],
             [
              0.4444444444444444,
              "#bd3786"
             ],
             [
              0.5555555555555556,
              "#d8576b"
             ],
             [
              0.6666666666666666,
              "#ed7953"
             ],
             [
              0.7777777777777778,
              "#fb9f3a"
             ],
             [
              0.8888888888888888,
              "#fdca26"
             ],
             [
              1,
              "#f0f921"
             ]
            ],
            "type": "histogram2d"
           }
          ],
          "histogram2dcontour": [
           {
            "colorbar": {
             "outlinewidth": 0,
             "ticks": ""
            },
            "colorscale": [
             [
              0,
              "#0d0887"
             ],
             [
              0.1111111111111111,
              "#46039f"
             ],
             [
              0.2222222222222222,
              "#7201a8"
             ],
             [
              0.3333333333333333,
              "#9c179e"
             ],
             [
              0.4444444444444444,
              "#bd3786"
             ],
             [
              0.5555555555555556,
              "#d8576b"
             ],
             [
              0.6666666666666666,
              "#ed7953"
             ],
             [
              0.7777777777777778,
              "#fb9f3a"
             ],
             [
              0.8888888888888888,
              "#fdca26"
             ],
             [
              1,
              "#f0f921"
             ]
            ],
            "type": "histogram2dcontour"
           }
          ],
          "mesh3d": [
           {
            "colorbar": {
             "outlinewidth": 0,
             "ticks": ""
            },
            "type": "mesh3d"
           }
          ],
          "parcoords": [
           {
            "line": {
             "colorbar": {
              "outlinewidth": 0,
              "ticks": ""
             }
            },
            "type": "parcoords"
           }
          ],
          "pie": [
           {
            "automargin": true,
            "type": "pie"
           }
          ],
          "scatter": [
           {
            "fillpattern": {
             "fillmode": "overlay",
             "size": 10,
             "solidity": 0.2
            },
            "type": "scatter"
           }
          ],
          "scatter3d": [
           {
            "line": {
             "colorbar": {
              "outlinewidth": 0,
              "ticks": ""
             }
            },
            "marker": {
             "colorbar": {
              "outlinewidth": 0,
              "ticks": ""
             }
            },
            "type": "scatter3d"
           }
          ],
          "scattercarpet": [
           {
            "marker": {
             "colorbar": {
              "outlinewidth": 0,
              "ticks": ""
             }
            },
            "type": "scattercarpet"
           }
          ],
          "scattergeo": [
           {
            "marker": {
             "colorbar": {
              "outlinewidth": 0,
              "ticks": ""
             }
            },
            "type": "scattergeo"
           }
          ],
          "scattergl": [
           {
            "marker": {
             "colorbar": {
              "outlinewidth": 0,
              "ticks": ""
             }
            },
            "type": "scattergl"
           }
          ],
          "scattermapbox": [
           {
            "marker": {
             "colorbar": {
              "outlinewidth": 0,
              "ticks": ""
             }
            },
            "type": "scattermapbox"
           }
          ],
          "scatterpolar": [
           {
            "marker": {
             "colorbar": {
              "outlinewidth": 0,
              "ticks": ""
             }
            },
            "type": "scatterpolar"
           }
          ],
          "scatterpolargl": [
           {
            "marker": {
             "colorbar": {
              "outlinewidth": 0,
              "ticks": ""
             }
            },
            "type": "scatterpolargl"
           }
          ],
          "scatterternary": [
           {
            "marker": {
             "colorbar": {
              "outlinewidth": 0,
              "ticks": ""
             }
            },
            "type": "scatterternary"
           }
          ],
          "surface": [
           {
            "colorbar": {
             "outlinewidth": 0,
             "ticks": ""
            },
            "colorscale": [
             [
              0,
              "#0d0887"
             ],
             [
              0.1111111111111111,
              "#46039f"
             ],
             [
              0.2222222222222222,
              "#7201a8"
             ],
             [
              0.3333333333333333,
              "#9c179e"
             ],
             [
              0.4444444444444444,
              "#bd3786"
             ],
             [
              0.5555555555555556,
              "#d8576b"
             ],
             [
              0.6666666666666666,
              "#ed7953"
             ],
             [
              0.7777777777777778,
              "#fb9f3a"
             ],
             [
              0.8888888888888888,
              "#fdca26"
             ],
             [
              1,
              "#f0f921"
             ]
            ],
            "type": "surface"
           }
          ],
          "table": [
           {
            "cells": {
             "fill": {
              "color": "#EBF0F8"
             },
             "line": {
              "color": "white"
             }
            },
            "header": {
             "fill": {
              "color": "#C8D4E3"
             },
             "line": {
              "color": "white"
             }
            },
            "type": "table"
           }
          ]
         },
         "layout": {
          "annotationdefaults": {
           "arrowcolor": "#2a3f5f",
           "arrowhead": 0,
           "arrowwidth": 1
          },
          "autotypenumbers": "strict",
          "coloraxis": {
           "colorbar": {
            "outlinewidth": 0,
            "ticks": ""
           }
          },
          "colorscale": {
           "diverging": [
            [
             0,
             "#8e0152"
            ],
            [
             0.1,
             "#c51b7d"
            ],
            [
             0.2,
             "#de77ae"
            ],
            [
             0.3,
             "#f1b6da"
            ],
            [
             0.4,
             "#fde0ef"
            ],
            [
             0.5,
             "#f7f7f7"
            ],
            [
             0.6,
             "#e6f5d0"
            ],
            [
             0.7,
             "#b8e186"
            ],
            [
             0.8,
             "#7fbc41"
            ],
            [
             0.9,
             "#4d9221"
            ],
            [
             1,
             "#276419"
            ]
           ],
           "sequential": [
            [
             0,
             "#0d0887"
            ],
            [
             0.1111111111111111,
             "#46039f"
            ],
            [
             0.2222222222222222,
             "#7201a8"
            ],
            [
             0.3333333333333333,
             "#9c179e"
            ],
            [
             0.4444444444444444,
             "#bd3786"
            ],
            [
             0.5555555555555556,
             "#d8576b"
            ],
            [
             0.6666666666666666,
             "#ed7953"
            ],
            [
             0.7777777777777778,
             "#fb9f3a"
            ],
            [
             0.8888888888888888,
             "#fdca26"
            ],
            [
             1,
             "#f0f921"
            ]
           ],
           "sequentialminus": [
            [
             0,
             "#0d0887"
            ],
            [
             0.1111111111111111,
             "#46039f"
            ],
            [
             0.2222222222222222,
             "#7201a8"
            ],
            [
             0.3333333333333333,
             "#9c179e"
            ],
            [
             0.4444444444444444,
             "#bd3786"
            ],
            [
             0.5555555555555556,
             "#d8576b"
            ],
            [
             0.6666666666666666,
             "#ed7953"
            ],
            [
             0.7777777777777778,
             "#fb9f3a"
            ],
            [
             0.8888888888888888,
             "#fdca26"
            ],
            [
             1,
             "#f0f921"
            ]
           ]
          },
          "colorway": [
           "#636efa",
           "#EF553B",
           "#00cc96",
           "#ab63fa",
           "#FFA15A",
           "#19d3f3",
           "#FF6692",
           "#B6E880",
           "#FF97FF",
           "#FECB52"
          ],
          "font": {
           "color": "#2a3f5f"
          },
          "geo": {
           "bgcolor": "white",
           "lakecolor": "white",
           "landcolor": "#E5ECF6",
           "showlakes": true,
           "showland": true,
           "subunitcolor": "white"
          },
          "hoverlabel": {
           "align": "left"
          },
          "hovermode": "closest",
          "mapbox": {
           "style": "light"
          },
          "paper_bgcolor": "white",
          "plot_bgcolor": "#E5ECF6",
          "polar": {
           "angularaxis": {
            "gridcolor": "white",
            "linecolor": "white",
            "ticks": ""
           },
           "bgcolor": "#E5ECF6",
           "radialaxis": {
            "gridcolor": "white",
            "linecolor": "white",
            "ticks": ""
           }
          },
          "scene": {
           "xaxis": {
            "backgroundcolor": "#E5ECF6",
            "gridcolor": "white",
            "gridwidth": 2,
            "linecolor": "white",
            "showbackground": true,
            "ticks": "",
            "zerolinecolor": "white"
           },
           "yaxis": {
            "backgroundcolor": "#E5ECF6",
            "gridcolor": "white",
            "gridwidth": 2,
            "linecolor": "white",
            "showbackground": true,
            "ticks": "",
            "zerolinecolor": "white"
           },
           "zaxis": {
            "backgroundcolor": "#E5ECF6",
            "gridcolor": "white",
            "gridwidth": 2,
            "linecolor": "white",
            "showbackground": true,
            "ticks": "",
            "zerolinecolor": "white"
           }
          },
          "shapedefaults": {
           "line": {
            "color": "#2a3f5f"
           }
          },
          "ternary": {
           "aaxis": {
            "gridcolor": "white",
            "linecolor": "white",
            "ticks": ""
           },
           "baxis": {
            "gridcolor": "white",
            "linecolor": "white",
            "ticks": ""
           },
           "bgcolor": "#E5ECF6",
           "caxis": {
            "gridcolor": "white",
            "linecolor": "white",
            "ticks": ""
           }
          },
          "title": {
           "x": 0.05
          },
          "xaxis": {
           "automargin": true,
           "gridcolor": "white",
           "linecolor": "white",
           "ticks": "",
           "title": {
            "standoff": 15
           },
           "zerolinecolor": "white",
           "zerolinewidth": 2
          },
          "yaxis": {
           "automargin": true,
           "gridcolor": "white",
           "linecolor": "white",
           "ticks": "",
           "title": {
            "standoff": 15
           },
           "zerolinecolor": "white",
           "zerolinewidth": 2
          }
         }
        }
       }
      },
      "text/html": [
       "<div>                            <div id=\"7441d5b1-d5b5-469a-bdde-14b03a5be9ae\" class=\"plotly-graph-div\" style=\"height:525px; width:100%;\"></div>            <script type=\"text/javascript\">                require([\"plotly\"], function(Plotly) {                    window.PLOTLYENV=window.PLOTLYENV || {};                                    if (document.getElementById(\"7441d5b1-d5b5-469a-bdde-14b03a5be9ae\")) {                    Plotly.newPlot(                        \"7441d5b1-d5b5-469a-bdde-14b03a5be9ae\",                        [{\"close\":[37628.3,37616.85,37543.1,37530.45,37480.1,37421.9,37453.85,37487.4,37491.4,37552.55,37562.5,37523.5,37504.3,37510.15,37470.8,37446.55,37469.7,37454.85,37490.4,37500.5,37524.75,37513.45,37535.25,37525.8,37516.35,37489.45,37487.15,37469.5,37504.8,37523.45,37524.5,37498.95,37532.65,37560.55,37580.15,37581.8,37580.75,37580.7,37587.8,37594.0,37599.6,37580.7,37579.7,37577.95,37572.35,37561.55,37565.8,37557.8,37566.1,37565.55,37535.8,37535.4,37546.25,37588.95,37593.4,37622.9,37628.15,37642.5,37630.5,37626.9,37644.45,37643.0,37618.0,37628.55,37628.95,37618.8,37623.15,37640.45,37648.25,37638.25,37633.9,37628.6,37611.2,37623.5,37620.05,37618.9,37618.3,37632.0,37632.05],\"high\":[37655.45,37638.2,37619.4,37547.05,37528.0,37482.75,37457.5,37487.95,37496.05,37555.4,37600.55,37564.85,37538.45,37518.45,37513.45,37472.7,37471.5,37467.0,37491.65,37511.65,37524.75,37530.15,37538.35,37540.45,37527.35,37518.15,37500.7,37491.8,37505.35,37523.45,37529.75,37527.45,37540.9,37565.8,37581.4,37607.1,37587.8,37583.0,37588.05,37598.35,37608.5,37604.0,37588.95,37581.1,37589.2,37583.9,37572.15,37570.75,37570.0,37571.65,37565.75,37540.0,37549.55,37588.95,37603.1,37625.6,37643.3,37642.5,37648.8,37635.35,37644.45,37661.55,37646.05,37635.15,37643.6,37637.85,37629.2,37640.45,37648.25,37651.75,37646.05,37636.75,37631.7,37626.15,37627.2,37625.25,37620.1,37635.3,37634.65],\"low\":[37594.15,37610.3,37543.1,37502.05,37476.7,37417.25,37407.5,37444.45,37467.2,37490.4,37552.3,37522.6,37497.3,37502.55,37463.1,37444.15,37439.05,37447.6,37450.4,37487.4,37493.9,37503.7,37512.35,37523.35,37505.55,37487.7,37485.85,37455.4,37468.85,37497.85,37512.5,37498.95,37496.75,37539.85,37559.0,37581.6,37570.25,37574.85,37565.0,37586.45,37590.75,37577.55,37570.2,37565.65,37564.25,37561.35,37556.05,37554.0,37557.65,37557.0,37534.55,37519.1,37530.55,37548.3,37584.9,37593.75,37626.2,37621.05,37620.05,37624.2,37626.2,37639.85,37614.8,37607.35,37625.25,37616.7,37612.55,37622.6,37635.45,37633.35,37633.9,37627.7,37611.2,37603.8,37617.7,37613.35,37613.8,37613.35,37624.05],\"open\":[37594.15,37630.2,37619.4,37545.55,37528.0,37482.75,37417.55,37453.9,37490.55,37490.4,37552.3,37560.55,37523.1,37504.75,37509.6,37470.45,37441.6,37460.85,37458.8,37488.75,37505.85,37525.9,37512.35,37533.55,37527.35,37518.1,37488.15,37486.45,37475.9,37501.45,37524.75,37524.5,37496.75,37540.3,37561.2,37582.05,37583.9,37581.95,37580.15,37589.7,37591.25,37602.0,37580.95,37580.05,37579.0,37573.85,37560.45,37570.75,37562.7,37567.5,37565.75,37535.45,37537.35,37550.4,37588.55,37594.6,37627.0,37628.4,37639.0,37628.6,37626.2,37645.25,37643.05,37615.75,37630.05,37629.65,37618.05,37623.15,37643.3,37648.25,37641.75,37631.95,37631.25,37604.15,37624.3,37618.9,37615.9,37615.6,37631.15],\"x\":[\"2022-08-01 09:15:00+05:30\",\"2022-08-01 09:16:00+05:30\",\"2022-08-01 09:17:00+05:30\",\"2022-08-01 09:18:00+05:30\",\"2022-08-01 09:19:00+05:30\",\"2022-08-01 09:20:00+05:30\",\"2022-08-01 09:21:00+05:30\",\"2022-08-01 09:22:00+05:30\",\"2022-08-01 09:23:00+05:30\",\"2022-08-01 09:24:00+05:30\",\"2022-08-01 09:25:00+05:30\",\"2022-08-01 09:26:00+05:30\",\"2022-08-01 09:27:00+05:30\",\"2022-08-01 09:28:00+05:30\",\"2022-08-01 09:29:00+05:30\",\"2022-08-01 09:30:00+05:30\",\"2022-08-01 09:31:00+05:30\",\"2022-08-01 09:32:00+05:30\",\"2022-08-01 09:33:00+05:30\",\"2022-08-01 09:34:00+05:30\",\"2022-08-01 09:35:00+05:30\",\"2022-08-01 09:36:00+05:30\",\"2022-08-01 09:37:00+05:30\",\"2022-08-01 09:38:00+05:30\",\"2022-08-01 09:39:00+05:30\",\"2022-08-01 09:40:00+05:30\",\"2022-08-01 09:41:00+05:30\",\"2022-08-01 09:42:00+05:30\",\"2022-08-01 09:43:00+05:30\",\"2022-08-01 09:44:00+05:30\",\"2022-08-01 09:45:00+05:30\",\"2022-08-01 09:46:00+05:30\",\"2022-08-01 09:47:00+05:30\",\"2022-08-01 09:48:00+05:30\",\"2022-08-01 09:49:00+05:30\",\"2022-08-01 09:50:00+05:30\",\"2022-08-01 09:51:00+05:30\",\"2022-08-01 09:52:00+05:30\",\"2022-08-01 09:53:00+05:30\",\"2022-08-01 09:54:00+05:30\",\"2022-08-01 09:55:00+05:30\",\"2022-08-01 09:56:00+05:30\",\"2022-08-01 09:57:00+05:30\",\"2022-08-01 09:58:00+05:30\",\"2022-08-01 09:59:00+05:30\",\"2022-08-01 10:00:00+05:30\",\"2022-08-01 10:01:00+05:30\",\"2022-08-01 10:02:00+05:30\",\"2022-08-01 10:03:00+05:30\",\"2022-08-01 10:04:00+05:30\",\"2022-08-01 10:05:00+05:30\",\"2022-08-01 10:06:00+05:30\",\"2022-08-01 10:07:00+05:30\",\"2022-08-01 10:08:00+05:30\",\"2022-08-01 10:09:00+05:30\",\"2022-08-01 10:10:00+05:30\",\"2022-08-01 10:11:00+05:30\",\"2022-08-01 10:12:00+05:30\",\"2022-08-01 10:13:00+05:30\",\"2022-08-01 10:14:00+05:30\",\"2022-08-01 10:15:00+05:30\",\"2022-08-01 10:16:00+05:30\",\"2022-08-01 10:17:00+05:30\",\"2022-08-01 10:18:00+05:30\",\"2022-08-01 10:19:00+05:30\",\"2022-08-01 10:20:00+05:30\",\"2022-08-01 10:21:00+05:30\",\"2022-08-01 10:22:00+05:30\",\"2022-08-01 10:23:00+05:30\",\"2022-08-01 10:24:00+05:30\",\"2022-08-01 10:25:00+05:30\",\"2022-08-01 10:26:00+05:30\",\"2022-08-01 10:27:00+05:30\",\"2022-08-01 10:28:00+05:30\",\"2022-08-01 10:29:00+05:30\",\"2022-08-01 10:30:00+05:30\",\"2022-08-01 10:31:00+05:30\",\"2022-08-01 10:32:00+05:30\",\"2022-08-01 10:33:00+05:30\"],\"type\":\"candlestick\"}],                        {\"template\":{\"data\":{\"histogram2dcontour\":[{\"type\":\"histogram2dcontour\",\"colorbar\":{\"outlinewidth\":0,\"ticks\":\"\"},\"colorscale\":[[0.0,\"#0d0887\"],[0.1111111111111111,\"#46039f\"],[0.2222222222222222,\"#7201a8\"],[0.3333333333333333,\"#9c179e\"],[0.4444444444444444,\"#bd3786\"],[0.5555555555555556,\"#d8576b\"],[0.6666666666666666,\"#ed7953\"],[0.7777777777777778,\"#fb9f3a\"],[0.8888888888888888,\"#fdca26\"],[1.0,\"#f0f921\"]]}],\"choropleth\":[{\"type\":\"choropleth\",\"colorbar\":{\"outlinewidth\":0,\"ticks\":\"\"}}],\"histogram2d\":[{\"type\":\"histogram2d\",\"colorbar\":{\"outlinewidth\":0,\"ticks\":\"\"},\"colorscale\":[[0.0,\"#0d0887\"],[0.1111111111111111,\"#46039f\"],[0.2222222222222222,\"#7201a8\"],[0.3333333333333333,\"#9c179e\"],[0.4444444444444444,\"#bd3786\"],[0.5555555555555556,\"#d8576b\"],[0.6666666666666666,\"#ed7953\"],[0.7777777777777778,\"#fb9f3a\"],[0.8888888888888888,\"#fdca26\"],[1.0,\"#f0f921\"]]}],\"heatmap\":[{\"type\":\"heatmap\",\"colorbar\":{\"outlinewidth\":0,\"ticks\":\"\"},\"colorscale\":[[0.0,\"#0d0887\"],[0.1111111111111111,\"#46039f\"],[0.2222222222222222,\"#7201a8\"],[0.3333333333333333,\"#9c179e\"],[0.4444444444444444,\"#bd3786\"],[0.5555555555555556,\"#d8576b\"],[0.6666666666666666,\"#ed7953\"],[0.7777777777777778,\"#fb9f3a\"],[0.8888888888888888,\"#fdca26\"],[1.0,\"#f0f921\"]]}],\"heatmapgl\":[{\"type\":\"heatmapgl\",\"colorbar\":{\"outlinewidth\":0,\"ticks\":\"\"},\"colorscale\":[[0.0,\"#0d0887\"],[0.1111111111111111,\"#46039f\"],[0.2222222222222222,\"#7201a8\"],[0.3333333333333333,\"#9c179e\"],[0.4444444444444444,\"#bd3786\"],[0.5555555555555556,\"#d8576b\"],[0.6666666666666666,\"#ed7953\"],[0.7777777777777778,\"#fb9f3a\"],[0.8888888888888888,\"#fdca26\"],[1.0,\"#f0f921\"]]}],\"contourcarpet\":[{\"type\":\"contourcarpet\",\"colorbar\":{\"outlinewidth\":0,\"ticks\":\"\"}}],\"contour\":[{\"type\":\"contour\",\"colorbar\":{\"outlinewidth\":0,\"ticks\":\"\"},\"colorscale\":[[0.0,\"#0d0887\"],[0.1111111111111111,\"#46039f\"],[0.2222222222222222,\"#7201a8\"],[0.3333333333333333,\"#9c179e\"],[0.4444444444444444,\"#bd3786\"],[0.5555555555555556,\"#d8576b\"],[0.6666666666666666,\"#ed7953\"],[0.7777777777777778,\"#fb9f3a\"],[0.8888888888888888,\"#fdca26\"],[1.0,\"#f0f921\"]]}],\"surface\":[{\"type\":\"surface\",\"colorbar\":{\"outlinewidth\":0,\"ticks\":\"\"},\"colorscale\":[[0.0,\"#0d0887\"],[0.1111111111111111,\"#46039f\"],[0.2222222222222222,\"#7201a8\"],[0.3333333333333333,\"#9c179e\"],[0.4444444444444444,\"#bd3786\"],[0.5555555555555556,\"#d8576b\"],[0.6666666666666666,\"#ed7953\"],[0.7777777777777778,\"#fb9f3a\"],[0.8888888888888888,\"#fdca26\"],[1.0,\"#f0f921\"]]}],\"mesh3d\":[{\"type\":\"mesh3d\",\"colorbar\":{\"outlinewidth\":0,\"ticks\":\"\"}}],\"scatter\":[{\"fillpattern\":{\"fillmode\":\"overlay\",\"size\":10,\"solidity\":0.2},\"type\":\"scatter\"}],\"parcoords\":[{\"type\":\"parcoords\",\"line\":{\"colorbar\":{\"outlinewidth\":0,\"ticks\":\"\"}}}],\"scatterpolargl\":[{\"type\":\"scatterpolargl\",\"marker\":{\"colorbar\":{\"outlinewidth\":0,\"ticks\":\"\"}}}],\"bar\":[{\"error_x\":{\"color\":\"#2a3f5f\"},\"error_y\":{\"color\":\"#2a3f5f\"},\"marker\":{\"line\":{\"color\":\"#E5ECF6\",\"width\":0.5},\"pattern\":{\"fillmode\":\"overlay\",\"size\":10,\"solidity\":0.2}},\"type\":\"bar\"}],\"scattergeo\":[{\"type\":\"scattergeo\",\"marker\":{\"colorbar\":{\"outlinewidth\":0,\"ticks\":\"\"}}}],\"scatterpolar\":[{\"type\":\"scatterpolar\",\"marker\":{\"colorbar\":{\"outlinewidth\":0,\"ticks\":\"\"}}}],\"histogram\":[{\"marker\":{\"pattern\":{\"fillmode\":\"overlay\",\"size\":10,\"solidity\":0.2}},\"type\":\"histogram\"}],\"scattergl\":[{\"type\":\"scattergl\",\"marker\":{\"colorbar\":{\"outlinewidth\":0,\"ticks\":\"\"}}}],\"scatter3d\":[{\"type\":\"scatter3d\",\"line\":{\"colorbar\":{\"outlinewidth\":0,\"ticks\":\"\"}},\"marker\":{\"colorbar\":{\"outlinewidth\":0,\"ticks\":\"\"}}}],\"scattermapbox\":[{\"type\":\"scattermapbox\",\"marker\":{\"colorbar\":{\"outlinewidth\":0,\"ticks\":\"\"}}}],\"scatterternary\":[{\"type\":\"scatterternary\",\"marker\":{\"colorbar\":{\"outlinewidth\":0,\"ticks\":\"\"}}}],\"scattercarpet\":[{\"type\":\"scattercarpet\",\"marker\":{\"colorbar\":{\"outlinewidth\":0,\"ticks\":\"\"}}}],\"carpet\":[{\"aaxis\":{\"endlinecolor\":\"#2a3f5f\",\"gridcolor\":\"white\",\"linecolor\":\"white\",\"minorgridcolor\":\"white\",\"startlinecolor\":\"#2a3f5f\"},\"baxis\":{\"endlinecolor\":\"#2a3f5f\",\"gridcolor\":\"white\",\"linecolor\":\"white\",\"minorgridcolor\":\"white\",\"startlinecolor\":\"#2a3f5f\"},\"type\":\"carpet\"}],\"table\":[{\"cells\":{\"fill\":{\"color\":\"#EBF0F8\"},\"line\":{\"color\":\"white\"}},\"header\":{\"fill\":{\"color\":\"#C8D4E3\"},\"line\":{\"color\":\"white\"}},\"type\":\"table\"}],\"barpolar\":[{\"marker\":{\"line\":{\"color\":\"#E5ECF6\",\"width\":0.5},\"pattern\":{\"fillmode\":\"overlay\",\"size\":10,\"solidity\":0.2}},\"type\":\"barpolar\"}],\"pie\":[{\"automargin\":true,\"type\":\"pie\"}]},\"layout\":{\"autotypenumbers\":\"strict\",\"colorway\":[\"#636efa\",\"#EF553B\",\"#00cc96\",\"#ab63fa\",\"#FFA15A\",\"#19d3f3\",\"#FF6692\",\"#B6E880\",\"#FF97FF\",\"#FECB52\"],\"font\":{\"color\":\"#2a3f5f\"},\"hovermode\":\"closest\",\"hoverlabel\":{\"align\":\"left\"},\"paper_bgcolor\":\"white\",\"plot_bgcolor\":\"#E5ECF6\",\"polar\":{\"bgcolor\":\"#E5ECF6\",\"angularaxis\":{\"gridcolor\":\"white\",\"linecolor\":\"white\",\"ticks\":\"\"},\"radialaxis\":{\"gridcolor\":\"white\",\"linecolor\":\"white\",\"ticks\":\"\"}},\"ternary\":{\"bgcolor\":\"#E5ECF6\",\"aaxis\":{\"gridcolor\":\"white\",\"linecolor\":\"white\",\"ticks\":\"\"},\"baxis\":{\"gridcolor\":\"white\",\"linecolor\":\"white\",\"ticks\":\"\"},\"caxis\":{\"gridcolor\":\"white\",\"linecolor\":\"white\",\"ticks\":\"\"}},\"coloraxis\":{\"colorbar\":{\"outlinewidth\":0,\"ticks\":\"\"}},\"colorscale\":{\"sequential\":[[0.0,\"#0d0887\"],[0.1111111111111111,\"#46039f\"],[0.2222222222222222,\"#7201a8\"],[0.3333333333333333,\"#9c179e\"],[0.4444444444444444,\"#bd3786\"],[0.5555555555555556,\"#d8576b\"],[0.6666666666666666,\"#ed7953\"],[0.7777777777777778,\"#fb9f3a\"],[0.8888888888888888,\"#fdca26\"],[1.0,\"#f0f921\"]],\"sequentialminus\":[[0.0,\"#0d0887\"],[0.1111111111111111,\"#46039f\"],[0.2222222222222222,\"#7201a8\"],[0.3333333333333333,\"#9c179e\"],[0.4444444444444444,\"#bd3786\"],[0.5555555555555556,\"#d8576b\"],[0.6666666666666666,\"#ed7953\"],[0.7777777777777778,\"#fb9f3a\"],[0.8888888888888888,\"#fdca26\"],[1.0,\"#f0f921\"]],\"diverging\":[[0,\"#8e0152\"],[0.1,\"#c51b7d\"],[0.2,\"#de77ae\"],[0.3,\"#f1b6da\"],[0.4,\"#fde0ef\"],[0.5,\"#f7f7f7\"],[0.6,\"#e6f5d0\"],[0.7,\"#b8e186\"],[0.8,\"#7fbc41\"],[0.9,\"#4d9221\"],[1,\"#276419\"]]},\"xaxis\":{\"gridcolor\":\"white\",\"linecolor\":\"white\",\"ticks\":\"\",\"title\":{\"standoff\":15},\"zerolinecolor\":\"white\",\"automargin\":true,\"zerolinewidth\":2},\"yaxis\":{\"gridcolor\":\"white\",\"linecolor\":\"white\",\"ticks\":\"\",\"title\":{\"standoff\":15},\"zerolinecolor\":\"white\",\"automargin\":true,\"zerolinewidth\":2},\"scene\":{\"xaxis\":{\"backgroundcolor\":\"#E5ECF6\",\"gridcolor\":\"white\",\"linecolor\":\"white\",\"showbackground\":true,\"ticks\":\"\",\"zerolinecolor\":\"white\",\"gridwidth\":2},\"yaxis\":{\"backgroundcolor\":\"#E5ECF6\",\"gridcolor\":\"white\",\"linecolor\":\"white\",\"showbackground\":true,\"ticks\":\"\",\"zerolinecolor\":\"white\",\"gridwidth\":2},\"zaxis\":{\"backgroundcolor\":\"#E5ECF6\",\"gridcolor\":\"white\",\"linecolor\":\"white\",\"showbackground\":true,\"ticks\":\"\",\"zerolinecolor\":\"white\",\"gridwidth\":2}},\"shapedefaults\":{\"line\":{\"color\":\"#2a3f5f\"}},\"annotationdefaults\":{\"arrowcolor\":\"#2a3f5f\",\"arrowhead\":0,\"arrowwidth\":1},\"geo\":{\"bgcolor\":\"white\",\"landcolor\":\"#E5ECF6\",\"subunitcolor\":\"white\",\"showland\":true,\"showlakes\":true,\"lakecolor\":\"white\"},\"title\":{\"x\":0.05},\"mapbox\":{\"style\":\"light\"}}},\"shapes\":[{\"line\":{\"color\":\"green\",\"width\":1},\"type\":\"line\",\"x0\":0,\"x1\":1,\"xref\":\"x domain\",\"y0\":0,\"y1\":0,\"yref\":\"y\"},{\"line\":{\"color\":\"red\",\"width\":1},\"type\":\"line\",\"x0\":0,\"x1\":1,\"xref\":\"x domain\",\"y0\":0,\"y1\":0,\"yref\":\"y\"},{\"line\":{\"color\":\"black\",\"width\":3},\"type\":\"line\",\"x0\":0,\"x1\":1,\"xref\":\"x domain\",\"y0\":0,\"y1\":0,\"yref\":\"y\"}]},                        {\"responsive\": true}                    ).then(function(){\n",
       "                            \n",
       "var gd = document.getElementById('7441d5b1-d5b5-469a-bdde-14b03a5be9ae');\n",
       "var x = new MutationObserver(function (mutations, observer) {{\n",
       "        var display = window.getComputedStyle(gd).display;\n",
       "        if (!display || display === 'none') {{\n",
       "            console.log([gd, 'removed!']);\n",
       "            Plotly.purge(gd);\n",
       "            observer.disconnect();\n",
       "        }}\n",
       "}});\n",
       "\n",
       "// Listen for the removal of the full notebook cells\n",
       "var notebookContainer = gd.closest('#notebook-container');\n",
       "if (notebookContainer) {{\n",
       "    x.observe(notebookContainer, {childList: true});\n",
       "}}\n",
       "\n",
       "// Listen for the clearing of the current output cell\n",
       "var outputEl = gd.closest('.output');\n",
       "if (outputEl) {{\n",
       "    x.observe(outputEl, {childList: true});\n",
       "}}\n",
       "\n",
       "                        })                };                });            </script>        </div>"
      ]
     },
     "metadata": {},
     "output_type": "display_data"
    },
    {
     "name": "stdout",
     "output_type": "stream",
     "text": [
      "res : [37661.55, 37655.45, 37651.75, 37648.8, 37608.5, 37600.55, 37540.45]\n",
      "sup : [37407.5, 37439.05, 37455.4, 37519.1, 37594.15, 37603.8, 37607.35]\n",
      "################################################################################\n",
      "################################################################################\n",
      "2022-08-01 10:44:00+05:30\n",
      "37671.8 37613.35\n",
      "rr : 1.1958997722093294\n"
     ]
    },
    {
     "data": {
      "application/vnd.plotly.v1+json": {
       "config": {
        "plotlyServerURL": "https://plot.ly"
       },
       "data": [
        {
         "close": [
          37628.3,
          37616.85,
          37543.1,
          37530.45,
          37480.1,
          37421.9,
          37453.85,
          37487.4,
          37491.4,
          37552.55,
          37562.5,
          37523.5,
          37504.3,
          37510.15,
          37470.8,
          37446.55,
          37469.7,
          37454.85,
          37490.4,
          37500.5,
          37524.75,
          37513.45,
          37535.25,
          37525.8,
          37516.35,
          37489.45,
          37487.15,
          37469.5,
          37504.8,
          37523.45,
          37524.5,
          37498.95,
          37532.65,
          37560.55,
          37580.15,
          37581.8,
          37580.75,
          37580.7,
          37587.8,
          37594,
          37599.6,
          37580.7,
          37579.7,
          37577.95,
          37572.35,
          37561.55,
          37565.8,
          37557.8,
          37566.1,
          37565.55,
          37535.8,
          37535.4,
          37546.25,
          37588.95,
          37593.4,
          37622.9,
          37628.15,
          37642.5,
          37630.5,
          37626.9,
          37644.45,
          37643,
          37618,
          37628.55,
          37628.95,
          37618.8,
          37623.15,
          37640.45,
          37648.25,
          37638.25,
          37633.9,
          37628.6,
          37611.2,
          37623.5,
          37620.05,
          37618.9,
          37618.3,
          37632,
          37632.05,
          37639.2
         ],
         "high": [
          37655.45,
          37638.2,
          37619.4,
          37547.05,
          37528,
          37482.75,
          37457.5,
          37487.95,
          37496.05,
          37555.4,
          37600.55,
          37564.85,
          37538.45,
          37518.45,
          37513.45,
          37472.7,
          37471.5,
          37467,
          37491.65,
          37511.65,
          37524.75,
          37530.15,
          37538.35,
          37540.45,
          37527.35,
          37518.15,
          37500.7,
          37491.8,
          37505.35,
          37523.45,
          37529.75,
          37527.45,
          37540.9,
          37565.8,
          37581.4,
          37607.1,
          37587.8,
          37583,
          37588.05,
          37598.35,
          37608.5,
          37604,
          37588.95,
          37581.1,
          37589.2,
          37583.9,
          37572.15,
          37570.75,
          37570,
          37571.65,
          37565.75,
          37540,
          37549.55,
          37588.95,
          37603.1,
          37625.6,
          37643.3,
          37642.5,
          37648.8,
          37635.35,
          37644.45,
          37661.55,
          37646.05,
          37635.15,
          37643.6,
          37637.85,
          37629.2,
          37640.45,
          37648.25,
          37651.75,
          37646.05,
          37636.75,
          37631.7,
          37626.15,
          37627.2,
          37625.25,
          37620.1,
          37635.3,
          37634.65,
          37642.45
         ],
         "low": [
          37594.15,
          37610.3,
          37543.1,
          37502.05,
          37476.7,
          37417.25,
          37407.5,
          37444.45,
          37467.2,
          37490.4,
          37552.3,
          37522.6,
          37497.3,
          37502.55,
          37463.1,
          37444.15,
          37439.05,
          37447.6,
          37450.4,
          37487.4,
          37493.9,
          37503.7,
          37512.35,
          37523.35,
          37505.55,
          37487.7,
          37485.85,
          37455.4,
          37468.85,
          37497.85,
          37512.5,
          37498.95,
          37496.75,
          37539.85,
          37559,
          37581.6,
          37570.25,
          37574.85,
          37565,
          37586.45,
          37590.75,
          37577.55,
          37570.2,
          37565.65,
          37564.25,
          37561.35,
          37556.05,
          37554,
          37557.65,
          37557,
          37534.55,
          37519.1,
          37530.55,
          37548.3,
          37584.9,
          37593.75,
          37626.2,
          37621.05,
          37620.05,
          37624.2,
          37626.2,
          37639.85,
          37614.8,
          37607.35,
          37625.25,
          37616.7,
          37612.55,
          37622.6,
          37635.45,
          37633.35,
          37633.9,
          37627.7,
          37611.2,
          37603.8,
          37617.7,
          37613.35,
          37613.8,
          37613.35,
          37624.05,
          37631.45
         ],
         "open": [
          37594.15,
          37630.2,
          37619.4,
          37545.55,
          37528,
          37482.75,
          37417.55,
          37453.9,
          37490.55,
          37490.4,
          37552.3,
          37560.55,
          37523.1,
          37504.75,
          37509.6,
          37470.45,
          37441.6,
          37460.85,
          37458.8,
          37488.75,
          37505.85,
          37525.9,
          37512.35,
          37533.55,
          37527.35,
          37518.1,
          37488.15,
          37486.45,
          37475.9,
          37501.45,
          37524.75,
          37524.5,
          37496.75,
          37540.3,
          37561.2,
          37582.05,
          37583.9,
          37581.95,
          37580.15,
          37589.7,
          37591.25,
          37602,
          37580.95,
          37580.05,
          37579,
          37573.85,
          37560.45,
          37570.75,
          37562.7,
          37567.5,
          37565.75,
          37535.45,
          37537.35,
          37550.4,
          37588.55,
          37594.6,
          37627,
          37628.4,
          37639,
          37628.6,
          37626.2,
          37645.25,
          37643.05,
          37615.75,
          37630.05,
          37629.65,
          37618.05,
          37623.15,
          37643.3,
          37648.25,
          37641.75,
          37631.95,
          37631.25,
          37604.15,
          37624.3,
          37618.9,
          37615.9,
          37615.6,
          37631.15,
          37631.45
         ],
         "type": "candlestick",
         "x": [
          "2022-08-01 09:15:00+05:30",
          "2022-08-01 09:16:00+05:30",
          "2022-08-01 09:17:00+05:30",
          "2022-08-01 09:18:00+05:30",
          "2022-08-01 09:19:00+05:30",
          "2022-08-01 09:20:00+05:30",
          "2022-08-01 09:21:00+05:30",
          "2022-08-01 09:22:00+05:30",
          "2022-08-01 09:23:00+05:30",
          "2022-08-01 09:24:00+05:30",
          "2022-08-01 09:25:00+05:30",
          "2022-08-01 09:26:00+05:30",
          "2022-08-01 09:27:00+05:30",
          "2022-08-01 09:28:00+05:30",
          "2022-08-01 09:29:00+05:30",
          "2022-08-01 09:30:00+05:30",
          "2022-08-01 09:31:00+05:30",
          "2022-08-01 09:32:00+05:30",
          "2022-08-01 09:33:00+05:30",
          "2022-08-01 09:34:00+05:30",
          "2022-08-01 09:35:00+05:30",
          "2022-08-01 09:36:00+05:30",
          "2022-08-01 09:37:00+05:30",
          "2022-08-01 09:38:00+05:30",
          "2022-08-01 09:39:00+05:30",
          "2022-08-01 09:40:00+05:30",
          "2022-08-01 09:41:00+05:30",
          "2022-08-01 09:42:00+05:30",
          "2022-08-01 09:43:00+05:30",
          "2022-08-01 09:44:00+05:30",
          "2022-08-01 09:45:00+05:30",
          "2022-08-01 09:46:00+05:30",
          "2022-08-01 09:47:00+05:30",
          "2022-08-01 09:48:00+05:30",
          "2022-08-01 09:49:00+05:30",
          "2022-08-01 09:50:00+05:30",
          "2022-08-01 09:51:00+05:30",
          "2022-08-01 09:52:00+05:30",
          "2022-08-01 09:53:00+05:30",
          "2022-08-01 09:54:00+05:30",
          "2022-08-01 09:55:00+05:30",
          "2022-08-01 09:56:00+05:30",
          "2022-08-01 09:57:00+05:30",
          "2022-08-01 09:58:00+05:30",
          "2022-08-01 09:59:00+05:30",
          "2022-08-01 10:00:00+05:30",
          "2022-08-01 10:01:00+05:30",
          "2022-08-01 10:02:00+05:30",
          "2022-08-01 10:03:00+05:30",
          "2022-08-01 10:04:00+05:30",
          "2022-08-01 10:05:00+05:30",
          "2022-08-01 10:06:00+05:30",
          "2022-08-01 10:07:00+05:30",
          "2022-08-01 10:08:00+05:30",
          "2022-08-01 10:09:00+05:30",
          "2022-08-01 10:10:00+05:30",
          "2022-08-01 10:11:00+05:30",
          "2022-08-01 10:12:00+05:30",
          "2022-08-01 10:13:00+05:30",
          "2022-08-01 10:14:00+05:30",
          "2022-08-01 10:15:00+05:30",
          "2022-08-01 10:16:00+05:30",
          "2022-08-01 10:17:00+05:30",
          "2022-08-01 10:18:00+05:30",
          "2022-08-01 10:19:00+05:30",
          "2022-08-01 10:20:00+05:30",
          "2022-08-01 10:21:00+05:30",
          "2022-08-01 10:22:00+05:30",
          "2022-08-01 10:23:00+05:30",
          "2022-08-01 10:24:00+05:30",
          "2022-08-01 10:25:00+05:30",
          "2022-08-01 10:26:00+05:30",
          "2022-08-01 10:27:00+05:30",
          "2022-08-01 10:28:00+05:30",
          "2022-08-01 10:29:00+05:30",
          "2022-08-01 10:30:00+05:30",
          "2022-08-01 10:31:00+05:30",
          "2022-08-01 10:32:00+05:30",
          "2022-08-01 10:33:00+05:30",
          "2022-08-01 10:34:00+05:30"
         ]
        }
       ],
       "layout": {
        "shapes": [
         {
          "line": {
           "color": "green",
           "width": 1
          },
          "type": "line",
          "x0": 0,
          "x1": 1,
          "xref": "x domain",
          "y0": 0,
          "y1": 0,
          "yref": "y"
         },
         {
          "line": {
           "color": "red",
           "width": 1
          },
          "type": "line",
          "x0": 0,
          "x1": 1,
          "xref": "x domain",
          "y0": 0,
          "y1": 0,
          "yref": "y"
         },
         {
          "line": {
           "color": "black",
           "width": 3
          },
          "type": "line",
          "x0": 0,
          "x1": 1,
          "xref": "x domain",
          "y0": 0,
          "y1": 0,
          "yref": "y"
         }
        ],
        "template": {
         "data": {
          "bar": [
           {
            "error_x": {
             "color": "#2a3f5f"
            },
            "error_y": {
             "color": "#2a3f5f"
            },
            "marker": {
             "line": {
              "color": "#E5ECF6",
              "width": 0.5
             },
             "pattern": {
              "fillmode": "overlay",
              "size": 10,
              "solidity": 0.2
             }
            },
            "type": "bar"
           }
          ],
          "barpolar": [
           {
            "marker": {
             "line": {
              "color": "#E5ECF6",
              "width": 0.5
             },
             "pattern": {
              "fillmode": "overlay",
              "size": 10,
              "solidity": 0.2
             }
            },
            "type": "barpolar"
           }
          ],
          "carpet": [
           {
            "aaxis": {
             "endlinecolor": "#2a3f5f",
             "gridcolor": "white",
             "linecolor": "white",
             "minorgridcolor": "white",
             "startlinecolor": "#2a3f5f"
            },
            "baxis": {
             "endlinecolor": "#2a3f5f",
             "gridcolor": "white",
             "linecolor": "white",
             "minorgridcolor": "white",
             "startlinecolor": "#2a3f5f"
            },
            "type": "carpet"
           }
          ],
          "choropleth": [
           {
            "colorbar": {
             "outlinewidth": 0,
             "ticks": ""
            },
            "type": "choropleth"
           }
          ],
          "contour": [
           {
            "colorbar": {
             "outlinewidth": 0,
             "ticks": ""
            },
            "colorscale": [
             [
              0,
              "#0d0887"
             ],
             [
              0.1111111111111111,
              "#46039f"
             ],
             [
              0.2222222222222222,
              "#7201a8"
             ],
             [
              0.3333333333333333,
              "#9c179e"
             ],
             [
              0.4444444444444444,
              "#bd3786"
             ],
             [
              0.5555555555555556,
              "#d8576b"
             ],
             [
              0.6666666666666666,
              "#ed7953"
             ],
             [
              0.7777777777777778,
              "#fb9f3a"
             ],
             [
              0.8888888888888888,
              "#fdca26"
             ],
             [
              1,
              "#f0f921"
             ]
            ],
            "type": "contour"
           }
          ],
          "contourcarpet": [
           {
            "colorbar": {
             "outlinewidth": 0,
             "ticks": ""
            },
            "type": "contourcarpet"
           }
          ],
          "heatmap": [
           {
            "colorbar": {
             "outlinewidth": 0,
             "ticks": ""
            },
            "colorscale": [
             [
              0,
              "#0d0887"
             ],
             [
              0.1111111111111111,
              "#46039f"
             ],
             [
              0.2222222222222222,
              "#7201a8"
             ],
             [
              0.3333333333333333,
              "#9c179e"
             ],
             [
              0.4444444444444444,
              "#bd3786"
             ],
             [
              0.5555555555555556,
              "#d8576b"
             ],
             [
              0.6666666666666666,
              "#ed7953"
             ],
             [
              0.7777777777777778,
              "#fb9f3a"
             ],
             [
              0.8888888888888888,
              "#fdca26"
             ],
             [
              1,
              "#f0f921"
             ]
            ],
            "type": "heatmap"
           }
          ],
          "heatmapgl": [
           {
            "colorbar": {
             "outlinewidth": 0,
             "ticks": ""
            },
            "colorscale": [
             [
              0,
              "#0d0887"
             ],
             [
              0.1111111111111111,
              "#46039f"
             ],
             [
              0.2222222222222222,
              "#7201a8"
             ],
             [
              0.3333333333333333,
              "#9c179e"
             ],
             [
              0.4444444444444444,
              "#bd3786"
             ],
             [
              0.5555555555555556,
              "#d8576b"
             ],
             [
              0.6666666666666666,
              "#ed7953"
             ],
             [
              0.7777777777777778,
              "#fb9f3a"
             ],
             [
              0.8888888888888888,
              "#fdca26"
             ],
             [
              1,
              "#f0f921"
             ]
            ],
            "type": "heatmapgl"
           }
          ],
          "histogram": [
           {
            "marker": {
             "pattern": {
              "fillmode": "overlay",
              "size": 10,
              "solidity": 0.2
             }
            },
            "type": "histogram"
           }
          ],
          "histogram2d": [
           {
            "colorbar": {
             "outlinewidth": 0,
             "ticks": ""
            },
            "colorscale": [
             [
              0,
              "#0d0887"
             ],
             [
              0.1111111111111111,
              "#46039f"
             ],
             [
              0.2222222222222222,
              "#7201a8"
             ],
             [
              0.3333333333333333,
              "#9c179e"
             ],
             [
              0.4444444444444444,
              "#bd3786"
             ],
             [
              0.5555555555555556,
              "#d8576b"
             ],
             [
              0.6666666666666666,
              "#ed7953"
             ],
             [
              0.7777777777777778,
              "#fb9f3a"
             ],
             [
              0.8888888888888888,
              "#fdca26"
             ],
             [
              1,
              "#f0f921"
             ]
            ],
            "type": "histogram2d"
           }
          ],
          "histogram2dcontour": [
           {
            "colorbar": {
             "outlinewidth": 0,
             "ticks": ""
            },
            "colorscale": [
             [
              0,
              "#0d0887"
             ],
             [
              0.1111111111111111,
              "#46039f"
             ],
             [
              0.2222222222222222,
              "#7201a8"
             ],
             [
              0.3333333333333333,
              "#9c179e"
             ],
             [
              0.4444444444444444,
              "#bd3786"
             ],
             [
              0.5555555555555556,
              "#d8576b"
             ],
             [
              0.6666666666666666,
              "#ed7953"
             ],
             [
              0.7777777777777778,
              "#fb9f3a"
             ],
             [
              0.8888888888888888,
              "#fdca26"
             ],
             [
              1,
              "#f0f921"
             ]
            ],
            "type": "histogram2dcontour"
           }
          ],
          "mesh3d": [
           {
            "colorbar": {
             "outlinewidth": 0,
             "ticks": ""
            },
            "type": "mesh3d"
           }
          ],
          "parcoords": [
           {
            "line": {
             "colorbar": {
              "outlinewidth": 0,
              "ticks": ""
             }
            },
            "type": "parcoords"
           }
          ],
          "pie": [
           {
            "automargin": true,
            "type": "pie"
           }
          ],
          "scatter": [
           {
            "fillpattern": {
             "fillmode": "overlay",
             "size": 10,
             "solidity": 0.2
            },
            "type": "scatter"
           }
          ],
          "scatter3d": [
           {
            "line": {
             "colorbar": {
              "outlinewidth": 0,
              "ticks": ""
             }
            },
            "marker": {
             "colorbar": {
              "outlinewidth": 0,
              "ticks": ""
             }
            },
            "type": "scatter3d"
           }
          ],
          "scattercarpet": [
           {
            "marker": {
             "colorbar": {
              "outlinewidth": 0,
              "ticks": ""
             }
            },
            "type": "scattercarpet"
           }
          ],
          "scattergeo": [
           {
            "marker": {
             "colorbar": {
              "outlinewidth": 0,
              "ticks": ""
             }
            },
            "type": "scattergeo"
           }
          ],
          "scattergl": [
           {
            "marker": {
             "colorbar": {
              "outlinewidth": 0,
              "ticks": ""
             }
            },
            "type": "scattergl"
           }
          ],
          "scattermapbox": [
           {
            "marker": {
             "colorbar": {
              "outlinewidth": 0,
              "ticks": ""
             }
            },
            "type": "scattermapbox"
           }
          ],
          "scatterpolar": [
           {
            "marker": {
             "colorbar": {
              "outlinewidth": 0,
              "ticks": ""
             }
            },
            "type": "scatterpolar"
           }
          ],
          "scatterpolargl": [
           {
            "marker": {
             "colorbar": {
              "outlinewidth": 0,
              "ticks": ""
             }
            },
            "type": "scatterpolargl"
           }
          ],
          "scatterternary": [
           {
            "marker": {
             "colorbar": {
              "outlinewidth": 0,
              "ticks": ""
             }
            },
            "type": "scatterternary"
           }
          ],
          "surface": [
           {
            "colorbar": {
             "outlinewidth": 0,
             "ticks": ""
            },
            "colorscale": [
             [
              0,
              "#0d0887"
             ],
             [
              0.1111111111111111,
              "#46039f"
             ],
             [
              0.2222222222222222,
              "#7201a8"
             ],
             [
              0.3333333333333333,
              "#9c179e"
             ],
             [
              0.4444444444444444,
              "#bd3786"
             ],
             [
              0.5555555555555556,
              "#d8576b"
             ],
             [
              0.6666666666666666,
              "#ed7953"
             ],
             [
              0.7777777777777778,
              "#fb9f3a"
             ],
             [
              0.8888888888888888,
              "#fdca26"
             ],
             [
              1,
              "#f0f921"
             ]
            ],
            "type": "surface"
           }
          ],
          "table": [
           {
            "cells": {
             "fill": {
              "color": "#EBF0F8"
             },
             "line": {
              "color": "white"
             }
            },
            "header": {
             "fill": {
              "color": "#C8D4E3"
             },
             "line": {
              "color": "white"
             }
            },
            "type": "table"
           }
          ]
         },
         "layout": {
          "annotationdefaults": {
           "arrowcolor": "#2a3f5f",
           "arrowhead": 0,
           "arrowwidth": 1
          },
          "autotypenumbers": "strict",
          "coloraxis": {
           "colorbar": {
            "outlinewidth": 0,
            "ticks": ""
           }
          },
          "colorscale": {
           "diverging": [
            [
             0,
             "#8e0152"
            ],
            [
             0.1,
             "#c51b7d"
            ],
            [
             0.2,
             "#de77ae"
            ],
            [
             0.3,
             "#f1b6da"
            ],
            [
             0.4,
             "#fde0ef"
            ],
            [
             0.5,
             "#f7f7f7"
            ],
            [
             0.6,
             "#e6f5d0"
            ],
            [
             0.7,
             "#b8e186"
            ],
            [
             0.8,
             "#7fbc41"
            ],
            [
             0.9,
             "#4d9221"
            ],
            [
             1,
             "#276419"
            ]
           ],
           "sequential": [
            [
             0,
             "#0d0887"
            ],
            [
             0.1111111111111111,
             "#46039f"
            ],
            [
             0.2222222222222222,
             "#7201a8"
            ],
            [
             0.3333333333333333,
             "#9c179e"
            ],
            [
             0.4444444444444444,
             "#bd3786"
            ],
            [
             0.5555555555555556,
             "#d8576b"
            ],
            [
             0.6666666666666666,
             "#ed7953"
            ],
            [
             0.7777777777777778,
             "#fb9f3a"
            ],
            [
             0.8888888888888888,
             "#fdca26"
            ],
            [
             1,
             "#f0f921"
            ]
           ],
           "sequentialminus": [
            [
             0,
             "#0d0887"
            ],
            [
             0.1111111111111111,
             "#46039f"
            ],
            [
             0.2222222222222222,
             "#7201a8"
            ],
            [
             0.3333333333333333,
             "#9c179e"
            ],
            [
             0.4444444444444444,
             "#bd3786"
            ],
            [
             0.5555555555555556,
             "#d8576b"
            ],
            [
             0.6666666666666666,
             "#ed7953"
            ],
            [
             0.7777777777777778,
             "#fb9f3a"
            ],
            [
             0.8888888888888888,
             "#fdca26"
            ],
            [
             1,
             "#f0f921"
            ]
           ]
          },
          "colorway": [
           "#636efa",
           "#EF553B",
           "#00cc96",
           "#ab63fa",
           "#FFA15A",
           "#19d3f3",
           "#FF6692",
           "#B6E880",
           "#FF97FF",
           "#FECB52"
          ],
          "font": {
           "color": "#2a3f5f"
          },
          "geo": {
           "bgcolor": "white",
           "lakecolor": "white",
           "landcolor": "#E5ECF6",
           "showlakes": true,
           "showland": true,
           "subunitcolor": "white"
          },
          "hoverlabel": {
           "align": "left"
          },
          "hovermode": "closest",
          "mapbox": {
           "style": "light"
          },
          "paper_bgcolor": "white",
          "plot_bgcolor": "#E5ECF6",
          "polar": {
           "angularaxis": {
            "gridcolor": "white",
            "linecolor": "white",
            "ticks": ""
           },
           "bgcolor": "#E5ECF6",
           "radialaxis": {
            "gridcolor": "white",
            "linecolor": "white",
            "ticks": ""
           }
          },
          "scene": {
           "xaxis": {
            "backgroundcolor": "#E5ECF6",
            "gridcolor": "white",
            "gridwidth": 2,
            "linecolor": "white",
            "showbackground": true,
            "ticks": "",
            "zerolinecolor": "white"
           },
           "yaxis": {
            "backgroundcolor": "#E5ECF6",
            "gridcolor": "white",
            "gridwidth": 2,
            "linecolor": "white",
            "showbackground": true,
            "ticks": "",
            "zerolinecolor": "white"
           },
           "zaxis": {
            "backgroundcolor": "#E5ECF6",
            "gridcolor": "white",
            "gridwidth": 2,
            "linecolor": "white",
            "showbackground": true,
            "ticks": "",
            "zerolinecolor": "white"
           }
          },
          "shapedefaults": {
           "line": {
            "color": "#2a3f5f"
           }
          },
          "ternary": {
           "aaxis": {
            "gridcolor": "white",
            "linecolor": "white",
            "ticks": ""
           },
           "baxis": {
            "gridcolor": "white",
            "linecolor": "white",
            "ticks": ""
           },
           "bgcolor": "#E5ECF6",
           "caxis": {
            "gridcolor": "white",
            "linecolor": "white",
            "ticks": ""
           }
          },
          "title": {
           "x": 0.05
          },
          "xaxis": {
           "automargin": true,
           "gridcolor": "white",
           "linecolor": "white",
           "ticks": "",
           "title": {
            "standoff": 15
           },
           "zerolinecolor": "white",
           "zerolinewidth": 2
          },
          "yaxis": {
           "automargin": true,
           "gridcolor": "white",
           "linecolor": "white",
           "ticks": "",
           "title": {
            "standoff": 15
           },
           "zerolinecolor": "white",
           "zerolinewidth": 2
          }
         }
        }
       }
      },
      "text/html": [
       "<div>                            <div id=\"b66617b7-0476-4fa5-9948-1c2ce47d7eca\" class=\"plotly-graph-div\" style=\"height:525px; width:100%;\"></div>            <script type=\"text/javascript\">                require([\"plotly\"], function(Plotly) {                    window.PLOTLYENV=window.PLOTLYENV || {};                                    if (document.getElementById(\"b66617b7-0476-4fa5-9948-1c2ce47d7eca\")) {                    Plotly.newPlot(                        \"b66617b7-0476-4fa5-9948-1c2ce47d7eca\",                        [{\"close\":[37628.3,37616.85,37543.1,37530.45,37480.1,37421.9,37453.85,37487.4,37491.4,37552.55,37562.5,37523.5,37504.3,37510.15,37470.8,37446.55,37469.7,37454.85,37490.4,37500.5,37524.75,37513.45,37535.25,37525.8,37516.35,37489.45,37487.15,37469.5,37504.8,37523.45,37524.5,37498.95,37532.65,37560.55,37580.15,37581.8,37580.75,37580.7,37587.8,37594.0,37599.6,37580.7,37579.7,37577.95,37572.35,37561.55,37565.8,37557.8,37566.1,37565.55,37535.8,37535.4,37546.25,37588.95,37593.4,37622.9,37628.15,37642.5,37630.5,37626.9,37644.45,37643.0,37618.0,37628.55,37628.95,37618.8,37623.15,37640.45,37648.25,37638.25,37633.9,37628.6,37611.2,37623.5,37620.05,37618.9,37618.3,37632.0,37632.05,37639.2],\"high\":[37655.45,37638.2,37619.4,37547.05,37528.0,37482.75,37457.5,37487.95,37496.05,37555.4,37600.55,37564.85,37538.45,37518.45,37513.45,37472.7,37471.5,37467.0,37491.65,37511.65,37524.75,37530.15,37538.35,37540.45,37527.35,37518.15,37500.7,37491.8,37505.35,37523.45,37529.75,37527.45,37540.9,37565.8,37581.4,37607.1,37587.8,37583.0,37588.05,37598.35,37608.5,37604.0,37588.95,37581.1,37589.2,37583.9,37572.15,37570.75,37570.0,37571.65,37565.75,37540.0,37549.55,37588.95,37603.1,37625.6,37643.3,37642.5,37648.8,37635.35,37644.45,37661.55,37646.05,37635.15,37643.6,37637.85,37629.2,37640.45,37648.25,37651.75,37646.05,37636.75,37631.7,37626.15,37627.2,37625.25,37620.1,37635.3,37634.65,37642.45],\"low\":[37594.15,37610.3,37543.1,37502.05,37476.7,37417.25,37407.5,37444.45,37467.2,37490.4,37552.3,37522.6,37497.3,37502.55,37463.1,37444.15,37439.05,37447.6,37450.4,37487.4,37493.9,37503.7,37512.35,37523.35,37505.55,37487.7,37485.85,37455.4,37468.85,37497.85,37512.5,37498.95,37496.75,37539.85,37559.0,37581.6,37570.25,37574.85,37565.0,37586.45,37590.75,37577.55,37570.2,37565.65,37564.25,37561.35,37556.05,37554.0,37557.65,37557.0,37534.55,37519.1,37530.55,37548.3,37584.9,37593.75,37626.2,37621.05,37620.05,37624.2,37626.2,37639.85,37614.8,37607.35,37625.25,37616.7,37612.55,37622.6,37635.45,37633.35,37633.9,37627.7,37611.2,37603.8,37617.7,37613.35,37613.8,37613.35,37624.05,37631.45],\"open\":[37594.15,37630.2,37619.4,37545.55,37528.0,37482.75,37417.55,37453.9,37490.55,37490.4,37552.3,37560.55,37523.1,37504.75,37509.6,37470.45,37441.6,37460.85,37458.8,37488.75,37505.85,37525.9,37512.35,37533.55,37527.35,37518.1,37488.15,37486.45,37475.9,37501.45,37524.75,37524.5,37496.75,37540.3,37561.2,37582.05,37583.9,37581.95,37580.15,37589.7,37591.25,37602.0,37580.95,37580.05,37579.0,37573.85,37560.45,37570.75,37562.7,37567.5,37565.75,37535.45,37537.35,37550.4,37588.55,37594.6,37627.0,37628.4,37639.0,37628.6,37626.2,37645.25,37643.05,37615.75,37630.05,37629.65,37618.05,37623.15,37643.3,37648.25,37641.75,37631.95,37631.25,37604.15,37624.3,37618.9,37615.9,37615.6,37631.15,37631.45],\"x\":[\"2022-08-01 09:15:00+05:30\",\"2022-08-01 09:16:00+05:30\",\"2022-08-01 09:17:00+05:30\",\"2022-08-01 09:18:00+05:30\",\"2022-08-01 09:19:00+05:30\",\"2022-08-01 09:20:00+05:30\",\"2022-08-01 09:21:00+05:30\",\"2022-08-01 09:22:00+05:30\",\"2022-08-01 09:23:00+05:30\",\"2022-08-01 09:24:00+05:30\",\"2022-08-01 09:25:00+05:30\",\"2022-08-01 09:26:00+05:30\",\"2022-08-01 09:27:00+05:30\",\"2022-08-01 09:28:00+05:30\",\"2022-08-01 09:29:00+05:30\",\"2022-08-01 09:30:00+05:30\",\"2022-08-01 09:31:00+05:30\",\"2022-08-01 09:32:00+05:30\",\"2022-08-01 09:33:00+05:30\",\"2022-08-01 09:34:00+05:30\",\"2022-08-01 09:35:00+05:30\",\"2022-08-01 09:36:00+05:30\",\"2022-08-01 09:37:00+05:30\",\"2022-08-01 09:38:00+05:30\",\"2022-08-01 09:39:00+05:30\",\"2022-08-01 09:40:00+05:30\",\"2022-08-01 09:41:00+05:30\",\"2022-08-01 09:42:00+05:30\",\"2022-08-01 09:43:00+05:30\",\"2022-08-01 09:44:00+05:30\",\"2022-08-01 09:45:00+05:30\",\"2022-08-01 09:46:00+05:30\",\"2022-08-01 09:47:00+05:30\",\"2022-08-01 09:48:00+05:30\",\"2022-08-01 09:49:00+05:30\",\"2022-08-01 09:50:00+05:30\",\"2022-08-01 09:51:00+05:30\",\"2022-08-01 09:52:00+05:30\",\"2022-08-01 09:53:00+05:30\",\"2022-08-01 09:54:00+05:30\",\"2022-08-01 09:55:00+05:30\",\"2022-08-01 09:56:00+05:30\",\"2022-08-01 09:57:00+05:30\",\"2022-08-01 09:58:00+05:30\",\"2022-08-01 09:59:00+05:30\",\"2022-08-01 10:00:00+05:30\",\"2022-08-01 10:01:00+05:30\",\"2022-08-01 10:02:00+05:30\",\"2022-08-01 10:03:00+05:30\",\"2022-08-01 10:04:00+05:30\",\"2022-08-01 10:05:00+05:30\",\"2022-08-01 10:06:00+05:30\",\"2022-08-01 10:07:00+05:30\",\"2022-08-01 10:08:00+05:30\",\"2022-08-01 10:09:00+05:30\",\"2022-08-01 10:10:00+05:30\",\"2022-08-01 10:11:00+05:30\",\"2022-08-01 10:12:00+05:30\",\"2022-08-01 10:13:00+05:30\",\"2022-08-01 10:14:00+05:30\",\"2022-08-01 10:15:00+05:30\",\"2022-08-01 10:16:00+05:30\",\"2022-08-01 10:17:00+05:30\",\"2022-08-01 10:18:00+05:30\",\"2022-08-01 10:19:00+05:30\",\"2022-08-01 10:20:00+05:30\",\"2022-08-01 10:21:00+05:30\",\"2022-08-01 10:22:00+05:30\",\"2022-08-01 10:23:00+05:30\",\"2022-08-01 10:24:00+05:30\",\"2022-08-01 10:25:00+05:30\",\"2022-08-01 10:26:00+05:30\",\"2022-08-01 10:27:00+05:30\",\"2022-08-01 10:28:00+05:30\",\"2022-08-01 10:29:00+05:30\",\"2022-08-01 10:30:00+05:30\",\"2022-08-01 10:31:00+05:30\",\"2022-08-01 10:32:00+05:30\",\"2022-08-01 10:33:00+05:30\",\"2022-08-01 10:34:00+05:30\"],\"type\":\"candlestick\"}],                        {\"template\":{\"data\":{\"histogram2dcontour\":[{\"type\":\"histogram2dcontour\",\"colorbar\":{\"outlinewidth\":0,\"ticks\":\"\"},\"colorscale\":[[0.0,\"#0d0887\"],[0.1111111111111111,\"#46039f\"],[0.2222222222222222,\"#7201a8\"],[0.3333333333333333,\"#9c179e\"],[0.4444444444444444,\"#bd3786\"],[0.5555555555555556,\"#d8576b\"],[0.6666666666666666,\"#ed7953\"],[0.7777777777777778,\"#fb9f3a\"],[0.8888888888888888,\"#fdca26\"],[1.0,\"#f0f921\"]]}],\"choropleth\":[{\"type\":\"choropleth\",\"colorbar\":{\"outlinewidth\":0,\"ticks\":\"\"}}],\"histogram2d\":[{\"type\":\"histogram2d\",\"colorbar\":{\"outlinewidth\":0,\"ticks\":\"\"},\"colorscale\":[[0.0,\"#0d0887\"],[0.1111111111111111,\"#46039f\"],[0.2222222222222222,\"#7201a8\"],[0.3333333333333333,\"#9c179e\"],[0.4444444444444444,\"#bd3786\"],[0.5555555555555556,\"#d8576b\"],[0.6666666666666666,\"#ed7953\"],[0.7777777777777778,\"#fb9f3a\"],[0.8888888888888888,\"#fdca26\"],[1.0,\"#f0f921\"]]}],\"heatmap\":[{\"type\":\"heatmap\",\"colorbar\":{\"outlinewidth\":0,\"ticks\":\"\"},\"colorscale\":[[0.0,\"#0d0887\"],[0.1111111111111111,\"#46039f\"],[0.2222222222222222,\"#7201a8\"],[0.3333333333333333,\"#9c179e\"],[0.4444444444444444,\"#bd3786\"],[0.5555555555555556,\"#d8576b\"],[0.6666666666666666,\"#ed7953\"],[0.7777777777777778,\"#fb9f3a\"],[0.8888888888888888,\"#fdca26\"],[1.0,\"#f0f921\"]]}],\"heatmapgl\":[{\"type\":\"heatmapgl\",\"colorbar\":{\"outlinewidth\":0,\"ticks\":\"\"},\"colorscale\":[[0.0,\"#0d0887\"],[0.1111111111111111,\"#46039f\"],[0.2222222222222222,\"#7201a8\"],[0.3333333333333333,\"#9c179e\"],[0.4444444444444444,\"#bd3786\"],[0.5555555555555556,\"#d8576b\"],[0.6666666666666666,\"#ed7953\"],[0.7777777777777778,\"#fb9f3a\"],[0.8888888888888888,\"#fdca26\"],[1.0,\"#f0f921\"]]}],\"contourcarpet\":[{\"type\":\"contourcarpet\",\"colorbar\":{\"outlinewidth\":0,\"ticks\":\"\"}}],\"contour\":[{\"type\":\"contour\",\"colorbar\":{\"outlinewidth\":0,\"ticks\":\"\"},\"colorscale\":[[0.0,\"#0d0887\"],[0.1111111111111111,\"#46039f\"],[0.2222222222222222,\"#7201a8\"],[0.3333333333333333,\"#9c179e\"],[0.4444444444444444,\"#bd3786\"],[0.5555555555555556,\"#d8576b\"],[0.6666666666666666,\"#ed7953\"],[0.7777777777777778,\"#fb9f3a\"],[0.8888888888888888,\"#fdca26\"],[1.0,\"#f0f921\"]]}],\"surface\":[{\"type\":\"surface\",\"colorbar\":{\"outlinewidth\":0,\"ticks\":\"\"},\"colorscale\":[[0.0,\"#0d0887\"],[0.1111111111111111,\"#46039f\"],[0.2222222222222222,\"#7201a8\"],[0.3333333333333333,\"#9c179e\"],[0.4444444444444444,\"#bd3786\"],[0.5555555555555556,\"#d8576b\"],[0.6666666666666666,\"#ed7953\"],[0.7777777777777778,\"#fb9f3a\"],[0.8888888888888888,\"#fdca26\"],[1.0,\"#f0f921\"]]}],\"mesh3d\":[{\"type\":\"mesh3d\",\"colorbar\":{\"outlinewidth\":0,\"ticks\":\"\"}}],\"scatter\":[{\"fillpattern\":{\"fillmode\":\"overlay\",\"size\":10,\"solidity\":0.2},\"type\":\"scatter\"}],\"parcoords\":[{\"type\":\"parcoords\",\"line\":{\"colorbar\":{\"outlinewidth\":0,\"ticks\":\"\"}}}],\"scatterpolargl\":[{\"type\":\"scatterpolargl\",\"marker\":{\"colorbar\":{\"outlinewidth\":0,\"ticks\":\"\"}}}],\"bar\":[{\"error_x\":{\"color\":\"#2a3f5f\"},\"error_y\":{\"color\":\"#2a3f5f\"},\"marker\":{\"line\":{\"color\":\"#E5ECF6\",\"width\":0.5},\"pattern\":{\"fillmode\":\"overlay\",\"size\":10,\"solidity\":0.2}},\"type\":\"bar\"}],\"scattergeo\":[{\"type\":\"scattergeo\",\"marker\":{\"colorbar\":{\"outlinewidth\":0,\"ticks\":\"\"}}}],\"scatterpolar\":[{\"type\":\"scatterpolar\",\"marker\":{\"colorbar\":{\"outlinewidth\":0,\"ticks\":\"\"}}}],\"histogram\":[{\"marker\":{\"pattern\":{\"fillmode\":\"overlay\",\"size\":10,\"solidity\":0.2}},\"type\":\"histogram\"}],\"scattergl\":[{\"type\":\"scattergl\",\"marker\":{\"colorbar\":{\"outlinewidth\":0,\"ticks\":\"\"}}}],\"scatter3d\":[{\"type\":\"scatter3d\",\"line\":{\"colorbar\":{\"outlinewidth\":0,\"ticks\":\"\"}},\"marker\":{\"colorbar\":{\"outlinewidth\":0,\"ticks\":\"\"}}}],\"scattermapbox\":[{\"type\":\"scattermapbox\",\"marker\":{\"colorbar\":{\"outlinewidth\":0,\"ticks\":\"\"}}}],\"scatterternary\":[{\"type\":\"scatterternary\",\"marker\":{\"colorbar\":{\"outlinewidth\":0,\"ticks\":\"\"}}}],\"scattercarpet\":[{\"type\":\"scattercarpet\",\"marker\":{\"colorbar\":{\"outlinewidth\":0,\"ticks\":\"\"}}}],\"carpet\":[{\"aaxis\":{\"endlinecolor\":\"#2a3f5f\",\"gridcolor\":\"white\",\"linecolor\":\"white\",\"minorgridcolor\":\"white\",\"startlinecolor\":\"#2a3f5f\"},\"baxis\":{\"endlinecolor\":\"#2a3f5f\",\"gridcolor\":\"white\",\"linecolor\":\"white\",\"minorgridcolor\":\"white\",\"startlinecolor\":\"#2a3f5f\"},\"type\":\"carpet\"}],\"table\":[{\"cells\":{\"fill\":{\"color\":\"#EBF0F8\"},\"line\":{\"color\":\"white\"}},\"header\":{\"fill\":{\"color\":\"#C8D4E3\"},\"line\":{\"color\":\"white\"}},\"type\":\"table\"}],\"barpolar\":[{\"marker\":{\"line\":{\"color\":\"#E5ECF6\",\"width\":0.5},\"pattern\":{\"fillmode\":\"overlay\",\"size\":10,\"solidity\":0.2}},\"type\":\"barpolar\"}],\"pie\":[{\"automargin\":true,\"type\":\"pie\"}]},\"layout\":{\"autotypenumbers\":\"strict\",\"colorway\":[\"#636efa\",\"#EF553B\",\"#00cc96\",\"#ab63fa\",\"#FFA15A\",\"#19d3f3\",\"#FF6692\",\"#B6E880\",\"#FF97FF\",\"#FECB52\"],\"font\":{\"color\":\"#2a3f5f\"},\"hovermode\":\"closest\",\"hoverlabel\":{\"align\":\"left\"},\"paper_bgcolor\":\"white\",\"plot_bgcolor\":\"#E5ECF6\",\"polar\":{\"bgcolor\":\"#E5ECF6\",\"angularaxis\":{\"gridcolor\":\"white\",\"linecolor\":\"white\",\"ticks\":\"\"},\"radialaxis\":{\"gridcolor\":\"white\",\"linecolor\":\"white\",\"ticks\":\"\"}},\"ternary\":{\"bgcolor\":\"#E5ECF6\",\"aaxis\":{\"gridcolor\":\"white\",\"linecolor\":\"white\",\"ticks\":\"\"},\"baxis\":{\"gridcolor\":\"white\",\"linecolor\":\"white\",\"ticks\":\"\"},\"caxis\":{\"gridcolor\":\"white\",\"linecolor\":\"white\",\"ticks\":\"\"}},\"coloraxis\":{\"colorbar\":{\"outlinewidth\":0,\"ticks\":\"\"}},\"colorscale\":{\"sequential\":[[0.0,\"#0d0887\"],[0.1111111111111111,\"#46039f\"],[0.2222222222222222,\"#7201a8\"],[0.3333333333333333,\"#9c179e\"],[0.4444444444444444,\"#bd3786\"],[0.5555555555555556,\"#d8576b\"],[0.6666666666666666,\"#ed7953\"],[0.7777777777777778,\"#fb9f3a\"],[0.8888888888888888,\"#fdca26\"],[1.0,\"#f0f921\"]],\"sequentialminus\":[[0.0,\"#0d0887\"],[0.1111111111111111,\"#46039f\"],[0.2222222222222222,\"#7201a8\"],[0.3333333333333333,\"#9c179e\"],[0.4444444444444444,\"#bd3786\"],[0.5555555555555556,\"#d8576b\"],[0.6666666666666666,\"#ed7953\"],[0.7777777777777778,\"#fb9f3a\"],[0.8888888888888888,\"#fdca26\"],[1.0,\"#f0f921\"]],\"diverging\":[[0,\"#8e0152\"],[0.1,\"#c51b7d\"],[0.2,\"#de77ae\"],[0.3,\"#f1b6da\"],[0.4,\"#fde0ef\"],[0.5,\"#f7f7f7\"],[0.6,\"#e6f5d0\"],[0.7,\"#b8e186\"],[0.8,\"#7fbc41\"],[0.9,\"#4d9221\"],[1,\"#276419\"]]},\"xaxis\":{\"gridcolor\":\"white\",\"linecolor\":\"white\",\"ticks\":\"\",\"title\":{\"standoff\":15},\"zerolinecolor\":\"white\",\"automargin\":true,\"zerolinewidth\":2},\"yaxis\":{\"gridcolor\":\"white\",\"linecolor\":\"white\",\"ticks\":\"\",\"title\":{\"standoff\":15},\"zerolinecolor\":\"white\",\"automargin\":true,\"zerolinewidth\":2},\"scene\":{\"xaxis\":{\"backgroundcolor\":\"#E5ECF6\",\"gridcolor\":\"white\",\"linecolor\":\"white\",\"showbackground\":true,\"ticks\":\"\",\"zerolinecolor\":\"white\",\"gridwidth\":2},\"yaxis\":{\"backgroundcolor\":\"#E5ECF6\",\"gridcolor\":\"white\",\"linecolor\":\"white\",\"showbackground\":true,\"ticks\":\"\",\"zerolinecolor\":\"white\",\"gridwidth\":2},\"zaxis\":{\"backgroundcolor\":\"#E5ECF6\",\"gridcolor\":\"white\",\"linecolor\":\"white\",\"showbackground\":true,\"ticks\":\"\",\"zerolinecolor\":\"white\",\"gridwidth\":2}},\"shapedefaults\":{\"line\":{\"color\":\"#2a3f5f\"}},\"annotationdefaults\":{\"arrowcolor\":\"#2a3f5f\",\"arrowhead\":0,\"arrowwidth\":1},\"geo\":{\"bgcolor\":\"white\",\"landcolor\":\"#E5ECF6\",\"subunitcolor\":\"white\",\"showland\":true,\"showlakes\":true,\"lakecolor\":\"white\"},\"title\":{\"x\":0.05},\"mapbox\":{\"style\":\"light\"}}},\"shapes\":[{\"line\":{\"color\":\"green\",\"width\":1},\"type\":\"line\",\"x0\":0,\"x1\":1,\"xref\":\"x domain\",\"y0\":0,\"y1\":0,\"yref\":\"y\"},{\"line\":{\"color\":\"red\",\"width\":1},\"type\":\"line\",\"x0\":0,\"x1\":1,\"xref\":\"x domain\",\"y0\":0,\"y1\":0,\"yref\":\"y\"},{\"line\":{\"color\":\"black\",\"width\":3},\"type\":\"line\",\"x0\":0,\"x1\":1,\"xref\":\"x domain\",\"y0\":0,\"y1\":0,\"yref\":\"y\"}]},                        {\"responsive\": true}                    ).then(function(){\n",
       "                            \n",
       "var gd = document.getElementById('b66617b7-0476-4fa5-9948-1c2ce47d7eca');\n",
       "var x = new MutationObserver(function (mutations, observer) {{\n",
       "        var display = window.getComputedStyle(gd).display;\n",
       "        if (!display || display === 'none') {{\n",
       "            console.log([gd, 'removed!']);\n",
       "            Plotly.purge(gd);\n",
       "            observer.disconnect();\n",
       "        }}\n",
       "}});\n",
       "\n",
       "// Listen for the removal of the full notebook cells\n",
       "var notebookContainer = gd.closest('#notebook-container');\n",
       "if (notebookContainer) {{\n",
       "    x.observe(notebookContainer, {childList: true});\n",
       "}}\n",
       "\n",
       "// Listen for the clearing of the current output cell\n",
       "var outputEl = gd.closest('.output');\n",
       "if (outputEl) {{\n",
       "    x.observe(outputEl, {childList: true});\n",
       "}}\n",
       "\n",
       "                        })                };                });            </script>        </div>"
      ]
     },
     "metadata": {},
     "output_type": "display_data"
    },
    {
     "name": "stdout",
     "output_type": "stream",
     "text": [
      "res : [37661.55, 37655.45, 37651.75, 37648.8, 37635.3, 37608.5, 37600.55, 37540.45]\n",
      "sup : [37407.5, 37439.05, 37455.4, 37519.1, 37594.15, 37603.8, 37607.35]\n",
      "################################################################################\n",
      "################################################################################\n",
      "2022-08-01 10:46:00+05:30\n",
      "37691.7 37624.05\n",
      "rr : 1.0380434782615142\n"
     ]
    },
    {
     "data": {
      "application/vnd.plotly.v1+json": {
       "config": {
        "plotlyServerURL": "https://plot.ly"
       },
       "data": [
        {
         "close": [
          37628.3,
          37616.85,
          37543.1,
          37530.45,
          37480.1,
          37421.9,
          37453.85,
          37487.4,
          37491.4,
          37552.55,
          37562.5,
          37523.5,
          37504.3,
          37510.15,
          37470.8,
          37446.55,
          37469.7,
          37454.85,
          37490.4,
          37500.5,
          37524.75,
          37513.45,
          37535.25,
          37525.8,
          37516.35,
          37489.45,
          37487.15,
          37469.5,
          37504.8,
          37523.45,
          37524.5,
          37498.95,
          37532.65,
          37560.55,
          37580.15,
          37581.8,
          37580.75,
          37580.7,
          37587.8,
          37594,
          37599.6,
          37580.7,
          37579.7,
          37577.95,
          37572.35,
          37561.55,
          37565.8,
          37557.8,
          37566.1,
          37565.55,
          37535.8,
          37535.4,
          37546.25,
          37588.95,
          37593.4,
          37622.9,
          37628.15,
          37642.5,
          37630.5,
          37626.9,
          37644.45,
          37643,
          37618,
          37628.55,
          37628.95,
          37618.8,
          37623.15,
          37640.45,
          37648.25,
          37638.25,
          37633.9,
          37628.6,
          37611.2,
          37623.5,
          37620.05,
          37618.9,
          37618.3,
          37632,
          37632.05,
          37639.2,
          37638.3
         ],
         "high": [
          37655.45,
          37638.2,
          37619.4,
          37547.05,
          37528,
          37482.75,
          37457.5,
          37487.95,
          37496.05,
          37555.4,
          37600.55,
          37564.85,
          37538.45,
          37518.45,
          37513.45,
          37472.7,
          37471.5,
          37467,
          37491.65,
          37511.65,
          37524.75,
          37530.15,
          37538.35,
          37540.45,
          37527.35,
          37518.15,
          37500.7,
          37491.8,
          37505.35,
          37523.45,
          37529.75,
          37527.45,
          37540.9,
          37565.8,
          37581.4,
          37607.1,
          37587.8,
          37583,
          37588.05,
          37598.35,
          37608.5,
          37604,
          37588.95,
          37581.1,
          37589.2,
          37583.9,
          37572.15,
          37570.75,
          37570,
          37571.65,
          37565.75,
          37540,
          37549.55,
          37588.95,
          37603.1,
          37625.6,
          37643.3,
          37642.5,
          37648.8,
          37635.35,
          37644.45,
          37661.55,
          37646.05,
          37635.15,
          37643.6,
          37637.85,
          37629.2,
          37640.45,
          37648.25,
          37651.75,
          37646.05,
          37636.75,
          37631.7,
          37626.15,
          37627.2,
          37625.25,
          37620.1,
          37635.3,
          37634.65,
          37642.45,
          37644.1
         ],
         "low": [
          37594.15,
          37610.3,
          37543.1,
          37502.05,
          37476.7,
          37417.25,
          37407.5,
          37444.45,
          37467.2,
          37490.4,
          37552.3,
          37522.6,
          37497.3,
          37502.55,
          37463.1,
          37444.15,
          37439.05,
          37447.6,
          37450.4,
          37487.4,
          37493.9,
          37503.7,
          37512.35,
          37523.35,
          37505.55,
          37487.7,
          37485.85,
          37455.4,
          37468.85,
          37497.85,
          37512.5,
          37498.95,
          37496.75,
          37539.85,
          37559,
          37581.6,
          37570.25,
          37574.85,
          37565,
          37586.45,
          37590.75,
          37577.55,
          37570.2,
          37565.65,
          37564.25,
          37561.35,
          37556.05,
          37554,
          37557.65,
          37557,
          37534.55,
          37519.1,
          37530.55,
          37548.3,
          37584.9,
          37593.75,
          37626.2,
          37621.05,
          37620.05,
          37624.2,
          37626.2,
          37639.85,
          37614.8,
          37607.35,
          37625.25,
          37616.7,
          37612.55,
          37622.6,
          37635.45,
          37633.35,
          37633.9,
          37627.7,
          37611.2,
          37603.8,
          37617.7,
          37613.35,
          37613.8,
          37613.35,
          37624.05,
          37631.45,
          37630.65
         ],
         "open": [
          37594.15,
          37630.2,
          37619.4,
          37545.55,
          37528,
          37482.75,
          37417.55,
          37453.9,
          37490.55,
          37490.4,
          37552.3,
          37560.55,
          37523.1,
          37504.75,
          37509.6,
          37470.45,
          37441.6,
          37460.85,
          37458.8,
          37488.75,
          37505.85,
          37525.9,
          37512.35,
          37533.55,
          37527.35,
          37518.1,
          37488.15,
          37486.45,
          37475.9,
          37501.45,
          37524.75,
          37524.5,
          37496.75,
          37540.3,
          37561.2,
          37582.05,
          37583.9,
          37581.95,
          37580.15,
          37589.7,
          37591.25,
          37602,
          37580.95,
          37580.05,
          37579,
          37573.85,
          37560.45,
          37570.75,
          37562.7,
          37567.5,
          37565.75,
          37535.45,
          37537.35,
          37550.4,
          37588.55,
          37594.6,
          37627,
          37628.4,
          37639,
          37628.6,
          37626.2,
          37645.25,
          37643.05,
          37615.75,
          37630.05,
          37629.65,
          37618.05,
          37623.15,
          37643.3,
          37648.25,
          37641.75,
          37631.95,
          37631.25,
          37604.15,
          37624.3,
          37618.9,
          37615.9,
          37615.6,
          37631.15,
          37631.45,
          37638.1
         ],
         "type": "candlestick",
         "x": [
          "2022-08-01 09:15:00+05:30",
          "2022-08-01 09:16:00+05:30",
          "2022-08-01 09:17:00+05:30",
          "2022-08-01 09:18:00+05:30",
          "2022-08-01 09:19:00+05:30",
          "2022-08-01 09:20:00+05:30",
          "2022-08-01 09:21:00+05:30",
          "2022-08-01 09:22:00+05:30",
          "2022-08-01 09:23:00+05:30",
          "2022-08-01 09:24:00+05:30",
          "2022-08-01 09:25:00+05:30",
          "2022-08-01 09:26:00+05:30",
          "2022-08-01 09:27:00+05:30",
          "2022-08-01 09:28:00+05:30",
          "2022-08-01 09:29:00+05:30",
          "2022-08-01 09:30:00+05:30",
          "2022-08-01 09:31:00+05:30",
          "2022-08-01 09:32:00+05:30",
          "2022-08-01 09:33:00+05:30",
          "2022-08-01 09:34:00+05:30",
          "2022-08-01 09:35:00+05:30",
          "2022-08-01 09:36:00+05:30",
          "2022-08-01 09:37:00+05:30",
          "2022-08-01 09:38:00+05:30",
          "2022-08-01 09:39:00+05:30",
          "2022-08-01 09:40:00+05:30",
          "2022-08-01 09:41:00+05:30",
          "2022-08-01 09:42:00+05:30",
          "2022-08-01 09:43:00+05:30",
          "2022-08-01 09:44:00+05:30",
          "2022-08-01 09:45:00+05:30",
          "2022-08-01 09:46:00+05:30",
          "2022-08-01 09:47:00+05:30",
          "2022-08-01 09:48:00+05:30",
          "2022-08-01 09:49:00+05:30",
          "2022-08-01 09:50:00+05:30",
          "2022-08-01 09:51:00+05:30",
          "2022-08-01 09:52:00+05:30",
          "2022-08-01 09:53:00+05:30",
          "2022-08-01 09:54:00+05:30",
          "2022-08-01 09:55:00+05:30",
          "2022-08-01 09:56:00+05:30",
          "2022-08-01 09:57:00+05:30",
          "2022-08-01 09:58:00+05:30",
          "2022-08-01 09:59:00+05:30",
          "2022-08-01 10:00:00+05:30",
          "2022-08-01 10:01:00+05:30",
          "2022-08-01 10:02:00+05:30",
          "2022-08-01 10:03:00+05:30",
          "2022-08-01 10:04:00+05:30",
          "2022-08-01 10:05:00+05:30",
          "2022-08-01 10:06:00+05:30",
          "2022-08-01 10:07:00+05:30",
          "2022-08-01 10:08:00+05:30",
          "2022-08-01 10:09:00+05:30",
          "2022-08-01 10:10:00+05:30",
          "2022-08-01 10:11:00+05:30",
          "2022-08-01 10:12:00+05:30",
          "2022-08-01 10:13:00+05:30",
          "2022-08-01 10:14:00+05:30",
          "2022-08-01 10:15:00+05:30",
          "2022-08-01 10:16:00+05:30",
          "2022-08-01 10:17:00+05:30",
          "2022-08-01 10:18:00+05:30",
          "2022-08-01 10:19:00+05:30",
          "2022-08-01 10:20:00+05:30",
          "2022-08-01 10:21:00+05:30",
          "2022-08-01 10:22:00+05:30",
          "2022-08-01 10:23:00+05:30",
          "2022-08-01 10:24:00+05:30",
          "2022-08-01 10:25:00+05:30",
          "2022-08-01 10:26:00+05:30",
          "2022-08-01 10:27:00+05:30",
          "2022-08-01 10:28:00+05:30",
          "2022-08-01 10:29:00+05:30",
          "2022-08-01 10:30:00+05:30",
          "2022-08-01 10:31:00+05:30",
          "2022-08-01 10:32:00+05:30",
          "2022-08-01 10:33:00+05:30",
          "2022-08-01 10:34:00+05:30",
          "2022-08-01 10:35:00+05:30"
         ]
        }
       ],
       "layout": {
        "shapes": [
         {
          "line": {
           "color": "green",
           "width": 1
          },
          "type": "line",
          "x0": 0,
          "x1": 1,
          "xref": "x domain",
          "y0": 0,
          "y1": 0,
          "yref": "y"
         },
         {
          "line": {
           "color": "red",
           "width": 1
          },
          "type": "line",
          "x0": 0,
          "x1": 1,
          "xref": "x domain",
          "y0": 0,
          "y1": 0,
          "yref": "y"
         },
         {
          "line": {
           "color": "black",
           "width": 3
          },
          "type": "line",
          "x0": 0,
          "x1": 1,
          "xref": "x domain",
          "y0": 0,
          "y1": 0,
          "yref": "y"
         }
        ],
        "template": {
         "data": {
          "bar": [
           {
            "error_x": {
             "color": "#2a3f5f"
            },
            "error_y": {
             "color": "#2a3f5f"
            },
            "marker": {
             "line": {
              "color": "#E5ECF6",
              "width": 0.5
             },
             "pattern": {
              "fillmode": "overlay",
              "size": 10,
              "solidity": 0.2
             }
            },
            "type": "bar"
           }
          ],
          "barpolar": [
           {
            "marker": {
             "line": {
              "color": "#E5ECF6",
              "width": 0.5
             },
             "pattern": {
              "fillmode": "overlay",
              "size": 10,
              "solidity": 0.2
             }
            },
            "type": "barpolar"
           }
          ],
          "carpet": [
           {
            "aaxis": {
             "endlinecolor": "#2a3f5f",
             "gridcolor": "white",
             "linecolor": "white",
             "minorgridcolor": "white",
             "startlinecolor": "#2a3f5f"
            },
            "baxis": {
             "endlinecolor": "#2a3f5f",
             "gridcolor": "white",
             "linecolor": "white",
             "minorgridcolor": "white",
             "startlinecolor": "#2a3f5f"
            },
            "type": "carpet"
           }
          ],
          "choropleth": [
           {
            "colorbar": {
             "outlinewidth": 0,
             "ticks": ""
            },
            "type": "choropleth"
           }
          ],
          "contour": [
           {
            "colorbar": {
             "outlinewidth": 0,
             "ticks": ""
            },
            "colorscale": [
             [
              0,
              "#0d0887"
             ],
             [
              0.1111111111111111,
              "#46039f"
             ],
             [
              0.2222222222222222,
              "#7201a8"
             ],
             [
              0.3333333333333333,
              "#9c179e"
             ],
             [
              0.4444444444444444,
              "#bd3786"
             ],
             [
              0.5555555555555556,
              "#d8576b"
             ],
             [
              0.6666666666666666,
              "#ed7953"
             ],
             [
              0.7777777777777778,
              "#fb9f3a"
             ],
             [
              0.8888888888888888,
              "#fdca26"
             ],
             [
              1,
              "#f0f921"
             ]
            ],
            "type": "contour"
           }
          ],
          "contourcarpet": [
           {
            "colorbar": {
             "outlinewidth": 0,
             "ticks": ""
            },
            "type": "contourcarpet"
           }
          ],
          "heatmap": [
           {
            "colorbar": {
             "outlinewidth": 0,
             "ticks": ""
            },
            "colorscale": [
             [
              0,
              "#0d0887"
             ],
             [
              0.1111111111111111,
              "#46039f"
             ],
             [
              0.2222222222222222,
              "#7201a8"
             ],
             [
              0.3333333333333333,
              "#9c179e"
             ],
             [
              0.4444444444444444,
              "#bd3786"
             ],
             [
              0.5555555555555556,
              "#d8576b"
             ],
             [
              0.6666666666666666,
              "#ed7953"
             ],
             [
              0.7777777777777778,
              "#fb9f3a"
             ],
             [
              0.8888888888888888,
              "#fdca26"
             ],
             [
              1,
              "#f0f921"
             ]
            ],
            "type": "heatmap"
           }
          ],
          "heatmapgl": [
           {
            "colorbar": {
             "outlinewidth": 0,
             "ticks": ""
            },
            "colorscale": [
             [
              0,
              "#0d0887"
             ],
             [
              0.1111111111111111,
              "#46039f"
             ],
             [
              0.2222222222222222,
              "#7201a8"
             ],
             [
              0.3333333333333333,
              "#9c179e"
             ],
             [
              0.4444444444444444,
              "#bd3786"
             ],
             [
              0.5555555555555556,
              "#d8576b"
             ],
             [
              0.6666666666666666,
              "#ed7953"
             ],
             [
              0.7777777777777778,
              "#fb9f3a"
             ],
             [
              0.8888888888888888,
              "#fdca26"
             ],
             [
              1,
              "#f0f921"
             ]
            ],
            "type": "heatmapgl"
           }
          ],
          "histogram": [
           {
            "marker": {
             "pattern": {
              "fillmode": "overlay",
              "size": 10,
              "solidity": 0.2
             }
            },
            "type": "histogram"
           }
          ],
          "histogram2d": [
           {
            "colorbar": {
             "outlinewidth": 0,
             "ticks": ""
            },
            "colorscale": [
             [
              0,
              "#0d0887"
             ],
             [
              0.1111111111111111,
              "#46039f"
             ],
             [
              0.2222222222222222,
              "#7201a8"
             ],
             [
              0.3333333333333333,
              "#9c179e"
             ],
             [
              0.4444444444444444,
              "#bd3786"
             ],
             [
              0.5555555555555556,
              "#d8576b"
             ],
             [
              0.6666666666666666,
              "#ed7953"
             ],
             [
              0.7777777777777778,
              "#fb9f3a"
             ],
             [
              0.8888888888888888,
              "#fdca26"
             ],
             [
              1,
              "#f0f921"
             ]
            ],
            "type": "histogram2d"
           }
          ],
          "histogram2dcontour": [
           {
            "colorbar": {
             "outlinewidth": 0,
             "ticks": ""
            },
            "colorscale": [
             [
              0,
              "#0d0887"
             ],
             [
              0.1111111111111111,
              "#46039f"
             ],
             [
              0.2222222222222222,
              "#7201a8"
             ],
             [
              0.3333333333333333,
              "#9c179e"
             ],
             [
              0.4444444444444444,
              "#bd3786"
             ],
             [
              0.5555555555555556,
              "#d8576b"
             ],
             [
              0.6666666666666666,
              "#ed7953"
             ],
             [
              0.7777777777777778,
              "#fb9f3a"
             ],
             [
              0.8888888888888888,
              "#fdca26"
             ],
             [
              1,
              "#f0f921"
             ]
            ],
            "type": "histogram2dcontour"
           }
          ],
          "mesh3d": [
           {
            "colorbar": {
             "outlinewidth": 0,
             "ticks": ""
            },
            "type": "mesh3d"
           }
          ],
          "parcoords": [
           {
            "line": {
             "colorbar": {
              "outlinewidth": 0,
              "ticks": ""
             }
            },
            "type": "parcoords"
           }
          ],
          "pie": [
           {
            "automargin": true,
            "type": "pie"
           }
          ],
          "scatter": [
           {
            "fillpattern": {
             "fillmode": "overlay",
             "size": 10,
             "solidity": 0.2
            },
            "type": "scatter"
           }
          ],
          "scatter3d": [
           {
            "line": {
             "colorbar": {
              "outlinewidth": 0,
              "ticks": ""
             }
            },
            "marker": {
             "colorbar": {
              "outlinewidth": 0,
              "ticks": ""
             }
            },
            "type": "scatter3d"
           }
          ],
          "scattercarpet": [
           {
            "marker": {
             "colorbar": {
              "outlinewidth": 0,
              "ticks": ""
             }
            },
            "type": "scattercarpet"
           }
          ],
          "scattergeo": [
           {
            "marker": {
             "colorbar": {
              "outlinewidth": 0,
              "ticks": ""
             }
            },
            "type": "scattergeo"
           }
          ],
          "scattergl": [
           {
            "marker": {
             "colorbar": {
              "outlinewidth": 0,
              "ticks": ""
             }
            },
            "type": "scattergl"
           }
          ],
          "scattermapbox": [
           {
            "marker": {
             "colorbar": {
              "outlinewidth": 0,
              "ticks": ""
             }
            },
            "type": "scattermapbox"
           }
          ],
          "scatterpolar": [
           {
            "marker": {
             "colorbar": {
              "outlinewidth": 0,
              "ticks": ""
             }
            },
            "type": "scatterpolar"
           }
          ],
          "scatterpolargl": [
           {
            "marker": {
             "colorbar": {
              "outlinewidth": 0,
              "ticks": ""
             }
            },
            "type": "scatterpolargl"
           }
          ],
          "scatterternary": [
           {
            "marker": {
             "colorbar": {
              "outlinewidth": 0,
              "ticks": ""
             }
            },
            "type": "scatterternary"
           }
          ],
          "surface": [
           {
            "colorbar": {
             "outlinewidth": 0,
             "ticks": ""
            },
            "colorscale": [
             [
              0,
              "#0d0887"
             ],
             [
              0.1111111111111111,
              "#46039f"
             ],
             [
              0.2222222222222222,
              "#7201a8"
             ],
             [
              0.3333333333333333,
              "#9c179e"
             ],
             [
              0.4444444444444444,
              "#bd3786"
             ],
             [
              0.5555555555555556,
              "#d8576b"
             ],
             [
              0.6666666666666666,
              "#ed7953"
             ],
             [
              0.7777777777777778,
              "#fb9f3a"
             ],
             [
              0.8888888888888888,
              "#fdca26"
             ],
             [
              1,
              "#f0f921"
             ]
            ],
            "type": "surface"
           }
          ],
          "table": [
           {
            "cells": {
             "fill": {
              "color": "#EBF0F8"
             },
             "line": {
              "color": "white"
             }
            },
            "header": {
             "fill": {
              "color": "#C8D4E3"
             },
             "line": {
              "color": "white"
             }
            },
            "type": "table"
           }
          ]
         },
         "layout": {
          "annotationdefaults": {
           "arrowcolor": "#2a3f5f",
           "arrowhead": 0,
           "arrowwidth": 1
          },
          "autotypenumbers": "strict",
          "coloraxis": {
           "colorbar": {
            "outlinewidth": 0,
            "ticks": ""
           }
          },
          "colorscale": {
           "diverging": [
            [
             0,
             "#8e0152"
            ],
            [
             0.1,
             "#c51b7d"
            ],
            [
             0.2,
             "#de77ae"
            ],
            [
             0.3,
             "#f1b6da"
            ],
            [
             0.4,
             "#fde0ef"
            ],
            [
             0.5,
             "#f7f7f7"
            ],
            [
             0.6,
             "#e6f5d0"
            ],
            [
             0.7,
             "#b8e186"
            ],
            [
             0.8,
             "#7fbc41"
            ],
            [
             0.9,
             "#4d9221"
            ],
            [
             1,
             "#276419"
            ]
           ],
           "sequential": [
            [
             0,
             "#0d0887"
            ],
            [
             0.1111111111111111,
             "#46039f"
            ],
            [
             0.2222222222222222,
             "#7201a8"
            ],
            [
             0.3333333333333333,
             "#9c179e"
            ],
            [
             0.4444444444444444,
             "#bd3786"
            ],
            [
             0.5555555555555556,
             "#d8576b"
            ],
            [
             0.6666666666666666,
             "#ed7953"
            ],
            [
             0.7777777777777778,
             "#fb9f3a"
            ],
            [
             0.8888888888888888,
             "#fdca26"
            ],
            [
             1,
             "#f0f921"
            ]
           ],
           "sequentialminus": [
            [
             0,
             "#0d0887"
            ],
            [
             0.1111111111111111,
             "#46039f"
            ],
            [
             0.2222222222222222,
             "#7201a8"
            ],
            [
             0.3333333333333333,
             "#9c179e"
            ],
            [
             0.4444444444444444,
             "#bd3786"
            ],
            [
             0.5555555555555556,
             "#d8576b"
            ],
            [
             0.6666666666666666,
             "#ed7953"
            ],
            [
             0.7777777777777778,
             "#fb9f3a"
            ],
            [
             0.8888888888888888,
             "#fdca26"
            ],
            [
             1,
             "#f0f921"
            ]
           ]
          },
          "colorway": [
           "#636efa",
           "#EF553B",
           "#00cc96",
           "#ab63fa",
           "#FFA15A",
           "#19d3f3",
           "#FF6692",
           "#B6E880",
           "#FF97FF",
           "#FECB52"
          ],
          "font": {
           "color": "#2a3f5f"
          },
          "geo": {
           "bgcolor": "white",
           "lakecolor": "white",
           "landcolor": "#E5ECF6",
           "showlakes": true,
           "showland": true,
           "subunitcolor": "white"
          },
          "hoverlabel": {
           "align": "left"
          },
          "hovermode": "closest",
          "mapbox": {
           "style": "light"
          },
          "paper_bgcolor": "white",
          "plot_bgcolor": "#E5ECF6",
          "polar": {
           "angularaxis": {
            "gridcolor": "white",
            "linecolor": "white",
            "ticks": ""
           },
           "bgcolor": "#E5ECF6",
           "radialaxis": {
            "gridcolor": "white",
            "linecolor": "white",
            "ticks": ""
           }
          },
          "scene": {
           "xaxis": {
            "backgroundcolor": "#E5ECF6",
            "gridcolor": "white",
            "gridwidth": 2,
            "linecolor": "white",
            "showbackground": true,
            "ticks": "",
            "zerolinecolor": "white"
           },
           "yaxis": {
            "backgroundcolor": "#E5ECF6",
            "gridcolor": "white",
            "gridwidth": 2,
            "linecolor": "white",
            "showbackground": true,
            "ticks": "",
            "zerolinecolor": "white"
           },
           "zaxis": {
            "backgroundcolor": "#E5ECF6",
            "gridcolor": "white",
            "gridwidth": 2,
            "linecolor": "white",
            "showbackground": true,
            "ticks": "",
            "zerolinecolor": "white"
           }
          },
          "shapedefaults": {
           "line": {
            "color": "#2a3f5f"
           }
          },
          "ternary": {
           "aaxis": {
            "gridcolor": "white",
            "linecolor": "white",
            "ticks": ""
           },
           "baxis": {
            "gridcolor": "white",
            "linecolor": "white",
            "ticks": ""
           },
           "bgcolor": "#E5ECF6",
           "caxis": {
            "gridcolor": "white",
            "linecolor": "white",
            "ticks": ""
           }
          },
          "title": {
           "x": 0.05
          },
          "xaxis": {
           "automargin": true,
           "gridcolor": "white",
           "linecolor": "white",
           "ticks": "",
           "title": {
            "standoff": 15
           },
           "zerolinecolor": "white",
           "zerolinewidth": 2
          },
          "yaxis": {
           "automargin": true,
           "gridcolor": "white",
           "linecolor": "white",
           "ticks": "",
           "title": {
            "standoff": 15
           },
           "zerolinecolor": "white",
           "zerolinewidth": 2
          }
         }
        }
       }
      },
      "text/html": [
       "<div>                            <div id=\"3ba12c68-fb60-4fb0-9cd5-a9ada97e99fd\" class=\"plotly-graph-div\" style=\"height:525px; width:100%;\"></div>            <script type=\"text/javascript\">                require([\"plotly\"], function(Plotly) {                    window.PLOTLYENV=window.PLOTLYENV || {};                                    if (document.getElementById(\"3ba12c68-fb60-4fb0-9cd5-a9ada97e99fd\")) {                    Plotly.newPlot(                        \"3ba12c68-fb60-4fb0-9cd5-a9ada97e99fd\",                        [{\"close\":[37628.3,37616.85,37543.1,37530.45,37480.1,37421.9,37453.85,37487.4,37491.4,37552.55,37562.5,37523.5,37504.3,37510.15,37470.8,37446.55,37469.7,37454.85,37490.4,37500.5,37524.75,37513.45,37535.25,37525.8,37516.35,37489.45,37487.15,37469.5,37504.8,37523.45,37524.5,37498.95,37532.65,37560.55,37580.15,37581.8,37580.75,37580.7,37587.8,37594.0,37599.6,37580.7,37579.7,37577.95,37572.35,37561.55,37565.8,37557.8,37566.1,37565.55,37535.8,37535.4,37546.25,37588.95,37593.4,37622.9,37628.15,37642.5,37630.5,37626.9,37644.45,37643.0,37618.0,37628.55,37628.95,37618.8,37623.15,37640.45,37648.25,37638.25,37633.9,37628.6,37611.2,37623.5,37620.05,37618.9,37618.3,37632.0,37632.05,37639.2,37638.3],\"high\":[37655.45,37638.2,37619.4,37547.05,37528.0,37482.75,37457.5,37487.95,37496.05,37555.4,37600.55,37564.85,37538.45,37518.45,37513.45,37472.7,37471.5,37467.0,37491.65,37511.65,37524.75,37530.15,37538.35,37540.45,37527.35,37518.15,37500.7,37491.8,37505.35,37523.45,37529.75,37527.45,37540.9,37565.8,37581.4,37607.1,37587.8,37583.0,37588.05,37598.35,37608.5,37604.0,37588.95,37581.1,37589.2,37583.9,37572.15,37570.75,37570.0,37571.65,37565.75,37540.0,37549.55,37588.95,37603.1,37625.6,37643.3,37642.5,37648.8,37635.35,37644.45,37661.55,37646.05,37635.15,37643.6,37637.85,37629.2,37640.45,37648.25,37651.75,37646.05,37636.75,37631.7,37626.15,37627.2,37625.25,37620.1,37635.3,37634.65,37642.45,37644.1],\"low\":[37594.15,37610.3,37543.1,37502.05,37476.7,37417.25,37407.5,37444.45,37467.2,37490.4,37552.3,37522.6,37497.3,37502.55,37463.1,37444.15,37439.05,37447.6,37450.4,37487.4,37493.9,37503.7,37512.35,37523.35,37505.55,37487.7,37485.85,37455.4,37468.85,37497.85,37512.5,37498.95,37496.75,37539.85,37559.0,37581.6,37570.25,37574.85,37565.0,37586.45,37590.75,37577.55,37570.2,37565.65,37564.25,37561.35,37556.05,37554.0,37557.65,37557.0,37534.55,37519.1,37530.55,37548.3,37584.9,37593.75,37626.2,37621.05,37620.05,37624.2,37626.2,37639.85,37614.8,37607.35,37625.25,37616.7,37612.55,37622.6,37635.45,37633.35,37633.9,37627.7,37611.2,37603.8,37617.7,37613.35,37613.8,37613.35,37624.05,37631.45,37630.65],\"open\":[37594.15,37630.2,37619.4,37545.55,37528.0,37482.75,37417.55,37453.9,37490.55,37490.4,37552.3,37560.55,37523.1,37504.75,37509.6,37470.45,37441.6,37460.85,37458.8,37488.75,37505.85,37525.9,37512.35,37533.55,37527.35,37518.1,37488.15,37486.45,37475.9,37501.45,37524.75,37524.5,37496.75,37540.3,37561.2,37582.05,37583.9,37581.95,37580.15,37589.7,37591.25,37602.0,37580.95,37580.05,37579.0,37573.85,37560.45,37570.75,37562.7,37567.5,37565.75,37535.45,37537.35,37550.4,37588.55,37594.6,37627.0,37628.4,37639.0,37628.6,37626.2,37645.25,37643.05,37615.75,37630.05,37629.65,37618.05,37623.15,37643.3,37648.25,37641.75,37631.95,37631.25,37604.15,37624.3,37618.9,37615.9,37615.6,37631.15,37631.45,37638.1],\"x\":[\"2022-08-01 09:15:00+05:30\",\"2022-08-01 09:16:00+05:30\",\"2022-08-01 09:17:00+05:30\",\"2022-08-01 09:18:00+05:30\",\"2022-08-01 09:19:00+05:30\",\"2022-08-01 09:20:00+05:30\",\"2022-08-01 09:21:00+05:30\",\"2022-08-01 09:22:00+05:30\",\"2022-08-01 09:23:00+05:30\",\"2022-08-01 09:24:00+05:30\",\"2022-08-01 09:25:00+05:30\",\"2022-08-01 09:26:00+05:30\",\"2022-08-01 09:27:00+05:30\",\"2022-08-01 09:28:00+05:30\",\"2022-08-01 09:29:00+05:30\",\"2022-08-01 09:30:00+05:30\",\"2022-08-01 09:31:00+05:30\",\"2022-08-01 09:32:00+05:30\",\"2022-08-01 09:33:00+05:30\",\"2022-08-01 09:34:00+05:30\",\"2022-08-01 09:35:00+05:30\",\"2022-08-01 09:36:00+05:30\",\"2022-08-01 09:37:00+05:30\",\"2022-08-01 09:38:00+05:30\",\"2022-08-01 09:39:00+05:30\",\"2022-08-01 09:40:00+05:30\",\"2022-08-01 09:41:00+05:30\",\"2022-08-01 09:42:00+05:30\",\"2022-08-01 09:43:00+05:30\",\"2022-08-01 09:44:00+05:30\",\"2022-08-01 09:45:00+05:30\",\"2022-08-01 09:46:00+05:30\",\"2022-08-01 09:47:00+05:30\",\"2022-08-01 09:48:00+05:30\",\"2022-08-01 09:49:00+05:30\",\"2022-08-01 09:50:00+05:30\",\"2022-08-01 09:51:00+05:30\",\"2022-08-01 09:52:00+05:30\",\"2022-08-01 09:53:00+05:30\",\"2022-08-01 09:54:00+05:30\",\"2022-08-01 09:55:00+05:30\",\"2022-08-01 09:56:00+05:30\",\"2022-08-01 09:57:00+05:30\",\"2022-08-01 09:58:00+05:30\",\"2022-08-01 09:59:00+05:30\",\"2022-08-01 10:00:00+05:30\",\"2022-08-01 10:01:00+05:30\",\"2022-08-01 10:02:00+05:30\",\"2022-08-01 10:03:00+05:30\",\"2022-08-01 10:04:00+05:30\",\"2022-08-01 10:05:00+05:30\",\"2022-08-01 10:06:00+05:30\",\"2022-08-01 10:07:00+05:30\",\"2022-08-01 10:08:00+05:30\",\"2022-08-01 10:09:00+05:30\",\"2022-08-01 10:10:00+05:30\",\"2022-08-01 10:11:00+05:30\",\"2022-08-01 10:12:00+05:30\",\"2022-08-01 10:13:00+05:30\",\"2022-08-01 10:14:00+05:30\",\"2022-08-01 10:15:00+05:30\",\"2022-08-01 10:16:00+05:30\",\"2022-08-01 10:17:00+05:30\",\"2022-08-01 10:18:00+05:30\",\"2022-08-01 10:19:00+05:30\",\"2022-08-01 10:20:00+05:30\",\"2022-08-01 10:21:00+05:30\",\"2022-08-01 10:22:00+05:30\",\"2022-08-01 10:23:00+05:30\",\"2022-08-01 10:24:00+05:30\",\"2022-08-01 10:25:00+05:30\",\"2022-08-01 10:26:00+05:30\",\"2022-08-01 10:27:00+05:30\",\"2022-08-01 10:28:00+05:30\",\"2022-08-01 10:29:00+05:30\",\"2022-08-01 10:30:00+05:30\",\"2022-08-01 10:31:00+05:30\",\"2022-08-01 10:32:00+05:30\",\"2022-08-01 10:33:00+05:30\",\"2022-08-01 10:34:00+05:30\",\"2022-08-01 10:35:00+05:30\"],\"type\":\"candlestick\"}],                        {\"template\":{\"data\":{\"histogram2dcontour\":[{\"type\":\"histogram2dcontour\",\"colorbar\":{\"outlinewidth\":0,\"ticks\":\"\"},\"colorscale\":[[0.0,\"#0d0887\"],[0.1111111111111111,\"#46039f\"],[0.2222222222222222,\"#7201a8\"],[0.3333333333333333,\"#9c179e\"],[0.4444444444444444,\"#bd3786\"],[0.5555555555555556,\"#d8576b\"],[0.6666666666666666,\"#ed7953\"],[0.7777777777777778,\"#fb9f3a\"],[0.8888888888888888,\"#fdca26\"],[1.0,\"#f0f921\"]]}],\"choropleth\":[{\"type\":\"choropleth\",\"colorbar\":{\"outlinewidth\":0,\"ticks\":\"\"}}],\"histogram2d\":[{\"type\":\"histogram2d\",\"colorbar\":{\"outlinewidth\":0,\"ticks\":\"\"},\"colorscale\":[[0.0,\"#0d0887\"],[0.1111111111111111,\"#46039f\"],[0.2222222222222222,\"#7201a8\"],[0.3333333333333333,\"#9c179e\"],[0.4444444444444444,\"#bd3786\"],[0.5555555555555556,\"#d8576b\"],[0.6666666666666666,\"#ed7953\"],[0.7777777777777778,\"#fb9f3a\"],[0.8888888888888888,\"#fdca26\"],[1.0,\"#f0f921\"]]}],\"heatmap\":[{\"type\":\"heatmap\",\"colorbar\":{\"outlinewidth\":0,\"ticks\":\"\"},\"colorscale\":[[0.0,\"#0d0887\"],[0.1111111111111111,\"#46039f\"],[0.2222222222222222,\"#7201a8\"],[0.3333333333333333,\"#9c179e\"],[0.4444444444444444,\"#bd3786\"],[0.5555555555555556,\"#d8576b\"],[0.6666666666666666,\"#ed7953\"],[0.7777777777777778,\"#fb9f3a\"],[0.8888888888888888,\"#fdca26\"],[1.0,\"#f0f921\"]]}],\"heatmapgl\":[{\"type\":\"heatmapgl\",\"colorbar\":{\"outlinewidth\":0,\"ticks\":\"\"},\"colorscale\":[[0.0,\"#0d0887\"],[0.1111111111111111,\"#46039f\"],[0.2222222222222222,\"#7201a8\"],[0.3333333333333333,\"#9c179e\"],[0.4444444444444444,\"#bd3786\"],[0.5555555555555556,\"#d8576b\"],[0.6666666666666666,\"#ed7953\"],[0.7777777777777778,\"#fb9f3a\"],[0.8888888888888888,\"#fdca26\"],[1.0,\"#f0f921\"]]}],\"contourcarpet\":[{\"type\":\"contourcarpet\",\"colorbar\":{\"outlinewidth\":0,\"ticks\":\"\"}}],\"contour\":[{\"type\":\"contour\",\"colorbar\":{\"outlinewidth\":0,\"ticks\":\"\"},\"colorscale\":[[0.0,\"#0d0887\"],[0.1111111111111111,\"#46039f\"],[0.2222222222222222,\"#7201a8\"],[0.3333333333333333,\"#9c179e\"],[0.4444444444444444,\"#bd3786\"],[0.5555555555555556,\"#d8576b\"],[0.6666666666666666,\"#ed7953\"],[0.7777777777777778,\"#fb9f3a\"],[0.8888888888888888,\"#fdca26\"],[1.0,\"#f0f921\"]]}],\"surface\":[{\"type\":\"surface\",\"colorbar\":{\"outlinewidth\":0,\"ticks\":\"\"},\"colorscale\":[[0.0,\"#0d0887\"],[0.1111111111111111,\"#46039f\"],[0.2222222222222222,\"#7201a8\"],[0.3333333333333333,\"#9c179e\"],[0.4444444444444444,\"#bd3786\"],[0.5555555555555556,\"#d8576b\"],[0.6666666666666666,\"#ed7953\"],[0.7777777777777778,\"#fb9f3a\"],[0.8888888888888888,\"#fdca26\"],[1.0,\"#f0f921\"]]}],\"mesh3d\":[{\"type\":\"mesh3d\",\"colorbar\":{\"outlinewidth\":0,\"ticks\":\"\"}}],\"scatter\":[{\"fillpattern\":{\"fillmode\":\"overlay\",\"size\":10,\"solidity\":0.2},\"type\":\"scatter\"}],\"parcoords\":[{\"type\":\"parcoords\",\"line\":{\"colorbar\":{\"outlinewidth\":0,\"ticks\":\"\"}}}],\"scatterpolargl\":[{\"type\":\"scatterpolargl\",\"marker\":{\"colorbar\":{\"outlinewidth\":0,\"ticks\":\"\"}}}],\"bar\":[{\"error_x\":{\"color\":\"#2a3f5f\"},\"error_y\":{\"color\":\"#2a3f5f\"},\"marker\":{\"line\":{\"color\":\"#E5ECF6\",\"width\":0.5},\"pattern\":{\"fillmode\":\"overlay\",\"size\":10,\"solidity\":0.2}},\"type\":\"bar\"}],\"scattergeo\":[{\"type\":\"scattergeo\",\"marker\":{\"colorbar\":{\"outlinewidth\":0,\"ticks\":\"\"}}}],\"scatterpolar\":[{\"type\":\"scatterpolar\",\"marker\":{\"colorbar\":{\"outlinewidth\":0,\"ticks\":\"\"}}}],\"histogram\":[{\"marker\":{\"pattern\":{\"fillmode\":\"overlay\",\"size\":10,\"solidity\":0.2}},\"type\":\"histogram\"}],\"scattergl\":[{\"type\":\"scattergl\",\"marker\":{\"colorbar\":{\"outlinewidth\":0,\"ticks\":\"\"}}}],\"scatter3d\":[{\"type\":\"scatter3d\",\"line\":{\"colorbar\":{\"outlinewidth\":0,\"ticks\":\"\"}},\"marker\":{\"colorbar\":{\"outlinewidth\":0,\"ticks\":\"\"}}}],\"scattermapbox\":[{\"type\":\"scattermapbox\",\"marker\":{\"colorbar\":{\"outlinewidth\":0,\"ticks\":\"\"}}}],\"scatterternary\":[{\"type\":\"scatterternary\",\"marker\":{\"colorbar\":{\"outlinewidth\":0,\"ticks\":\"\"}}}],\"scattercarpet\":[{\"type\":\"scattercarpet\",\"marker\":{\"colorbar\":{\"outlinewidth\":0,\"ticks\":\"\"}}}],\"carpet\":[{\"aaxis\":{\"endlinecolor\":\"#2a3f5f\",\"gridcolor\":\"white\",\"linecolor\":\"white\",\"minorgridcolor\":\"white\",\"startlinecolor\":\"#2a3f5f\"},\"baxis\":{\"endlinecolor\":\"#2a3f5f\",\"gridcolor\":\"white\",\"linecolor\":\"white\",\"minorgridcolor\":\"white\",\"startlinecolor\":\"#2a3f5f\"},\"type\":\"carpet\"}],\"table\":[{\"cells\":{\"fill\":{\"color\":\"#EBF0F8\"},\"line\":{\"color\":\"white\"}},\"header\":{\"fill\":{\"color\":\"#C8D4E3\"},\"line\":{\"color\":\"white\"}},\"type\":\"table\"}],\"barpolar\":[{\"marker\":{\"line\":{\"color\":\"#E5ECF6\",\"width\":0.5},\"pattern\":{\"fillmode\":\"overlay\",\"size\":10,\"solidity\":0.2}},\"type\":\"barpolar\"}],\"pie\":[{\"automargin\":true,\"type\":\"pie\"}]},\"layout\":{\"autotypenumbers\":\"strict\",\"colorway\":[\"#636efa\",\"#EF553B\",\"#00cc96\",\"#ab63fa\",\"#FFA15A\",\"#19d3f3\",\"#FF6692\",\"#B6E880\",\"#FF97FF\",\"#FECB52\"],\"font\":{\"color\":\"#2a3f5f\"},\"hovermode\":\"closest\",\"hoverlabel\":{\"align\":\"left\"},\"paper_bgcolor\":\"white\",\"plot_bgcolor\":\"#E5ECF6\",\"polar\":{\"bgcolor\":\"#E5ECF6\",\"angularaxis\":{\"gridcolor\":\"white\",\"linecolor\":\"white\",\"ticks\":\"\"},\"radialaxis\":{\"gridcolor\":\"white\",\"linecolor\":\"white\",\"ticks\":\"\"}},\"ternary\":{\"bgcolor\":\"#E5ECF6\",\"aaxis\":{\"gridcolor\":\"white\",\"linecolor\":\"white\",\"ticks\":\"\"},\"baxis\":{\"gridcolor\":\"white\",\"linecolor\":\"white\",\"ticks\":\"\"},\"caxis\":{\"gridcolor\":\"white\",\"linecolor\":\"white\",\"ticks\":\"\"}},\"coloraxis\":{\"colorbar\":{\"outlinewidth\":0,\"ticks\":\"\"}},\"colorscale\":{\"sequential\":[[0.0,\"#0d0887\"],[0.1111111111111111,\"#46039f\"],[0.2222222222222222,\"#7201a8\"],[0.3333333333333333,\"#9c179e\"],[0.4444444444444444,\"#bd3786\"],[0.5555555555555556,\"#d8576b\"],[0.6666666666666666,\"#ed7953\"],[0.7777777777777778,\"#fb9f3a\"],[0.8888888888888888,\"#fdca26\"],[1.0,\"#f0f921\"]],\"sequentialminus\":[[0.0,\"#0d0887\"],[0.1111111111111111,\"#46039f\"],[0.2222222222222222,\"#7201a8\"],[0.3333333333333333,\"#9c179e\"],[0.4444444444444444,\"#bd3786\"],[0.5555555555555556,\"#d8576b\"],[0.6666666666666666,\"#ed7953\"],[0.7777777777777778,\"#fb9f3a\"],[0.8888888888888888,\"#fdca26\"],[1.0,\"#f0f921\"]],\"diverging\":[[0,\"#8e0152\"],[0.1,\"#c51b7d\"],[0.2,\"#de77ae\"],[0.3,\"#f1b6da\"],[0.4,\"#fde0ef\"],[0.5,\"#f7f7f7\"],[0.6,\"#e6f5d0\"],[0.7,\"#b8e186\"],[0.8,\"#7fbc41\"],[0.9,\"#4d9221\"],[1,\"#276419\"]]},\"xaxis\":{\"gridcolor\":\"white\",\"linecolor\":\"white\",\"ticks\":\"\",\"title\":{\"standoff\":15},\"zerolinecolor\":\"white\",\"automargin\":true,\"zerolinewidth\":2},\"yaxis\":{\"gridcolor\":\"white\",\"linecolor\":\"white\",\"ticks\":\"\",\"title\":{\"standoff\":15},\"zerolinecolor\":\"white\",\"automargin\":true,\"zerolinewidth\":2},\"scene\":{\"xaxis\":{\"backgroundcolor\":\"#E5ECF6\",\"gridcolor\":\"white\",\"linecolor\":\"white\",\"showbackground\":true,\"ticks\":\"\",\"zerolinecolor\":\"white\",\"gridwidth\":2},\"yaxis\":{\"backgroundcolor\":\"#E5ECF6\",\"gridcolor\":\"white\",\"linecolor\":\"white\",\"showbackground\":true,\"ticks\":\"\",\"zerolinecolor\":\"white\",\"gridwidth\":2},\"zaxis\":{\"backgroundcolor\":\"#E5ECF6\",\"gridcolor\":\"white\",\"linecolor\":\"white\",\"showbackground\":true,\"ticks\":\"\",\"zerolinecolor\":\"white\",\"gridwidth\":2}},\"shapedefaults\":{\"line\":{\"color\":\"#2a3f5f\"}},\"annotationdefaults\":{\"arrowcolor\":\"#2a3f5f\",\"arrowhead\":0,\"arrowwidth\":1},\"geo\":{\"bgcolor\":\"white\",\"landcolor\":\"#E5ECF6\",\"subunitcolor\":\"white\",\"showland\":true,\"showlakes\":true,\"lakecolor\":\"white\"},\"title\":{\"x\":0.05},\"mapbox\":{\"style\":\"light\"}}},\"shapes\":[{\"line\":{\"color\":\"green\",\"width\":1},\"type\":\"line\",\"x0\":0,\"x1\":1,\"xref\":\"x domain\",\"y0\":0,\"y1\":0,\"yref\":\"y\"},{\"line\":{\"color\":\"red\",\"width\":1},\"type\":\"line\",\"x0\":0,\"x1\":1,\"xref\":\"x domain\",\"y0\":0,\"y1\":0,\"yref\":\"y\"},{\"line\":{\"color\":\"black\",\"width\":3},\"type\":\"line\",\"x0\":0,\"x1\":1,\"xref\":\"x domain\",\"y0\":0,\"y1\":0,\"yref\":\"y\"}]},                        {\"responsive\": true}                    ).then(function(){\n",
       "                            \n",
       "var gd = document.getElementById('3ba12c68-fb60-4fb0-9cd5-a9ada97e99fd');\n",
       "var x = new MutationObserver(function (mutations, observer) {{\n",
       "        var display = window.getComputedStyle(gd).display;\n",
       "        if (!display || display === 'none') {{\n",
       "            console.log([gd, 'removed!']);\n",
       "            Plotly.purge(gd);\n",
       "            observer.disconnect();\n",
       "        }}\n",
       "}});\n",
       "\n",
       "// Listen for the removal of the full notebook cells\n",
       "var notebookContainer = gd.closest('#notebook-container');\n",
       "if (notebookContainer) {{\n",
       "    x.observe(notebookContainer, {childList: true});\n",
       "}}\n",
       "\n",
       "// Listen for the clearing of the current output cell\n",
       "var outputEl = gd.closest('.output');\n",
       "if (outputEl) {{\n",
       "    x.observe(outputEl, {childList: true});\n",
       "}}\n",
       "\n",
       "                        })                };                });            </script>        </div>"
      ]
     },
     "metadata": {},
     "output_type": "display_data"
    },
    {
     "name": "stdout",
     "output_type": "stream",
     "text": [
      "res : [37661.55, 37655.45, 37651.75, 37648.8, 37635.3, 37608.5, 37600.55, 37540.45]\n",
      "sup : [37407.5, 37439.05, 37455.4, 37519.1, 37594.15, 37603.8, 37607.35]\n",
      "################################################################################\n"
     ]
    }
   ],
   "source": [
    "## Type 2\n",
    "\n",
    "\n",
    "data_path = \"D:/tradeBot/data/download/2022/08/\"\n",
    "\n",
    "for day in glob.glob(data_path+\"*.csv\"):\n",
    "    print(day)\n",
    "    #day = \"D:/tradeBot/data/download/2022/10/2022-10-28.csv\"\n",
    "    data = pd.read_csv(day)\n",
    "    data = data.dropna()\n",
    "    count_candle = 0\n",
    "    resistance_ls = []\n",
    "    support_ls = []\n",
    "    is_rg = False\n",
    "    reserve_candle = []\n",
    "    is_trade_active = False\n",
    "    stoploss = 0\n",
    "    target = 0\n",
    "    entry = 0\n",
    "    for _,rows in data.iterrows():\n",
    "\n",
    "\n",
    "        if(is_rg==False and count_candle>1):\n",
    "            prev_color = candle_color(data.iloc[count_candle-1]['Open'], data.iloc[count_candle-1]['Close'])\n",
    "            curr_color = candle_color(rows['Open'], rows['Close'])\n",
    "            if(prev_color != curr_color):\n",
    "                is_rg = True\n",
    "                continue\n",
    "                \n",
    "        if(is_rg==True):\n",
    "            mhigh, mlow = get_high_low(data_new)\n",
    "            if(rows['Low'] < mlow or rows['High'] > mhigh):\n",
    "                data_new = data[:count_candle+1]\n",
    "                res, sup = get_sup_res(data_new, resistance_ls, support_ls)\n",
    "                if(rows['High'] > mhigh):\n",
    "                    risk = mhigh - mlow\n",
    "                    reward = res[0] - mhigh\n",
    "                    rr = (res[0] - mhigh)/(mhigh - mlow)\n",
    "                    if(rr > 1.0):\n",
    "                        is_trade_active = True\n",
    "                        stoploss = mlow\n",
    "                        target = res[0]\n",
    "                        entry = mhigh\n",
    "                        continue\n",
    "                if(rows['Low'] < mlow):\n",
    "                    risk = mhigh - mlow\n",
    "                    reward = mlow - sup[0]\n",
    "                    rr = (mlow - sup[0])/(mhigh - mlow)\n",
    "                    if(rr > 1.0):\n",
    "                        is_trade_active = True\n",
    "                        stoploss = mhigh\n",
    "                        target = sup[0]\n",
    "                        entry = mlow\n",
    "                        continue\n",
    "                        \n",
    "        if(is_trade_active==True):\n",
    "            \n",
    "            if(rows['High']>=target):\n",
    "                target = 0\n",
    "                entry = 0\n",
    "                stoploss = 0\n",
    "                is_trade_active = False\n",
    "                print(\"################################################################################\")\n",
    "                print(rows['Date'])\n",
    "                print(rows['Low'],mlow)\n",
    "                print(\"rr : \"+str(rr))\n",
    "                data_new = data[:count_candle+2]\n",
    "                fig_candle = go.Figure(data=go.Candlestick(x=data_new['Date'],\n",
    "                                     open=data_new['Open'],\n",
    "                                     high=data_new['High'],\n",
    "                                     low=data_new['Low'],\n",
    "                                     close=data_new['Close']))\n",
    "                fig_candle.add_hline(y=target, line_width=1, line_color=\"green\")\n",
    "                fig_candle.add_hline(y=stoploss, line_width=1, line_color=\"red\")\n",
    "                \n",
    "                fig_candle.add_hline(y=entry, line_width=3, line_color=\"black\")\n",
    "                #fig_candle.add_hline(y=res[0], line_width=3, line_color=\"red\")\n",
    "\n",
    "                fig_candle.show()\n",
    "\n",
    "                print(\"res : \"+str(res))\n",
    "                print(\"sup : \"+str(sup))\n",
    "                print(\"################################################################################\")\n",
    "                #break\n",
    "        \n",
    "        count_candle = count_candle + 1\n",
    "        if(count_candle == 80):\n",
    "            break\n",
    "\n",
    "        \n",
    "    \n",
    "    break"
   ]
  },
  {
   "cell_type": "code",
   "execution_count": null,
   "id": "8ed4ff46",
   "metadata": {},
   "outputs": [],
   "source": []
  },
  {
   "cell_type": "code",
   "execution_count": null,
   "id": "d5907d42",
   "metadata": {},
   "outputs": [],
   "source": []
  },
  {
   "cell_type": "code",
   "execution_count": null,
   "id": "26b431a7",
   "metadata": {},
   "outputs": [],
   "source": []
  },
  {
   "cell_type": "code",
   "execution_count": null,
   "id": "95c2306b",
   "metadata": {},
   "outputs": [],
   "source": []
  },
  {
   "cell_type": "code",
   "execution_count": null,
   "id": "caa8b141",
   "metadata": {},
   "outputs": [],
   "source": []
  },
  {
   "cell_type": "code",
   "execution_count": null,
   "id": "ed5cd4bd",
   "metadata": {
    "scrolled": true
   },
   "outputs": [],
   "source": [
    "# type 1\n",
    "\n",
    "data_path = \"D:/tradeBot/data/download/2022/01/\"\n",
    "type1_path = \"D:/algotrade/data/strategy_output/type1/\"\n",
    "\n",
    "for day in glob.glob(data_path+\"*.csv\"):\n",
    "    print(day)\n",
    "    #day = \"D:/tradeBot/data/download/2022/10/2022-10-28.csv\"\n",
    "    data = pd.read_csv(day)\n",
    "    data = data.dropna()\n",
    "    count_candle = 0\n",
    "    resistance_ls = []\n",
    "    support_ls = []\n",
    "    for _,rows in data.iterrows():\n",
    "        \n",
    "            \n",
    "        if(count_candle == 3):\n",
    "            open_candle_color = candle_color(data.iloc[0]['Open'], data.iloc[0]['Close'])\n",
    "            first_candle_color = candle_color(data.iloc[count_candle-2]['Open'], data.iloc[count_candle-2]['Close'])\n",
    "            second_candle_color = candle_color(data.iloc[count_candle-1]['Open'], data.iloc[count_candle-1]['Close'])\n",
    "            \n",
    "            if(open_candle_color == \"green\" and first_candle_color != second_candle_color):\n",
    "                data_new = data[:count_candle+1]\n",
    "                max_high = max(data_new.iloc[0]['High'], data_new.iloc[1]['High'], data_new.iloc[2]['High'])\n",
    "                if(data_new.iloc[-1]['High'] > max_high):\n",
    "  \n",
    "                    res, sup = get_sup_res(data_new, resistance_ls, support_ls)\n",
    "                    mhigh, mlow = get_high_low(data_new)\n",
    "                    shutil.copy(day.split(\".\")[0]+\".png\", type1_path)\n",
    "\n",
    "                    print(\"################################################################################\")\n",
    "                    print(rows['Date'])\n",
    "                    print(\"################################################################################\")\n",
    "                    \n",
    "            if(open_candle_color == \"red\" and first_candle_color != second_candle_color):\n",
    "                data_new = data[:count_candle+1]\n",
    "                min_low = min(data_new.iloc[0]['Low'], data_new.iloc[1]['Low'], data_new.iloc[2]['Low'])\n",
    "                if(data_new.iloc[-1]['Low'] < min_low):\n",
    "  \n",
    "                    res, sup = get_sup_res(data_new, resistance_ls, support_ls)\n",
    "                    mhigh, mlow = get_high_low(data_new)\n",
    "                    shutil.copy(day.split(\".\")[0]+\".png\", type1_path)\n",
    "\n",
    "                    print(\"################################################################################\")\n",
    "                    print(rows['Date'])\n",
    "                    print(\"################################################################################\")\n",
    "            \n",
    "        count_candle = count_candle + 1\n",
    "    \n",
    "    #break"
   ]
  },
  {
   "cell_type": "code",
   "execution_count": null,
   "id": "38def361",
   "metadata": {},
   "outputs": [],
   "source": []
  },
  {
   "cell_type": "code",
   "execution_count": null,
   "id": "c067b2d0",
   "metadata": {},
   "outputs": [],
   "source": []
  },
  {
   "cell_type": "code",
   "execution_count": null,
   "id": "a294b7cd",
   "metadata": {},
   "outputs": [],
   "source": []
  },
  {
   "cell_type": "code",
   "execution_count": null,
   "id": "957944c1",
   "metadata": {},
   "outputs": [],
   "source": []
  },
  {
   "cell_type": "code",
   "execution_count": null,
   "id": "5e3b91bf",
   "metadata": {},
   "outputs": [],
   "source": []
  },
  {
   "cell_type": "code",
   "execution_count": null,
   "id": "86739cf3",
   "metadata": {},
   "outputs": [],
   "source": []
  },
  {
   "cell_type": "code",
   "execution_count": null,
   "id": "55afa7b0",
   "metadata": {},
   "outputs": [],
   "source": []
  },
  {
   "cell_type": "code",
   "execution_count": null,
   "id": "71d00ccc",
   "metadata": {},
   "outputs": [],
   "source": [
    "data_path = \"D:/tradeBot/data/download/2022/06/\"\n",
    "\n",
    "for day in glob.glob(data_path+\"*.csv\"):\n",
    "    print(day)\n",
    "    day = \"D:/tradeBot/data/download/2022/10/2022-10-28.csv\"\n",
    "    data = pd.read_csv(day)\n",
    "    data = data.dropna()\n",
    "    count_candle = 0\n",
    "    resistance_ls = []\n",
    "    support_ls = []\n",
    "    for _,rows in data.iterrows():\n",
    "        if(count_candle == 40):\n",
    "            break\n",
    "            \n",
    "        if(count_candle == 0 or count_candle == 1):\n",
    "            pass\n",
    "        else:\n",
    "            prev_color = candle_color(data.iloc[count_candle-1]['Open'], data.iloc[count_candle-1]['Close'])\n",
    "            curr_color = candle_color(rows['Open'], rows['Close'])\n",
    "            if(prev_color != curr_color):\n",
    "                open_candle_color = candle_color(data.iloc[0]['Open'], data.iloc[0]['Close'])\n",
    "                if(open_candle_color == \"green\" and )\n",
    "                data_new = data[:count_candle+1]\n",
    "                res, sup = get_sup_res(data_new, resistance_ls, support_ls)\n",
    "                mhigh, mlow = get_high_low(data_new)\n",
    "\n",
    "                print(\"################################################################################\")\n",
    "                print(rows['Date'])\n",
    "                \n",
    "                print(\"count_candle : \"+str(count_candle))\n",
    "                print(\"prev_color : \"+str(prev_color))\n",
    "                print(\"curr_color : \"+str(curr_color))\n",
    "                \n",
    "                data_new = data[:count_candle+2]\n",
    "                fig_candle = go.Figure(data=go.Candlestick(x=data_new['Date'],\n",
    "                                     open=data_new['Open'],\n",
    "                                     high=data_new['High'],\n",
    "                                     low=data_new['Low'],\n",
    "                                     close=data_new['Close']))\n",
    "                fig_candle.add_hline(y=mlow, line_width=3, line_color=\"green\")\n",
    "                fig_candle.add_hline(y=mhigh, line_width=3, line_color=\"red\")\n",
    "                \n",
    "                fig_candle.show()\n",
    "                \n",
    "                \n",
    "                print(\"res : \"+str(res))\n",
    "                print(\"sup : \"+str(sup))\n",
    "                print(\"################################################################################\")\n",
    "                break\n",
    "            \n",
    "        count_candle = count_candle + 1\n",
    "    \n",
    "    break"
   ]
  }
 ],
 "metadata": {
  "kernelspec": {
   "display_name": "Python 3 (ipykernel)",
   "language": "python",
   "name": "python3"
  },
  "language_info": {
   "codemirror_mode": {
    "name": "ipython",
    "version": 3
   },
   "file_extension": ".py",
   "mimetype": "text/x-python",
   "name": "python",
   "nbconvert_exporter": "python",
   "pygments_lexer": "ipython3",
   "version": "3.9.7"
  }
 },
 "nbformat": 4,
 "nbformat_minor": 5
}
